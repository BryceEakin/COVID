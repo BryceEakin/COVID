{
 "cells": [
  {
   "cell_type": "code",
   "execution_count": 1,
   "metadata": {
    "ExecuteTime": {
     "end_time": "2020-04-26T19:24:17.126721Z",
     "start_time": "2020-04-26T19:24:16.683186Z"
    }
   },
   "outputs": [],
   "source": [
    "import pandas as pd\n",
    "import numpy as np"
   ]
  },
  {
   "cell_type": "code",
   "execution_count": 2,
   "metadata": {
    "ExecuteTime": {
     "end_time": "2020-04-26T19:24:17.130699Z",
     "start_time": "2020-04-26T19:24:17.127752Z"
    }
   },
   "outputs": [],
   "source": [
    "import gzip"
   ]
  },
  {
   "cell_type": "code",
   "execution_count": 3,
   "metadata": {
    "ExecuteTime": {
     "end_time": "2020-04-26T19:24:17.145689Z",
     "start_time": "2020-04-26T19:24:17.141690Z"
    }
   },
   "outputs": [],
   "source": [
    "from collections import Counter"
   ]
  },
  {
   "cell_type": "code",
   "execution_count": 4,
   "metadata": {
    "ExecuteTime": {
     "end_time": "2020-04-26T19:24:17.407429Z",
     "start_time": "2020-04-26T19:24:17.403467Z"
    }
   },
   "outputs": [],
   "source": [
    "pd.set_option('display.max_rows',500)"
   ]
  },
  {
   "cell_type": "code",
   "execution_count": 5,
   "metadata": {
    "ExecuteTime": {
     "end_time": "2020-04-26T19:24:17.789499Z",
     "start_time": "2020-04-26T19:24:17.755503Z"
    }
   },
   "outputs": [],
   "source": [
    "from tqdm.notebook import tqdm"
   ]
  },
  {
   "cell_type": "code",
   "execution_count": 6,
   "metadata": {
    "ExecuteTime": {
     "end_time": "2020-04-26T19:24:18.131974Z",
     "start_time": "2020-04-26T19:24:18.129946Z"
    }
   },
   "outputs": [],
   "source": [
    "import random\n",
    "import numpy as np"
   ]
  },
  {
   "cell_type": "code",
   "execution_count": 7,
   "metadata": {
    "ExecuteTime": {
     "end_time": "2020-04-26T19:24:18.583892Z",
     "start_time": "2020-04-26T19:24:18.579839Z"
    }
   },
   "outputs": [],
   "source": [
    "catalysis = []\n",
    "reaction = []"
   ]
  },
  {
   "cell_type": "code",
   "execution_count": 25,
   "metadata": {
    "ExecuteTime": {
     "end_time": "2020-04-26T19:43:16.874657Z",
     "start_time": "2020-04-26T19:43:13.739271Z"
    }
   },
   "outputs": [],
   "source": [
    "stitch_data = pd.read_csv('./raw_data/stitch_selected_rows.csv.gz')"
   ]
  },
  {
   "cell_type": "code",
   "execution_count": 10,
   "metadata": {
    "ExecuteTime": {
     "end_time": "2020-04-26T19:25:15.446132Z",
     "start_time": "2020-04-26T19:25:14.769162Z"
    }
   },
   "outputs": [],
   "source": [
    "entities_to_consider = set(stitch_data['item_id_a'].unique()).union(stitch_data['item_id_b'].unique())"
   ]
  },
  {
   "cell_type": "code",
   "execution_count": 11,
   "metadata": {
    "ExecuteTime": {
     "end_time": "2020-04-26T19:25:16.708810Z",
     "start_time": "2020-04-26T19:25:15.446132Z"
    }
   },
   "outputs": [],
   "source": [
    "from covid.datasets import StitchDataset"
   ]
  },
  {
   "cell_type": "code",
   "execution_count": 13,
   "metadata": {
    "ExecuteTime": {
     "end_time": "2020-04-26T19:26:21.674081Z",
     "start_time": "2020-04-26T19:25:35.266785Z"
    },
    "scrolled": true
   },
   "outputs": [
    {
     "data": {
      "application/vnd.jupyter.widget-view+json": {
       "model_id": "000689f81087445c94531bf8957964d7",
       "version_major": 2,
       "version_minor": 0
      },
      "text/plain": [
       "HBox(children=(FloatProgress(value=1.0, bar_style='info', max=1.0), HTML(value='')))"
      ]
     },
     "metadata": {},
     "output_type": "display_data"
    },
    {
     "name": "stdout",
     "output_type": "stream",
     "text": [
      "\n"
     ]
    }
   ],
   "source": [
    "proteins_with_sequences = set()\n",
    "current_name = None\n",
    "current_sequence = ''\n",
    "p_cnt = 0\n",
    "\n",
    "with gzip.open(\"./raw_data/protein.sequences.v9.1.fa.gz\", \"rt\") as f:\n",
    "    for line in tqdm(f):\n",
    "        if line.startswith(\">\"):\n",
    "            if current_name is not None and current_name in entities_to_consider:\n",
    "                proteins_with_sequences.add(current_name)\n",
    "            current_name = line.split(\" (\")[0][1:]\n",
    "            current_sequence = ''\n",
    "            p_cnt += 1\n",
    "        else:\n",
    "            current_sequence += line.strip()\n",
    "            \n",
    "if current_name in entities_to_consider:        \n",
    "    proteins_with_sequences.add(current_name)"
   ]
  },
  {
   "cell_type": "code",
   "execution_count": 14,
   "metadata": {
    "ExecuteTime": {
     "end_time": "2020-04-26T19:40:47.412922Z",
     "start_time": "2020-04-26T19:26:21.675118Z"
    }
   },
   "outputs": [
    {
     "data": {
      "application/vnd.jupyter.widget-view+json": {
       "model_id": "03b3fa192d874ecb865742d3cd1ba087",
       "version_major": 2,
       "version_minor": 0
      },
      "text/plain": [
       "HBox(children=(FloatProgress(value=1.0, bar_style='info', max=1.0), HTML(value='')))"
      ]
     },
     "metadata": {},
     "output_type": "display_data"
    },
    {
     "name": "stdout",
     "output_type": "stream",
     "text": [
      "\n"
     ]
    }
   ],
   "source": [
    "chemicals_with_details = set()\n",
    "\n",
    "for chunk_idx, chunk in tqdm(enumerate(pd.read_csv(\"./raw_data/chemicals.v5.0.tsv.gz\", sep='\\t', chunksize=1000))):\n",
    "    chemicals_with_details.update(entities_to_consider.intersection(chunk['chemical'].values))"
   ]
  },
  {
   "cell_type": "code",
   "execution_count": 15,
   "metadata": {
    "ExecuteTime": {
     "end_time": "2020-04-26T19:40:47.424974Z",
     "start_time": "2020-04-26T19:40:47.414922Z"
    }
   },
   "outputs": [
    {
     "data": {
      "text/plain": [
       "9373"
      ]
     },
     "execution_count": 15,
     "metadata": {},
     "output_type": "execute_result"
    }
   ],
   "source": [
    "len(chemicals_with_details)"
   ]
  },
  {
   "cell_type": "code",
   "execution_count": 26,
   "metadata": {
    "ExecuteTime": {
     "end_time": "2020-04-26T19:43:23.252450Z",
     "start_time": "2020-04-26T19:43:22.118966Z"
    }
   },
   "outputs": [],
   "source": [
    "stitch_data = stitch_data.loc[\n",
    "    (\n",
    "        (stitch_data['item_id_a'].isin(proteins_with_sequences) | stitch_data['item_id_a'].isin(chemicals_with_details))\n",
    "        & (stitch_data['item_id_b'].isin(proteins_with_sequences) | stitch_data['item_id_b'].isin(chemicals_with_details))\n",
    "    )\n",
    "]"
   ]
  },
  {
   "cell_type": "code",
   "execution_count": 28,
   "metadata": {
    "ExecuteTime": {
     "end_time": "2020-04-26T19:51:33.551766Z",
     "start_time": "2020-04-26T19:51:33.392383Z"
    }
   },
   "outputs": [
    {
     "data": {
      "text/plain": [
       "binding       1289138\n",
       "reaction       309958\n",
       "inhibition     266560\n",
       "activation     140843\n",
       "catalysis      116415\n",
       "Name: mode, dtype: int64"
      ]
     },
     "execution_count": 28,
     "metadata": {},
     "output_type": "execute_result"
    }
   ],
   "source": [
    "stitch_data['mode'].value_counts()"
   ]
  },
  {
   "cell_type": "code",
   "execution_count": 29,
   "metadata": {
    "ExecuteTime": {
     "end_time": "2020-04-26T19:51:36.625439Z",
     "start_time": "2020-04-26T19:51:35.631567Z"
    }
   },
   "outputs": [],
   "source": [
    "np.random.seed(4)\n",
    "num_inhibitions = stitch_data['mode'].value_counts()['inhibition']\n",
    "\n",
    "stitch_data = stitch_data.groupby('mode').apply(\n",
    "    lambda x: x.sample(n=min(x.shape[0], num_inhibitions))\n",
    ").reset_index(drop=True)"
   ]
  },
  {
   "cell_type": "code",
   "execution_count": 30,
   "metadata": {
    "ExecuteTime": {
     "end_time": "2020-04-26T20:02:01.872303Z",
     "start_time": "2020-04-26T20:02:01.806272Z"
    }
   },
   "outputs": [],
   "source": [
    "all_entities = stitch_data['item_id_a'].append(stitch_data['item_id_b'].rename('item_id_a'))"
   ]
  },
  {
   "cell_type": "code",
   "execution_count": 31,
   "metadata": {
    "ExecuteTime": {
     "end_time": "2020-04-26T20:02:04.433339Z",
     "start_time": "2020-04-26T20:02:02.796732Z"
    }
   },
   "outputs": [],
   "source": [
    "all_chemicals = set(all_entities.loc[all_entities.str.startswith('CID')].unique())\n",
    "all_proteins = set(all_entities.loc[~all_entities.str.startswith('CID')].unique())"
   ]
  },
  {
   "cell_type": "code",
   "execution_count": 32,
   "metadata": {
    "ExecuteTime": {
     "end_time": "2020-04-26T20:02:05.225342Z",
     "start_time": "2020-04-26T20:02:04.435134Z"
    }
   },
   "outputs": [],
   "source": [
    "selected_paths = list(set(stitch_data[['item_id_a', 'item_id_b']].itertuples(name=None, index=False)))"
   ]
  },
  {
   "cell_type": "code",
   "execution_count": 33,
   "metadata": {
    "ExecuteTime": {
     "end_time": "2020-04-26T20:02:05.271232Z",
     "start_time": "2020-04-26T20:02:05.227134Z"
    }
   },
   "outputs": [],
   "source": [
    "selected_modes = stitch_data['mode'].unique()"
   ]
  },
  {
   "cell_type": "code",
   "execution_count": 34,
   "metadata": {
    "ExecuteTime": {
     "end_time": "2020-04-26T20:02:06.081754Z",
     "start_time": "2020-04-26T20:02:05.611722Z"
    }
   },
   "outputs": [],
   "source": [
    "idx_lookup = set([x + \"::\" + y for x,y in selected_paths])"
   ]
  },
  {
   "cell_type": "code",
   "execution_count": null,
   "metadata": {
    "ExecuteTime": {
     "start_time": "2020-04-26T20:02:14.918Z"
    }
   },
   "outputs": [
    {
     "data": {
      "application/vnd.jupyter.widget-view+json": {
       "model_id": "85a95f4513064e4ba9ff5b12d25a46e3",
       "version_major": 2,
       "version_minor": 0
      },
      "text/plain": [
       "HBox(children=(FloatProgress(value=1.0, bar_style='info', max=1.0), HTML(value='')))"
      ]
     },
     "metadata": {},
     "output_type": "display_data"
    }
   ],
   "source": [
    "# result = pd.Series(\n",
    "#     np.nan, \n",
    "#     index=pd.MultiIndex.from_tuples(\n",
    "#         (x + (y,) for x in selected_paths for y in selected_modes),\n",
    "#         names=['item_id_a', 'item_id_b', 'mode']\n",
    "#     )\n",
    "# )\n",
    "# idx_lookup = set(result.index)\n",
    "\n",
    "all_results = []\n",
    "\n",
    "for chunk in tqdm(pd.read_csv('./raw_data/actions.v5.0.tsv.gz', sep='\\t', chunksize=1000000)):\n",
    "    chunk = chunk.loc[chunk['mode'].isin(selected_modes)].copy()\n",
    "    \n",
    "    chunk_ab = chunk.loc[~chunk['item_id_b'].str.startswith(\"CID\")]\n",
    "    key = chunk_ab['item_id_a'] + \"::\" + chunk_ab['item_id_b']\n",
    "    chunk_ab = chunk_ab.loc[key.isin(idx_lookup)]\n",
    "    \n",
    "    chunk_ba = chunk.loc[\n",
    "        (chunk['a_is_acting'] == 'f')\n",
    "        & ~chunk['item_id_a'].str.startswith(\"CID\")\n",
    "    ].rename({\n",
    "        'item_id_b':'tmp_a', 'item_id_a':'tmp_b'\n",
    "    }, axis=1).rename({\n",
    "        'tmp_a':'item_id_a', 'tmp_b':'item_id_b'\n",
    "    }, axis=1)\n",
    "    key = chunk_ba['item_id_a'] + \"::\" + chunk_ba['item_id_b']\n",
    "    chunk_ba = chunk_ba.loc[key.isin(idx_lookup)]\n",
    "    \n",
    "    if chunk_ab.shape[0] > 0:\n",
    "        all_results.append(chunk_ab)\n",
    "        \n",
    "    if chunk_ba.shape[0] > 0:\n",
    "        all_results.append(chunk_ba)\n",
    "        "
   ]
  },
  {
   "cell_type": "code",
   "execution_count": null,
   "metadata": {
    "ExecuteTime": {
     "end_time": "2020-04-26T19:40:52.350771Z",
     "start_time": "2020-04-26T19:26:26.768Z"
    },
    "scrolled": true
   },
   "outputs": [],
   "source": [
    "final_output = pd.pivot_table(\n",
    "    pd.concat(all_results, 0, sort=False), \n",
    "    index=['item_id_a', 'item_id_b'], \n",
    "    columns=['mode']\n",
    ")\n",
    "\n",
    "final_output.sample(25)"
   ]
  },
  {
   "cell_type": "code",
   "execution_count": null,
   "metadata": {
    "ExecuteTime": {
     "end_time": "2020-04-26T19:40:52.352771Z",
     "start_time": "2020-04-26T19:26:36.137Z"
    }
   },
   "outputs": [],
   "source": [
    "final_output.columns = final_output.columns.droplevel(0)"
   ]
  },
  {
   "cell_type": "code",
   "execution_count": null,
   "metadata": {
    "ExecuteTime": {
     "end_time": "2020-04-26T19:40:52.353771Z",
     "start_time": "2020-04-26T19:26:36.311Z"
    }
   },
   "outputs": [],
   "source": [
    "all_entities = final_output.index.get_level_values(0).append(final_output.index.get_level_values(1))"
   ]
  },
  {
   "cell_type": "code",
   "execution_count": null,
   "metadata": {
    "ExecuteTime": {
     "end_time": "2020-04-26T19:40:52.354771Z",
     "start_time": "2020-04-26T19:26:36.983Z"
    }
   },
   "outputs": [],
   "source": [
    "assert (all_entities.isin(all_proteins) | all_entities.isin(all_chemicals)).all(), \"The fuck?!\""
   ]
  },
  {
   "cell_type": "code",
   "execution_count": 33,
   "metadata": {
    "ExecuteTime": {
     "end_time": "2020-04-10T09:07:48.287865Z",
     "start_time": "2020-04-10T09:07:48.282928Z"
    }
   },
   "outputs": [
    {
     "data": {
      "text/plain": [
       "65022"
      ]
     },
     "execution_count": 33,
     "metadata": {},
     "output_type": "execute_result"
    }
   ],
   "source": [
    "len(all_proteins)"
   ]
  },
  {
   "cell_type": "code",
   "execution_count": 34,
   "metadata": {
    "ExecuteTime": {
     "end_time": "2020-04-10T09:08:34.061917Z",
     "start_time": "2020-04-10T09:07:48.289875Z"
    }
   },
   "outputs": [
    {
     "data": {
      "application/vnd.jupyter.widget-view+json": {
       "model_id": "efd703b4e6d24cab8de9bd384d7d2b04",
       "version_major": 2,
       "version_minor": 0
      },
      "text/plain": [
       "HBox(children=(FloatProgress(value=1.0, bar_style='info', max=1.0), HTML(value='')))"
      ]
     },
     "metadata": {},
     "output_type": "display_data"
    },
    {
     "name": "stdout",
     "output_type": "stream",
     "text": [
      "\n"
     ]
    }
   ],
   "source": [
    "protein_lookup = {}\n",
    "current_name = None\n",
    "current_sequence = ''\n",
    "p_cnt = 0\n",
    "\n",
    "with gzip.open(\"protein.sequences.v9.1.fa.gz\", \"rt\") as f:\n",
    "    for line in tqdm(f):\n",
    "        if line.startswith(\">\"):\n",
    "            if current_name is not None and current_name in all_proteins:\n",
    "                protein_lookup[current_name] = current_sequence\n",
    "            current_name = line.split(\" (\")[0][1:]\n",
    "            current_sequence = ''\n",
    "            p_cnt += 1\n",
    "        else:\n",
    "            current_sequence += line.strip()\n",
    "            \n",
    "if current_sequence != '' and current_name in all_proteins:\n",
    "    protein_lookup[current_name] = current_sequence"
   ]
  },
  {
   "cell_type": "code",
   "execution_count": 52,
   "metadata": {
    "ExecuteTime": {
     "end_time": "2020-04-10T18:57:06.128003Z",
     "start_time": "2020-04-10T18:57:05.975005Z"
    }
   },
   "outputs": [
    {
     "data": {
      "text/plain": [
       "1.0"
      ]
     },
     "execution_count": 52,
     "metadata": {},
     "output_type": "execute_result"
    }
   ],
   "source": [
    "(final_output.index.get_level_values(1).isin(protein_lookup) | final_output.index.get_level_values(1).isin(chemical_lookup))"
   ]
  },
  {
   "cell_type": "code",
   "execution_count": 53,
   "metadata": {
    "ExecuteTime": {
     "end_time": "2020-04-10T18:57:14.148002Z",
     "start_time": "2020-04-10T18:57:14.092004Z"
    }
   },
   "outputs": [
    {
     "data": {
      "text/plain": [
       "0.999466578549849"
      ]
     },
     "execution_count": 53,
     "metadata": {},
     "output_type": "execute_result"
    }
   ],
   "source": []
  },
  {
   "cell_type": "code",
   "execution_count": 42,
   "metadata": {
    "ExecuteTime": {
     "end_time": "2020-04-10T15:28:03.435788Z",
     "start_time": "2020-04-10T15:28:03.429781Z"
    }
   },
   "outputs": [],
   "source": [
    "import rdkit, chemprop\n",
    "import argparse\n",
    "def create_chemprop_args():\n",
    "    args = argparse.Namespace()\n",
    "    args.seed = 0\n",
    "    args.ensemble_size = 1\n",
    "    args.hidden_size = 300\n",
    "    args.bias = False\n",
    "    args.depth = 3\n",
    "    args.dropout = 0.0\n",
    "    args.activation = 'ReLU'\n",
    "    args.undirected = False\n",
    "    args.atom_messages = False\n",
    "    \n",
    "    return args"
   ]
  },
  {
   "cell_type": "code",
   "execution_count": 43,
   "metadata": {
    "ExecuteTime": {
     "end_time": "2020-04-10T15:28:08.760551Z",
     "start_time": "2020-04-10T15:28:08.756547Z"
    }
   },
   "outputs": [],
   "source": [
    "args = create_chemprop_args()"
   ]
  },
  {
   "cell_type": "code",
   "execution_count": 9,
   "metadata": {
    "ExecuteTime": {
     "end_time": "2020-04-14T21:49:28.268585Z",
     "start_time": "2020-04-14T21:49:28.265582Z"
    }
   },
   "outputs": [],
   "source": [
    "import numpy as np"
   ]
  },
  {
   "cell_type": "code",
   "execution_count": 16,
   "metadata": {
    "ExecuteTime": {
     "end_time": "2020-04-14T21:50:44.761651Z",
     "start_time": "2020-04-14T21:50:44.743653Z"
    }
   },
   "outputs": [
    {
     "name": "stdout",
     "output_type": "stream",
     "text": [
      "28964\n",
      "38401\n",
      "31349\n",
      "45477\n",
      "26182\n",
      "99572\n",
      "81807\n",
      "01775\n",
      "91875\n",
      "23703\n",
      "45125\n",
      "31520\n",
      "40700\n",
      "33725\n",
      "22953\n",
      "93941\n",
      "96687\n",
      "67337\n",
      "06167\n",
      "39290\n",
      "21757\n",
      "19809\n"
     ]
    }
   ],
   "source": [
    "print('\\n'.join(''.join(np.random.choice(list(\"0123456789\"),5)) for _ in range(22)))"
   ]
  },
  {
   "cell_type": "code",
   "execution_count": 45,
   "metadata": {
    "ExecuteTime": {
     "end_time": "2020-04-10T15:28:25.206060Z",
     "start_time": "2020-04-10T15:28:25.165048Z"
    }
   },
   "outputs": [
    {
     "name": "stdout",
     "output_type": "stream",
     "text": [
      "211\n"
     ]
    }
   ],
   "source": [
    "from rdkit.Chem import Descriptors as rdkDesc\n",
    "from rdkit.Chem import AllChem as rdkAC\n",
    "\n",
    "features = [\n",
    "    (rdkDesc, 'BalabanJ'),\n",
    "    (rdkDesc, 'BertzCT'),\n",
    "    (rdkDesc, 'Chi0'),\n",
    "    (rdkDesc, 'Chi0n'),\n",
    "    (rdkDesc, 'Chi0v'),\n",
    "    (rdkDesc, 'Chi1'),\n",
    "    (rdkDesc, 'Chi1n'),\n",
    "    (rdkDesc, 'Chi1v'),\n",
    "    (rdkDesc, 'Chi2n'),\n",
    "    (rdkDesc, 'Chi2v'),\n",
    "    (rdkDesc, 'Chi3n'),\n",
    "    (rdkDesc, 'Chi3v'),\n",
    "    (rdkDesc, 'Chi4n'),\n",
    "    (rdkDesc, 'Chi4v'),\n",
    "    (rdkDesc, 'EState_VSA1'),\n",
    "    (rdkDesc, 'EState_VSA2'),\n",
    "    (rdkDesc, 'EState_VSA3'),\n",
    "    (rdkDesc, 'EState_VSA4'),\n",
    "    (rdkDesc, 'EState_VSA5'),\n",
    "    (rdkDesc, 'EState_VSA6'),\n",
    "    (rdkDesc, 'EState_VSA7'),\n",
    "    (rdkDesc, 'EState_VSA8'),\n",
    "    (rdkDesc, 'EState_VSA9'),\n",
    "    (rdkDesc, 'EState_VSA10'),\n",
    "    (rdkDesc, 'EState_VSA11'),\n",
    "    (rdkDesc, 'ExactMolWt'),\n",
    "    (rdkDesc, 'FpDensityMorgan1'),\n",
    "    (rdkDesc, 'FpDensityMorgan2'),\n",
    "    (rdkDesc, 'FpDensityMorgan3'),\n",
    "    (rdkDesc, 'FractionCSP3'),\n",
    "    (rdkDesc, 'HallKierAlpha'),\n",
    "    (rdkDesc, 'HeavyAtomCount'),\n",
    "    (rdkDesc, 'HeavyAtomMolWt'),\n",
    "    (rdkDesc, 'Ipc'),\n",
    "    (rdkDesc, 'Kappa1'),\n",
    "    (rdkDesc, 'Kappa2'),\n",
    "    (rdkDesc, 'Kappa3'),\n",
    "    (rdkDesc, 'LabuteASA'),\n",
    "    (rdkDesc, 'MaxAbsEStateIndex'),\n",
    "    (rdkDesc, 'MaxAbsPartialCharge'),\n",
    "    (rdkDesc, 'MaxEStateIndex'),\n",
    "    (rdkDesc, 'MaxPartialCharge'),\n",
    "    (rdkDesc, 'MinAbsEStateIndex'),\n",
    "    (rdkDesc, 'MinAbsPartialCharge'),\n",
    "    (rdkDesc, 'MinEStateIndex'),\n",
    "    (rdkDesc, 'MinPartialCharge'),\n",
    "    (rdkDesc, 'MolLogP'),\n",
    "    (rdkDesc, 'MolMR'),\n",
    "    (rdkDesc, 'MolWt'),\n",
    "    (rdkDesc, 'NHOHCount'),\n",
    "    (rdkDesc, 'NOCount'),\n",
    "    (rdkDesc, 'NumAliphaticCarbocycles'),\n",
    "    (rdkDesc, 'NumAliphaticHeterocycles'),\n",
    "    (rdkDesc, 'NumAliphaticRings'),\n",
    "    (rdkAC, 'CalcNumAmideBonds'),\n",
    "    (rdkDesc, 'NumAromaticCarbocycles'),\n",
    "    (rdkDesc, 'NumAromaticHeterocycles'),\n",
    "    (rdkDesc, 'NumAromaticRings'),\n",
    "    (rdkAC, 'CalcNumAtomStereoCenters'),\n",
    "    (rdkAC, 'CalcNumBridgeheadAtoms'),\n",
    "    (rdkAC, 'CalcNumHBA'),\n",
    "    (rdkAC, 'CalcNumHBD'),\n",
    "    (rdkDesc, 'NumHeteroatoms'),\n",
    "    (rdkAC, 'CalcNumHeterocycles'),\n",
    "    (rdkAC, 'CalcNumLipinskiHBA'),\n",
    "    (rdkAC, 'CalcNumLipinskiHBD'),\n",
    "    (rdkAC, 'CalcNumRings'),\n",
    "    (rdkAC, 'CalcNumRotatableBonds'),\n",
    "    (rdkAC, 'CalcNumSaturatedCarbocycles'),\n",
    "    (rdkAC, 'CalcNumSaturatedHeterocycles'),\n",
    "    (rdkAC, 'CalcNumSaturatedRings'),\n",
    "    (rdkAC, 'CalcNumSpiroAtoms'),\n",
    "    (rdkAC, 'CalcNumUnspecifiedAtomStereoCenters'),\n",
    "    (rdkDesc, 'NumHAcceptors'),\n",
    "    (rdkDesc, 'NumHDonors'),\n",
    "    (rdkDesc, 'NumRadicalElectrons'),\n",
    "    (rdkDesc, 'NumValenceElectrons'),\n",
    "    (rdkDesc, 'PEOE_VSA1'),\n",
    "    (rdkDesc, 'PEOE_VSA2'),\n",
    "    (rdkDesc, 'PEOE_VSA3'),\n",
    "    (rdkDesc, 'PEOE_VSA4'),\n",
    "    (rdkDesc, 'PEOE_VSA5'),\n",
    "    (rdkDesc, 'PEOE_VSA6'),\n",
    "    (rdkDesc, 'PEOE_VSA7'),\n",
    "    (rdkDesc, 'PEOE_VSA8'),\n",
    "    (rdkDesc, 'PEOE_VSA9'),\n",
    "    (rdkDesc, 'PEOE_VSA10'),\n",
    "    (rdkDesc, 'PEOE_VSA11'),\n",
    "    (rdkDesc, 'PEOE_VSA12'),\n",
    "    (rdkDesc, 'PEOE_VSA13'),\n",
    "    (rdkDesc, 'PEOE_VSA14'),\n",
    "    (rdkDesc, 'RingCount'),\n",
    "    (rdkDesc, 'SMR_VSA1'),\n",
    "    (rdkDesc, 'SMR_VSA2'),\n",
    "    (rdkDesc, 'SMR_VSA3'),\n",
    "    (rdkDesc, 'SMR_VSA4'),\n",
    "    (rdkDesc, 'SMR_VSA5'),\n",
    "    (rdkDesc, 'SMR_VSA6'),\n",
    "    (rdkDesc, 'SMR_VSA7'),\n",
    "    (rdkDesc, 'SMR_VSA8'),\n",
    "    (rdkDesc, 'SMR_VSA9'),\n",
    "    (rdkDesc, 'SMR_VSA10'),\n",
    "    (rdkDesc, 'SlogP_VSA1'),\n",
    "    (rdkDesc, 'SlogP_VSA2'),\n",
    "    (rdkDesc, 'SlogP_VSA3'),\n",
    "    (rdkDesc, 'SlogP_VSA4'),\n",
    "    (rdkDesc, 'SlogP_VSA5'),\n",
    "    (rdkDesc, 'SlogP_VSA6'),\n",
    "    (rdkDesc, 'SlogP_VSA7'),\n",
    "    (rdkDesc, 'SlogP_VSA8'),\n",
    "    (rdkDesc, 'SlogP_VSA9'),\n",
    "    (rdkDesc, 'SlogP_VSA10'),\n",
    "    (rdkDesc, 'SlogP_VSA11'),\n",
    "    (rdkDesc, 'SlogP_VSA12'),\n",
    "    (rdkDesc, 'TPSA'),\n",
    "    (rdkDesc, 'VSA_EState1'),\n",
    "    (rdkDesc, 'VSA_EState2'),\n",
    "    (rdkDesc, 'VSA_EState3'),\n",
    "    (rdkDesc, 'VSA_EState4'),\n",
    "    (rdkDesc, 'VSA_EState5'),\n",
    "    (rdkDesc, 'VSA_EState6'),\n",
    "    (rdkDesc, 'VSA_EState7'),\n",
    "    (rdkDesc, 'VSA_EState8'),\n",
    "    (rdkDesc, 'VSA_EState9'),\n",
    "    (rdkDesc, 'VSA_EState10'),\n",
    "    (rdkDesc, 'fr_Al_COO'),\n",
    "    (rdkDesc, 'fr_Al_OH'),\n",
    "    (rdkDesc, 'fr_Al_OH_noTert'), # fr_Al_OH_noTert\n",
    "    (rdkDesc, 'fr_ArN'), # fr_ArN\n",
    "    (rdkDesc, 'fr_Ar_COO'), # fr_Ar_COO\n",
    "    (rdkDesc, 'fr_Ar_N'), # fr_Ar_N\n",
    "    (rdkDesc, 'fr_Ar_NH'), # fr_Ar_NH\n",
    "    (rdkDesc, 'fr_Ar_OH'), # fr_Ar_OH\n",
    "    (rdkDesc, 'fr_COO'), # fr_COO\n",
    "    (rdkDesc, 'fr_COO2'), # fr_COO2\n",
    "    (rdkDesc, 'fr_C_O'), # fr_C_O\n",
    "    (rdkDesc, 'fr_C_O_noCOO'), # fr_C_O_noCOO\n",
    "    (rdkDesc, 'fr_C_S'), # fr_C_S\n",
    "    (rdkDesc, 'fr_HOCCN'),\n",
    "    (rdkDesc, 'fr_Imine'),\n",
    "    (rdkDesc, 'fr_NH0'),\n",
    "    (rdkDesc, 'fr_NH1'),\n",
    "    (rdkDesc, 'fr_NH2'),\n",
    "    (rdkDesc, 'fr_N_O'),\n",
    "    (rdkDesc, 'fr_Ndealkylation1'),\n",
    "    (rdkDesc, 'fr_Ndealkylation2'),\n",
    "    (rdkDesc, 'fr_Nhpyrrole'),\n",
    "    (rdkDesc, 'fr_SH'),\n",
    "    (rdkDesc, 'fr_aldehyde'),\n",
    "    (rdkDesc, 'fr_alkyl_carbamate'),\n",
    "    (rdkDesc, 'fr_alkyl_halide'),\n",
    "    (rdkDesc, 'fr_allylic_oxid'),\n",
    "    (rdkDesc, 'fr_amide'),\n",
    "    (rdkDesc, 'fr_amidine'),\n",
    "    (rdkDesc, 'fr_aniline'),\n",
    "    (rdkDesc, 'fr_aryl_methyl'),\n",
    "    (rdkDesc, 'fr_azide'),\n",
    "    (rdkDesc, 'fr_azo'),\n",
    "    (rdkDesc, 'fr_barbitur'),\n",
    "    (rdkDesc, 'fr_benzene'),\n",
    "    (rdkDesc, 'fr_benzodiazepine'),\n",
    "    (rdkDesc, 'fr_bicyclic'),\n",
    "    (rdkDesc, 'fr_diazo'),\n",
    "    (rdkDesc, 'fr_dihydropyridine'),\n",
    "    (rdkDesc, 'fr_epoxide'),\n",
    "    (rdkDesc, 'fr_ester'),\n",
    "    (rdkDesc, 'fr_ether'),\n",
    "    (rdkDesc, 'fr_furan'),\n",
    "    (rdkDesc, 'fr_guanido'),\n",
    "    (rdkDesc, 'fr_halogen'),\n",
    "    (rdkDesc, 'fr_hdrzine'),\n",
    "    (rdkDesc, 'fr_hdrzone'),\n",
    "    (rdkDesc, 'fr_imidazole'),\n",
    "    (rdkDesc, 'fr_imide'),\n",
    "    (rdkDesc, 'fr_isocyan'),\n",
    "    (rdkDesc, 'fr_isothiocyan'),\n",
    "    (rdkDesc, 'fr_ketone'),\n",
    "    (rdkDesc, 'fr_ketone_Topliss'),\n",
    "    (rdkDesc, 'fr_lactam'),\n",
    "    (rdkDesc, 'fr_lactone'),\n",
    "    (rdkDesc, 'fr_methoxy'),\n",
    "    (rdkDesc, 'fr_morpholine'),\n",
    "    (rdkDesc, 'fr_nitrile'),\n",
    "    (rdkDesc, 'fr_nitro'),\n",
    "    (rdkDesc, 'fr_nitro_arom'),\n",
    "    (rdkDesc, 'fr_nitro_arom_nonortho'),\n",
    "    (rdkDesc, 'fr_nitroso'),\n",
    "    (rdkDesc, 'fr_oxazole'),\n",
    "    (rdkDesc, 'fr_oxime'),\n",
    "    (rdkDesc, 'fr_para_hydroxylation'),\n",
    "    (rdkDesc, 'fr_phenol'),\n",
    "    (rdkDesc, 'fr_phenol_noOrthoHbond'),\n",
    "    (rdkDesc, 'fr_phos_acid'),\n",
    "    (rdkDesc, 'fr_phos_ester'),\n",
    "    (rdkDesc, 'fr_piperdine'),\n",
    "    (rdkDesc, 'fr_piperzine'),\n",
    "    (rdkDesc, 'fr_priamide'),\n",
    "    (rdkDesc, 'fr_prisulfonamd'),\n",
    "    (rdkDesc, 'fr_pyridine'),\n",
    "    (rdkDesc, 'fr_quatN'),\n",
    "    (rdkDesc, 'fr_sulfide'),\n",
    "    (rdkDesc, 'fr_sulfonamd'),\n",
    "    (rdkDesc, 'fr_sulfone'),\n",
    "    (rdkDesc, 'fr_term_acetylene'),\n",
    "    (rdkDesc, 'fr_tetrazole'),\n",
    "    (rdkDesc, 'fr_thiazole'),\n",
    "    (rdkDesc, 'fr_thiocyan'),\n",
    "    (rdkDesc, 'fr_thiophene'),\n",
    "    (rdkDesc, 'fr_unbrch_alkane'),\n",
    "    (rdkDesc, 'fr_urea'),\n",
    "    (rdkDesc, 'qed')\n",
    "    \n",
    "]\n",
    "\n",
    "features = [(getattr(mod, name), name[4:] if name.startswith('Calc') else name) for mod, name in features]\n",
    "feature_calcs, feature_names = zip(*features)\n",
    "\n",
    "print(len(features))"
   ]
  },
  {
   "cell_type": "code",
   "execution_count": 48,
   "metadata": {
    "ExecuteTime": {
     "end_time": "2020-04-10T18:04:19.014383Z",
     "start_time": "2020-04-10T15:29:19.973579Z"
    }
   },
   "outputs": [
    {
     "data": {
      "application/vnd.jupyter.widget-view+json": {
       "model_id": "3d19f5e09e384d328d3eccb69593b920",
       "version_major": 2,
       "version_minor": 0
      },
      "text/plain": [
       "HBox(children=(FloatProgress(value=1.0, bar_style='info', max=1.0), HTML(value='')))"
      ]
     },
     "metadata": {},
     "output_type": "display_data"
    },
    {
     "name": "stdout",
     "output_type": "stream",
     "text": [
      "Could not preprocess molecule \"hydrogen\" ([HH]) -- float division by zero\n",
      "Could not preprocess molecule \"hydrogen\" ([HH]) -- float division by zero\n",
      "0.0% of chemicals have been new, 0.0% this chunk     \n"
     ]
    }
   ],
   "source": [
    "chemical_lookup = {}\n",
    "num_processed = 0\n",
    "\n",
    "for chunk_idx, chunk in tqdm(enumerate(pd.read_csv(\"chemicals.v5.0.tsv.gz\", sep='\\t', chunksize=1000))):\n",
    "    this_new = 0\n",
    "    this_processed = 0\n",
    "\n",
    "    for _, row in chunk.iterrows():\n",
    "        num_processed += 1\n",
    "        this_processed += 1\n",
    "        if row['chemical'] in all_chemicals:\n",
    "            mol = rdkit.Chem.MolFromSmiles(row['SMILES_string'])\n",
    "            if mol is None:\n",
    "                continue\n",
    "\n",
    "            molgraph = chemprop.features.featurization.MolGraph(row['SMILES_string'], args)\n",
    "            if molgraph is None:\n",
    "                continue\n",
    "\n",
    "            try:\n",
    "                chemical_lookup[row['chemical']] = (\n",
    "                    row['chemical'],\n",
    "                    row['name'],\n",
    "                    row['molecular_weight'],\n",
    "                    row['SMILES_string'],\n",
    "                    molgraph,\n",
    "                    [calc(mol) for calc in feature_calcs]\n",
    "                )\n",
    "\n",
    "                this_new += 1\n",
    "            except Exception as ex:\n",
    "                print(f\"Could not preprocess molecule \\\"{row['name']}\\\" ({row['SMILES_string']}) -- {ex}\")\n",
    "    print(f\"{len(chemical_lookup)/num_processed:0.1%} of chemicals have been new, {this_new/this_processed:0.1%} this chunk    \", end='\\r')"
   ]
  },
  {
   "cell_type": "code",
   "execution_count": 54,
   "metadata": {
    "ExecuteTime": {
     "end_time": "2020-04-10T18:58:02.318003Z",
     "start_time": "2020-04-10T18:58:02.157003Z"
    }
   },
   "outputs": [
    {
     "name": "stdout",
     "output_type": "stream",
     "text": [
      "Portion retained 0.999466578549849\n"
     ]
    }
   ],
   "source": [
    "print(\"Portion retained\", (\n",
    "    (final_output.index.get_level_values(0).isin(protein_lookup) | final_output.index.get_level_values(0).isin(chemical_lookup))\n",
    "    & (final_output.index.get_level_values(1).isin(protein_lookup) | final_output.index.get_level_values(1).isin(chemical_lookup))\n",
    ").mean())"
   ]
  },
  {
   "cell_type": "code",
   "execution_count": 55,
   "metadata": {
    "ExecuteTime": {
     "end_time": "2020-04-10T18:58:23.257912Z",
     "start_time": "2020-04-10T18:58:23.060914Z"
    }
   },
   "outputs": [],
   "source": [
    "final_output = final_output.loc[(\n",
    "    (final_output.index.get_level_values(0).isin(protein_lookup) | final_output.index.get_level_values(0).isin(chemical_lookup))\n",
    "    & (final_output.index.get_level_values(1).isin(protein_lookup) | final_output.index.get_level_values(1).isin(chemical_lookup))\n",
    ")]"
   ]
  },
  {
   "cell_type": "code",
   "execution_count": 57,
   "metadata": {
    "ExecuteTime": {
     "end_time": "2020-04-10T18:59:51.080015Z",
     "start_time": "2020-04-10T18:59:46.920973Z"
    }
   },
   "outputs": [],
   "source": [
    "final_output.to_csv('data/stitch_preprocessed.csv.gz', index=True)"
   ]
  },
  {
   "cell_type": "code",
   "execution_count": 59,
   "metadata": {
    "ExecuteTime": {
     "end_time": "2020-04-10T19:01:02.608364Z",
     "start_time": "2020-04-10T19:01:02.604345Z"
    }
   },
   "outputs": [],
   "source": [
    "import pickle as pkl"
   ]
  },
  {
   "cell_type": "code",
   "execution_count": 60,
   "metadata": {
    "ExecuteTime": {
     "end_time": "2020-04-10T19:01:16.614346Z",
     "start_time": "2020-04-10T19:01:02.780347Z"
    }
   },
   "outputs": [],
   "source": [
    "with gzip.open('data/stitch_proteins.pkl.gz', 'wb') as f:\n",
    "    pkl.dump(protein_lookup, f, pkl.HIGHEST_PROTOCOL)\n",
    "\n",
    "with gzip.open('data/stitch_chemicals.pkl.gz', 'wb') as f:\n",
    "    pkl.dump(chemical_lookup, f, pkl.HIGHEST_PROTOCOL)"
   ]
  },
  {
   "cell_type": "code",
   "execution_count": 49,
   "metadata": {
    "ExecuteTime": {
     "end_time": "2020-04-10T18:56:09.753944Z",
     "start_time": "2020-04-10T18:56:09.722988Z"
    }
   },
   "outputs": [
    {
     "data": {
      "text/plain": [
       "7350"
      ]
     },
     "execution_count": 49,
     "metadata": {},
     "output_type": "execute_result"
    }
   ],
   "source": [
    "len(chemical_lookup)"
   ]
  },
  {
   "cell_type": "code",
   "execution_count": null,
   "metadata": {
    "ExecuteTime": {
     "end_time": "2020-04-06T14:45:23.563144Z",
     "start_time": "2020-04-06T01:19:13.967Z"
    }
   },
   "outputs": [],
   "source": [
    "chemprop"
   ]
  },
  {
   "cell_type": "code",
   "execution_count": 11,
   "metadata": {
    "ExecuteTime": {
     "end_time": "2020-04-05T17:54:28.798613Z",
     "start_time": "2020-04-05T17:54:28.795591Z"
    }
   },
   "outputs": [],
   "source": [
    "import pickle as pkl"
   ]
  },
  {
   "cell_type": "code",
   "execution_count": 18,
   "metadata": {
    "ExecuteTime": {
     "end_time": "2020-04-07T02:36:04.887280Z",
     "start_time": "2020-04-07T02:35:59.126686Z"
    }
   },
   "outputs": [],
   "source": [
    "import chemprop"
   ]
  },
  {
   "cell_type": "code",
   "execution_count": 23,
   "metadata": {
    "ExecuteTime": {
     "end_time": "2020-04-07T02:47:53.231957Z",
     "start_time": "2020-04-07T02:47:53.228953Z"
    }
   },
   "outputs": [],
   "source": []
  },
  {
   "cell_type": "code",
   "execution_count": 21,
   "metadata": {
    "ExecuteTime": {
     "end_time": "2020-04-07T02:37:16.465577Z",
     "start_time": "2020-04-07T02:37:16.459579Z"
    }
   },
   "outputs": [
    {
     "data": {
      "text/plain": [
       "Namespace()"
      ]
     },
     "execution_count": 21,
     "metadata": {},
     "output_type": "execute_result"
    }
   ],
   "source": [
    "Namespace()"
   ]
  },
  {
   "cell_type": "code",
   "execution_count": 25,
   "metadata": {
    "ExecuteTime": {
     "end_time": "2020-04-07T02:52:44.780027Z",
     "start_time": "2020-04-07T02:52:44.777027Z"
    }
   },
   "outputs": [],
   "source": []
  },
  {
   "cell_type": "code",
   "execution_count": 27,
   "metadata": {
    "ExecuteTime": {
     "end_time": "2020-04-07T02:52:55.707425Z",
     "start_time": "2020-04-07T02:52:55.704433Z"
    }
   },
   "outputs": [],
   "source": [
    "args = create_chemprop_args()"
   ]
  },
  {
   "cell_type": "code",
   "execution_count": 28,
   "metadata": {
    "ExecuteTime": {
     "end_time": "2020-04-07T02:53:04.428429Z",
     "start_time": "2020-04-07T02:53:04.421432Z"
    }
   },
   "outputs": [
    {
     "data": {
      "text/plain": [
       "<chemprop.features.featurization.MolGraph at 0x1f00433e748>"
      ]
     },
     "execution_count": 28,
     "metadata": {},
     "output_type": "execute_result"
    }
   ],
   "source": [
    "chemprop.features.featurization.MolGraph('C(C(C(C1=NC2=C(NC(=NC2=O)N)N(C1O)O)O)O)OP(=O)(O)OP(=O)(O)OP(=O)(O)O', args)"
   ]
  },
  {
   "cell_type": "code",
   "execution_count": 32,
   "metadata": {
    "ExecuteTime": {
     "end_time": "2020-04-08T03:40:22.075596Z",
     "start_time": "2020-04-08T03:40:22.070594Z"
    }
   },
   "outputs": [],
   "source": [
    "import torch as T"
   ]
  },
  {
   "cell_type": "code",
   "execution_count": 35,
   "metadata": {
    "ExecuteTime": {
     "end_time": "2020-04-08T05:31:28.799176Z",
     "start_time": "2020-04-08T05:14:19.736157Z"
    },
    "scrolled": false
   },
   "outputs": [
    {
     "data": {
      "application/vnd.jupyter.widget-view+json": {
       "model_id": "4703ba9c91254358bf71c28fd65b0ee4",
       "version_major": 2,
       "version_minor": 0
      },
      "text/plain": [
       "HBox(children=(FloatProgress(value=1.0, bar_style='info', max=1.0), HTML(value='')))"
      ]
     },
     "metadata": {},
     "output_type": "display_data"
    },
    {
     "name": "stdout",
     "output_type": "stream",
     "text": [
      "\n"
     ]
    }
   ],
   "source": [
    "smiles_seen = {}\n",
    "num_processed = 0\n",
    "\n",
    "for chunk_idx, chunk in tqdm(enumerate(pd.read_csv(\"chemicals.v5.0.tsv.gz\", sep='\\t', chunksize=1000))):\n",
    "    \n",
    "    if chunk_idx <= 7288:\n",
    "        for _, row in chunk.iterrows():\n",
    "            num_processed += 1\n",
    "            if row['SMILES_string'] not in smiles_seen:\n",
    "                smiles_seen[row['SMILES_string']] = row['chemical']\n",
    "        continue\n",
    "    \n",
    "    this_new = 0\n",
    "    this_processed = 0\n",
    "    \n",
    "    with gzip.open(f'./preprocessed_chemicals/{chunk_idx:04}.pkl.gz', 'wb') as f:\n",
    "        for _, row in chunk.iterrows():\n",
    "            num_processed += 1\n",
    "            this_processed += 1\n",
    "            if row['SMILES_string'] in smiles_seen:\n",
    "                pkl.dump((row['chemical'], 'ALIAS', row['name'], smiles_seen[row['SMILES_string']]), f, pkl.HIGHEST_PROTOCOL)\n",
    "            else:\n",
    "                mol = rdkit.Chem.MolFromSmiles(row['SMILES_string'])\n",
    "                if mol is None:\n",
    "                    continue\n",
    "\n",
    "                molgraph = chemprop.features.featurization.MolGraph(row['SMILES_string'], args)\n",
    "                if molgraph is None:\n",
    "                    continue\n",
    "                    \n",
    "                try:\n",
    "                    pkl.dump((\n",
    "                        row['chemical'],\n",
    "                        'NEW',\n",
    "                        row['name'],\n",
    "                        row['molecular_weight'],\n",
    "                        row['SMILES_string'],\n",
    "                        molgraph,\n",
    "                        [calc(mol) for calc in feature_calcs]\n",
    "                    ), f, pkl.HIGHEST_PROTOCOL)\n",
    "                    \n",
    "                    smiles_seen[row['SMILES_string']] = row['chemical']\n",
    "                    this_new += 1\n",
    "                except Exception as ex:\n",
    "                    print(f\"Could not preprocess molecule \\\"{row['name']}\\\" ({row['SMILES_string']}) -- {ex}\")\n",
    "    print(f\"{len(smiles_seen)/num_processed:0.1%} of chemicals have been new, {this_new/this_processed:0.1%} this chunk    \", end='\\r')"
   ]
  },
  {
   "cell_type": "code",
   "execution_count": null,
   "metadata": {
    "ExecuteTime": {
     "end_time": "2020-04-06T14:45:23.559130Z",
     "start_time": "2020-04-05T17:54:37.688Z"
    }
   },
   "outputs": [],
   "source": [
    "mol = rdkit.Chem.MolFromSmiles('C(C(C(C1=NC2=C(NC(=NC2=O)N)N(C1O)O)O)O)OP(=O)(O)OP(=O)(O)OP(=O)(O)O')"
   ]
  },
  {
   "cell_type": "code",
   "execution_count": 2,
   "metadata": {
    "ExecuteTime": {
     "end_time": "2020-04-08T23:43:06.885196Z",
     "start_time": "2020-04-08T23:43:01.270393Z"
    }
   },
   "outputs": [],
   "source": [
    "import pandas as pd"
   ]
  },
  {
   "cell_type": "code",
   "execution_count": 3,
   "metadata": {
    "ExecuteTime": {
     "end_time": "2020-04-08T23:43:09.816253Z",
     "start_time": "2020-04-08T23:43:06.886195Z"
    }
   },
   "outputs": [],
   "source": []
  },
  {
   "cell_type": "code",
   "execution_count": 5,
   "metadata": {
    "ExecuteTime": {
     "end_time": "2020-04-08T23:43:44.001597Z",
     "start_time": "2020-04-08T23:43:43.582665Z"
    }
   },
   "outputs": [],
   "source": [
    "from matplotlib import pyplot as plt"
   ]
  },
  {
   "cell_type": "code",
   "execution_count": 8,
   "metadata": {
    "ExecuteTime": {
     "end_time": "2020-04-08T23:44:57.747429Z",
     "start_time": "2020-04-08T23:44:57.475834Z"
    }
   },
   "outputs": [
    {
     "data": {
      "text/plain": [
       "mode\n",
       "activation     334021\n",
       "binding       3223009\n",
       "catalysis      263143\n",
       "inhibition     750830\n",
       "reaction       475884\n",
       "Name: score, dtype: int64"
      ]
     },
     "execution_count": 8,
     "metadata": {},
     "output_type": "execute_result"
    }
   ],
   "source": [
    "stitch_data.groupby('mode')['score'].count()"
   ]
  },
  {
   "cell_type": "code",
   "execution_count": 118,
   "metadata": {
    "ExecuteTime": {
     "end_time": "2020-04-05T16:32:44.357949Z",
     "start_time": "2020-04-05T16:32:44.334946Z"
    }
   },
   "outputs": [
    {
     "data": {
      "text/plain": [
       "24.645899891012462"
      ]
     },
     "execution_count": 118,
     "metadata": {},
     "output_type": "execute_result"
    }
   ],
   "source": [
    "rdkit.Chem.Descriptors.Chi0(mol)"
   ]
  },
  {
   "cell_type": "code",
   "execution_count": null,
   "metadata": {
    "ExecuteTime": {
     "end_time": "2020-04-06T14:45:23.560157Z",
     "start_time": "2020-04-05T20:09:17.033Z"
    }
   },
   "outputs": [],
   "source": [
    "p_res = pd.read_csv('actions_through_5330000000.csv')"
   ]
  },
  {
   "cell_type": "code",
   "execution_count": 14,
   "metadata": {
    "ExecuteTime": {
     "end_time": "2020-04-04T18:07:18.045731Z",
     "start_time": "2020-04-04T18:07:17.911677Z"
    }
   },
   "outputs": [
    {
     "data": {
      "text/plain": [
       "binding       950605\n",
       "reaction      259219\n",
       "inhibition    246385\n",
       "activation    145053\n",
       "catalysis       3516\n",
       "Name: mode, dtype: int64"
      ]
     },
     "execution_count": 14,
     "metadata": {},
     "output_type": "execute_result"
    }
   ],
   "source": [
    "p_res['mode'].value_counts()"
   ]
  },
  {
   "cell_type": "code",
   "execution_count": 59,
   "metadata": {
    "ExecuteTime": {
     "end_time": "2020-04-04T18:26:54.915962Z",
     "start_time": "2020-04-04T18:26:54.911003Z"
    }
   },
   "outputs": [
    {
     "data": {
      "text/plain": [
       "Counter({'binding': 40817218,\n",
       "         'pred_bind': 1049736,\n",
       "         'inhibition': 3439488,\n",
       "         'activation': 1442687,\n",
       "         'reaction': 714075,\n",
       "         'catalysis': 507387,\n",
       "         'expression': 21362})"
      ]
     },
     "execution_count": 59,
     "metadata": {},
     "output_type": "execute_result"
    }
   ],
   "source": [
    "mode_ctr"
   ]
  },
  {
   "cell_type": "code",
   "execution_count": 74,
   "metadata": {
    "ExecuteTime": {
     "end_time": "2020-04-04T19:14:33.629225Z",
     "start_time": "2020-04-04T19:14:33.622264Z"
    }
   },
   "outputs": [
    {
     "data": {
      "text/plain": [
       "0.00039417643731510664"
      ]
     },
     "execution_count": 74,
     "metadata": {},
     "output_type": "execute_result"
    }
   ],
   "source": [
    "(catalysis['score']>=885.0).mean()"
   ]
  },
  {
   "cell_type": "code",
   "execution_count": 79,
   "metadata": {
    "ExecuteTime": {
     "end_time": "2020-04-04T19:17:45.455869Z",
     "start_time": "2020-04-04T19:17:45.450868Z"
    }
   },
   "outputs": [
    {
     "data": {
      "text/plain": [
       "150"
      ]
     },
     "execution_count": 79,
     "metadata": {},
     "output_type": "execute_result"
    }
   ],
   "source": [
    "catalysis['score'].min()"
   ]
  },
  {
   "cell_type": "code",
   "execution_count": 78,
   "metadata": {
    "ExecuteTime": {
     "end_time": "2020-04-04T19:15:44.418644Z",
     "start_time": "2020-04-04T19:15:44.412684Z"
    }
   },
   "outputs": [
    {
     "data": {
      "text/plain": [
       "0.0004372089766481112"
      ]
     },
     "execution_count": 78,
     "metadata": {},
     "output_type": "execute_result"
    }
   ],
   "source": [
    "(reaction['score'] >= 954).mean() * 1.4"
   ]
  },
  {
   "cell_type": "code",
   "execution_count": 44,
   "metadata": {
    "ExecuteTime": {
     "end_time": "2020-04-04T18:23:53.805688Z",
     "start_time": "2020-04-04T18:23:53.247745Z"
    }
   },
   "outputs": [
    {
     "data": {
      "image/png": "[encoded data removed]",
      "text/plain": [
       "<Figure size 432x288 with 1 Axes>"
      ]
     },
     "metadata": {
      "needs_background": "light"
     },
     "output_type": "display_data"
    }
   ],
   "source": [
    "plt.hist(catalysis['score'], bins=250, range=(0,1000));"
   ]
  },
  {
   "cell_type": "code",
   "execution_count": 39,
   "metadata": {
    "ExecuteTime": {
     "end_time": "2020-04-04T18:22:06.145092Z",
     "start_time": "2020-04-04T18:22:04.817097Z"
    }
   },
   "outputs": [
    {
     "data": {
      "image/png": "[encoded data removed]",
      "text/plain": [
       "<Figure size 504x1440 with 5 Axes>"
      ]
     },
     "metadata": {
      "needs_background": "light"
     },
     "output_type": "display_data"
    }
   ],
   "source": [
    "fig, axes = plt.subplots(nrows=5, figsize=(7,20))\n",
    "for mode, ax in zip(p_res['mode'].unique(), axes):\n",
    "    data = p_res.loc[p_res['mode'] == mode]\n",
    "    ax.hist(data['score'], bins=min(50, max(5,int(1000-data['score'].min()+1))))\n",
    "    ax.set_title(mode)"
   ]
  },
  {
   "cell_type": "code",
   "execution_count": 34,
   "metadata": {
    "ExecuteTime": {
     "end_time": "2020-04-04T18:20:46.058732Z",
     "start_time": "2020-04-04T18:20:46.054742Z"
    }
   },
   "outputs": [
    {
     "data": {
      "text/plain": [
       "<matplotlib.axes._subplots.AxesSubplot at 0x2b1e4c17548>"
      ]
     },
     "execution_count": 34,
     "metadata": {},
     "output_type": "execute_result"
    }
   ],
   "source": [
    "axes[4]"
   ]
  }
 ],
 "metadata": {
  "kernelspec": {
   "display_name": "Python 3",
   "language": "python",
   "name": "python3"
  },
  "language_info": {
   "codemirror_mode": {
    "name": "ipython",
    "version": 3
   },
   "file_extension": ".py",
   "mimetype": "text/x-python",
   "name": "python",
   "nbconvert_exporter": "python",
   "pygments_lexer": "ipython3",
   "version": "3.7.6"
  },
  "toc": {
   "base_numbering": 1,
   "nav_menu": {},
   "number_sections": true,
   "sideBar": true,
   "skip_h1_title": false,
   "title_cell": "Table of Contents",
   "title_sidebar": "Contents",
   "toc_cell": false,
   "toc_position": {},
   "toc_section_display": true,
   "toc_window_display": false
  }
 },
 "nbformat": 4,
 "nbformat_minor": 4
}
