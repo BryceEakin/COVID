{
 "cells": [
  {
   "cell_type": "code",
   "execution_count": 1,
   "metadata": {
    "ExecuteTime": {
     "end_time": "2020-04-13T15:52:17.400812Z",
     "start_time": "2020-04-13T15:52:15.564624Z"
    }
   },
   "outputs": [],
   "source": [
    "import pandas as pd\n",
    "import numpy as np\n",
    "import torch as T\n",
    "from torch import nn\n",
    "import torch.nn.functional as F\n",
    "\n",
    "import chemprop\n",
    "import rdkit\n",
    "\n",
    "import pickle as pkl\n",
    "import gzip\n",
    "\n",
    "from tqdm.notebook import tqdm\n",
    "import argparse"
   ]
  },
  {
   "cell_type": "code",
   "execution_count": 2,
   "metadata": {
    "ExecuteTime": {
     "end_time": "2020-04-13T15:52:17.410627Z",
     "start_time": "2020-04-13T15:52:17.402625Z"
    }
   },
   "outputs": [],
   "source": [
    "import covid\n",
    "from covid.modules import *\n",
    "from covid.data import *\n",
    "\n",
    "from covid.modules.chemistry import MPNEncoder"
   ]
  },
  {
   "cell_type": "code",
   "execution_count": 3,
   "metadata": {
    "ExecuteTime": {
     "end_time": "2020-04-13T15:52:17.415647Z",
     "start_time": "2020-04-13T15:52:17.412644Z"
    }
   },
   "outputs": [],
   "source": [
    "DROPOUT_RATE = 0.2"
   ]
  },
  {
   "cell_type": "code",
   "execution_count": 4,
   "metadata": {
    "ExecuteTime": {
     "end_time": "2020-04-13T15:52:17.424634Z",
     "start_time": "2020-04-13T15:52:17.418627Z"
    }
   },
   "outputs": [],
   "source": [
    "def create_chemprop_args():\n",
    "    args = argparse.Namespace()\n",
    "    args.seed = 0\n",
    "    args.ensemble_size = 1\n",
    "    args.hidden_size = 300\n",
    "    args.bias = False\n",
    "    args.depth = 3\n",
    "    args.dropout = 0.0\n",
    "    args.activation = 'ReLU'\n",
    "    args.undirected = False\n",
    "    args.atom_messages = False\n",
    "    \n",
    "    return args"
   ]
  },
  {
   "cell_type": "code",
   "execution_count": 5,
   "metadata": {
    "ExecuteTime": {
     "end_time": "2020-04-13T15:52:17.429677Z",
     "start_time": "2020-04-13T15:52:17.425630Z"
    }
   },
   "outputs": [],
   "source": [
    "args = create_chemprop_args()"
   ]
  },
  {
   "cell_type": "code",
   "execution_count": 6,
   "metadata": {
    "ExecuteTime": {
     "end_time": "2020-04-13T15:52:22.504834Z",
     "start_time": "2020-04-13T15:52:17.431625Z"
    }
   },
   "outputs": [],
   "source": [
    "all_data = pd.read_csv('./data/stitch_preprocessed.csv.gz')\n",
    "with gzip.open('./data/stitch_proteins.pkl.gz', 'rb') as f:\n",
    "    all_proteins = pkl.load(f)\n",
    "with gzip.open('./data/stitch_chemicals.pkl.gz', 'rb') as f:\n",
    "    all_chemicals = pkl.load(f)"
   ]
  },
  {
   "cell_type": "code",
   "execution_count": 7,
   "metadata": {
    "ExecuteTime": {
     "end_time": "2020-04-13T15:52:22.512630Z",
     "start_time": "2020-04-13T15:52:22.506629Z"
    }
   },
   "outputs": [],
   "source": [
    "class BatchMolGraph(chemprop.features.BatchMolGraph):\n",
    "    def to(self, *args, **kwargs):\n",
    "        self.f_atoms = self.f_atoms.to(*args, **kwargs)\n",
    "        self.f_bonds = self.f_bonds.to(*args, **kwargs)\n",
    "        self.a2b = self.a2b.to(*args, **kwargs)\n",
    "        self.b2a = self.b2a.to(*args, **kwargs)\n",
    "        self.b2revb = self.b2revb.to(*args, **kwargs)\n",
    "        if self.b2b is not None:\n",
    "            self.b2b = self.b2b.to(*args, **kwargs)\n",
    "        if self.a2a is not None:\n",
    "            self.a2a = self.a2a.to(*args, **kwargs)\n",
    "            \n",
    "        return self"
   ]
  },
  {
   "cell_type": "code",
   "execution_count": 8,
   "metadata": {
    "ExecuteTime": {
     "end_time": "2020-04-13T15:52:22.525630Z",
     "start_time": "2020-04-13T15:52:22.514662Z"
    }
   },
   "outputs": [],
   "source": [
    "batch = BatchMolGraph(\n",
    "    [all_chemicals[x][4] for x in all_data['item_id_a'].iloc[:5].values], \n",
    "    args\n",
    ")"
   ]
  },
  {
   "cell_type": "code",
   "execution_count": 9,
   "metadata": {
    "ExecuteTime": {
     "end_time": "2020-04-13T15:52:22.533640Z",
     "start_time": "2020-04-13T15:52:22.527625Z"
    }
   },
   "outputs": [],
   "source": [
    "f_batch = T.stack([\n",
    "    T.tensor(all_chemicals[x][5]) for x in all_data['item_id_a'].iloc[:5].values\n",
    "])"
   ]
  },
  {
   "cell_type": "code",
   "execution_count": 10,
   "metadata": {
    "ExecuteTime": {
     "end_time": "2020-04-13T15:52:22.544640Z",
     "start_time": "2020-04-13T15:52:22.535628Z"
    }
   },
   "outputs": [],
   "source": [
    "chem_model = MPNEncoder(\n",
    "    batch.atom_fdim, \n",
    "    batch.bond_fdim, \n",
    "    layers_per_message=2, \n",
    "    dropout=DROPOUT_RATE\n",
    ")"
   ]
  },
  {
   "cell_type": "code",
   "execution_count": 11,
   "metadata": {
    "ExecuteTime": {
     "end_time": "2020-04-13T15:52:22.575628Z",
     "start_time": "2020-04-13T15:52:22.546627Z"
    }
   },
   "outputs": [],
   "source": [
    "protein_model = nn.Sequential(\n",
    "    # 21->100 channels inplace convolution\n",
    "    apply_to_protein_batch(nn.Conv1d(23, 100, (1, ), 1, 0)),\n",
    "    \n",
    "    #Do some resnet\n",
    "    create_resnet_block_1d(100, 32, inner_kernel=3, for_protein_batch=True),\n",
    "    create_resnet_block_1d(100, 32, inner_kernel=5, for_protein_batch=True),\n",
    "    create_resnet_block_1d(100, 32, inner_kernel=7, for_protein_batch=True),\n",
    "    \n",
    "    # Scale it down\n",
    "    DownscaleConv1d(100, 300, 4, maxpool=True, for_protein_batch=True),\n",
    "    apply_to_protein_batch(nn.Dropout(DROPOUT_RATE)),\n",
    "    \n",
    "    #Do some resnet\n",
    "    create_resnet_block_1d(300, 32, inner_kernel=3, for_protein_batch=True),\n",
    "    create_resnet_block_1d(300, 32, inner_kernel=5, for_protein_batch=True),\n",
    "    \n",
    "    # Scale it down again\n",
    "    DownscaleConv1d(300,600,4,'silu', maxpool=True, for_protein_batch=True),\n",
    "    apply_to_protein_batch(nn.MaxPool1d(10000, ceil_mode=True)),\n",
    "    \n",
    "    # Convert protein batch to standard batch format\n",
    "    ProteinBatchToPaddedBatch(),\n",
    "    \n",
    "    Squeeze(-1),\n",
    "    nn.Dropout(DROPOUT_RATE),\n",
    "    nn.Linear(600,600),\n",
    "    nn.Tanhshrink(),\n",
    "    nn.Tanh(),\n",
    ")"
   ]
  },
  {
   "cell_type": "code",
   "execution_count": 12,
   "metadata": {
    "ExecuteTime": {
     "end_time": "2020-04-13T15:52:22.602631Z",
     "start_time": "2020-04-13T15:52:22.577631Z"
    }
   },
   "outputs": [],
   "source": [
    "protein_names = np.random.choice(list(all_proteins.keys()), 5)\n",
    "x = create_protein_batch(\n",
    "    [encode_protein(all_proteins[n]).unsqueeze(0) for n in protein_names]\n",
    ")"
   ]
  },
  {
   "cell_type": "code",
   "execution_count": 13,
   "metadata": {
    "ExecuteTime": {
     "end_time": "2020-04-13T15:52:22.747630Z",
     "start_time": "2020-04-13T15:52:22.604654Z"
    }
   },
   "outputs": [
    {
     "data": {
      "text/plain": [
       "torch.Size([5, 300])"
      ]
     },
     "execution_count": 13,
     "metadata": {},
     "output_type": "execute_result"
    }
   ],
   "source": [
    "protein_model(x).shape"
   ]
  },
  {
   "cell_type": "code",
   "execution_count": 14,
   "metadata": {
    "ExecuteTime": {
     "end_time": "2020-04-13T15:52:22.763627Z",
     "start_time": "2020-04-13T15:52:22.749625Z"
    }
   },
   "outputs": [
    {
     "data": {
      "text/plain": [
       "torch.Size([5, 300])"
      ]
     },
     "execution_count": 14,
     "metadata": {},
     "output_type": "execute_result"
    }
   ],
   "source": [
    "chem_model(batch, f_batch).shape"
   ]
  },
  {
   "cell_type": "code",
   "execution_count": 15,
   "metadata": {
    "ExecuteTime": {
     "end_time": "2020-04-13T15:52:24.975710Z",
     "start_time": "2020-04-13T15:52:22.766626Z"
    }
   },
   "outputs": [],
   "source": [
    "protein_model.to('cuda')\n",
    "chem_model.to('cuda')\n",
    "x = x.to('cuda')\n",
    "f_batch = f_batch.to('cuda')\n",
    "batch = batch.to('cuda')"
   ]
  },
  {
   "cell_type": "code",
   "execution_count": 16,
   "metadata": {
    "ExecuteTime": {
     "end_time": "2020-04-13T15:52:27.288679Z",
     "start_time": "2020-04-13T15:52:24.976626Z"
    }
   },
   "outputs": [
    {
     "data": {
      "text/plain": [
       "torch.Size([5, 300])"
      ]
     },
     "execution_count": 16,
     "metadata": {},
     "output_type": "execute_result"
    }
   ],
   "source": [
    "protein_model(x).shape"
   ]
  },
  {
   "cell_type": "code",
   "execution_count": 17,
   "metadata": {
    "ExecuteTime": {
     "end_time": "2020-04-13T15:52:28.174528Z",
     "start_time": "2020-04-13T15:52:28.145902Z"
    }
   },
   "outputs": [
    {
     "data": {
      "text/plain": [
       "torch.Size([5, 300])"
      ]
     },
     "execution_count": 17,
     "metadata": {},
     "output_type": "execute_result"
    }
   ],
   "source": [
    "chem_model(batch, f_batch).shape"
   ]
  },
  {
   "cell_type": "code",
   "execution_count": null,
   "metadata": {},
   "outputs": [],
   "source": [
    "class "
   ]
  }
 ],
 "metadata": {
  "kernelspec": {
   "display_name": "Python 3",
   "language": "python",
   "name": "python3"
  },
  "language_info": {
   "codemirror_mode": {
    "name": "ipython",
    "version": 3
   },
   "file_extension": ".py",
   "mimetype": "text/x-python",
   "name": "python",
   "nbconvert_exporter": "python",
   "pygments_lexer": "ipython3",
   "version": "3.7.6"
  },
  "toc": {
   "base_numbering": 1,
   "nav_menu": {},
   "number_sections": true,
   "sideBar": true,
   "skip_h1_title": false,
   "title_cell": "Table of Contents",
   "title_sidebar": "Contents",
   "toc_cell": false,
   "toc_position": {},
   "toc_section_display": true,
   "toc_window_display": false
  }
 },
 "nbformat": 4,
 "nbformat_minor": 4
}
