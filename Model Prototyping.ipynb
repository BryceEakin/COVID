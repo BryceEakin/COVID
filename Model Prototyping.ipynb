{
 "cells": [
  {
   "cell_type": "code",
   "execution_count": 131,
   "metadata": {
    "ExecuteTime": {
     "end_time": "2020-04-20T00:41:50.301065Z",
     "start_time": "2020-04-20T00:41:50.177067Z"
    }
   },
   "outputs": [],
   "source": [
    "import pandas as pd\n",
    "import numpy as np\n",
    "import torch as T\n",
    "from torch import nn\n",
    "import torch.nn.functional as F\n",
    "\n",
    "import chemprop\n",
    "import rdkit\n",
    "\n",
    "import pickle as pkl\n",
    "import gzip\n",
    "\n",
    "from tqdm.notebook import tqdm\n",
    "import argparse\n",
    "\n",
    "import random"
   ]
  },
  {
   "cell_type": "code",
   "execution_count": 132,
   "metadata": {
    "ExecuteTime": {
     "end_time": "2020-04-20T00:41:50.354066Z",
     "start_time": "2020-04-20T00:41:50.333065Z"
    }
   },
   "outputs": [],
   "source": [
    "import covid\n",
    "from covid.datasets import *\n",
    "from covid.modules import *\n",
    "from covid.data import *\n",
    "from covid.model import *\n",
    "from covid.schedulers import LinearWarmupScheduler\n",
    "from covid.reporting import get_performance_plots\n",
    "\n",
    "from covid.modules.chemistry import MPNEncoder"
   ]
  },
  {
   "cell_type": "code",
   "execution_count": 133,
   "metadata": {
    "ExecuteTime": {
     "end_time": "2020-04-20T00:41:50.580101Z",
     "start_time": "2020-04-20T00:41:50.569100Z"
    }
   },
   "outputs": [],
   "source": [
    "import matplotlib.pyplot as plt\n",
    "\n",
    "from ipywidgets import widgets\n",
    "from IPython.display import display"
   ]
  },
  {
   "cell_type": "code",
   "execution_count": 134,
   "metadata": {
    "ExecuteTime": {
     "end_time": "2020-04-20T00:41:50.665071Z",
     "start_time": "2020-04-20T00:41:50.650067Z"
    }
   },
   "outputs": [],
   "source": [
    "import covid.training"
   ]
  },
  {
   "cell_type": "code",
   "execution_count": 135,
   "metadata": {
    "ExecuteTime": {
     "end_time": "2020-04-20T00:41:51.148067Z",
     "start_time": "2020-04-20T00:41:51.141100Z"
    }
   },
   "outputs": [],
   "source": [
    "from hyperopt import Trials"
   ]
  },
  {
   "cell_type": "code",
   "execution_count": 140,
   "metadata": {
    "ExecuteTime": {
     "end_time": "2020-04-20T00:42:26.001591Z",
     "start_time": "2020-04-20T00:42:25.917399Z"
    }
   },
   "outputs": [],
   "source": [
    "with open(\"./hyperopt_trials.pkl\", 'rb') as f:\n",
    "    trials = pkl.load(f)"
   ]
  },
  {
   "cell_type": "code",
   "execution_count": 136,
   "metadata": {
    "ExecuteTime": {
     "end_time": "2020-04-20T00:41:53.089342Z",
     "start_time": "2020-04-20T00:41:53.071343Z"
    }
   },
   "outputs": [],
   "source": [
    "from hyperopt.mongoexp import MongoTrials"
   ]
  },
  {
   "cell_type": "code",
   "execution_count": 387,
   "metadata": {
    "ExecuteTime": {
     "end_time": "2020-04-20T22:16:24.538585Z",
     "start_time": "2020-04-20T22:16:24.340745Z"
    }
   },
   "outputs": [],
   "source": [
    "mtrials = MongoTrials('mongo://localhost:1234/covid/jobs', exp_key='covid-2')"
   ]
  },
  {
   "cell_type": "code",
   "execution_count": 405,
   "metadata": {
    "ExecuteTime": {
     "end_time": "2020-04-20T23:58:02.929800Z",
     "start_time": "2020-04-20T23:57:48.776800Z"
    }
   },
   "outputs": [],
   "source": [
    "mtrials.refresh()"
   ]
  },
  {
   "cell_type": "code",
   "execution_count": 406,
   "metadata": {
    "ExecuteTime": {
     "end_time": "2020-04-20T23:58:02.945801Z",
     "start_time": "2020-04-20T23:58:02.936801Z"
    }
   },
   "outputs": [
    {
     "data": {
      "text/plain": [
       "91"
      ]
     },
     "execution_count": 406,
     "metadata": {},
     "output_type": "execute_result"
    }
   ],
   "source": [
    "len(mtrials.trials)"
   ]
  },
  {
   "cell_type": "code",
   "execution_count": 407,
   "metadata": {
    "ExecuteTime": {
     "end_time": "2020-04-20T23:58:02.956804Z",
     "start_time": "2020-04-20T23:58:02.949801Z"
    },
    "scrolled": true
   },
   "outputs": [
    {
     "data": {
      "text/plain": [
       "[7.439429350159346,\n",
       " 0.1692000009115363,\n",
       " None,\n",
       " 0.16114772885089448,\n",
       " None,\n",
       " None,\n",
       " None,\n",
       " None,\n",
       " None,\n",
       " None,\n",
       " None,\n",
       " None,\n",
       " None,\n",
       " None,\n",
       " 0.22373886773720947,\n",
       " 0.23310064350091755,\n",
       " 0.2402137711800636,\n",
       " 0.21203745794913786,\n",
       " 0.2274126981031661,\n",
       " 0.21915882515082888,\n",
       " 0.19002372246121751,\n",
       " 0.22345033561588287,\n",
       " 0.2056929076334187,\n",
       " 0.28525064332917555,\n",
       " 0.21655175371417645,\n",
       " 0.2802831254829167,\n",
       " 0.3126174179777176,\n",
       " 0.25632707441524355,\n",
       " 0.2043305233835873,\n",
       " 0.23226056074481238,\n",
       " 0.23385558467193485,\n",
       " 0.25837453606217403,\n",
       " 0.20344991294791878,\n",
       " 0.33895270858506893,\n",
       " 0.21328111628602275,\n",
       " 0.22479035340367565,\n",
       " 0.3556961630207984,\n",
       " 0.22169327307610345,\n",
       " 0.22389276772592984,\n",
       " 0.23422493468952832,\n",
       " 0.2890324062397457,\n",
       " 0.2520814773839728,\n",
       " 0.2715198570780236,\n",
       " 0.2690689443427018,\n",
       " 0.2258686390389643,\n",
       " 0.44775285827415306,\n",
       " 0.2434224739944544,\n",
       " 0.31642576905365183,\n",
       " 0.3342891712872157,\n",
       " 0.28491476489814715,\n",
       " 0.2749412064689787,\n",
       " 0.2956341970039592,\n",
       " 0.27734930605432073,\n",
       " 0.35449660826809015,\n",
       " 0.3520490129614179,\n",
       " 0.38596525781677293,\n",
       " 0.3144145629989131,\n",
       " 0.3597656542846764,\n",
       " 0.2047601151440886,\n",
       " 0.2518901204754158,\n",
       " 0.33858363806432157,\n",
       " 0.4505934404318103,\n",
       " 0.4633732593572811,\n",
       " 0.49717993647068875,\n",
       " 0.23934821022611633,\n",
       " 0.45576452972257575,\n",
       " 0.4563620839197339,\n",
       " 0.4527882477631915,\n",
       " 0.4482046217398311,\n",
       " 0.45470108250353447,\n",
       " 0.46783680558220936,\n",
       " 0.48957649245634194,\n",
       " 0.46969559392056537,\n",
       " 0.28364439766557653,\n",
       " 0.29519930363108915,\n",
       " 0.46546953385576506,\n",
       " 0.47730472483447917,\n",
       " 0.45397085839755197,\n",
       " 0.43858088826956215,\n",
       " 0.4882900769832072,\n",
       " 7.4394293399251685,\n",
       " 7.810598284605423,\n",
       " 8.26915143605745,\n",
       " 8.302715538865925,\n",
       " 10.367352102401167,\n",
       " 10.488300332763517,\n",
       " 11.296297575328614,\n",
       " 7.9315464812432825,\n",
       " 7.931546465918415,\n",
       " 20.846244652496207,\n",
       " 24.629400716828243]"
      ]
     },
     "execution_count": 407,
     "metadata": {},
     "output_type": "execute_result"
    }
   ],
   "source": [
    "mtrials.losses()"
   ]
  },
  {
   "cell_type": "code",
   "execution_count": 386,
   "metadata": {
    "ExecuteTime": {
     "end_time": "2020-04-20T22:16:21.906649Z",
     "start_time": "2020-04-20T22:16:19.526138Z"
    }
   },
   "outputs": [],
   "source": [
    "mtrials.delete_all()"
   ]
  },
  {
   "cell_type": "code",
   "execution_count": 27,
   "metadata": {
    "ExecuteTime": {
     "end_time": "2020-04-18T20:24:11.725493Z",
     "start_time": "2020-04-18T20:24:11.722445Z"
    }
   },
   "outputs": [],
   "source": [
    "import json"
   ]
  },
  {
   "cell_type": "code",
   "execution_count": 31,
   "metadata": {
    "ExecuteTime": {
     "end_time": "2020-04-18T20:25:14.969017Z",
     "start_time": "2020-04-18T20:25:14.966017Z"
    }
   },
   "outputs": [],
   "source": [
    "v_stats = t['result']['validation_stats']"
   ]
  },
  {
   "cell_type": "code",
   "execution_count": 33,
   "metadata": {
    "ExecuteTime": {
     "end_time": "2020-04-18T20:25:57.783789Z",
     "start_time": "2020-04-18T20:25:57.780791Z"
    }
   },
   "outputs": [],
   "source": [
    "v_x, v_loss, v_acc, v_conf = zip(*v_stats)"
   ]
  },
  {
   "cell_type": "code",
   "execution_count": 72,
   "metadata": {
    "ExecuteTime": {
     "end_time": "2020-04-18T20:40:12.940365Z",
     "start_time": "2020-04-18T20:40:12.937361Z"
    }
   },
   "outputs": [],
   "source": [
    "from datetime import timedelta\n",
    "from collections import Iterable, Mapping"
   ]
  },
  {
   "cell_type": "code",
   "execution_count": 89,
   "metadata": {
    "ExecuteTime": {
     "end_time": "2020-04-18T20:44:47.353072Z",
     "start_time": "2020-04-18T20:44:47.345037Z"
    }
   },
   "outputs": [],
   "source": [
    "def make_json_friendly(result):\n",
    "    if isinstance(result, list):\n",
    "        return make_json_list_friendly(result)\n",
    "    \n",
    "    if len(result) == 0:\n",
    "        return result\n",
    "    \n",
    "    output = {}\n",
    "    \n",
    "    for k,v in result.items():\n",
    "        if isinstance(v, np.ndarray):\n",
    "            v = list(v)\n",
    "        elif isinstance(v, timedelta):\n",
    "            v = v.total_seconds()\n",
    "        \n",
    "        if isinstance(v, Mapping):\n",
    "            v = make_json_friendly(v)\n",
    "        elif isinstance(v, Iterable):\n",
    "            v = make_json_list_friendly(v)\n",
    "            \n",
    "        \n",
    "        output[k] = v\n",
    "    return output\n",
    "\n",
    "def make_json_list_friendly(lst):\n",
    "    if len(lst) == 0 or isinstance(lst, str):\n",
    "        return lst\n",
    "    \n",
    "    output = []\n",
    "    for item in lst:\n",
    "        if isinstance(item, np.ndarray):\n",
    "            item = list(item)\n",
    "        elif isinstance(item, timedelta):\n",
    "            item = item.total_seconds()\n",
    "            \n",
    "        if isinstance(item, Mapping):\n",
    "            item = make_json_friendly(item)\n",
    "        elif isinstance(item, Iterable):\n",
    "            item = make_json_list_friendly(item)\n",
    "            \n",
    "        output.append(item)\n",
    "    return output"
   ]
  },
  {
   "cell_type": "code",
   "execution_count": 143,
   "metadata": {
    "ExecuteTime": {
     "end_time": "2020-04-20T00:43:04.491903Z",
     "start_time": "2020-04-20T00:43:04.486927Z"
    }
   },
   "outputs": [
    {
     "data": {
      "text/plain": [
       "0.4528115093335509"
      ]
     },
     "execution_count": 143,
     "metadata": {},
     "output_type": "execute_result"
    }
   ],
   "source": [
    "trials.trials[0]['result']['loss']"
   ]
  },
  {
   "cell_type": "code",
   "execution_count": 144,
   "metadata": {
    "ExecuteTime": {
     "end_time": "2020-04-20T00:43:37.861493Z",
     "start_time": "2020-04-20T00:43:37.848515Z"
    }
   },
   "outputs": [],
   "source": [
    "from scipy.stats import linregress"
   ]
  },
  {
   "cell_type": "code",
   "execution_count": 238,
   "metadata": {
    "ExecuteTime": {
     "end_time": "2020-04-20T14:10:26.865834Z",
     "start_time": "2020-04-20T14:10:26.862831Z"
    }
   },
   "outputs": [],
   "source": [
    "t = mtrials.trials[-1]"
   ]
  },
  {
   "cell_type": "code",
   "execution_count": 240,
   "metadata": {
    "ExecuteTime": {
     "end_time": "2020-04-20T14:10:40.083831Z",
     "start_time": "2020-04-20T14:10:40.079863Z"
    }
   },
   "outputs": [
    {
     "data": {
      "text/plain": [
       "['_id',\n",
       " 'state',\n",
       " 'tid',\n",
       " 'spec',\n",
       " 'result',\n",
       " 'misc',\n",
       " 'exp_key',\n",
       " 'owner',\n",
       " 'version',\n",
       " 'book_time',\n",
       " 'refresh_time']"
      ]
     },
     "execution_count": 240,
     "metadata": {},
     "output_type": "execute_result"
    }
   ],
   "source": [
    "t.keys()"
   ]
  },
  {
   "cell_type": "code",
   "execution_count": 341,
   "metadata": {
    "ExecuteTime": {
     "end_time": "2020-04-20T21:23:23.129509Z",
     "start_time": "2020-04-20T21:23:22.863946Z"
    }
   },
   "outputs": [],
   "source": [
    "all_trials = MongoTrials('mongo://localhost:1234/covid/jobs', exp_key='covid-2')"
   ]
  },
  {
   "cell_type": "code",
   "execution_count": 343,
   "metadata": {
    "ExecuteTime": {
     "end_time": "2020-04-20T21:23:28.115349Z",
     "start_time": "2020-04-20T21:23:28.110320Z"
    }
   },
   "outputs": [
    {
     "data": {
      "text/plain": [
       "[]"
      ]
     },
     "execution_count": 343,
     "metadata": {},
     "output_type": "execute_result"
    }
   ],
   "source": [
    "all_trials.trials"
   ]
  },
  {
   "cell_type": "code",
   "execution_count": 346,
   "metadata": {
    "ExecuteTime": {
     "end_time": "2020-04-20T21:34:48.803734Z",
     "start_time": "2020-04-20T21:34:48.798705Z"
    }
   },
   "outputs": [
    {
     "data": {
      "text/plain": [
       "25"
      ]
     },
     "execution_count": 346,
     "metadata": {},
     "output_type": "execute_result"
    }
   ],
   "source": [
    "int(np.ceil(int(50/2/1)))"
   ]
  },
  {
   "cell_type": "code",
   "execution_count": 265,
   "metadata": {
    "ExecuteTime": {
     "end_time": "2020-04-20T14:22:54.248516Z",
     "start_time": "2020-04-20T14:22:54.195484Z"
    }
   },
   "outputs": [
    {
     "data": {
      "text/plain": [
       "[137,\n",
       " 138,\n",
       " 139,\n",
       " 140,\n",
       " 141,\n",
       " 142,\n",
       " 143,\n",
       " 144,\n",
       " 145,\n",
       " 146,\n",
       " 147,\n",
       " 148,\n",
       " 149,\n",
       " 150,\n",
       " 151,\n",
       " 152,\n",
       " 153,\n",
       " 154,\n",
       " 155,\n",
       " 156,\n",
       " 157,\n",
       " 158,\n",
       " 159,\n",
       " 160,\n",
       " 161,\n",
       " 162,\n",
       " 163,\n",
       " 164,\n",
       " 165,\n",
       " 166,\n",
       " 167,\n",
       " 168,\n",
       " 169,\n",
       " 170,\n",
       " 171,\n",
       " 172,\n",
       " 173,\n",
       " 174,\n",
       " 175,\n",
       " 176,\n",
       " 177,\n",
       " 178,\n",
       " 179,\n",
       " 180,\n",
       " 181,\n",
       " 182,\n",
       " 183,\n",
       " 184,\n",
       " 185,\n",
       " 186,\n",
       " 187,\n",
       " 188,\n",
       " 189,\n",
       " 190,\n",
       " 191,\n",
       " 192,\n",
       " 193,\n",
       " 194,\n",
       " 195,\n",
       " 196,\n",
       " 197,\n",
       " 198,\n",
       " 199,\n",
       " 200,\n",
       " 201,\n",
       " 202,\n",
       " 203,\n",
       " 204,\n",
       " 205,\n",
       " 206,\n",
       " 207,\n",
       " 208,\n",
       " 209,\n",
       " 210,\n",
       " 211,\n",
       " 212,\n",
       " 213,\n",
       " 214,\n",
       " 215,\n",
       " 216,\n",
       " 217,\n",
       " 218,\n",
       " 219,\n",
       " 220,\n",
       " 221,\n",
       " 222,\n",
       " 223,\n",
       " 224,\n",
       " 225,\n",
       " 226,\n",
       " 227,\n",
       " 228,\n",
       " 229,\n",
       " 230,\n",
       " 231,\n",
       " 232,\n",
       " 233,\n",
       " 234,\n",
       " 235,\n",
       " 236,\n",
       " 237,\n",
       " 238,\n",
       " 239,\n",
       " 240,\n",
       " 241,\n",
       " 242,\n",
       " 243,\n",
       " 244,\n",
       " 245,\n",
       " 246,\n",
       " 247,\n",
       " 248,\n",
       " 249,\n",
       " 250,\n",
       " 251,\n",
       " 252,\n",
       " 253,\n",
       " 254,\n",
       " 255,\n",
       " 256,\n",
       " 257,\n",
       " 258,\n",
       " 259,\n",
       " 260,\n",
       " 261,\n",
       " 262,\n",
       " 263,\n",
       " 264,\n",
       " 265,\n",
       " 266,\n",
       " 267,\n",
       " 268,\n",
       " 269,\n",
       " 270,\n",
       " 271]"
      ]
     },
     "execution_count": 265,
     "metadata": {},
     "output_type": "execute_result"
    }
   ],
   "source": [
    "mtrials.new_trial_ids(135)"
   ]
  },
  {
   "cell_type": "code",
   "execution_count": 349,
   "metadata": {
    "ExecuteTime": {
     "end_time": "2020-04-20T21:36:48.835230Z",
     "start_time": "2020-04-20T21:36:48.821219Z"
    }
   },
   "outputs": [
    {
     "data": {
      "text/plain": [
       "['state',\n",
       " 'tid',\n",
       " 'spec',\n",
       " 'result',\n",
       " 'misc',\n",
       " 'exp_key',\n",
       " 'owner',\n",
       " 'version',\n",
       " 'book_time',\n",
       " 'refresh_time']"
      ]
     },
     "execution_count": 349,
     "metadata": {},
     "output_type": "execute_result"
    }
   ],
   "source": [
    "t.keys()"
   ]
  },
  {
   "cell_type": "code",
   "execution_count": 150,
   "metadata": {
    "ExecuteTime": {
     "end_time": "2020-04-20T00:47:12.853851Z",
     "start_time": "2020-04-20T00:47:05.904185Z"
    }
   },
   "outputs": [],
   "source": [
    "for t in trials.trials:\n",
    "    t['exp_key'] = 'covid-1'\n",
    "    t['misc']['idxs']['dropout_rate'] = [t['misc']['tid']]\n",
    "    t['misc']['vals']['dropout_rate'] = [0.4]\n",
    "    v_x, v_loss, _, _ = zip(*t['result']['validation_stats'])\n",
    "    slope, intercept, _, _, _ = linregress(v_x[3:6], v_loss[3:6])\n",
    "    t['result']['loss'] = intercept + slope * 1.5\n",
    "    mtrials.insert_trial_doc(make_json_friendly(t))"
   ]
  },
  {
   "cell_type": "code",
   "execution_count": 162,
   "metadata": {
    "ExecuteTime": {
     "end_time": "2020-04-20T04:12:14.340202Z",
     "start_time": "2020-04-20T04:12:14.289153Z"
    }
   },
   "outputs": [],
   "source": [
    "mtrials.refresh()"
   ]
  },
  {
   "cell_type": "code",
   "execution_count": 177,
   "metadata": {
    "ExecuteTime": {
     "end_time": "2020-04-20T04:26:28.367575Z",
     "start_time": "2020-04-20T04:26:28.363573Z"
    }
   },
   "outputs": [],
   "source": [
    "import importlib"
   ]
  },
  {
   "cell_type": "code",
   "execution_count": 178,
   "metadata": {
    "ExecuteTime": {
     "end_time": "2020-04-20T04:26:28.566569Z",
     "start_time": "2020-04-20T04:26:28.509586Z"
    }
   },
   "outputs": [
    {
     "data": {
      "text/plain": [
       "<module 'covid.reporting' from 'C:\\\\Users\\\\Bryce.Eakin\\\\src\\\\COVID\\\\covid\\\\reporting.py'>"
      ]
     },
     "execution_count": 178,
     "metadata": {},
     "output_type": "execute_result"
    }
   ],
   "source": [
    "importlib.reload(covid.reporting)"
   ]
  },
  {
   "cell_type": "code",
   "execution_count": 153,
   "metadata": {
    "ExecuteTime": {
     "end_time": "2020-04-20T02:47:24.077933Z",
     "start_time": "2020-04-20T02:47:24.074930Z"
    }
   },
   "outputs": [],
   "source": [
    "from covid.reporting import get_performance_plots"
   ]
  },
  {
   "cell_type": "code",
   "execution_count": 175,
   "metadata": {
    "ExecuteTime": {
     "end_time": "2020-04-20T04:25:52.852605Z",
     "start_time": "2020-04-20T04:25:52.701571Z"
    }
   },
   "outputs": [
    {
     "data": {
      "text/plain": [
       "(0.0, 0.5)"
      ]
     },
     "execution_count": 175,
     "metadata": {},
     "output_type": "execute_result"
    },
    {
     "data": {
      "image/png": "[encoded data removed]",
      "text/plain": [
       "<Figure size 432x288 with 1 Axes>"
      ]
     },
     "metadata": {
      "needs_background": "light"
     },
     "output_type": "display_data"
    }
   ],
   "source": [
    "fig, ax = plt.subplots()\n",
    "ax.plot(v_x, v_loss)\n",
    "ax.set_ylim((0.0, 0.5))"
   ]
  },
  {
   "cell_type": "code",
   "execution_count": 226,
   "metadata": {
    "ExecuteTime": {
     "end_time": "2020-04-20T05:20:46.841761Z",
     "start_time": "2020-04-20T05:20:46.647762Z"
    }
   },
   "outputs": [],
   "source": [
    "mtrials.refresh()"
   ]
  },
  {
   "cell_type": "code",
   "execution_count": 200,
   "metadata": {
    "ExecuteTime": {
     "end_time": "2020-04-20T05:12:44.461957Z",
     "start_time": "2020-04-20T05:12:44.421926Z"
    }
   },
   "outputs": [
    {
     "data": {
      "text/plain": [
       "7"
      ]
     },
     "execution_count": 200,
     "metadata": {},
     "output_type": "execute_result"
    }
   ],
   "source": [
    "sum(1 if x == 'new' else 0 for x in mtrials.statuses())"
   ]
  },
  {
   "cell_type": "code",
   "execution_count": 184,
   "metadata": {
    "ExecuteTime": {
     "end_time": "2020-04-20T04:28:40.350283Z",
     "start_time": "2020-04-20T04:28:40.346278Z"
    }
   },
   "outputs": [],
   "source": [
    "from IPython.display import display, clear_output\n",
    "from time import sleep\n",
    "\n"
   ]
  },
  {
   "cell_type": "code",
   "execution_count": 197,
   "metadata": {
    "ExecuteTime": {
     "end_time": "2020-04-20T04:36:51.643791Z",
     "start_time": "2020-04-20T04:36:51.639758Z"
    }
   },
   "outputs": [
    {
     "data": {
      "text/plain": [
       "'covid-1'"
      ]
     },
     "execution_count": 197,
     "metadata": {},
     "output_type": "execute_result"
    }
   ],
   "source": [
    "mtrials.trials[0]['exp_key']"
   ]
  },
  {
   "cell_type": "code",
   "execution_count": 229,
   "metadata": {
    "ExecuteTime": {
     "end_time": "2020-04-20T13:35:56.594386Z",
     "start_time": "2020-04-20T13:35:53.013385Z"
    }
   },
   "outputs": [],
   "source": [
    "mtrials.refresh()"
   ]
  },
  {
   "cell_type": "code",
   "execution_count": 271,
   "metadata": {
    "ExecuteTime": {
     "end_time": "2020-04-20T14:25:43.431838Z",
     "start_time": "2020-04-20T14:25:43.426840Z"
    }
   },
   "outputs": [
    {
     "data": {
      "text/plain": [
       "['tid', 'cmd', 'workdir', 'idxs', 'vals']"
      ]
     },
     "execution_count": 271,
     "metadata": {},
     "output_type": "execute_result"
    }
   ],
   "source": [
    "mtrials.trials[t_idx]['misc']"
   ]
  },
  {
   "cell_type": "code",
   "execution_count": 230,
   "metadata": {
    "ExecuteTime": {
     "end_time": "2020-04-20T13:36:00.142385Z",
     "start_time": "2020-04-20T13:36:00.123384Z"
    }
   },
   "outputs": [],
   "source": [
    "def plot_param(pname):\n",
    "\n",
    "    xs = []\n",
    "    ys = []\n",
    "\n",
    "    for t in mtrials.trials:\n",
    "        if t['result'].get('loss') is None:\n",
    "            continue\n",
    "        params = hyperopt.space_eval(search_space, {k:v[0] for k,v in t['misc']['vals'].items()})\n",
    "        xs.append(params[pname])\n",
    "        ys.append(t['result']['loss'])\n",
    "\n",
    "    fig, ax = plt.subplots()\n",
    "    ax.scatter(xs, ys)\n",
    "    ax.set_yscale('log')\n",
    "    ax.set_title(pname)\n",
    "    \n",
    "    display(fig)\n",
    "    plt.close(fig)"
   ]
  },
  {
   "cell_type": "code",
   "execution_count": 231,
   "metadata": {
    "ExecuteTime": {
     "end_time": "2020-04-20T13:36:03.496385Z",
     "start_time": "2020-04-20T13:36:00.623383Z"
    },
    "scrolled": false
   },
   "outputs": [
    {
     "data": {
      "image/png": "[encoded data removed]",
      "text/plain": [
       "<Figure size 432x288 with 1 Axes>"
      ]
     },
     "metadata": {},
     "output_type": "display_data"
    },
    {
     "data": {
      "image/png": "[encoded data removed]",
      "text/plain": [
       "<Figure size 432x288 with 1 Axes>"
      ]
     },
     "metadata": {},
     "output_type": "display_data"
    },
    {
     "data": {
      "image/png": "[encoded data removed]",
      "text/plain": [
       "<Figure size 432x288 with 1 Axes>"
      ]
     },
     "metadata": {},
     "output_type": "display_data"
    },
    {
     "data": {
      "image/png": "[encoded data removed]",
      "text/plain": [
       "<Figure size 432x288 with 1 Axes>"
      ]
     },
     "metadata": {},
     "output_type": "display_data"
    },
    {
     "data": {
      "image/png": "[encoded data removed]",
      "text/plain": [
       "<Figure size 432x288 with 1 Axes>"
      ]
     },
     "metadata": {},
     "output_type": "display_data"
    },
    {
     "data": {
      "image/png": "[encoded data removed]",
      "text/plain": [
       "<Figure size 432x288 with 1 Axes>"
      ]
     },
     "metadata": {},
     "output_type": "display_data"
    },
    {
     "data": {
      "image/png": "[encoded data removed]",
      "text/plain": [
       "<Figure size 432x288 with 1 Axes>"
      ]
     },
     "metadata": {},
     "output_type": "display_data"
    },
    {
     "data": {
      "image/png": "[encoded data removed]",
      "text/plain": [
       "<Figure size 432x288 with 1 Axes>"
      ]
     },
     "metadata": {},
     "output_type": "display_data"
    }
   ],
   "source": [
    "for param in ['synthetic_negative_rate', 'optim_initial_lr', 'adam_beta1', 'adam_beta2', 'dropout_rate', 'chem_layers_per_message', 'protein_base_dim', 'protein_output_dim']:\n",
    "    plot_param(param)"
   ]
  },
  {
   "cell_type": "code",
   "execution_count": 411,
   "metadata": {
    "ExecuteTime": {
     "end_time": "2020-04-21T01:52:15.492132Z",
     "start_time": "2020-04-21T01:52:13.805871Z"
    }
   },
   "outputs": [],
   "source": [
    "mtrials.refresh()"
   ]
  },
  {
   "cell_type": "code",
   "execution_count": 415,
   "metadata": {
    "ExecuteTime": {
     "end_time": "2020-04-21T02:37:19.892727Z",
     "start_time": "2020-04-21T02:37:09.927640Z"
    }
   },
   "outputs": [],
   "source": [
    "mtrials.delete_all()"
   ]
  },
  {
   "cell_type": "code",
   "execution_count": 414,
   "metadata": {
    "ExecuteTime": {
     "end_time": "2020-04-21T02:36:56.827865Z",
     "start_time": "2020-04-21T02:36:56.824824Z"
    }
   },
   "outputs": [],
   "source": [
    "trials = list(mtrials.trials)"
   ]
  },
  {
   "cell_type": "code",
   "execution_count": null,
   "metadata": {},
   "outputs": [],
   "source": []
  },
  {
   "cell_type": "code",
   "execution_count": 417,
   "metadata": {
    "ExecuteTime": {
     "end_time": "2020-04-21T02:38:26.289556Z",
     "start_time": "2020-04-21T02:38:26.266540Z"
    }
   },
   "outputs": [],
   "source": [
    "for t in trials:\n",
    "    del t['_id']\n",
    "    tid = t['tid']\n",
    "    t['misc']['idxs'] = {k:[tid] for k in t['misc']['idxs'].keys()}"
   ]
  },
  {
   "cell_type": "code",
   "execution_count": 418,
   "metadata": {
    "ExecuteTime": {
     "end_time": "2020-04-21T02:38:36.454476Z",
     "start_time": "2020-04-21T02:38:36.438527Z"
    }
   },
   "outputs": [
    {
     "data": {
      "text/plain": [
       "SON([('tid', 3738), ('cmd', ['domain_attachment', 'FMinIter_Domain']), ('workdir', None), ('idxs', {'chem_hidden_size': [3738], 'chem_layers_per_message': [3738], 'chem_nonlinearity': [3738], 'dropout_rate': [3738], 'eps': [3738], 'inv_beta1': [3738], 'inv_beta2': [3738], 'lr_exp': [3738], 'neg_rate': [3738], 'protein_downscale_nonlinearity': [3738], 'protein_nonlinearity': [3738], 'protein_out_dim': [3738], 'protien_base_dim': [3738]}), ('vals', SON([('chem_hidden_size', [448.0]), ('chem_layers_per_message', [1.0]), ('chem_nonlinearity', [2]), ('dropout_rate', [0.7097555972104654]), ('eps', [0.00015811358302116524]), ('inv_beta1', [0.027406156115387627]), ('inv_beta2', [0.0007945309759339589]), ('lr_exp', [2.75]), ('neg_rate', [0.37168172156026946]), ('protein_downscale_nonlinearity', [4]), ('protein_nonlinearity', [1]), ('protein_out_dim', [128.0]), ('protien_base_dim', [32.0])]))])"
      ]
     },
     "execution_count": 418,
     "metadata": {},
     "output_type": "execute_result"
    }
   ],
   "source": [
    "t['misc']"
   ]
  },
  {
   "cell_type": "code",
   "execution_count": 413,
   "metadata": {
    "ExecuteTime": {
     "end_time": "2020-04-21T01:53:15.098817Z",
     "start_time": "2020-04-21T01:53:15.072808Z"
    }
   },
   "outputs": [
    {
     "data": {
      "text/plain": [
       "[7.439429350159346,\n",
       " 0.1692000009115363,\n",
       " None,\n",
       " 0.16114772885089448,\n",
       " 0.165470789611178,\n",
       " 0.17653787017966338,\n",
       " 0.22130780178566012,\n",
       " 0.16525157686275244,\n",
       " 0.2172142272598822,\n",
       " 0.18634207285815674,\n",
       " None,\n",
       " 0.16664173639201835,\n",
       " 0.1957035639003981,\n",
       " 0.17309890359522506,\n",
       " 0.22373886773720947,\n",
       " 0.23310064350091755,\n",
       " 0.2402137711800636,\n",
       " 0.21203745794913786,\n",
       " 0.2274126981031661,\n",
       " 0.21915882515082888,\n",
       " 0.19002372246121751,\n",
       " 0.22345033561588287,\n",
       " 0.2056929076334187,\n",
       " 0.28525064332917555,\n",
       " 0.21655175371417645,\n",
       " 0.2802831254829167,\n",
       " 0.3126174179777176,\n",
       " 0.25632707441524355,\n",
       " 0.2043305233835873,\n",
       " 0.23226056074481238,\n",
       " 0.23385558467193485,\n",
       " 0.25837453606217403,\n",
       " 0.20344991294791878,\n",
       " 0.33895270858506893,\n",
       " 0.21328111628602275,\n",
       " 0.22479035340367565,\n",
       " 0.3556961630207984,\n",
       " 0.22169327307610345,\n",
       " 0.22389276772592984,\n",
       " 0.23422493468952832,\n",
       " 0.2890324062397457,\n",
       " 0.2520814773839728,\n",
       " 0.2715198570780236,\n",
       " 0.2690689443427018,\n",
       " 0.2258686390389643,\n",
       " 0.44775285827415306,\n",
       " 0.2434224739944544,\n",
       " 0.31642576905365183,\n",
       " 0.3342891712872157,\n",
       " 0.28491476489814715,\n",
       " 0.2749412064689787,\n",
       " 0.2956341970039592,\n",
       " 0.27734930605432073,\n",
       " 0.35449660826809015,\n",
       " 0.3520490129614179,\n",
       " 0.38596525781677293,\n",
       " 0.3144145629989131,\n",
       " 0.3597656542846764,\n",
       " 0.2047601151440886,\n",
       " 0.2518901204754158,\n",
       " 0.33858363806432157,\n",
       " 0.4505934404318103,\n",
       " 0.4633732593572811,\n",
       " 0.49717993647068875,\n",
       " 0.23934821022611633,\n",
       " 0.45576452972257575,\n",
       " 0.4563620839197339,\n",
       " 0.4527882477631915,\n",
       " 0.4482046217398311,\n",
       " 0.45470108250353447,\n",
       " 0.46783680558220936,\n",
       " 0.48957649245634194,\n",
       " 0.46969559392056537,\n",
       " 0.28364439766557653,\n",
       " 0.29519930363108915,\n",
       " 0.46546953385576506,\n",
       " 0.47730472483447917,\n",
       " 0.45397085839755197,\n",
       " 0.43858088826956215,\n",
       " 0.4882900769832072,\n",
       " 7.4394293399251685,\n",
       " 7.810598284605423,\n",
       " 8.26915143605745,\n",
       " 8.302715538865925,\n",
       " 10.367352102401167,\n",
       " 10.488300332763517,\n",
       " 11.296297575328614,\n",
       " 7.9315464812432825,\n",
       " 7.931546465918415,\n",
       " 20.846244652496207,\n",
       " 24.629400716828243]"
      ]
     },
     "execution_count": 413,
     "metadata": {},
     "output_type": "execute_result"
    }
   ],
   "source": [
    "mtrials.losses()"
   ]
  },
  {
   "cell_type": "code",
   "execution_count": 410,
   "metadata": {
    "ExecuteTime": {
     "end_time": "2020-04-20T23:59:05.276800Z",
     "start_time": "2020-04-20T23:58:34.574800Z"
    }
   },
   "outputs": [
    {
     "name": "stdout",
     "output_type": "stream",
     "text": [
      "0.20344991294791878\n"
     ]
    },
    {
     "data": {
      "image/png": "[encoded data removed]",
      "text/plain": [
       "<Figure size 864x864 with 6 Axes>"
      ]
     },
     "metadata": {},
     "output_type": "display_data"
    },
    {
     "ename": "KeyboardInterrupt",
     "evalue": "",
     "output_type": "error",
     "traceback": [
      "\u001b[1;31m---------------------------------------------------------------------------\u001b[0m",
      "\u001b[1;31mKeyboardInterrupt\u001b[0m                         Traceback (most recent call last)",
      "\u001b[1;32m<ipython-input-410-f3b22eb3fef3>\u001b[0m in \u001b[0;36m<module>\u001b[1;34m\u001b[0m\n\u001b[0;32m     19\u001b[0m     \u001b[1;32mif\u001b[0m \u001b[0mlast\u001b[0m\u001b[1;33m:\u001b[0m\u001b[1;33m\u001b[0m\u001b[1;33m\u001b[0m\u001b[0m\n\u001b[0;32m     20\u001b[0m         \u001b[1;32mbreak\u001b[0m\u001b[1;33m\u001b[0m\u001b[1;33m\u001b[0m\u001b[0m\n\u001b[1;32m---> 21\u001b[1;33m     \u001b[0msleep\u001b[0m\u001b[1;33m(\u001b[0m\u001b[1;36m5\u001b[0m \u001b[1;32mif\u001b[0m \u001b[0mi\u001b[0m \u001b[1;33m<\u001b[0m \u001b[1;36m5\u001b[0m \u001b[1;32melse\u001b[0m \u001b[1;36m1\u001b[0m\u001b[1;33m)\u001b[0m\u001b[1;33m\u001b[0m\u001b[1;33m\u001b[0m\u001b[0m\n\u001b[0m",
      "\u001b[1;31mKeyboardInterrupt\u001b[0m: "
     ]
    }
   ],
   "source": [
    "idx_list = np.argsort([x if x is not None else np.inf for x in mtrials.losses()]).flatten()\n",
    "last = False\n",
    "\n",
    "for i, t_idx in enumerate(idx_list):\n",
    "    t = mtrials.trials[t_idx]\n",
    "    if t is None or t.get('result') is None or t['result'].get('training_loss_hist') is None:\n",
    "        t = mtrials.best_trial\n",
    "        last = True\n",
    "        \n",
    "    losses = t['result']['training_loss_hist']\n",
    "    validation_stats = t['result']['validation_stats']\n",
    "\n",
    "    fig = get_performance_plots(losses, validation_stats);\n",
    "    clear_output()\n",
    "    print(t['result']['loss'])\n",
    "    display(fig)\n",
    "    plt.close(fig);\n",
    "    \n",
    "    if last:\n",
    "        break\n",
    "    sleep(5 if i < 5 else 1)"
   ]
  },
  {
   "cell_type": "code",
   "execution_count": null,
   "metadata": {},
   "outputs": [],
   "source": []
  },
  {
   "cell_type": "code",
   "execution_count": 331,
   "metadata": {
    "ExecuteTime": {
     "end_time": "2020-04-20T19:54:32.487470Z",
     "start_time": "2020-04-20T19:54:32.177803Z"
    }
   },
   "outputs": [],
   "source": [
    "import requests"
   ]
  },
  {
   "cell_type": "code",
   "execution_count": 333,
   "metadata": {
    "ExecuteTime": {
     "end_time": "2020-04-20T19:58:47.266142Z",
     "start_time": "2020-04-20T19:58:47.215143Z"
    }
   },
   "outputs": [],
   "source": [
    "with open('./logfile.txt', 'rb') as f:\n",
    "    requests.put('http://127.0.0.1:8000/training-state/logfile', data=f)"
   ]
  },
  {
   "cell_type": "code",
   "execution_count": 334,
   "metadata": {
    "ExecuteTime": {
     "end_time": "2020-04-20T20:08:14.753632Z",
     "start_time": "2020-04-20T20:08:14.270601Z"
    }
   },
   "outputs": [],
   "source": [
    "r = requests.get('https://google.com')"
   ]
  },
  {
   "cell_type": "code",
   "execution_count": 275,
   "metadata": {
    "ExecuteTime": {
     "end_time": "2020-04-20T15:25:22.070131Z",
     "start_time": "2020-04-20T15:25:22.056126Z"
    }
   },
   "outputs": [],
   "source": [
    "import logging"
   ]
  },
  {
   "cell_type": "code",
   "execution_count": 322,
   "metadata": {
    "ExecuteTime": {
     "end_time": "2020-04-20T17:39:28.978935Z",
     "start_time": "2020-04-20T17:39:28.972936Z"
    }
   },
   "outputs": [],
   "source": [
    "d = mtrials.best_trial['refresh_time']"
   ]
  },
  {
   "cell_type": "code",
   "execution_count": 325,
   "metadata": {
    "ExecuteTime": {
     "end_time": "2020-04-20T17:39:46.910566Z",
     "start_time": "2020-04-20T17:39:46.905567Z"
    }
   },
   "outputs": [
    {
     "data": {
      "text/plain": [
       "'29'"
      ]
     },
     "execution_count": 325,
     "metadata": {},
     "output_type": "execute_result"
    }
   ],
   "source": [
    "d.strftime(\"%S\")"
   ]
  },
  {
   "cell_type": "code",
   "execution_count": 317,
   "metadata": {
    "ExecuteTime": {
     "end_time": "2020-04-20T17:38:32.214276Z",
     "start_time": "2020-04-20T17:38:32.197271Z"
    }
   },
   "outputs": [
    {
     "data": {
      "text/plain": [
       "['_id',\n",
       " 'state',\n",
       " 'tid',\n",
       " 'spec',\n",
       " 'result',\n",
       " 'misc',\n",
       " 'exp_key',\n",
       " 'owner',\n",
       " 'version',\n",
       " 'book_time',\n",
       " 'refresh_time']"
      ]
     },
     "execution_count": 317,
     "metadata": {},
     "output_type": "execute_result"
    }
   ],
   "source": [
    "mtrials.best_trial.keys()"
   ]
  },
  {
   "cell_type": "code",
   "execution_count": 313,
   "metadata": {
    "ExecuteTime": {
     "end_time": "2020-04-20T15:59:07.126848Z",
     "start_time": "2020-04-20T15:59:07.115829Z"
    }
   },
   "outputs": [
    {
     "data": {
      "text/plain": [
       "82"
      ]
     },
     "execution_count": 313,
     "metadata": {},
     "output_type": "execute_result"
    }
   ],
   "source": [
    "len(mtrials.trials)"
   ]
  },
  {
   "cell_type": "code",
   "execution_count": 277,
   "metadata": {
    "ExecuteTime": {
     "end_time": "2020-04-20T15:25:41.193913Z",
     "start_time": "2020-04-20T15:25:41.190870Z"
    }
   },
   "outputs": [],
   "source": [
    "log = logging.getLogger()"
   ]
  },
  {
   "cell_type": "code",
   "execution_count": 128,
   "metadata": {
    "ExecuteTime": {
     "end_time": "2020-04-18T20:52:27.211455Z",
     "start_time": "2020-04-18T20:52:27.203485Z"
    }
   },
   "outputs": [],
   "source": [
    "from hyperopt import hp\n",
    "import hyperopt\n",
    "search_space = {\n",
    "        'synthetic_negative_rate': hp.uniform('neg_rate', 0,1),\n",
    "        'optim_initial_lr': 10 ** -hp.quniform('lr_exp', 2, 5, 0.25),\n",
    "        'adam_beta1': 1-hp.loguniform('inv_beta1', -5, -1),\n",
    "        'adam_beta2': 1-hp.loguniform('inv_beta2', -8, -2),\n",
    "        'optim_adam_eps': hp.loguniform('eps', -15, 0),\n",
    "        'dropout_rate': hp.uniform('dropout_rate', 0.01, 0.8),\n",
    "        'chem_layers_per_message': hp.quniform('chem_layers_per_message', 1,4,1),\n",
    "        'chem_hidden_size': hp.quniform('chem_hidden_size', 64,384,64),\n",
    "        'chem_nonlinearity': hp.choice(\n",
    "            'chem_nonlinearity',\n",
    "            ['ReLU', 'LeakyReLU', 'tanh', 'ELU']),\n",
    "        'protein_base_dim': hp.quniform('protien_base_dim', 16,80,16),\n",
    "        'protein_output_dim': hp.quniform('protein_out_dim', 64, 384, 64),\n",
    "        'protein_nonlinearity': hp.choice(\n",
    "            'protein_nonlinearity', \n",
    "            ['relu', 'silu', 'tanh', 'leaky_relu', 'elu']),\n",
    "        'protein_downscale_nonlinearity': hp.choice(\n",
    "            'protein_downscale_nonlinearity', \n",
    "            ['relu', 'silu', 'tanh', 'leaky_relu', 'elu']),\n",
    "    }"
   ]
  },
  {
   "cell_type": "code",
   "execution_count": 129,
   "metadata": {
    "ExecuteTime": {
     "end_time": "2020-04-18T20:52:27.228468Z",
     "start_time": "2020-04-18T20:52:27.213467Z"
    }
   },
   "outputs": [
    {
     "data": {
      "text/plain": [
       "SON([('chem_hidden_size', [384.0]), ('chem_layers_per_message', [1.0]), ('chem_nonlinearity', [3]), ('eps', [1.973891530032813e-06]), ('inv_beta1', [0.05730964741577067]), ('inv_beta2', [0.02348907039091992]), ('lr_exp', [3.5]), ('neg_rate', [0.20401408708284396]), ('protein_downscale_nonlinearity', [4]), ('protein_nonlinearity', [0]), ('protein_out_dim', [256.0]), ('protien_base_dim', [80.0]), ('dropout_rate', [0.4])])"
      ]
     },
     "execution_count": 129,
     "metadata": {},
     "output_type": "execute_result"
    }
   ],
   "source": [
    "mtrials.best_trial['misc']['vals']"
   ]
  },
  {
   "cell_type": "code",
   "execution_count": 301,
   "metadata": {
    "ExecuteTime": {
     "end_time": "2020-04-20T15:33:04.009748Z",
     "start_time": "2020-04-20T15:33:04.000752Z"
    }
   },
   "outputs": [
    {
     "data": {
      "text/plain": [
       "{'adam_beta1': 0.9610379605240368,\n",
       " 'adam_beta2': 0.9909243250920076,\n",
       " 'chem_hidden_size': 448.0,\n",
       " 'chem_layers_per_message': 1.0,\n",
       " 'chem_nonlinearity': 'ELU',\n",
       " 'dropout_rate': 0.03688811278332571,\n",
       " 'optim_adam_eps': 4.249902669467103e-05,\n",
       " 'optim_initial_lr': 0.00031622776601683794,\n",
       " 'protein_base_dim': 32.0,\n",
       " 'protein_downscale_nonlinearity': 'tanh',\n",
       " 'protein_nonlinearity': 'relu',\n",
       " 'protein_output_dim': 64.0,\n",
       " 'synthetic_negative_rate': 0.13382273239526193}"
      ]
     },
     "execution_count": 301,
     "metadata": {},
     "output_type": "execute_result"
    }
   ],
   "source": [
    "hyperopt.space_eval(search_space, {k:v[0] for k,v in mtrials.trials[idx_list[2]]['misc']['vals'].items() if len(v) > 0})"
   ]
  },
  {
   "cell_type": "code",
   "execution_count": 105,
   "metadata": {
    "ExecuteTime": {
     "end_time": "2020-04-18T20:47:24.160089Z",
     "start_time": "2020-04-18T20:47:24.154089Z"
    }
   },
   "outputs": [
    {
     "data": {
      "text/plain": [
       "{'chem_hidden_size': [384.0],\n",
       " 'chem_layers_per_message': [1.0],\n",
       " 'chem_nonlinearity': [3],\n",
       " 'eps': [1.973891530032813e-06],\n",
       " 'inv_beta1': [0.05730964741577067],\n",
       " 'inv_beta2': [0.02348907039091992],\n",
       " 'lr_exp': [3.5],\n",
       " 'neg_rate': [0.20401408708284396],\n",
       " 'protein_downscale_nonlinearity': [4],\n",
       " 'protein_nonlinearity': [0],\n",
       " 'protein_out_dim': [256.0],\n",
       " 'protien_base_dim': [80.0]}"
      ]
     },
     "execution_count": 105,
     "metadata": {},
     "output_type": "execute_result"
    }
   ],
   "source": [
    "dict(mtrials.best_trial['misc']['vals'])"
   ]
  },
  {
   "cell_type": "code",
   "execution_count": 5,
   "metadata": {
    "ExecuteTime": {
     "end_time": "2020-04-17T01:08:47.519091Z",
     "start_time": "2020-04-17T01:08:42.735239Z"
    }
   },
   "outputs": [],
   "source": [
    "config = covid.training.CovidTrainingConfiguration()\n",
    "dl, vdl = covid.training._create_dataloaders(config)"
   ]
  },
  {
   "cell_type": "code",
   "execution_count": 6,
   "metadata": {
    "ExecuteTime": {
     "end_time": "2020-04-17T01:08:50.375889Z",
     "start_time": "2020-04-17T01:08:50.369883Z"
    }
   },
   "outputs": [
    {
     "data": {
      "text/plain": [
       "8545"
      ]
     },
     "execution_count": 6,
     "metadata": {},
     "output_type": "execute_result"
    }
   ],
   "source": [
    "len(dl)"
   ]
  },
  {
   "cell_type": "code",
   "execution_count": 7,
   "metadata": {
    "ExecuteTime": {
     "end_time": "2020-04-17T01:09:09.289953Z",
     "start_time": "2020-04-17T01:09:01.035939Z"
    }
   },
   "outputs": [],
   "source": [
    "it = iter(dl)"
   ]
  },
  {
   "cell_type": "code",
   "execution_count": 10,
   "metadata": {
    "ExecuteTime": {
     "end_time": "2020-04-17T01:13:32.903410Z",
     "start_time": "2020-04-17T01:09:47.009270Z"
    }
   },
   "outputs": [],
   "source": [
    "for _ in range (8500):\n",
    "    next(it)"
   ]
  },
  {
   "cell_type": "code",
   "execution_count": 4,
   "metadata": {
    "ExecuteTime": {
     "end_time": "2020-04-16T19:33:40.945354Z",
     "start_time": "2020-04-16T19:33:40.936344Z"
    }
   },
   "outputs": [],
   "source": [
    "np.random.seed(4);\n",
    "random.seed(4);\n",
    "T.manual_seed(4);\n",
    "\n",
    "# 4 -- chosen by fair die roll.  Guaranteed to be random.  https://xkcd.com/221/"
   ]
  },
  {
   "cell_type": "code",
   "execution_count": 5,
   "metadata": {
    "ExecuteTime": {
     "end_time": "2020-04-16T19:33:40.950320Z",
     "start_time": "2020-04-16T19:33:40.946318Z"
    }
   },
   "outputs": [],
   "source": [
    "DROPOUT_RATE = 0.4\n",
    "BATCH_SIZE = 16\n",
    "\n",
    "VALIDATION_FREQUENCY = 0.2"
   ]
  },
  {
   "cell_type": "code",
   "execution_count": 6,
   "metadata": {
    "ExecuteTime": {
     "end_time": "2020-04-16T19:33:40.956351Z",
     "start_time": "2020-04-16T19:33:40.953360Z"
    }
   },
   "outputs": [],
   "source": [
    "DEVICE = 'cuda'"
   ]
  },
  {
   "cell_type": "code",
   "execution_count": 7,
   "metadata": {
    "ExecuteTime": {
     "end_time": "2020-04-16T19:33:41.068360Z",
     "start_time": "2020-04-16T19:33:40.959326Z"
    }
   },
   "outputs": [],
   "source": [
    "chem_model = MPNEncoder(\n",
    "    layers_per_message=2, \n",
    "    hidden_size=300,\n",
    "    dropout=DROPOUT_RATE\n",
    ")\n",
    "\n",
    "protein_model = create_protein_model(dropout=DROPOUT_RATE)\n",
    "\n",
    "model = CovidModel(chem_model, protein_model, dropout=DROPOUT_RATE)"
   ]
  },
  {
   "cell_type": "code",
   "execution_count": 8,
   "metadata": {
    "ExecuteTime": {
     "end_time": "2020-04-16T19:33:53.707150Z",
     "start_time": "2020-04-16T19:33:53.704151Z"
    }
   },
   "outputs": [],
   "source": [
    "params = list(model.parameters())"
   ]
  },
  {
   "cell_type": "code",
   "execution_count": 17,
   "metadata": {
    "ExecuteTime": {
     "end_time": "2020-04-16T19:35:45.287040Z",
     "start_time": "2020-04-16T19:35:45.204020Z"
    }
   },
   "outputs": [],
   "source": [
    "for param in params:\n",
    "    if len(param.shape) >= 2:\n",
    "        T.nn.init.kaiming_normal_(param)\n",
    "    else:\n",
    "        T.nn.init.normal_(param)"
   ]
  },
  {
   "cell_type": "code",
   "execution_count": 8,
   "metadata": {
    "ExecuteTime": {
     "end_time": "2020-04-15T05:36:37.026783Z",
     "start_time": "2020-04-15T05:36:34.517062Z"
    }
   },
   "outputs": [],
   "source": [
    "model.to(DEVICE);"
   ]
  },
  {
   "cell_type": "code",
   "execution_count": 9,
   "metadata": {
    "ExecuteTime": {
     "end_time": "2020-04-15T05:36:37.032768Z",
     "start_time": "2020-04-15T05:36:37.027770Z"
    }
   },
   "outputs": [],
   "source": [
    "if not os.path.exists('./data/training'):\n",
    "    create_data_split('./data', './data/training', './data/final_holdout')\n",
    "    \n",
    "    for i in range(10):\n",
    "        create_data_split('./data/training', f'./data/train_{i:02}', f'./data/valid_{i:02}')"
   ]
  },
  {
   "cell_type": "code",
   "execution_count": 10,
   "metadata": {
    "ExecuteTime": {
     "end_time": "2020-04-15T05:36:37.046789Z",
     "start_time": "2020-04-15T05:36:37.033771Z"
    }
   },
   "outputs": [],
   "source": [
    "# Have to reset the seeds again to account for the possibility we did or didn't just create the datasets\n",
    "\n",
    "np.random.seed(4);\n",
    "random.seed(4);\n",
    "T.manual_seed(4);"
   ]
  },
  {
   "cell_type": "code",
   "execution_count": 11,
   "metadata": {
    "ExecuteTime": {
     "end_time": "2020-04-15T05:36:41.792224Z",
     "start_time": "2020-04-15T05:36:37.049768Z"
    },
    "scrolled": true
   },
   "outputs": [],
   "source": [
    "data = covid.datasets.StitchDataset('./data/train_00')\n",
    "dataloader = create_dataloader(data, BATCH_SIZE)"
   ]
  },
  {
   "cell_type": "code",
   "execution_count": 12,
   "metadata": {
    "ExecuteTime": {
     "end_time": "2020-04-15T05:36:42.385284Z",
     "start_time": "2020-04-15T05:36:41.793192Z"
    }
   },
   "outputs": [],
   "source": [
    "validation_data = covid.datasets.StitchDataset('./data/valid_00', neg_rate=0.0)\n",
    "validation_dataloader = create_dataloader(validation_data, BATCH_SIZE)"
   ]
  },
  {
   "cell_type": "code",
   "execution_count": 13,
   "metadata": {
    "ExecuteTime": {
     "end_time": "2020-04-15T05:36:42.390082Z",
     "start_time": "2020-04-15T05:36:42.387082Z"
    }
   },
   "outputs": [],
   "source": [
    "optim = T.optim.Adam(model.parameters(), lr=1e-4, betas=(0.95, 0.99))\n",
    "warmup = LinearWarmupScheduler(optim, 2000)"
   ]
  },
  {
   "cell_type": "code",
   "execution_count": 14,
   "metadata": {
    "ExecuteTime": {
     "end_time": "2020-04-15T05:36:42.406157Z",
     "start_time": "2020-04-15T05:36:42.392082Z"
    }
   },
   "outputs": [],
   "source": [
    "losses = []\n",
    "validation_stats = []"
   ]
  },
  {
   "cell_type": "code",
   "execution_count": 21,
   "metadata": {
    "ExecuteTime": {
     "end_time": "2020-04-17T14:44:12.893519Z",
     "start_time": "2020-04-17T14:44:11.821944Z"
    }
   },
   "outputs": [],
   "source": [
    "with gzip.open('./checkpoints/model_train_fold00_003.pkl.gz', 'rb') as f:\n",
    "    state = T.load(f)"
   ]
  },
  {
   "cell_type": "code",
   "execution_count": null,
   "metadata": {},
   "outputs": [],
   "source": []
  },
  {
   "cell_type": "code",
   "execution_count": 16,
   "metadata": {
    "ExecuteTime": {
     "end_time": "2020-04-17T14:39:36.788892Z",
     "start_time": "2020-04-17T14:39:36.782988Z"
    },
    "scrolled": true
   },
   "outputs": [
    {
     "data": {
      "text/plain": [
       "{'lr': 5.6234132519034975e-05,\n",
       " 'betas': (0.95, 0.995),\n",
       " 'eps': 1e-08,\n",
       " 'weight_decay': 0,\n",
       " 'amsgrad': False,\n",
       " 'params': [1287416305048,\n",
       "  1287416304968,\n",
       "  1287416304888,\n",
       "  1287416304328,\n",
       "  1287416304808,\n",
       "  1287416571928,\n",
       "  1287416572008,\n",
       "  1287416572328,\n",
       "  1287416572408,\n",
       "  1287416572568,\n",
       "  1287416572728,\n",
       "  1287416572888,\n",
       "  1287416573048,\n",
       "  1287416573848,\n",
       "  1287416627272,\n",
       "  1287416627432,\n",
       "  1287416627592,\n",
       "  1287416627752,\n",
       "  1287416627912,\n",
       "  1287416628952,\n",
       "  1287416629032,\n",
       "  1287416629192,\n",
       "  1287416629352,\n",
       "  1287416629512,\n",
       "  1287416629672,\n",
       "  1287416630472,\n",
       "  1287416630552,\n",
       "  1287416630712,\n",
       "  1287416630872,\n",
       "  1287416631032,\n",
       "  1287416631192,\n",
       "  1287416693928,\n",
       "  1287416694008,\n",
       "  1287416694728,\n",
       "  1287416694808,\n",
       "  1287416694968,\n",
       "  1287416695128,\n",
       "  1287416695288,\n",
       "  1287416695448,\n",
       "  1287416696248,\n",
       "  1287416696328,\n",
       "  1287416696488,\n",
       "  1287416696648,\n",
       "  1287416766616,\n",
       "  1287416766696,\n",
       "  1287416767816,\n",
       "  1287416767896,\n",
       "  1287416768456,\n",
       "  1287416768536,\n",
       "  1287416768696,\n",
       "  1287416768856,\n",
       "  1287416769016,\n",
       "  1287416769176,\n",
       "  1287416769976,\n",
       "  1287416770056,\n",
       "  1287416770216,\n",
       "  1287416770376,\n",
       "  1287416836248,\n",
       "  1287416836328,\n",
       "  1287416837688,\n",
       "  1287416837768,\n",
       "  1287416838088,\n",
       "  1287416838168,\n",
       "  1287416838728,\n",
       "  1287416838808,\n",
       "  1287416839208,\n",
       "  1287416839288,\n",
       "  1287416839688,\n",
       "  1287416839768]}"
      ]
     },
     "execution_count": 16,
     "metadata": {},
     "output_type": "execute_result"
    }
   ],
   "source": [
    "state['optim']['param_groups'][0]"
   ]
  },
  {
   "cell_type": "code",
   "execution_count": 22,
   "metadata": {
    "ExecuteTime": {
     "end_time": "2020-04-17T14:44:14.723531Z",
     "start_time": "2020-04-17T14:44:14.720522Z"
    }
   },
   "outputs": [],
   "source": [
    "a, b, c, d = zip(*state['validation_stats'])"
   ]
  },
  {
   "cell_type": "code",
   "execution_count": 24,
   "metadata": {
    "ExecuteTime": {
     "end_time": "2020-04-17T14:44:27.018340Z",
     "start_time": "2020-04-17T14:44:26.869414Z"
    }
   },
   "outputs": [
    {
     "data": {
      "text/plain": [
       "[<matplotlib.lines.Line2D at 0x1c62b027788>]"
      ]
     },
     "execution_count": 24,
     "metadata": {},
     "output_type": "execute_result"
    },
    {
     "data": {
      "image/png": "[encoded data removed]",
      "text/plain": [
       "<Figure size 432x288 with 1 Axes>"
      ]
     },
     "metadata": {
      "needs_background": "light"
     },
     "output_type": "display_data"
    }
   ],
   "source": [
    "plt.plot(a,b)"
   ]
  },
  {
   "cell_type": "code",
   "execution_count": 19,
   "metadata": {
    "ExecuteTime": {
     "end_time": "2020-04-17T14:40:58.275900Z",
     "start_time": "2020-04-17T14:40:58.271897Z"
    }
   },
   "outputs": [
    {
     "data": {
      "text/plain": [
       "(0.46351972497999666,\n",
       " 0.31705334374681116,\n",
       " 0.2874237253144383,\n",
       " 0.2839091288484633,\n",
       " 0.2652374904602766,\n",
       " 0.26057349471375346,\n",
       " 0.313025507889688,\n",
       " 0.2871992769651115,\n",
       " 0.29574744069948794,\n",
       " 0.2686461734957993,\n",
       " 0.3117236337810755)"
      ]
     },
     "execution_count": 19,
     "metadata": {},
     "output_type": "execute_result"
    }
   ],
   "source": [
    "b"
   ]
  },
  {
   "cell_type": "code",
   "execution_count": 72,
   "metadata": {
    "ExecuteTime": {
     "end_time": "2020-04-17T04:06:52.970102Z",
     "start_time": "2020-04-17T04:06:52.963099Z"
    }
   },
   "outputs": [
    {
     "data": {
      "text/plain": [
       "(array([0.5757798 , 0.24077486, 0.3670774 , 0.32965682, 0.28705316]),\n",
       " array([0.66705973, 0.7942977 , 0.87277217, 0.79145701, 0.82455177]),\n",
       " array([0.67934792, 0.80454201, 0.88669814, 0.79894614, 0.83416545]),\n",
       " array([0.80140947, 0.77208418, 0.89145058, 0.82033474, 0.88650104]),\n",
       " array([0.84964117, 0.78305617, 0.90101303, 0.82478764, 0.91807779]),\n",
       " array([0.84856255, 0.819456  , 0.87960643, 0.83847463, 0.91785839]))"
      ]
     },
     "execution_count": 72,
     "metadata": {},
     "output_type": "execute_result"
    }
   ],
   "source": [
    "c"
   ]
  },
  {
   "cell_type": "code",
   "execution_count": 74,
   "metadata": {
    "ExecuteTime": {
     "end_time": "2020-04-17T04:09:25.005787Z",
     "start_time": "2020-04-17T04:09:25.001827Z"
    }
   },
   "outputs": [],
   "source": [
    "from collections import namedtuple"
   ]
  },
  {
   "cell_type": "code",
   "execution_count": 75,
   "metadata": {
    "ExecuteTime": {
     "end_time": "2020-04-17T04:09:27.670639Z",
     "start_time": "2020-04-17T04:09:27.665666Z"
    }
   },
   "outputs": [
    {
     "data": {
      "text/plain": [
       "<function collections.namedtuple(typename, field_names, *, rename=False, defaults=None, module=None)>"
      ]
     },
     "execution_count": 75,
     "metadata": {},
     "output_type": "execute_result"
    }
   ],
   "source": [
    "namedtuple('')"
   ]
  },
  {
   "cell_type": "code",
   "execution_count": 78,
   "metadata": {
    "ExecuteTime": {
     "end_time": "2020-04-17T04:12:57.795019Z",
     "start_time": "2020-04-17T04:12:57.791041Z"
    }
   },
   "outputs": [],
   "source": [
    "from collections import namedtuple\n",
    "ConfusionMatrix = namedtuple('ConfusionMatrix', ['tp', 'fp', 'fn', 'tn'])"
   ]
  },
  {
   "cell_type": "code",
   "execution_count": null,
   "metadata": {},
   "outputs": [],
   "source": []
  },
  {
   "cell_type": "code",
   "execution_count": 17,
   "metadata": {
    "ExecuteTime": {
     "end_time": "2020-04-15T05:36:42.441116Z",
     "start_time": "2020-04-15T05:36:42.435101Z"
    }
   },
   "outputs": [],
   "source": [
    "from functools import partial\n",
    "\n",
    "get_validation_loss = partial(\n",
    "    calculate_average_loss_and_accuracy, \n",
    "    model, \n",
    "    validation_dataloader,\n",
    "    DEVICE\n",
    ")"
   ]
  },
  {
   "cell_type": "code",
   "execution_count": 18,
   "metadata": {
    "ExecuteTime": {
     "end_time": "2020-04-15T05:37:12.025197Z",
     "start_time": "2020-04-15T05:36:42.444090Z"
    }
   },
   "outputs": [],
   "source": [
    "epoch = 0\n",
    "last_validation = epoch\n",
    "\n",
    "if os.path.exists(\"training_state_00.pkl\"):\n",
    "    state = T.load(\"./training_state_00.pkl\", map_location=DEVICE)\n",
    "        \n",
    "    epoch = state.get('epoch', epoch)\n",
    "    losses = state.get('losses', losses)\n",
    "    validation_stats = state.get('validation_stats', validation_stats)\n",
    "    last_validation = state.get('last_validation', last_validation)\n",
    "    model.load_state_dict(state['model'])\n",
    "    optim.load_state_dict(state['optim'])\n",
    "    warmup.load_state_dict(state['warmup'])\n",
    "    \n",
    "    \n",
    "if epoch == 0:\n",
    "    vloss, vacc, v_conf = get_validation_loss()\n",
    "    validation_stats.append([0, vloss, vacc, v_conf])"
   ]
  },
  {
   "cell_type": "code",
   "execution_count": 19,
   "metadata": {
    "ExecuteTime": {
     "end_time": "2020-04-15T05:37:12.030197Z",
     "start_time": "2020-04-15T05:37:12.026196Z"
    }
   },
   "outputs": [],
   "source": [
    "if not os.path.exists(\"./checkpoints/\"):\n",
    "    os.mkdir(\"./checkpoints\")"
   ]
  },
  {
   "cell_type": "code",
   "execution_count": 20,
   "metadata": {
    "ExecuteTime": {
     "end_time": "2020-04-15T15:35:19.357764Z",
     "start_time": "2020-04-15T05:37:12.031197Z"
    },
    "scrolled": false
   },
   "outputs": [
    {
     "data": {
      "application/vnd.jupyter.widget-view+json": {
       "model_id": "b19ddddf9ba54cb0ad279435f0dabfc0",
       "version_major": 2,
       "version_minor": 0
      },
      "text/plain": [
       "Output()"
      ]
     },
     "metadata": {},
     "output_type": "display_data"
    },
    {
     "data": {
      "application/vnd.jupyter.widget-view+json": {
       "model_id": "44bd461d62b24401a7c272a5adbc9d40",
       "version_major": 2,
       "version_minor": 0
      },
      "text/plain": [
       "HBox(children=(FloatProgress(value=0.0), HTML(value='')))"
      ]
     },
     "metadata": {},
     "output_type": "display_data"
    },
    {
     "data": {
      "application/vnd.jupyter.widget-view+json": {
       "model_id": "",
       "version_major": 2,
       "version_minor": 0
      },
      "text/plain": [
       "HBox(children=(FloatProgress(value=0.0, max=21362.0), HTML(value='')))"
      ]
     },
     "metadata": {},
     "output_type": "display_data"
    },
    {
     "data": {
      "application/vnd.jupyter.widget-view+json": {
       "model_id": "",
       "version_major": 2,
       "version_minor": 0
      },
      "text/plain": [
       "HBox(children=(FloatProgress(value=0.0, max=21362.0), HTML(value='')))"
      ]
     },
     "metadata": {},
     "output_type": "display_data"
    },
    {
     "data": {
      "application/vnd.jupyter.widget-view+json": {
       "model_id": "",
       "version_major": 2,
       "version_minor": 0
      },
      "text/plain": [
       "HBox(children=(FloatProgress(value=0.0, max=21362.0), HTML(value='')))"
      ]
     },
     "metadata": {},
     "output_type": "display_data"
    },
    {
     "data": {
      "application/vnd.jupyter.widget-view+json": {
       "model_id": "",
       "version_major": 2,
       "version_minor": 0
      },
      "text/plain": [
       "HBox(children=(FloatProgress(value=0.0, max=21362.0), HTML(value='')))"
      ]
     },
     "metadata": {},
     "output_type": "display_data"
    },
    {
     "data": {
      "application/vnd.jupyter.widget-view+json": {
       "model_id": "",
       "version_major": 2,
       "version_minor": 0
      },
      "text/plain": [
       "HBox(children=(FloatProgress(value=0.0, max=21362.0), HTML(value='')))"
      ]
     },
     "metadata": {},
     "output_type": "display_data"
    },
    {
     "data": {
      "application/vnd.jupyter.widget-view+json": {
       "model_id": "",
       "version_major": 2,
       "version_minor": 0
      },
      "text/plain": [
       "HBox(children=(FloatProgress(value=0.0, max=21362.0), HTML(value='')))"
      ]
     },
     "metadata": {},
     "output_type": "display_data"
    },
    {
     "data": {
      "application/vnd.jupyter.widget-view+json": {
       "model_id": "",
       "version_major": 2,
       "version_minor": 0
      },
      "text/plain": [
       "HBox(children=(FloatProgress(value=0.0, max=21362.0), HTML(value='')))"
      ]
     },
     "metadata": {},
     "output_type": "display_data"
    },
    {
     "data": {
      "application/vnd.jupyter.widget-view+json": {
       "model_id": "",
       "version_major": 2,
       "version_minor": 0
      },
      "text/plain": [
       "HBox(children=(FloatProgress(value=0.0, max=21362.0), HTML(value='')))"
      ]
     },
     "metadata": {},
     "output_type": "display_data"
    },
    {
     "data": {
      "application/vnd.jupyter.widget-view+json": {
       "model_id": "",
       "version_major": 2,
       "version_minor": 0
      },
      "text/plain": [
       "HBox(children=(FloatProgress(value=0.0, max=21362.0), HTML(value='')))"
      ]
     },
     "metadata": {},
     "output_type": "display_data"
    },
    {
     "data": {
      "application/vnd.jupyter.widget-view+json": {
       "model_id": "e86ecf4a0dcb42358ef9af0a603f87ba",
       "version_major": 2,
       "version_minor": 0
      },
      "text/plain": [
       "HBox(children=(FloatProgress(value=0.0, max=21362.0), HTML(value='')))"
      ]
     },
     "metadata": {},
     "output_type": "display_data"
    },
    {
     "ename": "KeyboardInterrupt",
     "evalue": "",
     "output_type": "error",
     "traceback": [
      "\u001b[1;31m---------------------------------------------------------------------------\u001b[0m",
      "\u001b[1;31mKeyboardInterrupt\u001b[0m                         Traceback (most recent call last)",
      "\u001b[1;32m<ipython-input-20-31b3f5a36a52>\u001b[0m in \u001b[0;36m<module>\u001b[1;34m\u001b[0m\n\u001b[0;32m     13\u001b[0m         \u001b[0m_\u001b[0m\u001b[1;33m,\u001b[0m \u001b[0m_\u001b[0m\u001b[1;33m,\u001b[0m \u001b[0mloss\u001b[0m\u001b[1;33m,\u001b[0m \u001b[0m_\u001b[0m \u001b[1;33m=\u001b[0m \u001b[0mrun_model\u001b[0m\u001b[1;33m(\u001b[0m\u001b[0mmodel\u001b[0m\u001b[1;33m,\u001b[0m \u001b[0mbatch\u001b[0m\u001b[1;33m,\u001b[0m \u001b[0mDEVICE\u001b[0m\u001b[1;33m)\u001b[0m\u001b[1;33m\u001b[0m\u001b[1;33m\u001b[0m\u001b[0m\n\u001b[0;32m     14\u001b[0m \u001b[1;33m\u001b[0m\u001b[0m\n\u001b[1;32m---> 15\u001b[1;33m         \u001b[0mloss\u001b[0m\u001b[1;33m.\u001b[0m\u001b[0mbackward\u001b[0m\u001b[1;33m(\u001b[0m\u001b[1;33m)\u001b[0m\u001b[1;33m\u001b[0m\u001b[1;33m\u001b[0m\u001b[0m\n\u001b[0m\u001b[0;32m     16\u001b[0m \u001b[1;33m\u001b[0m\u001b[0m\n\u001b[0;32m     17\u001b[0m         \u001b[0moptim\u001b[0m\u001b[1;33m.\u001b[0m\u001b[0mstep\u001b[0m\u001b[1;33m(\u001b[0m\u001b[1;33m)\u001b[0m\u001b[1;33m\u001b[0m\u001b[1;33m\u001b[0m\u001b[0m\n",
      "\u001b[1;32m~\\Anaconda3\\lib\\site-packages\\torch\\tensor.py\u001b[0m in \u001b[0;36mbackward\u001b[1;34m(self, gradient, retain_graph, create_graph)\u001b[0m\n\u001b[0;32m    193\u001b[0m                 \u001b[0mproducts\u001b[0m\u001b[1;33m.\u001b[0m \u001b[0mDefaults\u001b[0m \u001b[0mto\u001b[0m\u001b[0;31m \u001b[0m\u001b[0;31m`\u001b[0m\u001b[0;31m`\u001b[0m\u001b[1;32mFalse\u001b[0m\u001b[0;31m`\u001b[0m\u001b[0;31m`\u001b[0m\u001b[1;33m.\u001b[0m\u001b[1;33m\u001b[0m\u001b[1;33m\u001b[0m\u001b[0m\n\u001b[0;32m    194\u001b[0m         \"\"\"\n\u001b[1;32m--> 195\u001b[1;33m         \u001b[0mtorch\u001b[0m\u001b[1;33m.\u001b[0m\u001b[0mautograd\u001b[0m\u001b[1;33m.\u001b[0m\u001b[0mbackward\u001b[0m\u001b[1;33m(\u001b[0m\u001b[0mself\u001b[0m\u001b[1;33m,\u001b[0m \u001b[0mgradient\u001b[0m\u001b[1;33m,\u001b[0m \u001b[0mretain_graph\u001b[0m\u001b[1;33m,\u001b[0m \u001b[0mcreate_graph\u001b[0m\u001b[1;33m)\u001b[0m\u001b[1;33m\u001b[0m\u001b[1;33m\u001b[0m\u001b[0m\n\u001b[0m\u001b[0;32m    196\u001b[0m \u001b[1;33m\u001b[0m\u001b[0m\n\u001b[0;32m    197\u001b[0m     \u001b[1;32mdef\u001b[0m \u001b[0mregister_hook\u001b[0m\u001b[1;33m(\u001b[0m\u001b[0mself\u001b[0m\u001b[1;33m,\u001b[0m \u001b[0mhook\u001b[0m\u001b[1;33m)\u001b[0m\u001b[1;33m:\u001b[0m\u001b[1;33m\u001b[0m\u001b[1;33m\u001b[0m\u001b[0m\n",
      "\u001b[1;32m~\\Anaconda3\\lib\\site-packages\\torch\\autograd\\__init__.py\u001b[0m in \u001b[0;36mbackward\u001b[1;34m(tensors, grad_tensors, retain_graph, create_graph, grad_variables)\u001b[0m\n\u001b[0;32m     97\u001b[0m     Variable._execution_engine.run_backward(\n\u001b[0;32m     98\u001b[0m         \u001b[0mtensors\u001b[0m\u001b[1;33m,\u001b[0m \u001b[0mgrad_tensors\u001b[0m\u001b[1;33m,\u001b[0m \u001b[0mretain_graph\u001b[0m\u001b[1;33m,\u001b[0m \u001b[0mcreate_graph\u001b[0m\u001b[1;33m,\u001b[0m\u001b[1;33m\u001b[0m\u001b[1;33m\u001b[0m\u001b[0m\n\u001b[1;32m---> 99\u001b[1;33m         allow_unreachable=True)  # allow_unreachable flag\n\u001b[0m\u001b[0;32m    100\u001b[0m \u001b[1;33m\u001b[0m\u001b[0m\n\u001b[0;32m    101\u001b[0m \u001b[1;33m\u001b[0m\u001b[0m\n",
      "\u001b[1;31mKeyboardInterrupt\u001b[0m: "
     ]
    }
   ],
   "source": [
    "chart_area = widgets.Output()\n",
    "display(chart_area)\n",
    "\n",
    "for epoch in tqdm(range(epoch, 100)):\n",
    "    idx = 0\n",
    "    \n",
    "    model.train()\n",
    "    pct_epoch = 0\n",
    "    \n",
    "    for batch in tqdm(dataloader, leave=False):\n",
    "\n",
    "        model.zero_grad()\n",
    "        _, _, loss, _ = run_model(model, batch, DEVICE)\n",
    "\n",
    "        loss.backward()\n",
    "\n",
    "        optim.step()\n",
    "        warmup.step()\n",
    "            \n",
    "        idx += BATCH_SIZE\n",
    "        pct_epoch = min(1.0, idx/len(data))\n",
    "        \n",
    "        losses.append((epoch + pct_epoch, loss.item()))\n",
    "        \n",
    "        if pct_epoch == 1.0 or epoch + pct_epoch - last_validation > VALIDATION_FREQUENCY:\n",
    "            vloss, vacc, v_conf = get_validation_loss()\n",
    "            validation_stats.append([epoch+pct_epoch, vloss, vacc, v_conf])\n",
    "            \n",
    "            chart_area.clear_output()\n",
    "            fig = get_performance_plots(losses, validation_stats)\n",
    "            with chart_area:\n",
    "                display(fig)\n",
    "            plt.close(fig)\n",
    "            \n",
    "            last_validation = epoch + pct_epoch\n",
    "            \n",
    "    state = {\n",
    "        'epoch': epoch,\n",
    "        'losses': losses,\n",
    "        'validation_stats': validation_stats,\n",
    "        'last_validation': last_validation,\n",
    "        'model': model.state_dict(),\n",
    "        'optim': optim.state_dict(),\n",
    "        'warmup': warmup.state_dict(),\n",
    "    }\n",
    "    T.save(state, f'./checkpoints/model_00_{epoch:03}.pkl')\n",
    "    T.save(state, \"./training_state_00.pkl\")"
   ]
  },
  {
   "cell_type": "code",
   "execution_count": null,
   "metadata": {},
   "outputs": [],
   "source": []
  },
  {
   "cell_type": "code",
   "execution_count": null,
   "metadata": {
    "ExecuteTime": {
     "end_time": "2020-04-15T15:35:19.362728Z",
     "start_time": "2020-04-15T05:36:32.152Z"
    }
   },
   "outputs": [],
   "source": [
    "plot_losses(losses, validation_stats, max(10, len(losses)//2000))"
   ]
  }
 ],
 "metadata": {
  "kernelspec": {
   "display_name": "Python 3",
   "language": "python",
   "name": "python3"
  },
  "language_info": {
   "codemirror_mode": {
    "name": "ipython",
    "version": 3
   },
   "file_extension": ".py",
   "mimetype": "text/x-python",
   "name": "python",
   "nbconvert_exporter": "python",
   "pygments_lexer": "ipython3",
   "version": "3.7.6"
  },
  "toc": {
   "base_numbering": 1,
   "nav_menu": {},
   "number_sections": true,
   "sideBar": true,
   "skip_h1_title": false,
   "title_cell": "Table of Contents",
   "title_sidebar": "Contents",
   "toc_cell": false,
   "toc_position": {},
   "toc_section_display": true,
   "toc_window_display": false
  }
 },
 "nbformat": 4,
 "nbformat_minor": 4
}
