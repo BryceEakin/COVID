{
 "cells": [
  {
   "cell_type": "code",
   "execution_count": 1,
   "metadata": {
    "ExecuteTime": {
     "end_time": "2020-04-14T02:17:36.035453Z",
     "start_time": "2020-04-14T02:17:33.682408Z"
    }
   },
   "outputs": [],
   "source": [
    "import pandas as pd\n",
    "import numpy as np\n",
    "import torch as T\n",
    "from torch import nn\n",
    "import torch.nn.functional as F\n",
    "\n",
    "import chemprop\n",
    "import rdkit\n",
    "\n",
    "import pickle as pkl\n",
    "import gzip\n",
    "\n",
    "from tqdm.notebook import tqdm\n",
    "import argparse"
   ]
  },
  {
   "cell_type": "code",
   "execution_count": 2,
   "metadata": {
    "ExecuteTime": {
     "end_time": "2020-04-14T02:17:36.067402Z",
     "start_time": "2020-04-14T02:17:36.037405Z"
    }
   },
   "outputs": [],
   "source": [
    "import covid\n",
    "import covid.datasets\n",
    "from covid.modules import *\n",
    "from covid.data import *\n",
    "from covid.model import *\n",
    "from covid.schedulers import LinearWarmupScheduler\n",
    "\n",
    "from covid.modules.chemistry import MPNEncoder"
   ]
  },
  {
   "cell_type": "code",
   "execution_count": 3,
   "metadata": {
    "ExecuteTime": {
     "end_time": "2020-04-14T02:17:36.072405Z",
     "start_time": "2020-04-14T02:17:36.069403Z"
    }
   },
   "outputs": [],
   "source": [
    "DROPOUT_RATE = 0.2\n",
    "BATCH_SIZE = 16"
   ]
  },
  {
   "cell_type": "code",
   "execution_count": 4,
   "metadata": {
    "ExecuteTime": {
     "end_time": "2020-04-14T02:17:36.087403Z",
     "start_time": "2020-04-14T02:17:36.076412Z"
    }
   },
   "outputs": [],
   "source": [
    "chem_model = MPNEncoder(\n",
    "    layers_per_message=3, \n",
    "    hidden_size=300,\n",
    "    dropout=DROPOUT_RATE\n",
    ")"
   ]
  },
  {
   "cell_type": "code",
   "execution_count": 20,
   "metadata": {
    "ExecuteTime": {
     "end_time": "2020-04-14T02:23:19.923566Z",
     "start_time": "2020-04-14T02:23:19.919525Z"
    }
   },
   "outputs": [
    {
     "data": {
      "text/plain": [
       "147"
      ]
     },
     "execution_count": 20,
     "metadata": {},
     "output_type": "execute_result"
    }
   ],
   "source": [
    "chem_graphs.bond_fdim"
   ]
  },
  {
   "cell_type": "code",
   "execution_count": 18,
   "metadata": {
    "ExecuteTime": {
     "end_time": "2020-04-14T02:20:06.101764Z",
     "start_time": "2020-04-14T02:20:06.096763Z"
    }
   },
   "outputs": [
    {
     "data": {
      "text/plain": [
       "False"
      ]
     },
     "execution_count": 18,
     "metadata": {},
     "output_type": "execute_result"
    }
   ],
   "source": [
    "chem_model.atom_messages"
   ]
  },
  {
   "cell_type": "code",
   "execution_count": 5,
   "metadata": {
    "ExecuteTime": {
     "end_time": "2020-04-14T02:17:36.352437Z",
     "start_time": "2020-04-14T02:17:36.090410Z"
    }
   },
   "outputs": [],
   "source": [
    "protein_model = create_protein_model(dropout=DROPOUT_RATE)"
   ]
  },
  {
   "cell_type": "code",
   "execution_count": 6,
   "metadata": {
    "ExecuteTime": {
     "end_time": "2020-04-14T02:17:36.362442Z",
     "start_time": "2020-04-14T02:17:36.354403Z"
    }
   },
   "outputs": [],
   "source": [
    "model = CovidModel(chem_model, protein_model, dropout=DROPOUT_RATE)"
   ]
  },
  {
   "cell_type": "code",
   "execution_count": 7,
   "metadata": {
    "ExecuteTime": {
     "end_time": "2020-04-14T02:17:36.371407Z",
     "start_time": "2020-04-14T02:17:36.364403Z"
    }
   },
   "outputs": [],
   "source": [
    "DEVICE = 'cpu'"
   ]
  },
  {
   "cell_type": "code",
   "execution_count": 8,
   "metadata": {
    "ExecuteTime": {
     "end_time": "2020-04-14T02:17:36.380406Z",
     "start_time": "2020-04-14T02:17:36.373404Z"
    }
   },
   "outputs": [],
   "source": [
    "model.to(DEVICE);"
   ]
  },
  {
   "cell_type": "code",
   "execution_count": 9,
   "metadata": {
    "ExecuteTime": {
     "end_time": "2020-04-14T02:17:36.388408Z",
     "start_time": "2020-04-14T02:17:36.385404Z"
    },
    "scrolled": true
   },
   "outputs": [],
   "source": [
    "data = covid.datasets.StitchDataset()"
   ]
  },
  {
   "cell_type": "code",
   "execution_count": 10,
   "metadata": {
    "ExecuteTime": {
     "end_time": "2020-04-14T02:17:44.142403Z",
     "start_time": "2020-04-14T02:17:36.390406Z"
    }
   },
   "outputs": [],
   "source": [
    "dataloader = T.utils.data.DataLoader(\n",
    "    data,\n",
    "    batch_size=BATCH_SIZE,\n",
    "    shuffle=True,\n",
    "    collate_fn = covid.datasets.collate_stitch_data\n",
    ")"
   ]
  },
  {
   "cell_type": "code",
   "execution_count": 11,
   "metadata": {
    "ExecuteTime": {
     "end_time": "2020-04-14T02:17:44.148403Z",
     "start_time": "2020-04-14T02:17:44.144403Z"
    }
   },
   "outputs": [],
   "source": [
    "optim = T.optim.Adam(model.parameters())\n",
    "scheduler = LinearWarmupScheduler(optim, 2000)"
   ]
  },
  {
   "cell_type": "code",
   "execution_count": null,
   "metadata": {
    "ExecuteTime": {
     "end_time": "2020-04-14T02:03:30.878380Z",
     "start_time": "2020-04-14T02:03:30.874369Z"
    }
   },
   "outputs": [],
   "source": []
  },
  {
   "cell_type": "code",
   "execution_count": 12,
   "metadata": {
    "ExecuteTime": {
     "end_time": "2020-04-14T02:17:46.451403Z",
     "start_time": "2020-04-14T02:17:46.245438Z"
    }
   },
   "outputs": [
    {
     "ename": "NameError",
     "evalue": "name 'chem_graphs' is not defined",
     "output_type": "error",
     "traceback": [
      "\u001b[1;31m---------------------------------------------------------------------------\u001b[0m",
      "\u001b[1;31mNameError\u001b[0m                                 Traceback (most recent call last)",
      "\u001b[1;32m<ipython-input-12-9f0642d7fc8d>\u001b[0m in \u001b[0;36m<module>\u001b[1;34m\u001b[0m\n\u001b[1;32m----> 1\u001b[1;33m \u001b[0mchem_model\u001b[0m\u001b[1;33m(\u001b[0m\u001b[0mchem_graphs\u001b[0m\u001b[1;33m,\u001b[0m \u001b[0mchem_features\u001b[0m\u001b[1;33m)\u001b[0m\u001b[1;33m\u001b[0m\u001b[1;33m\u001b[0m\u001b[0m\n\u001b[0m",
      "\u001b[1;31mNameError\u001b[0m: name 'chem_graphs' is not defined"
     ]
    }
   ],
   "source": [
    "chem_model(chem_graphs, chem_features)"
   ]
  },
  {
   "cell_type": "code",
   "execution_count": 13,
   "metadata": {
    "ExecuteTime": {
     "end_time": "2020-04-14T02:17:47.303405Z",
     "start_time": "2020-04-14T02:17:47.292408Z"
    }
   },
   "outputs": [
    {
     "data": {
      "text/plain": [
       "14"
      ]
     },
     "execution_count": 13,
     "metadata": {},
     "output_type": "execute_result"
    }
   ],
   "source": [
    "chemprop.models.mpn.get_bond_fdim(covid.utils.CHEMPROP_ARGS)"
   ]
  },
  {
   "cell_type": "code",
   "execution_count": 14,
   "metadata": {
    "ExecuteTime": {
     "end_time": "2020-04-14T02:17:48.077405Z",
     "start_time": "2020-04-14T02:17:48.060405Z"
    }
   },
   "outputs": [
    {
     "ename": "NameError",
     "evalue": "name 'chem_graphs' is not defined",
     "output_type": "error",
     "traceback": [
      "\u001b[1;31m---------------------------------------------------------------------------\u001b[0m",
      "\u001b[1;31mNameError\u001b[0m                                 Traceback (most recent call last)",
      "\u001b[1;32m<ipython-input-14-732c1deef674>\u001b[0m in \u001b[0;36m<module>\u001b[1;34m\u001b[0m\n\u001b[1;32m----> 1\u001b[1;33m \u001b[0mmodel\u001b[0m\u001b[1;33m(\u001b[0m\u001b[0mchem_graphs\u001b[0m\u001b[1;33m,\u001b[0m \u001b[0mchem_features\u001b[0m\u001b[1;33m,\u001b[0m \u001b[0mproteins\u001b[0m\u001b[1;33m)\u001b[0m\u001b[1;33m\u001b[0m\u001b[1;33m\u001b[0m\u001b[0m\n\u001b[0m",
      "\u001b[1;31mNameError\u001b[0m: name 'chem_graphs' is not defined"
     ]
    }
   ],
   "source": [
    "model(chem_graphs, chem_features, proteins)"
   ]
  },
  {
   "cell_type": "code",
   "execution_count": 15,
   "metadata": {
    "ExecuteTime": {
     "end_time": "2020-04-14T02:17:48.897404Z",
     "start_time": "2020-04-14T02:17:48.749409Z"
    }
   },
   "outputs": [
    {
     "ename": "RuntimeError",
     "evalue": "size mismatch, m1: [901 x 147], m2: [14 x 300] at C:\\w\\1\\s\\tmp_conda_3.7_100118\\conda\\conda-bld\\pytorch_1579082551706\\work\\aten\\src\\TH/generic/THTensorMath.cpp:136",
     "output_type": "error",
     "traceback": [
      "\u001b[1;31m---------------------------------------------------------------------------\u001b[0m",
      "\u001b[1;31mRuntimeError\u001b[0m                              Traceback (most recent call last)",
      "\u001b[1;32m<ipython-input-15-d6b150e4386f>\u001b[0m in \u001b[0;36m<module>\u001b[1;34m\u001b[0m\n\u001b[0;32m     10\u001b[0m \u001b[1;33m\u001b[0m\u001b[0m\n\u001b[0;32m     11\u001b[0m     \u001b[0mmodel\u001b[0m\u001b[1;33m.\u001b[0m\u001b[0mzero_grad\u001b[0m\u001b[1;33m(\u001b[0m\u001b[1;33m)\u001b[0m\u001b[1;33m\u001b[0m\u001b[1;33m\u001b[0m\u001b[0m\n\u001b[1;32m---> 12\u001b[1;33m     \u001b[0mresult\u001b[0m \u001b[1;33m=\u001b[0m \u001b[0mmodel\u001b[0m\u001b[1;33m(\u001b[0m\u001b[0mchem_graphs\u001b[0m\u001b[1;33m,\u001b[0m \u001b[0mchem_features\u001b[0m\u001b[1;33m,\u001b[0m \u001b[0mproteins\u001b[0m\u001b[1;33m)\u001b[0m\u001b[1;33m\u001b[0m\u001b[1;33m\u001b[0m\u001b[0m\n\u001b[0m\u001b[0;32m     13\u001b[0m \u001b[1;33m\u001b[0m\u001b[0m\n\u001b[0;32m     14\u001b[0m     \u001b[0mloss\u001b[0m \u001b[1;33m=\u001b[0m \u001b[0mF\u001b[0m\u001b[1;33m.\u001b[0m\u001b[0mbinary_cross_entropy\u001b[0m\u001b[1;33m(\u001b[0m\u001b[0mresult\u001b[0m\u001b[1;33m,\u001b[0m \u001b[0mtarget\u001b[0m\u001b[1;33m)\u001b[0m\u001b[1;33m\u001b[0m\u001b[1;33m\u001b[0m\u001b[0m\n",
      "\u001b[1;32m~\\Anaconda3\\lib\\site-packages\\torch\\nn\\modules\\module.py\u001b[0m in \u001b[0;36m__call__\u001b[1;34m(self, *input, **kwargs)\u001b[0m\n\u001b[0;32m    530\u001b[0m             \u001b[0mresult\u001b[0m \u001b[1;33m=\u001b[0m \u001b[0mself\u001b[0m\u001b[1;33m.\u001b[0m\u001b[0m_slow_forward\u001b[0m\u001b[1;33m(\u001b[0m\u001b[1;33m*\u001b[0m\u001b[0minput\u001b[0m\u001b[1;33m,\u001b[0m \u001b[1;33m**\u001b[0m\u001b[0mkwargs\u001b[0m\u001b[1;33m)\u001b[0m\u001b[1;33m\u001b[0m\u001b[1;33m\u001b[0m\u001b[0m\n\u001b[0;32m    531\u001b[0m         \u001b[1;32melse\u001b[0m\u001b[1;33m:\u001b[0m\u001b[1;33m\u001b[0m\u001b[1;33m\u001b[0m\u001b[0m\n\u001b[1;32m--> 532\u001b[1;33m             \u001b[0mresult\u001b[0m \u001b[1;33m=\u001b[0m \u001b[0mself\u001b[0m\u001b[1;33m.\u001b[0m\u001b[0mforward\u001b[0m\u001b[1;33m(\u001b[0m\u001b[1;33m*\u001b[0m\u001b[0minput\u001b[0m\u001b[1;33m,\u001b[0m \u001b[1;33m**\u001b[0m\u001b[0mkwargs\u001b[0m\u001b[1;33m)\u001b[0m\u001b[1;33m\u001b[0m\u001b[1;33m\u001b[0m\u001b[0m\n\u001b[0m\u001b[0;32m    533\u001b[0m         \u001b[1;32mfor\u001b[0m \u001b[0mhook\u001b[0m \u001b[1;32min\u001b[0m \u001b[0mself\u001b[0m\u001b[1;33m.\u001b[0m\u001b[0m_forward_hooks\u001b[0m\u001b[1;33m.\u001b[0m\u001b[0mvalues\u001b[0m\u001b[1;33m(\u001b[0m\u001b[1;33m)\u001b[0m\u001b[1;33m:\u001b[0m\u001b[1;33m\u001b[0m\u001b[1;33m\u001b[0m\u001b[0m\n\u001b[0;32m    534\u001b[0m             \u001b[0mhook_result\u001b[0m \u001b[1;33m=\u001b[0m \u001b[0mhook\u001b[0m\u001b[1;33m(\u001b[0m\u001b[0mself\u001b[0m\u001b[1;33m,\u001b[0m \u001b[0minput\u001b[0m\u001b[1;33m,\u001b[0m \u001b[0mresult\u001b[0m\u001b[1;33m)\u001b[0m\u001b[1;33m\u001b[0m\u001b[1;33m\u001b[0m\u001b[0m\n",
      "\u001b[1;32m~\\src\\COVID\\covid\\model.py\u001b[0m in \u001b[0;36mforward\u001b[1;34m(self, chem_batch, chem_f_batch, protein_batch)\u001b[0m\n\u001b[0;32m     24\u001b[0m \u001b[1;33m\u001b[0m\u001b[0m\n\u001b[0;32m     25\u001b[0m     \u001b[1;32mdef\u001b[0m \u001b[0mforward\u001b[0m\u001b[1;33m(\u001b[0m\u001b[0mself\u001b[0m\u001b[1;33m,\u001b[0m \u001b[0mchem_batch\u001b[0m\u001b[1;33m,\u001b[0m \u001b[0mchem_f_batch\u001b[0m\u001b[1;33m,\u001b[0m \u001b[0mprotein_batch\u001b[0m\u001b[1;33m)\u001b[0m\u001b[1;33m:\u001b[0m\u001b[1;33m\u001b[0m\u001b[1;33m\u001b[0m\u001b[0m\n\u001b[1;32m---> 26\u001b[1;33m         \u001b[0mchem_out\u001b[0m \u001b[1;33m=\u001b[0m \u001b[0mself\u001b[0m\u001b[1;33m.\u001b[0m\u001b[0mchem_model\u001b[0m\u001b[1;33m(\u001b[0m\u001b[0mchem_batch\u001b[0m\u001b[1;33m,\u001b[0m \u001b[0mchem_f_batch\u001b[0m\u001b[1;33m)\u001b[0m\u001b[1;33m\u001b[0m\u001b[1;33m\u001b[0m\u001b[0m\n\u001b[0m\u001b[0;32m     27\u001b[0m         \u001b[0mprotein_out\u001b[0m \u001b[1;33m=\u001b[0m \u001b[0mself\u001b[0m\u001b[1;33m.\u001b[0m\u001b[0mprotein_model\u001b[0m\u001b[1;33m(\u001b[0m\u001b[0mprotein_batch\u001b[0m\u001b[1;33m)\u001b[0m\u001b[1;33m\u001b[0m\u001b[1;33m\u001b[0m\u001b[0m\n\u001b[0;32m     28\u001b[0m \u001b[1;33m\u001b[0m\u001b[0m\n",
      "\u001b[1;32m~\\Anaconda3\\lib\\site-packages\\torch\\nn\\modules\\module.py\u001b[0m in \u001b[0;36m__call__\u001b[1;34m(self, *input, **kwargs)\u001b[0m\n\u001b[0;32m    530\u001b[0m             \u001b[0mresult\u001b[0m \u001b[1;33m=\u001b[0m \u001b[0mself\u001b[0m\u001b[1;33m.\u001b[0m\u001b[0m_slow_forward\u001b[0m\u001b[1;33m(\u001b[0m\u001b[1;33m*\u001b[0m\u001b[0minput\u001b[0m\u001b[1;33m,\u001b[0m \u001b[1;33m**\u001b[0m\u001b[0mkwargs\u001b[0m\u001b[1;33m)\u001b[0m\u001b[1;33m\u001b[0m\u001b[1;33m\u001b[0m\u001b[0m\n\u001b[0;32m    531\u001b[0m         \u001b[1;32melse\u001b[0m\u001b[1;33m:\u001b[0m\u001b[1;33m\u001b[0m\u001b[1;33m\u001b[0m\u001b[0m\n\u001b[1;32m--> 532\u001b[1;33m             \u001b[0mresult\u001b[0m \u001b[1;33m=\u001b[0m \u001b[0mself\u001b[0m\u001b[1;33m.\u001b[0m\u001b[0mforward\u001b[0m\u001b[1;33m(\u001b[0m\u001b[1;33m*\u001b[0m\u001b[0minput\u001b[0m\u001b[1;33m,\u001b[0m \u001b[1;33m**\u001b[0m\u001b[0mkwargs\u001b[0m\u001b[1;33m)\u001b[0m\u001b[1;33m\u001b[0m\u001b[1;33m\u001b[0m\u001b[0m\n\u001b[0m\u001b[0;32m    533\u001b[0m         \u001b[1;32mfor\u001b[0m \u001b[0mhook\u001b[0m \u001b[1;32min\u001b[0m \u001b[0mself\u001b[0m\u001b[1;33m.\u001b[0m\u001b[0m_forward_hooks\u001b[0m\u001b[1;33m.\u001b[0m\u001b[0mvalues\u001b[0m\u001b[1;33m(\u001b[0m\u001b[1;33m)\u001b[0m\u001b[1;33m:\u001b[0m\u001b[1;33m\u001b[0m\u001b[1;33m\u001b[0m\u001b[0m\n\u001b[0;32m    534\u001b[0m             \u001b[0mhook_result\u001b[0m \u001b[1;33m=\u001b[0m \u001b[0mhook\u001b[0m\u001b[1;33m(\u001b[0m\u001b[0mself\u001b[0m\u001b[1;33m,\u001b[0m \u001b[0minput\u001b[0m\u001b[1;33m,\u001b[0m \u001b[0mresult\u001b[0m\u001b[1;33m)\u001b[0m\u001b[1;33m\u001b[0m\u001b[1;33m\u001b[0m\u001b[0m\n",
      "\u001b[1;32m~\\src\\COVID\\covid\\modules\\chemistry.py\u001b[0m in \u001b[0;36mforward\u001b[1;34m(self, mol_graph, features_batch)\u001b[0m\n\u001b[0;32m     71\u001b[0m             \u001b[0minput\u001b[0m \u001b[1;33m=\u001b[0m \u001b[0mself\u001b[0m\u001b[1;33m.\u001b[0m\u001b[0mW_i\u001b[0m\u001b[1;33m(\u001b[0m\u001b[0mf_atoms\u001b[0m\u001b[1;33m)\u001b[0m\u001b[1;33m\u001b[0m\u001b[1;33m\u001b[0m\u001b[0m\n\u001b[0;32m     72\u001b[0m         \u001b[1;32melse\u001b[0m\u001b[1;33m:\u001b[0m\u001b[1;33m\u001b[0m\u001b[1;33m\u001b[0m\u001b[0m\n\u001b[1;32m---> 73\u001b[1;33m             \u001b[0minput\u001b[0m \u001b[1;33m=\u001b[0m \u001b[0mself\u001b[0m\u001b[1;33m.\u001b[0m\u001b[0mW_i\u001b[0m\u001b[1;33m(\u001b[0m\u001b[0mf_bonds\u001b[0m\u001b[1;33m)\u001b[0m\u001b[1;33m\u001b[0m\u001b[1;33m\u001b[0m\u001b[0m\n\u001b[0m\u001b[0;32m     74\u001b[0m         \u001b[0mmessage\u001b[0m \u001b[1;33m=\u001b[0m \u001b[0mself\u001b[0m\u001b[1;33m.\u001b[0m\u001b[0mact_func\u001b[0m\u001b[1;33m(\u001b[0m\u001b[0minput\u001b[0m\u001b[1;33m)\u001b[0m\u001b[1;33m\u001b[0m\u001b[1;33m\u001b[0m\u001b[0m\n\u001b[0;32m     75\u001b[0m \u001b[1;33m\u001b[0m\u001b[0m\n",
      "\u001b[1;32m~\\Anaconda3\\lib\\site-packages\\torch\\nn\\modules\\module.py\u001b[0m in \u001b[0;36m__call__\u001b[1;34m(self, *input, **kwargs)\u001b[0m\n\u001b[0;32m    530\u001b[0m             \u001b[0mresult\u001b[0m \u001b[1;33m=\u001b[0m \u001b[0mself\u001b[0m\u001b[1;33m.\u001b[0m\u001b[0m_slow_forward\u001b[0m\u001b[1;33m(\u001b[0m\u001b[1;33m*\u001b[0m\u001b[0minput\u001b[0m\u001b[1;33m,\u001b[0m \u001b[1;33m**\u001b[0m\u001b[0mkwargs\u001b[0m\u001b[1;33m)\u001b[0m\u001b[1;33m\u001b[0m\u001b[1;33m\u001b[0m\u001b[0m\n\u001b[0;32m    531\u001b[0m         \u001b[1;32melse\u001b[0m\u001b[1;33m:\u001b[0m\u001b[1;33m\u001b[0m\u001b[1;33m\u001b[0m\u001b[0m\n\u001b[1;32m--> 532\u001b[1;33m             \u001b[0mresult\u001b[0m \u001b[1;33m=\u001b[0m \u001b[0mself\u001b[0m\u001b[1;33m.\u001b[0m\u001b[0mforward\u001b[0m\u001b[1;33m(\u001b[0m\u001b[1;33m*\u001b[0m\u001b[0minput\u001b[0m\u001b[1;33m,\u001b[0m \u001b[1;33m**\u001b[0m\u001b[0mkwargs\u001b[0m\u001b[1;33m)\u001b[0m\u001b[1;33m\u001b[0m\u001b[1;33m\u001b[0m\u001b[0m\n\u001b[0m\u001b[0;32m    533\u001b[0m         \u001b[1;32mfor\u001b[0m \u001b[0mhook\u001b[0m \u001b[1;32min\u001b[0m \u001b[0mself\u001b[0m\u001b[1;33m.\u001b[0m\u001b[0m_forward_hooks\u001b[0m\u001b[1;33m.\u001b[0m\u001b[0mvalues\u001b[0m\u001b[1;33m(\u001b[0m\u001b[1;33m)\u001b[0m\u001b[1;33m:\u001b[0m\u001b[1;33m\u001b[0m\u001b[1;33m\u001b[0m\u001b[0m\n\u001b[0;32m    534\u001b[0m             \u001b[0mhook_result\u001b[0m \u001b[1;33m=\u001b[0m \u001b[0mhook\u001b[0m\u001b[1;33m(\u001b[0m\u001b[0mself\u001b[0m\u001b[1;33m,\u001b[0m \u001b[0minput\u001b[0m\u001b[1;33m,\u001b[0m \u001b[0mresult\u001b[0m\u001b[1;33m)\u001b[0m\u001b[1;33m\u001b[0m\u001b[1;33m\u001b[0m\u001b[0m\n",
      "\u001b[1;32m~\\Anaconda3\\lib\\site-packages\\torch\\nn\\modules\\linear.py\u001b[0m in \u001b[0;36mforward\u001b[1;34m(self, input)\u001b[0m\n\u001b[0;32m     85\u001b[0m \u001b[1;33m\u001b[0m\u001b[0m\n\u001b[0;32m     86\u001b[0m     \u001b[1;32mdef\u001b[0m \u001b[0mforward\u001b[0m\u001b[1;33m(\u001b[0m\u001b[0mself\u001b[0m\u001b[1;33m,\u001b[0m \u001b[0minput\u001b[0m\u001b[1;33m)\u001b[0m\u001b[1;33m:\u001b[0m\u001b[1;33m\u001b[0m\u001b[1;33m\u001b[0m\u001b[0m\n\u001b[1;32m---> 87\u001b[1;33m         \u001b[1;32mreturn\u001b[0m \u001b[0mF\u001b[0m\u001b[1;33m.\u001b[0m\u001b[0mlinear\u001b[0m\u001b[1;33m(\u001b[0m\u001b[0minput\u001b[0m\u001b[1;33m,\u001b[0m \u001b[0mself\u001b[0m\u001b[1;33m.\u001b[0m\u001b[0mweight\u001b[0m\u001b[1;33m,\u001b[0m \u001b[0mself\u001b[0m\u001b[1;33m.\u001b[0m\u001b[0mbias\u001b[0m\u001b[1;33m)\u001b[0m\u001b[1;33m\u001b[0m\u001b[1;33m\u001b[0m\u001b[0m\n\u001b[0m\u001b[0;32m     88\u001b[0m \u001b[1;33m\u001b[0m\u001b[0m\n\u001b[0;32m     89\u001b[0m     \u001b[1;32mdef\u001b[0m \u001b[0mextra_repr\u001b[0m\u001b[1;33m(\u001b[0m\u001b[0mself\u001b[0m\u001b[1;33m)\u001b[0m\u001b[1;33m:\u001b[0m\u001b[1;33m\u001b[0m\u001b[1;33m\u001b[0m\u001b[0m\n",
      "\u001b[1;32m~\\Anaconda3\\lib\\site-packages\\torch\\nn\\functional.py\u001b[0m in \u001b[0;36mlinear\u001b[1;34m(input, weight, bias)\u001b[0m\n\u001b[0;32m   1370\u001b[0m         \u001b[0mret\u001b[0m \u001b[1;33m=\u001b[0m \u001b[0mtorch\u001b[0m\u001b[1;33m.\u001b[0m\u001b[0maddmm\u001b[0m\u001b[1;33m(\u001b[0m\u001b[0mbias\u001b[0m\u001b[1;33m,\u001b[0m \u001b[0minput\u001b[0m\u001b[1;33m,\u001b[0m \u001b[0mweight\u001b[0m\u001b[1;33m.\u001b[0m\u001b[0mt\u001b[0m\u001b[1;33m(\u001b[0m\u001b[1;33m)\u001b[0m\u001b[1;33m)\u001b[0m\u001b[1;33m\u001b[0m\u001b[1;33m\u001b[0m\u001b[0m\n\u001b[0;32m   1371\u001b[0m     \u001b[1;32melse\u001b[0m\u001b[1;33m:\u001b[0m\u001b[1;33m\u001b[0m\u001b[1;33m\u001b[0m\u001b[0m\n\u001b[1;32m-> 1372\u001b[1;33m         \u001b[0moutput\u001b[0m \u001b[1;33m=\u001b[0m \u001b[0minput\u001b[0m\u001b[1;33m.\u001b[0m\u001b[0mmatmul\u001b[0m\u001b[1;33m(\u001b[0m\u001b[0mweight\u001b[0m\u001b[1;33m.\u001b[0m\u001b[0mt\u001b[0m\u001b[1;33m(\u001b[0m\u001b[1;33m)\u001b[0m\u001b[1;33m)\u001b[0m\u001b[1;33m\u001b[0m\u001b[1;33m\u001b[0m\u001b[0m\n\u001b[0m\u001b[0;32m   1373\u001b[0m         \u001b[1;32mif\u001b[0m \u001b[0mbias\u001b[0m \u001b[1;32mis\u001b[0m \u001b[1;32mnot\u001b[0m \u001b[1;32mNone\u001b[0m\u001b[1;33m:\u001b[0m\u001b[1;33m\u001b[0m\u001b[1;33m\u001b[0m\u001b[0m\n\u001b[0;32m   1374\u001b[0m             \u001b[0moutput\u001b[0m \u001b[1;33m+=\u001b[0m \u001b[0mbias\u001b[0m\u001b[1;33m\u001b[0m\u001b[1;33m\u001b[0m\u001b[0m\n",
      "\u001b[1;31mRuntimeError\u001b[0m: size mismatch, m1: [901 x 147], m2: [14 x 300] at C:\\w\\1\\s\\tmp_conda_3.7_100118\\conda\\conda-bld\\pytorch_1579082551706\\work\\aten\\src\\TH/generic/THTensorMath.cpp:136"
     ]
    }
   ],
   "source": [
    "idx = 0\n",
    "\n",
    "for batch in dataloader:\n",
    "    chem_graphs, chem_features, proteins, targets = batch\n",
    "    \n",
    "    chem_graphs = chem_graphs.to(DEVICE)\n",
    "    chem_features = chem_features.to(DEVICE)\n",
    "    proteins = proteins.to(DEVICE)\n",
    "    targets = targets.to(DEVICE)\n",
    "    \n",
    "    model.zero_grad()\n",
    "    result = model(chem_graphs, chem_features, proteins)\n",
    "    \n",
    "    loss = F.binary_cross_entropy(result, target)\n",
    "    loss.backward()\n",
    "    \n",
    "    optim.step()\n",
    "    scheduler.step()\n",
    "    idx += 1\n",
    "    \n",
    "    if idx >= 10:\n",
    "        break\n",
    "    "
   ]
  },
  {
   "cell_type": "code",
   "execution_count": 77,
   "metadata": {
    "ExecuteTime": {
     "end_time": "2020-04-13T21:59:51.839007Z",
     "start_time": "2020-04-13T21:59:51.667009Z"
    }
   },
   "outputs": [
    {
     "data": {
      "text/plain": [
       "(<covid.data.BatchMolGraph at 0x2323236c888>,\n",
       " tensor([[1.6959e+00, 1.2345e+03, 2.3413e+01,  ..., 0.0000e+00, 0.0000e+00,\n",
       "          3.7968e-01],\n",
       "         [1.6558e+00, 1.2393e+03, 2.9284e+01,  ..., 0.0000e+00, 0.0000e+00,\n",
       "          1.1291e-01],\n",
       "         [2.0560e+00, 9.9724e+02, 2.2198e+01,  ..., 0.0000e+00, 0.0000e+00,\n",
       "          1.8802e-01],\n",
       "         ...,\n",
       "         [1.6273e+00, 1.3964e+03, 2.2336e+01,  ..., 0.0000e+00, 0.0000e+00,\n",
       "          4.9215e-01],\n",
       "         [1.4400e-06, 2.3728e+02, 9.3010e+00,  ..., 0.0000e+00, 0.0000e+00,\n",
       "          4.5069e-01],\n",
       "         [2.1133e+00, 5.7567e+02, 1.3786e+01,  ..., 1.0000e+00, 0.0000e+00,\n",
       "          8.2997e-01]]),\n",
       " <ProteinBatch[64](torch.Size([1, 23, 43425])) offsets=(0, 294, 1213, 3098, 3446, 4541, 4728, 5943, 6572, 8035, 8575, 8760, 8987, 9158, 9724, 11067, 11188, 11876, 13322, 13805, 14475, 14953, 15800, 15904, 16207, 17077, 17473, 18244, 18855, 19948, 20719, 21959, 22594, 22937, 23660, 24349, 25137, 26501, 27724, 28234, 29237, 30498, 31642, 32141, 32320, 32829, 33732, 34188, 34642, 35305, 35751, 36521, 37163, 37811, 38000, 38156, 38231, 38647, 39144, 39217, 39712, 39981, 41395, 42860), lengths=(289, 914, 1880, 343, 1090, 182, 1210, 624, 1458, 535, 180, 222, 166, 561, 1338, 116, 683, 1441, 478, 665, 473, 842, 99, 298, 865, 391, 766, 606, 1088, 766, 1235, 630, 338, 718, 684, 783, 1359, 1218, 505, 998, 1256, 1139, 494, 174, 504, 898, 451, 449, 658, 441, 765, 637, 643, 184, 151, 70, 411, 492, 68, 490, 264, 1409, 1460, 560)>,\n",
       " tensor([[   0.0000,  963.0000,    0.0000,  874.0000,    0.0000],\n",
       "         [   0.0000,    0.0000,    0.0000,    0.0000,  989.0000],\n",
       "         [   0.0000,  899.6667,    0.0000,    0.0000,  953.8182],\n",
       "         [   0.0000,    0.0000,  992.5000,    0.0000,  998.0000],\n",
       "         [   0.0000,  626.0000,    0.0000,  883.0000,    0.0000],\n",
       "         [   0.0000,  895.0000,  895.0000,    0.0000,  895.0000],\n",
       "         [   0.0000,  997.0000,    0.0000,    0.0000,    0.0000],\n",
       "         [   0.0000,  954.0000,    0.0000,  720.0000,    0.0000],\n",
       "         [   0.0000,    0.0000,    0.0000,  865.0000,    0.0000],\n",
       "         [   0.0000,  999.0000,    0.0000,  518.0000,    0.0000],\n",
       "         [   0.0000,  899.6667,  899.5000,    0.0000,  989.0000],\n",
       "         [ 892.0000,    0.0000,    0.0000,    0.0000,    0.0000],\n",
       "         [   0.0000,  998.0000,    0.0000,    0.0000,    0.0000],\n",
       "         [ 596.0000,  998.0000,    0.0000,  773.3333,    0.0000],\n",
       "         [   0.0000,    0.0000,    0.0000,  858.0000,    0.0000],\n",
       "         [   0.0000,    0.0000,    0.0000,    0.0000,  989.0000],\n",
       "         [   0.0000,  978.0000,  895.0000,    0.0000,  895.0000],\n",
       "         [   0.0000,    0.0000,    0.0000,  865.0000,    0.0000],\n",
       "         [ 900.0000,    0.0000,    0.0000,  725.0000,    0.0000],\n",
       "         [   0.0000,    0.0000,    0.0000,    0.0000,  989.0000],\n",
       "         [ 222.0000,  985.0000,  892.0000,  225.0000,  892.0000],\n",
       "         [ 976.0000,  976.0000,    0.0000,    0.0000,    0.0000],\n",
       "         [   0.0000,  999.0000,  999.0000,    0.0000,  999.5455],\n",
       "         [ 390.0000,  999.0000,    0.0000,  319.0000,    0.0000],\n",
       "         [   0.0000,  899.6667,    0.0000,    0.0000,  953.8182],\n",
       "         [   0.0000,    0.0000,    0.0000,    0.0000,  989.0000],\n",
       "         [   0.0000,  800.0000,  800.0000,  991.0000,    0.0000],\n",
       "         [   0.0000,  999.0000,    0.0000,    0.0000,    0.0000],\n",
       "         [   0.0000,  899.6667,    0.0000,    0.0000,  953.8182],\n",
       "         [   0.0000,  199.0000,    0.0000,  907.0000,    0.0000],\n",
       "         [   0.0000,    0.0000,    0.0000,  920.0000,    0.0000],\n",
       "         [   0.0000,  998.0000,    0.0000,    0.0000,    0.0000],\n",
       "         [   0.0000,  997.0000,    0.0000,    0.0000,    0.0000],\n",
       "         [   0.0000,    0.0000,    0.0000,  895.0000,    0.0000],\n",
       "         [   0.0000,    0.0000,    0.0000,  854.0000,    0.0000],\n",
       "         [   0.0000,  984.0000,    0.0000,  903.0000,    0.0000],\n",
       "         [   0.0000,  955.0000,    0.0000,  843.0000,    0.0000],\n",
       "         [ 894.0000,    0.0000,    0.0000,    0.0000,    0.0000],\n",
       "         [ 930.0000,    0.0000,  947.0000,  777.0000,    0.0000],\n",
       "         [   0.0000,  997.0000,    0.0000,  394.0000,    0.0000],\n",
       "         [   0.0000,  905.0000,  905.0000,    0.0000,  905.0000],\n",
       "         [   0.0000,  998.0000,    0.0000,    0.0000,    0.0000],\n",
       "         [ 801.6667,  832.0000,    0.0000,    0.0000,    0.0000],\n",
       "         [ 512.0000,  389.0000,  849.0000,    0.0000,  757.0000],\n",
       "         [   0.0000,  999.0000,    0.0000,  163.0000,    0.0000],\n",
       "         [   0.0000,  983.0000,    0.0000,  885.0000,    0.0000],\n",
       "         [   0.0000,  998.0000,    0.0000,    0.0000,    0.0000],\n",
       "         [   0.0000,  999.0000,    0.0000,  271.0000,    0.0000],\n",
       "         [ 869.0000,    0.0000,    0.0000,    0.0000,    0.0000],\n",
       "         [   0.0000,  999.0000,    0.0000,  486.6667,    0.0000],\n",
       "         [   0.0000,    0.0000,  899.5000,    0.0000,  989.0000],\n",
       "         [ 880.0000,    0.0000,    0.0000,  540.0000,    0.0000],\n",
       "         [ 951.0000,    0.0000,    0.0000,    0.0000,    0.0000],\n",
       "         [   0.0000, 1000.0000,  999.0000,    0.0000,  999.0000],\n",
       "         [   0.0000,  999.0000,  899.5000,    0.0000,  994.4545],\n",
       "         [   0.0000,  895.0000,  895.0000,    0.0000,  895.0000],\n",
       "         [ 281.0000,  997.0000,    0.0000,  267.3333,    0.0000],\n",
       "         [   0.0000,  403.0000,  999.0000,  357.0000,  999.0000],\n",
       "         [ 319.0000,  997.0000,    0.0000,    0.0000,    0.0000],\n",
       "         [   0.0000,  999.0000,    0.0000,    0.0000,    0.0000],\n",
       "         [   0.0000,  789.0000,    0.0000,  874.0000,    0.0000],\n",
       "         [   0.0000,    0.0000,    0.0000,  843.0000,    0.0000],\n",
       "         [   0.0000,    0.0000,  896.0000,    0.0000,    0.0000],\n",
       "         [   0.0000,  999.0000,    0.0000,    0.0000,    0.0000]],\n",
       "        dtype=torch.float64))"
      ]
     },
     "execution_count": 77,
     "metadata": {},
     "output_type": "execute_result"
    }
   ],
   "source": [
    "next(iter(T.utils.data.DataLoader(\n",
    "    data, batch_size=64, shuffle=True, collate_fn = collate_stitch_data\n",
    ")))"
   ]
  },
  {
   "cell_type": "code",
   "execution_count": null,
   "metadata": {},
   "outputs": [],
   "source": []
  }
 ],
 "metadata": {
  "kernelspec": {
   "display_name": "Python 3",
   "language": "python",
   "name": "python3"
  },
  "language_info": {
   "codemirror_mode": {
    "name": "ipython",
    "version": 3
   },
   "file_extension": ".py",
   "mimetype": "text/x-python",
   "name": "python",
   "nbconvert_exporter": "python",
   "pygments_lexer": "ipython3",
   "version": "3.7.6"
  },
  "toc": {
   "base_numbering": 1,
   "nav_menu": {},
   "number_sections": true,
   "sideBar": true,
   "skip_h1_title": false,
   "title_cell": "Table of Contents",
   "title_sidebar": "Contents",
   "toc_cell": false,
   "toc_position": {},
   "toc_section_display": true,
   "toc_window_display": false
  }
 },
 "nbformat": 4,
 "nbformat_minor": 4
}
