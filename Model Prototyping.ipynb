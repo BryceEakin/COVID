{
 "cells": [
  {
   "cell_type": "code",
   "execution_count": 1,
   "metadata": {
    "ExecuteTime": {
     "end_time": "2020-04-14T20:03:42.854158Z",
     "start_time": "2020-04-14T20:03:37.521681Z"
    }
   },
   "outputs": [],
   "source": [
    "import pandas as pd\n",
    "import numpy as np\n",
    "import torch as T\n",
    "from torch import nn\n",
    "import torch.nn.functional as F\n",
    "\n",
    "import chemprop\n",
    "import rdkit\n",
    "\n",
    "import pickle as pkl\n",
    "import gzip\n",
    "\n",
    "from tqdm.notebook import tqdm\n",
    "import argparse"
   ]
  },
  {
   "cell_type": "code",
   "execution_count": 2,
   "metadata": {
    "ExecuteTime": {
     "end_time": "2020-04-14T20:03:42.908086Z",
     "start_time": "2020-04-14T20:03:42.857167Z"
    }
   },
   "outputs": [],
   "source": [
    "import covid\n",
    "import covid.datasets\n",
    "from covid.modules import *\n",
    "from covid.data import *\n",
    "from covid.model import *\n",
    "from covid.schedulers import LinearWarmupScheduler\n",
    "\n",
    "from covid.modules.chemistry import MPNEncoder"
   ]
  },
  {
   "cell_type": "code",
   "execution_count": null,
   "metadata": {
    "ExecuteTime": {
     "end_time": "2020-04-14T20:08:26.693734Z",
     "start_time": "2020-04-14T20:07:34.365Z"
    }
   },
   "outputs": [],
   "source": [
    "DROPOUT_RATE = 0.2\n",
    "BATCH_SIZE = 16\n",
    "BATCHES_PER_EPOCH = 1000"
   ]
  },
  {
   "cell_type": "code",
   "execution_count": 4,
   "metadata": {
    "ExecuteTime": {
     "end_time": "2020-04-14T20:03:42.920077Z",
     "start_time": "2020-04-14T20:03:42.915071Z"
    }
   },
   "outputs": [],
   "source": [
    "DEVICE = 'cuda'"
   ]
  },
  {
   "cell_type": "code",
   "execution_count": 5,
   "metadata": {
    "ExecuteTime": {
     "end_time": "2020-04-14T20:03:42.942699Z",
     "start_time": "2020-04-14T20:03:42.924074Z"
    }
   },
   "outputs": [],
   "source": [
    "chem_model = MPNEncoder(\n",
    "    layers_per_message=3, \n",
    "    hidden_size=300,\n",
    "    dropout=DROPOUT_RATE\n",
    ")"
   ]
  },
  {
   "cell_type": "code",
   "execution_count": 6,
   "metadata": {
    "ExecuteTime": {
     "end_time": "2020-04-14T20:03:43.103573Z",
     "start_time": "2020-04-14T20:03:42.945700Z"
    }
   },
   "outputs": [],
   "source": [
    "protein_model = create_protein_model(dropout=DROPOUT_RATE)"
   ]
  },
  {
   "cell_type": "code",
   "execution_count": 7,
   "metadata": {
    "ExecuteTime": {
     "end_time": "2020-04-14T20:03:43.116111Z",
     "start_time": "2020-04-14T20:03:43.106111Z"
    }
   },
   "outputs": [],
   "source": [
    "model = CovidModel(chem_model, protein_model, dropout=DROPOUT_RATE)"
   ]
  },
  {
   "cell_type": "code",
   "execution_count": 8,
   "metadata": {
    "ExecuteTime": {
     "end_time": "2020-04-14T20:03:47.933472Z",
     "start_time": "2020-04-14T20:03:43.122118Z"
    }
   },
   "outputs": [],
   "source": [
    "model.to(DEVICE);"
   ]
  },
  {
   "cell_type": "code",
   "execution_count": 9,
   "metadata": {
    "ExecuteTime": {
     "end_time": "2020-04-14T20:03:47.939487Z",
     "start_time": "2020-04-14T20:03:47.935473Z"
    }
   },
   "outputs": [],
   "source": [
    "import random"
   ]
  },
  {
   "cell_type": "code",
   "execution_count": 10,
   "metadata": {
    "ExecuteTime": {
     "end_time": "2020-04-14T20:03:47.970474Z",
     "start_time": "2020-04-14T20:03:47.942495Z"
    }
   },
   "outputs": [],
   "source": [
    "import os, gzip\n",
    "import pickle as pkl\n",
    "\n",
    "def create_data_split(src_folder, dst_train_folder, dst_test_folder, pct_train=0.9, tolerance = 0.01):\n",
    "    data = covid.datasets.StitchDataset(src_folder)\n",
    "    data._deferred_load()\n",
    "    \n",
    "    while True:\n",
    "        is_selected = pd.Series(False, index=data.all_data.index)\n",
    "\n",
    "        chem_to_select = list(data.all_chemicals.keys())\n",
    "        random.shuffle(chem_to_select)\n",
    "\n",
    "        have_selected = set()\n",
    "        num_selected = 0\n",
    "\n",
    "        while num_selected/is_selected.shape[0] < (1-pct_train) and len(chem_to_select) > 0:\n",
    "            chem = chem_to_select.pop(0)\n",
    "            items_to_select = [chem]\n",
    "            while items_to_select:\n",
    "                item = items_to_select.pop(0)\n",
    "                # print(len(have_selected), len(items_to_select), is_selected.mean())\n",
    "\n",
    "                have_selected.add(item)\n",
    "                new_selections = (\n",
    "                    (data.all_data['item_id_a'] == item)\n",
    "                    #| (data.all_data['item_id_b'] == item)\n",
    "                )\n",
    "                new_data = data.all_data.loc[new_selections]\n",
    "                items_to_select.extend(\n",
    "                    set(new_data['item_id_a'].values).union(\n",
    "                        set()#new_data['item_id_b'].values\n",
    "                    ).difference(have_selected)\n",
    "                )\n",
    "                is_selected = is_selected | new_selections\n",
    "                num_selected += new_data.shape[0]\n",
    "\n",
    "            # print(is_selected.mean())\n",
    "\n",
    "        if is_selected.mean() <= (1-pct_train) + tolerance:\n",
    "            break\n",
    "        \n",
    "        print(f\"Test set outside of tolerance -- {is_selected.mean():0.3%} -- retrying...\")\n",
    "    \n",
    "    print(f\"Test set selected -- {is_selected.mean():0.3%}\")\n",
    "    \n",
    "    train_data = data.all_data.loc[~is_selected]\n",
    "    train_chem = {k:data.all_chemicals[k] for k in train_data['item_id_a'].unique()}\n",
    "    train_prot = {k:data.all_proteins[k] for k in train_data['item_id_b'].unique()}\n",
    "    \n",
    "    test_data = data.all_data.loc[is_selected]\n",
    "    test_chem = {k:data.all_chemicals[k] for k in test_data['item_id_a'].unique()}\n",
    "    test_prot = {k:data.all_proteins[k] for k in test_data['item_id_b'].unique()}\n",
    "    \n",
    "    if not os.path.exists(dst_train_folder):\n",
    "        os.mkdir(dst_train_folder)\n",
    "        \n",
    "    train_data.to_csv(os.path.join(dst_train_folder, 'stitch_preprocessed.csv.gz'), index=False)\n",
    "    with gzip.open(os.path.join(dst_train_folder, 'stitch_proteins.pkl.gz'), 'wb') as f:\n",
    "        pkl.dump(train_prot, f, pkl.HIGHEST_PROTOCOL)\n",
    "    with gzip.open(os.path.join(dst_train_folder, 'stitch_chemicals.pkl.gz'), 'wb') as f:\n",
    "        pkl.dump(train_chem, f, pkl.HIGHEST_PROTOCOL)\n",
    "        \n",
    "    if not os.path.exists(dst_test_folder):\n",
    "        os.mkdir(dst_test_folder)\n",
    "        \n",
    "    test_data.to_csv(os.path.join(dst_test_folder, 'stitch_preprocessed.csv.gz'), index=False)\n",
    "    with gzip.open(os.path.join(dst_test_folder, 'stitch_proteins.pkl.gz'), 'wb') as f:\n",
    "        pkl.dump(test_prot, f, pkl.HIGHEST_PROTOCOL)\n",
    "    with gzip.open(os.path.join(dst_test_folder, 'stitch_chemicals.pkl.gz'), 'wb') as f:\n",
    "        pkl.dump(test_chem, f, pkl.HIGHEST_PROTOCOL)\n",
    "        "
   ]
  },
  {
   "cell_type": "code",
   "execution_count": 11,
   "metadata": {
    "ExecuteTime": {
     "end_time": "2020-04-14T20:03:47.978479Z",
     "start_time": "2020-04-14T20:03:47.973480Z"
    }
   },
   "outputs": [],
   "source": [
    "if not os.path.exists('./data/training'):\n",
    "    create_data_split('./data', './data/training', './data/final_holdout')\n",
    "    \n",
    "    for i in range(10):\n",
    "        create_data_split('./data/training', f'./data/train_{i:02}', f'./data/valid_{i:02}')"
   ]
  },
  {
   "cell_type": "code",
   "execution_count": 12,
   "metadata": {
    "ExecuteTime": {
     "end_time": "2020-04-14T20:03:47.998475Z",
     "start_time": "2020-04-14T20:03:47.985488Z"
    }
   },
   "outputs": [],
   "source": [
    "def create_dataloader(data, sample_size=None):\n",
    "    class SubSampler(T.utils.data.Sampler):\n",
    "        def __init__(self, length, numsamples):\n",
    "            self._length = length\n",
    "            self._numsamples = min(numsamples, length)\n",
    "\n",
    "        def __iter__(self):\n",
    "            return iter(np.random.choice(self._length, self._numsamples, replace=False))\n",
    "\n",
    "        def __len__(self):\n",
    "            return self._numsamples\n",
    "\n",
    "    return T.utils.data.DataLoader(\n",
    "        data,\n",
    "        batch_size=BATCH_SIZE,\n",
    "        sampler=None if sample_size is None else SubSampler(len(data), sample_size),\n",
    "        shuffle=True if sample_size is None else None,\n",
    "        collate_fn = covid.datasets.collate_stitch_data\n",
    "    )"
   ]
  },
  {
   "cell_type": "code",
   "execution_count": 13,
   "metadata": {
    "ExecuteTime": {
     "end_time": "2020-04-14T20:03:55.296528Z",
     "start_time": "2020-04-14T20:03:48.000490Z"
    },
    "scrolled": true
   },
   "outputs": [],
   "source": [
    "data = covid.datasets.StitchDataset('./data/train_00')\n",
    "dataloader = create_dataloader(data, BATCH_SIZE * BATCHES_PER_EPOCH)"
   ]
  },
  {
   "cell_type": "code",
   "execution_count": 27,
   "metadata": {
    "ExecuteTime": {
     "end_time": "2020-04-14T20:08:36.562041Z",
     "start_time": "2020-04-14T20:08:36.220037Z"
    }
   },
   "outputs": [],
   "source": [
    "validation_data = covid.datasets.StitchDataset('./data/valid_00')\n",
    "validation_dataloader = create_dataloader(validation_data, BATCH_SIZE * 200)"
   ]
  },
  {
   "cell_type": "code",
   "execution_count": 15,
   "metadata": {
    "ExecuteTime": {
     "end_time": "2020-04-14T20:03:55.772769Z",
     "start_time": "2020-04-14T20:03:55.763775Z"
    }
   },
   "outputs": [],
   "source": [
    "class RandomModel(nn.Module):\n",
    "    def __init__(self):\n",
    "        super().__init__()\n",
    "        self.model = nn.Sequential(\n",
    "            nn.Linear(5,100),\n",
    "            nn.ReLU(),\n",
    "            nn.Linear(100,5),\n",
    "            nn.Sigmoid()\n",
    "        )\n",
    "        \n",
    "    def forward(self, chem_graphs, chem_features, proteins):\n",
    "        batch_size = chem_graphs.n_mols\n",
    "        input = T.rand((batch_size, 5), device=chem_features.device)\n",
    "        return self.model(input)"
   ]
  },
  {
   "cell_type": "code",
   "execution_count": 16,
   "metadata": {
    "ExecuteTime": {
     "end_time": "2020-04-14T20:03:55.787885Z",
     "start_time": "2020-04-14T20:03:55.774767Z"
    }
   },
   "outputs": [],
   "source": [
    "#model = RandomModel().to(DEVICE) "
   ]
  },
  {
   "cell_type": "code",
   "execution_count": 17,
   "metadata": {
    "ExecuteTime": {
     "end_time": "2020-04-14T20:03:55.801895Z",
     "start_time": "2020-04-14T20:03:55.792883Z"
    }
   },
   "outputs": [],
   "source": [
    "optim = T.optim.Adam(model.parameters(), lr=1e-4, betas=(0.95, 0.99))\n",
    "scheduler = LinearWarmupScheduler(optim, 2000)"
   ]
  },
  {
   "cell_type": "code",
   "execution_count": 18,
   "metadata": {
    "ExecuteTime": {
     "end_time": "2020-04-14T20:03:56.005329Z",
     "start_time": "2020-04-14T20:03:55.805419Z"
    }
   },
   "outputs": [],
   "source": [
    "import matplotlib.pyplot as plt"
   ]
  },
  {
   "cell_type": "code",
   "execution_count": 19,
   "metadata": {
    "ExecuteTime": {
     "end_time": "2020-04-14T20:03:56.013259Z",
     "start_time": "2020-04-14T20:03:56.009262Z"
    }
   },
   "outputs": [],
   "source": [
    "from ipywidgets import widgets\n",
    "from IPython.display import display"
   ]
  },
  {
   "cell_type": "code",
   "execution_count": 20,
   "metadata": {
    "ExecuteTime": {
     "end_time": "2020-04-14T20:03:56.021036Z",
     "start_time": "2020-04-14T20:03:56.015258Z"
    }
   },
   "outputs": [],
   "source": [
    "losses = []\n",
    "valid_losses = []"
   ]
  },
  {
   "cell_type": "code",
   "execution_count": 21,
   "metadata": {
    "ExecuteTime": {
     "end_time": "2020-04-14T20:03:56.042484Z",
     "start_time": "2020-04-14T20:03:56.025930Z"
    }
   },
   "outputs": [
    {
     "data": {
      "text/plain": [
       "[]"
      ]
     },
     "execution_count": 21,
     "metadata": {},
     "output_type": "execute_result"
    }
   ],
   "source": [
    "valid_losses"
   ]
  },
  {
   "cell_type": "code",
   "execution_count": 30,
   "metadata": {
    "ExecuteTime": {
     "end_time": "2020-04-14T20:44:53.116770Z",
     "start_time": "2020-04-14T20:44:53.108771Z"
    }
   },
   "outputs": [],
   "source": [
    "def plot_losses(losses, valid_losses, period=10, display_to=None):\n",
    "    with plt.style.context('bmh'):\n",
    "        fig, ax = plt.subplots()\n",
    "        y = np.reshape(losses[:((len(losses)//period)*period)],(-1,period)).mean(1)\n",
    "        x = np.linspace(0, len(valid_losses)-1, y.shape[0])\n",
    "        ax.plot(x, y, lw=1, alpha=0.75, label='model (training)', c='C0')\n",
    "        ax.plot(np.arange(len(valid_losses)), valid_losses, label='model (validation)', c='C1')\n",
    "        ax.plot((x[0], x[-1]), (0.358, 0.358), c='g', ls=':', lw=1.5, label='random baseline')\n",
    "        ax.legend()\n",
    "        if display_to is not None:\n",
    "            with display_to:\n",
    "                display(fig)\n",
    "            plt.close(fig)\n"
   ]
  },
  {
   "cell_type": "code",
   "execution_count": 31,
   "metadata": {
    "ExecuteTime": {
     "end_time": "2020-04-14T20:45:03.359771Z",
     "start_time": "2020-04-14T20:45:03.202771Z"
    }
   },
   "outputs": [
    {
     "data": {
      "image/png": "[encoded data removed]",
      "text/plain": [
       "<Figure size 432x288 with 1 Axes>"
      ]
     },
     "metadata": {
      "needs_background": "light"
     },
     "output_type": "display_data"
    }
   ],
   "source": [
    "plot_losses(losses, valid_losses, 20)"
   ]
  },
  {
   "cell_type": "code",
   "execution_count": 24,
   "metadata": {
    "ExecuteTime": {
     "end_time": "2020-04-14T20:07:26.573691Z",
     "start_time": "2020-04-14T20:07:26.565692Z"
    }
   },
   "outputs": [],
   "source": [
    "def run_model(batch):\n",
    "    chem_graphs, chem_features, proteins, target = batch\n",
    "    \n",
    "    chem_graphs = chem_graphs.to(DEVICE)\n",
    "    chem_features = chem_features.to(DEVICE)\n",
    "    proteins = proteins.to(DEVICE)\n",
    "\n",
    "    weights = (target * 0.0015).clamp(1e-3, 1.0)\n",
    "    weights[target == 0] = 0.5\n",
    "\n",
    "    weights = weights.to(DEVICE)\n",
    "    \n",
    "    target = (1.0*(target > 0)).to(DEVICE)\n",
    "    \n",
    "    result = model(chem_graphs, chem_features, proteins)\n",
    "\n",
    "    loss = F.binary_cross_entropy(result, target, weight=weights)\n",
    "    return result, target, loss"
   ]
  },
  {
   "cell_type": "code",
   "execution_count": 25,
   "metadata": {
    "ExecuteTime": {
     "end_time": "2020-04-14T20:07:27.249707Z",
     "start_time": "2020-04-14T20:07:27.244693Z"
    }
   },
   "outputs": [],
   "source": [
    "def get_validation_loss():\n",
    "    model.eval()\n",
    "    \n",
    "    total_loss = 0.0\n",
    "    total_div = 0\n",
    "    \n",
    "    for batch in tqdm(validation_dataloader, leave=False):\n",
    "        chem_graphs, chem_features, proteins, target = batch\n",
    "        result, _, loss = run_model(batch)\n",
    "        total_loss += loss.item() * result.shape[0]\n",
    "        total_div += result.shape[0]\n",
    "        \n",
    "    return total_loss / total_div"
   ]
  },
  {
   "cell_type": "code",
   "execution_count": 28,
   "metadata": {
    "ExecuteTime": {
     "end_time": "2020-04-14T20:11:19.731788Z",
     "start_time": "2020-04-14T20:11:06.189645Z"
    }
   },
   "outputs": [
    {
     "data": {
      "application/vnd.jupyter.widget-view+json": {
       "model_id": "",
       "version_major": 2,
       "version_minor": 0
      },
      "text/plain": [
       "HBox(children=(FloatProgress(value=0.0, max=200.0), HTML(value='')))"
      ]
     },
     "metadata": {},
     "output_type": "display_data"
    }
   ],
   "source": [
    "valid_losses.append(get_validation_loss())"
   ]
  },
  {
   "cell_type": "code",
   "execution_count": null,
   "metadata": {},
   "outputs": [],
   "source": []
  },
  {
   "cell_type": "code",
   "execution_count": null,
   "metadata": {
    "ExecuteTime": {
     "start_time": "2020-04-14T20:45:48.622Z"
    },
    "scrolled": false
   },
   "outputs": [
    {
     "data": {
      "application/vnd.jupyter.widget-view+json": {
       "model_id": "5745ca5b84fa47b3a19d7b3fdd12ff8d",
       "version_major": 2,
       "version_minor": 0
      },
      "text/plain": [
       "Output()"
      ]
     },
     "metadata": {},
     "output_type": "display_data"
    },
    {
     "data": {
      "application/vnd.jupyter.widget-view+json": {
       "model_id": "c4b220ebf44441e9ae1fc820e1de5034",
       "version_major": 2,
       "version_minor": 0
      },
      "text/plain": [
       "HBox(children=(FloatProgress(value=0.0), HTML(value='')))"
      ]
     },
     "metadata": {},
     "output_type": "display_data"
    },
    {
     "data": {
      "application/vnd.jupyter.widget-view+json": {
       "model_id": "d31aa51696724c37a6f62543e4625c4a",
       "version_major": 2,
       "version_minor": 0
      },
      "text/plain": [
       "HBox(children=(FloatProgress(value=0.0, max=5000.0), HTML(value='')))"
      ]
     },
     "metadata": {},
     "output_type": "display_data"
    }
   ],
   "source": [
    "chart_area = widgets.Output()\n",
    "display(chart_area)\n",
    "\n",
    "for epoch in tqdm(range(100)):\n",
    "    idx = 0\n",
    "    \n",
    "    model.train()\n",
    "    for batch in tqdm(dataloader, leave=False, total=BATCHES_PER_EPOCH):\n",
    "\n",
    "        model.zero_grad()\n",
    "        _, _, loss = run_model(batch)\n",
    "\n",
    "        loss.backward()\n",
    "        losses.append(loss.item())\n",
    "\n",
    "        optim.step()\n",
    "        scheduler.step()\n",
    "            \n",
    "        idx += 1\n",
    "    \n",
    "    valid_losses.append(get_validation_loss())\n",
    "    \n",
    "    chart_area.clear_output()\n",
    "    plot_losses(losses, valid_losses, max(10, len(losses)//2000), chart_area)\n",
    "    #     if idx >= 10:\n",
    "    #         break"
   ]
  },
  {
   "cell_type": "code",
   "execution_count": null,
   "metadata": {
    "ExecuteTime": {
     "end_time": "2020-04-14T20:03:56.560884Z",
     "start_time": "2020-04-14T20:03:37.616Z"
    }
   },
   "outputs": [],
   "source": [
    "np.reshape(losses, (-1,5))"
   ]
  },
  {
   "cell_type": "code",
   "execution_count": null,
   "metadata": {
    "ExecuteTime": {
     "end_time": "2020-04-14T20:03:56.563898Z",
     "start_time": "2020-04-14T20:03:37.619Z"
    },
    "scrolled": true
   },
   "outputs": [],
   "source": [
    "plt.plot(losses)"
   ]
  },
  {
   "cell_type": "code",
   "execution_count": null,
   "metadata": {},
   "outputs": [],
   "source": []
  }
 ],
 "metadata": {
  "kernelspec": {
   "display_name": "Python 3",
   "language": "python",
   "name": "python3"
  },
  "language_info": {
   "codemirror_mode": {
    "name": "ipython",
    "version": 3
   },
   "file_extension": ".py",
   "mimetype": "text/x-python",
   "name": "python",
   "nbconvert_exporter": "python",
   "pygments_lexer": "ipython3",
   "version": "3.7.6"
  },
  "toc": {
   "base_numbering": 1,
   "nav_menu": {},
   "number_sections": true,
   "sideBar": true,
   "skip_h1_title": false,
   "title_cell": "Table of Contents",
   "title_sidebar": "Contents",
   "toc_cell": false,
   "toc_position": {},
   "toc_section_display": true,
   "toc_window_display": false
  }
 },
 "nbformat": 4,
 "nbformat_minor": 4
}
