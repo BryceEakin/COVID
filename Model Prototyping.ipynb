{
 "cells": [
  {
   "cell_type": "code",
   "execution_count": 1,
   "metadata": {
    "ExecuteTime": {
     "end_time": "2020-05-14T15:31:03.731755Z",
     "start_time": "2020-05-14T15:31:01.465237Z"
    }
   },
   "outputs": [],
   "source": [
    "import pandas as pd\n",
    "import numpy as np\n",
    "import torch as T\n",
    "from torch import nn\n",
    "import torch.nn.functional as F\n",
    "\n",
    "import chemprop\n",
    "import rdkit\n",
    "\n",
    "import pickle as pkl\n",
    "import gzip\n",
    "\n",
    "from tqdm.notebook import tqdm\n",
    "import argparse\n",
    "\n",
    "import random"
   ]
  },
  {
   "cell_type": "code",
   "execution_count": 2,
   "metadata": {
    "ExecuteTime": {
     "end_time": "2020-05-14T15:31:03.862758Z",
     "start_time": "2020-05-14T15:31:03.733754Z"
    }
   },
   "outputs": [],
   "source": [
    "import covid\n",
    "from covid.datasets import *\n",
    "from covid.modules import *\n",
    "from covid.data import *\n",
    "from covid.model import *\n",
    "from covid.schedulers import LinearWarmupScheduler\n",
    "from covid.reporting import get_performance_plots\n",
    "\n",
    "from covid.modules.chemistry import MPNEncoder"
   ]
  },
  {
   "cell_type": "code",
   "execution_count": 3,
   "metadata": {
    "ExecuteTime": {
     "end_time": "2020-05-14T15:31:03.867756Z",
     "start_time": "2020-05-14T15:31:03.864755Z"
    }
   },
   "outputs": [],
   "source": [
    "import matplotlib.pyplot as plt\n",
    "\n",
    "from ipywidgets import widgets\n",
    "from IPython.display import display"
   ]
  },
  {
   "cell_type": "code",
   "execution_count": 4,
   "metadata": {
    "ExecuteTime": {
     "end_time": "2020-05-14T15:31:04.202756Z",
     "start_time": "2020-05-14T15:31:04.193757Z"
    }
   },
   "outputs": [],
   "source": [
    "import covid.training"
   ]
  },
  {
   "cell_type": "code",
   "execution_count": 5,
   "metadata": {
    "ExecuteTime": {
     "end_time": "2020-05-14T15:31:04.770607Z",
     "start_time": "2020-05-14T15:31:04.767606Z"
    }
   },
   "outputs": [],
   "source": [
    "import logging"
   ]
  },
  {
   "cell_type": "code",
   "execution_count": 34,
   "metadata": {
    "ExecuteTime": {
     "end_time": "2020-05-14T15:50:59.207868Z",
     "start_time": "2020-05-14T15:50:59.203869Z"
    }
   },
   "outputs": [],
   "source": [
    "x = np.linspace(0,20,1000)"
   ]
  },
  {
   "cell_type": "code",
   "execution_count": 46,
   "metadata": {
    "ExecuteTime": {
     "end_time": "2020-05-14T15:54:10.696807Z",
     "start_time": "2020-05-14T15:54:10.691807Z"
    }
   },
   "outputs": [
    {
     "data": {
      "text/plain": [
       "50.0"
      ]
     },
     "execution_count": 46,
     "metadata": {},
     "output_type": "execute_result"
    }
   ],
   "source": []
  },
  {
   "cell_type": "code",
   "execution_count": 49,
   "metadata": {
    "ExecuteTime": {
     "end_time": "2020-05-14T15:55:32.745582Z",
     "start_time": "2020-05-14T15:55:32.621851Z"
    }
   },
   "outputs": [
    {
     "data": {
      "text/plain": [
       "[<matplotlib.lines.Line2D at 0x1927fa88fc8>]"
      ]
     },
     "execution_count": 49,
     "metadata": {},
     "output_type": "execute_result"
    },
    {
     "data": {
      "image/png": "[encoded data removed]",
      "text/plain": [
       "<Figure size 432x288 with 1 Axes>"
      ]
     },
     "metadata": {
      "needs_background": "light"
     },
     "output_type": "display_data"
    }
   ],
   "source": [
    "y = (0.5*(np.sin(x)+1))**10\n",
    "plt.plot(x,y)"
   ]
  },
  {
   "cell_type": "code",
   "execution_count": 6,
   "metadata": {
    "ExecuteTime": {
     "end_time": "2020-05-12T03:48:53.607768Z",
     "start_time": "2020-05-12T03:48:53.602766Z"
    }
   },
   "outputs": [],
   "source": [
    "logging.basicConfig(level=logging.DEBUG)"
   ]
  },
  {
   "cell_type": "code",
   "execution_count": 7,
   "metadata": {
    "ExecuteTime": {
     "end_time": "2020-05-12T03:48:53.757766Z",
     "start_time": "2020-05-12T03:48:53.753766Z"
    }
   },
   "outputs": [],
   "source": [
    "config = covid.training.CovidTrainingConfiguration()"
   ]
  },
  {
   "cell_type": "code",
   "execution_count": null,
   "metadata": {},
   "outputs": [],
   "source": []
  },
  {
   "cell_type": "code",
   "execution_count": 14,
   "metadata": {
    "ExecuteTime": {
     "end_time": "2020-05-08T22:50:24.417526Z",
     "start_time": "2020-05-08T22:50:09.325072Z"
    }
   },
   "outputs": [
    {
     "name": "stderr",
     "output_type": "stream",
     "text": [
      "DEBUG:root:Initializing Datasets\n"
     ]
    }
   ],
   "source": [
    "dl, _ = covid.training._create_dataloaders(config)\n",
    "idl = iter(dl)"
   ]
  },
  {
   "cell_type": "code",
   "execution_count": 20,
   "metadata": {
    "ExecuteTime": {
     "end_time": "2020-05-08T22:51:11.111744Z",
     "start_time": "2020-05-08T22:50:58.650649Z"
    },
    "scrolled": true
   },
   "outputs": [
    {
     "name": "stderr",
     "output_type": "stream",
     "text": [
      "DEBUG:root:Creating model\n",
      "DEBUG:root:0... OK\n",
      "DEBUG:root:1... OK\n",
      "DEBUG:root:2... OK\n",
      "DEBUG:root:3... OK\n",
      "DEBUG:root:4... OK\n",
      "DEBUG:root:5... OK\n",
      "DEBUG:root:6... OK\n",
      "DEBUG:root:7... OK\n",
      "DEBUG:root:8... OK\n"
     ]
    },
    {
     "data": {
      "text/plain": [
       "tensor([[0.5131, 0.4869, 0.4894, 0.5118, 0.4741],\n",
       "        [0.5138, 0.5024, 0.5102, 0.5096, 0.4811],\n",
       "        [0.4999, 0.4848, 0.5034, 0.5045, 0.4897],\n",
       "        [0.4885, 0.4915, 0.4975, 0.5093, 0.4793],\n",
       "        [0.4966, 0.4932, 0.4925, 0.4981, 0.4900],\n",
       "        [0.5102, 0.4789, 0.4980, 0.5171, 0.4888],\n",
       "        [0.5082, 0.4732, 0.5263, 0.5101, 0.4645],\n",
       "        [0.4892, 0.5125, 0.5071, 0.4997, 0.4602],\n",
       "        [0.5002, 0.4908, 0.5212, 0.5246, 0.4668],\n",
       "        [0.5076, 0.4917, 0.4889, 0.5368, 0.4770],\n",
       "        [0.5095, 0.4978, 0.5066, 0.5207, 0.4856],\n",
       "        [0.4913, 0.4799, 0.4961, 0.5094, 0.4795],\n",
       "        [0.5040, 0.5012, 0.5042, 0.5029, 0.4807],\n",
       "        [0.5368, 0.5003, 0.4950, 0.5128, 0.4909],\n",
       "        [0.4974, 0.4915, 0.5018, 0.4984, 0.4915],\n",
       "        [0.4986, 0.4994, 0.5201, 0.5281, 0.4732],\n",
       "        [0.5084, 0.4830, 0.5026, 0.5135, 0.4876],\n",
       "        [0.5178, 0.5011, 0.5119, 0.5297, 0.4754],\n",
       "        [0.5059, 0.5051, 0.5005, 0.4999, 0.4704],\n",
       "        [0.5028, 0.4737, 0.4921, 0.5000, 0.4806],\n",
       "        [0.5044, 0.4796, 0.4930, 0.5100, 0.4837],\n",
       "        [0.4941, 0.4797, 0.5000, 0.5136, 0.4917],\n",
       "        [0.4975, 0.4941, 0.5072, 0.5086, 0.4866],\n",
       "        [0.4963, 0.4847, 0.5284, 0.5199, 0.4891],\n",
       "        [0.4942, 0.4915, 0.5303, 0.5055, 0.4832],\n",
       "        [0.5294, 0.5034, 0.5157, 0.5031, 0.4816],\n",
       "        [0.5051, 0.4854, 0.4759, 0.5163, 0.4900],\n",
       "        [0.5174, 0.4902, 0.5081, 0.5012, 0.4931],\n",
       "        [0.5080, 0.4812, 0.5002, 0.5111, 0.4942],\n",
       "        [0.5110, 0.4842, 0.5092, 0.5066, 0.4850],\n",
       "        [0.5211, 0.4756, 0.5078, 0.5040, 0.4909],\n",
       "        [0.5122, 0.4809, 0.5619, 0.5069, 0.5065]], grad_fn=<SigmoidBackward>)"
      ]
     },
     "execution_count": 20,
     "metadata": {},
     "output_type": "execute_result"
    }
   ],
   "source": [
    "data = next(idl)\n",
    "_, chem_batch, chem_f_batch, prot_batch, _ = data\n",
    "model = covid.training._create_model(config)\n",
    "res = model(chem_batch, chem_f_batch, prot_batch)\n",
    "res"
   ]
  },
  {
   "cell_type": "code",
   "execution_count": 17,
   "metadata": {
    "ExecuteTime": {
     "end_time": "2020-05-01T20:44:14.113863Z",
     "start_time": "2020-05-01T20:44:14.109861Z"
    }
   },
   "outputs": [],
   "source": [
    "from hyperopt import Trials"
   ]
  },
  {
   "cell_type": "code",
   "execution_count": 18,
   "metadata": {
    "ExecuteTime": {
     "end_time": "2020-05-01T20:44:14.275865Z",
     "start_time": "2020-05-01T20:44:14.272869Z"
    }
   },
   "outputs": [],
   "source": [
    "from hyperopt.mongoexp import MongoTrials\n",
    "import hyperopt"
   ]
  },
  {
   "cell_type": "code",
   "execution_count": 10,
   "metadata": {
    "ExecuteTime": {
     "end_time": "2020-04-25T17:55:02.914519Z",
     "start_time": "2020-04-25T17:55:02.909242Z"
    }
   },
   "outputs": [],
   "source": [
    "from IPython.display import display, clear_output\n",
    "from time import sleep\n",
    "\n"
   ]
  },
  {
   "cell_type": "code",
   "execution_count": 517,
   "metadata": {
    "ExecuteTime": {
     "end_time": "2020-04-21T17:21:48.817619Z",
     "start_time": "2020-04-21T17:21:48.802620Z"
    }
   },
   "outputs": [
    {
     "ename": "SyntaxError",
     "evalue": "invalid syntax (<ipython-input-517-d7c0e6c130d7>, line 18)",
     "output_type": "error",
     "traceback": [
      "\u001b[1;36m  File \u001b[1;32m\"<ipython-input-517-d7c0e6c130d7>\"\u001b[1;36m, line \u001b[1;32m18\u001b[0m\n\u001b[1;33m    ax.set_xlim(1e-5.5, 1e-1.5)\u001b[0m\n\u001b[1;37m                     ^\u001b[0m\n\u001b[1;31mSyntaxError\u001b[0m\u001b[1;31m:\u001b[0m invalid syntax\n"
     ]
    }
   ],
   "source": [
    "def plot_param(pname):\n",
    "\n",
    "    xs = []\n",
    "    ys = []\n",
    "\n",
    "    for t in mtrials.trials:\n",
    "        if t['result'].get('loss') is None:\n",
    "            continue\n",
    "        params = hyperopt.space_eval(search_space, {k:v[0] for k,v in t['misc']['vals'].items()})\n",
    "        xs.append(params[pname])\n",
    "        ys.append(t['result']['loss'])\n",
    "\n",
    "    fig, ax = plt.subplots()\n",
    "    ax.scatter(xs, ys)\n",
    "    ax.set_yscale('log')\n",
    "    if pname == 'optim_initial_lr':\n",
    "        ax.set_xscale('log')\n",
    "        ax.set_xlim(1e-5.5, 1e-1.5)\n",
    "    ax.set_title(pname)\n",
    "    \n",
    "    display(fig)\n",
    "    plt.close(fig)"
   ]
  },
  {
   "cell_type": "code",
   "execution_count": 518,
   "metadata": {
    "ExecuteTime": {
     "end_time": "2020-04-21T17:21:55.628095Z",
     "start_time": "2020-04-21T17:21:50.267600Z"
    },
    "scrolled": true
   },
   "outputs": [
    {
     "data": {
      "image/png": "[encoded data removed]",
      "text/plain": [
       "<Figure size 432x288 with 1 Axes>"
      ]
     },
     "metadata": {},
     "output_type": "display_data"
    },
    {
     "data": {
      "image/png": "[encoded data removed]",
      "text/plain": [
       "<Figure size 432x288 with 1 Axes>"
      ]
     },
     "metadata": {},
     "output_type": "display_data"
    },
    {
     "data": {
      "image/png": "[encoded data removed]",
      "text/plain": [
       "<Figure size 432x288 with 1 Axes>"
      ]
     },
     "metadata": {},
     "output_type": "display_data"
    },
    {
     "data": {
      "image/png": "[encoded data removed]",
      "text/plain": [
       "<Figure size 432x288 with 1 Axes>"
      ]
     },
     "metadata": {},
     "output_type": "display_data"
    },
    {
     "data": {
      "image/png": "[encoded data removed]",
      "text/plain": [
       "<Figure size 432x288 with 1 Axes>"
      ]
     },
     "metadata": {},
     "output_type": "display_data"
    },
    {
     "data": {
      "image/png": "[encoded data removed]",
      "text/plain": [
       "<Figure size 432x288 with 1 Axes>"
      ]
     },
     "metadata": {},
     "output_type": "display_data"
    },
    {
     "data": {
      "image/png": "[encoded data removed]",
      "text/plain": [
       "<Figure size 432x288 with 1 Axes>"
      ]
     },
     "metadata": {},
     "output_type": "display_data"
    },
    {
     "data": {
      "image/png": "[encoded data removed]",
      "text/plain": [
       "<Figure size 432x288 with 1 Axes>"
      ]
     },
     "metadata": {},
     "output_type": "display_data"
    }
   ],
   "source": [
    "for param in ['synthetic_negative_rate', 'optim_initial_lr', 'adam_beta1', 'adam_beta2', 'dropout_rate', 'chem_layers_per_message', 'protein_base_dim', 'protein_output_dim']:\n",
    "    plot_param(param)"
   ]
  },
  {
   "cell_type": "code",
   "execution_count": 533,
   "metadata": {
    "ExecuteTime": {
     "end_time": "2020-04-21T20:21:38.419150Z",
     "start_time": "2020-04-21T20:21:38.415169Z"
    }
   },
   "outputs": [],
   "source": [
    "from collections import Counter, defaultdict"
   ]
  },
  {
   "cell_type": "code",
   "execution_count": 553,
   "metadata": {
    "ExecuteTime": {
     "end_time": "2020-04-21T21:01:10.488085Z",
     "start_time": "2020-04-21T21:01:10.482035Z"
    }
   },
   "outputs": [],
   "source": [
    "from IPython.display import HTML"
   ]
  },
  {
   "cell_type": "code",
   "execution_count": 5,
   "metadata": {
    "ExecuteTime": {
     "end_time": "2020-04-26T20:56:43.022904Z",
     "start_time": "2020-04-26T20:56:42.677305Z"
    }
   },
   "outputs": [],
   "source": [
    "import pymongo"
   ]
  },
  {
   "cell_type": "code",
   "execution_count": 15,
   "metadata": {
    "ExecuteTime": {
     "end_time": "2020-04-27T14:15:38.387498Z",
     "start_time": "2020-04-27T14:15:38.379489Z"
    }
   },
   "outputs": [],
   "source": [
    "from pymongo import MongoClient\n",
    "client = MongoClient('localhost', 1234)"
   ]
  },
  {
   "cell_type": "code",
   "execution_count": 7,
   "metadata": {
    "ExecuteTime": {
     "end_time": "2020-04-26T20:56:43.978485Z",
     "start_time": "2020-04-26T20:56:43.974446Z"
    }
   },
   "outputs": [],
   "source": [
    "jobs = client.covid['jobs']"
   ]
  },
  {
   "cell_type": "code",
   "execution_count": 8,
   "metadata": {
    "ExecuteTime": {
     "end_time": "2020-05-12T16:00:04.884985Z",
     "start_time": "2020-05-12T16:00:04.881982Z"
    }
   },
   "outputs": [],
   "source": [
    "from covid.training import set_random_seeds\n",
    "from covid.datasets import create_data_split, StitchDataset"
   ]
  },
  {
   "cell_type": "code",
   "execution_count": 13,
   "metadata": {
    "ExecuteTime": {
     "end_time": "2020-05-12T16:00:21.372912Z",
     "start_time": "2020-05-12T16:00:21.367884Z"
    }
   },
   "outputs": [],
   "source": [
    "import logging\n",
    "import sys\n",
    "logging.basicConfig(level=logging.DEBUG)"
   ]
  },
  {
   "cell_type": "code",
   "execution_count": 14,
   "metadata": {
    "ExecuteTime": {
     "end_time": "2020-05-12T16:00:21.704889Z",
     "start_time": "2020-05-12T16:00:21.699889Z"
    }
   },
   "outputs": [],
   "source": [
    "DROPOUT_RATE = 0.4\n",
    "BATCH_SIZE = 16\n",
    "\n",
    "VALIDATION_FREQUENCY = 0.2"
   ]
  },
  {
   "cell_type": "code",
   "execution_count": 15,
   "metadata": {
    "ExecuteTime": {
     "end_time": "2020-05-12T16:00:22.355897Z",
     "start_time": "2020-05-12T16:00:22.352884Z"
    }
   },
   "outputs": [],
   "source": [
    "DEVICE = 'cuda'"
   ]
  },
  {
   "cell_type": "code",
   "execution_count": 16,
   "metadata": {
    "ExecuteTime": {
     "end_time": "2020-05-12T16:00:41.982892Z",
     "start_time": "2020-05-12T16:00:41.978903Z"
    }
   },
   "outputs": [],
   "source": [
    "from covid.training import _create_model, CovidTrainingConfiguration, _create_dataloaders"
   ]
  },
  {
   "cell_type": "code",
   "execution_count": 17,
   "metadata": {
    "ExecuteTime": {
     "end_time": "2020-05-12T16:00:56.916368Z",
     "start_time": "2020-05-12T16:00:56.911368Z"
    }
   },
   "outputs": [],
   "source": [
    "config = CovidTrainingConfiguration()"
   ]
  },
  {
   "cell_type": "code",
   "execution_count": 18,
   "metadata": {
    "ExecuteTime": {
     "end_time": "2020-05-12T16:00:58.098367Z",
     "start_time": "2020-05-12T16:00:58.047366Z"
    }
   },
   "outputs": [
    {
     "name": "stderr",
     "output_type": "stream",
     "text": [
      "DEBUG:covid.training:Creating model\n"
     ]
    }
   ],
   "source": [
    "DEVICE = 'cpu'\n",
    "model = _create_model(config)"
   ]
  },
  {
   "cell_type": "code",
   "execution_count": 19,
   "metadata": {
    "ExecuteTime": {
     "end_time": "2020-05-12T16:01:00.582367Z",
     "start_time": "2020-05-12T16:01:00.577368Z"
    }
   },
   "outputs": [],
   "source": [
    "from covid.training import _create_optimizer_and_schedulers"
   ]
  },
  {
   "cell_type": "code",
   "execution_count": 20,
   "metadata": {
    "ExecuteTime": {
     "end_time": "2020-05-12T16:01:01.289369Z",
     "start_time": "2020-05-12T16:01:01.137373Z"
    }
   },
   "outputs": [
    {
     "name": "stderr",
     "output_type": "stream",
     "text": [
      "DEBUG:covid.training:Initializing optimizers/schedulers\n"
     ]
    }
   ],
   "source": [
    "optim, _, _ = _create_optimizer_and_schedulers(model, config)"
   ]
  },
  {
   "cell_type": "code",
   "execution_count": 67,
   "metadata": {
    "ExecuteTime": {
     "end_time": "2020-05-13T14:05:48.480129Z",
     "start_time": "2020-05-13T14:05:43.433555Z"
    }
   },
   "outputs": [
    {
     "name": "stderr",
     "output_type": "stream",
     "text": [
      "DEBUG:covid.training:Initializing Datasets\n"
     ]
    }
   ],
   "source": [
    "dl, vdl = _create_dataloaders(config)"
   ]
  },
  {
   "cell_type": "code",
   "execution_count": 93,
   "metadata": {
    "ExecuteTime": {
     "end_time": "2020-05-13T15:24:42.354929Z",
     "start_time": "2020-05-13T15:24:42.348965Z"
    }
   },
   "outputs": [],
   "source": [
    "TOTAL_TIME = 0\n",
    "TOTAL_CALLS = 0\n",
    "\n",
    "import time\n",
    "\n",
    "class timed_iter():\n",
    "    def __init__(self, inner_iterable):\n",
    "        self._iter = iter(inner_iterable)\n",
    "    \n",
    "    def __iter__(self):\n",
    "        return self\n",
    "    \n",
    "    def __next__(self):\n",
    "        global TOTAL_TIME, TOTAL_CALLS\n",
    "        start_time = time.process_time()\n",
    "        res = next(self._iter)\n",
    "        end_time = time.process_time()\n",
    "        TOTAL_TIME += (end_time-start_time)\n",
    "        TOTAL_CALLS += 1\n",
    "        return res"
   ]
  },
  {
   "cell_type": "code",
   "execution_count": 101,
   "metadata": {
    "ExecuteTime": {
     "end_time": "2020-05-13T15:47:46.044324Z",
     "start_time": "2020-05-13T15:42:21.166337Z"
    }
   },
   "outputs": [],
   "source": [
    "bins = T.zeros(10,5)\n",
    "\n",
    "weight_sums = T.zeros(5)\n",
    "\n",
    "for batch in timed_iter(dl):\n",
    "    _, _, _, _, target = batch\n",
    "    \n",
    "    weights = (target * 0.0015).clamp(1e-3, 1.0)\n",
    "    weights[target == 0] = 0  # 0.5\n",
    "    weight_sums += weights.sum(0)\n",
    "    \n",
    "    upd = T.zeros(10,5)\n",
    "    for i in range(9):\n",
    "        upd[i,:] = (target <= i*100).sum(0)\n",
    "    \n",
    "    upd[9,:] = target.shape[0]\n",
    "    upd[1:] = upd[1:] - upd[:-1]\n",
    "    bins += upd"
   ]
  },
  {
   "cell_type": "code",
   "execution_count": 107,
   "metadata": {
    "ExecuteTime": {
     "end_time": "2020-05-13T16:02:04.718886Z",
     "start_time": "2020-05-13T16:02:04.711900Z"
    }
   },
   "outputs": [
    {
     "data": {
      "text/plain": [
       "torch.Size([1, 5])"
      ]
     },
     "execution_count": 107,
     "metadata": {},
     "output_type": "execute_result"
    }
   ],
   "source": [
    "T.tensor([[1,2,3,4,5.0]]).shape"
   ]
  },
  {
   "cell_type": "code",
   "execution_count": 106,
   "metadata": {
    "ExecuteTime": {
     "end_time": "2020-05-13T15:59:42.173953Z",
     "start_time": "2020-05-13T15:59:42.167932Z"
    }
   },
   "outputs": [
    {
     "data": {
      "text/plain": [
       "tensor([2.0181, 0.4526, 3.8953, 0.5940, 2.8166])"
      ]
     },
     "execution_count": 106,
     "metadata": {},
     "output_type": "execute_result"
    }
   ],
   "source": [
    "weight_sums.mean()/weight_sums"
   ]
  },
  {
   "cell_type": "code",
   "execution_count": 102,
   "metadata": {
    "ExecuteTime": {
     "end_time": "2020-05-13T15:47:46.221347Z",
     "start_time": "2020-05-13T15:47:46.046323Z"
    }
   },
   "outputs": [
    {
     "data": {
      "text/plain": [
       "<BarContainer object of 5 artists>"
      ]
     },
     "execution_count": 102,
     "metadata": {},
     "output_type": "execute_result"
    },
    {
     "data": {
      "image/png": "[encoded data removed]",
      "text/plain": [
       "<Figure size 432x288 with 1 Axes>"
      ]
     },
     "metadata": {
      "needs_background": "light"
     },
     "output_type": "display_data"
    }
   ],
   "source": [
    "plt.bar(np.arange(5), weight_sums.numpy())"
   ]
  },
  {
   "cell_type": "code",
   "execution_count": 103,
   "metadata": {
    "ExecuteTime": {
     "end_time": "2020-05-13T15:47:46.509660Z",
     "start_time": "2020-05-13T15:47:46.224327Z"
    }
   },
   "outputs": [
    {
     "data": {
      "image/png": "[encoded data removed]",
      "text/plain": [
       "<Figure size 432x288 with 1 Axes>"
      ]
     },
     "metadata": {
      "needs_background": "light"
     },
     "output_type": "display_data"
    }
   ],
   "source": [
    "for i in range(5):\n",
    "    plt.bar(np.arange(1,10) + i*0.2, (bins/bins.sum(0,keepdim=True)).numpy()[1:,i])"
   ]
  },
  {
   "cell_type": "code",
   "execution_count": 97,
   "metadata": {
    "ExecuteTime": {
     "end_time": "2020-05-13T15:33:09.979724Z",
     "start_time": "2020-05-13T15:33:09.974725Z"
    }
   },
   "outputs": [
    {
     "data": {
      "text/plain": [
       "6.125"
      ]
     },
     "execution_count": 97,
     "metadata": {},
     "output_type": "execute_result"
    }
   ],
   "source": [
    "TOTAL_TIME"
   ]
  },
  {
   "cell_type": "code",
   "execution_count": 51,
   "metadata": {
    "ExecuteTime": {
     "end_time": "2020-05-12T21:40:06.760366Z",
     "start_time": "2020-05-12T21:40:06.685354Z"
    }
   },
   "outputs": [],
   "source": [
    "epoch = 0\n",
    "last_validation = epoch\n",
    "losses = []\n",
    "validation_stats = []\n",
    "\n",
    "if os.path.exists(\"./training_state/train_fold00__state.pkl.gz\"):\n",
    "    with gzip.open(\"./training_state/train_fold00__state.pkl.gz\", \"rb\") as f:\n",
    "        state = T.load(f, map_location=DEVICE)\n",
    "        \n",
    "#     epoch = state.get('epoch', epoch)\n",
    "#     losses = state.get('losses', losses)\n",
    "#     validation_stats = state.get('validation_stats', validation_stats)\n",
    "#     last_validation = state.get('last_validation', last_validation)\n",
    "#     model.load_state_dict(state['model'])\n",
    "#     optim.load_state_dict(state['optim'])\n",
    "    #warmup.load_state_dict(state['warmup'])\n",
    "    \n",
    "# if epoch == 0:\n",
    "#     vloss, vacc, v_conf = get_validation_loss()\n",
    "#     validation_stats.append([0, vloss, vacc, v_conf])"
   ]
  },
  {
   "cell_type": "code",
   "execution_count": 55,
   "metadata": {
    "ExecuteTime": {
     "end_time": "2020-05-12T21:40:33.271329Z",
     "start_time": "2020-05-12T21:40:33.268330Z"
    }
   },
   "outputs": [],
   "source": [
    "state['scheduler']['_last_lr']=[1e-5]"
   ]
  },
  {
   "cell_type": "code",
   "execution_count": 56,
   "metadata": {
    "ExecuteTime": {
     "end_time": "2020-05-12T21:40:33.710332Z",
     "start_time": "2020-05-12T21:40:33.705332Z"
    }
   },
   "outputs": [],
   "source": [
    "state['scheduler']['best'] = 1.0"
   ]
  },
  {
   "cell_type": "code",
   "execution_count": 60,
   "metadata": {
    "ExecuteTime": {
     "end_time": "2020-05-12T21:41:19.752330Z",
     "start_time": "2020-05-12T21:41:19.748332Z"
    }
   },
   "outputs": [],
   "source": [
    "for pg in state['optim']['param_groups']:\n",
    "    pg['lr'] = 1e-5"
   ]
  },
  {
   "cell_type": "code",
   "execution_count": 66,
   "metadata": {
    "ExecuteTime": {
     "end_time": "2020-05-12T21:42:31.614362Z",
     "start_time": "2020-05-12T21:42:30.818332Z"
    }
   },
   "outputs": [],
   "source": [
    "with gzip.open(\"./training_state/train_fold00__state.pkl.gz\", \"wb\") as f:\n",
    "    T.save(state, f)"
   ]
  },
  {
   "cell_type": "code",
   "execution_count": 25,
   "metadata": {
    "ExecuteTime": {
     "end_time": "2020-05-12T16:01:51.392254Z",
     "start_time": "2020-05-12T16:01:51.376251Z"
    }
   },
   "outputs": [
    {
     "data": {
      "text/plain": [
       "tensor(0.8586)"
      ]
     },
     "execution_count": 25,
     "metadata": {},
     "output_type": "execute_result"
    }
   ],
   "source": [
    "(1.0*(model.final_layers[0].is_log == model.context_model[0].is_log)).mean()"
   ]
  },
  {
   "cell_type": "code",
   "execution_count": 19,
   "metadata": {
    "ExecuteTime": {
     "end_time": "2020-04-15T05:37:12.030197Z",
     "start_time": "2020-04-15T05:37:12.026196Z"
    }
   },
   "outputs": [],
   "source": [
    "if not os.path.exists(\"./checkpoints/\"):\n",
    "    os.mkdir(\"./checkpoints\")"
   ]
  },
  {
   "cell_type": "code",
   "execution_count": 20,
   "metadata": {
    "ExecuteTime": {
     "end_time": "2020-04-15T15:35:19.357764Z",
     "start_time": "2020-04-15T05:37:12.031197Z"
    },
    "scrolled": false
   },
   "outputs": [
    {
     "data": {
      "application/vnd.jupyter.widget-view+json": {
       "model_id": "b19ddddf9ba54cb0ad279435f0dabfc0",
       "version_major": 2,
       "version_minor": 0
      },
      "text/plain": [
       "Output()"
      ]
     },
     "metadata": {},
     "output_type": "display_data"
    },
    {
     "data": {
      "application/vnd.jupyter.widget-view+json": {
       "model_id": "44bd461d62b24401a7c272a5adbc9d40",
       "version_major": 2,
       "version_minor": 0
      },
      "text/plain": [
       "HBox(children=(FloatProgress(value=0.0), HTML(value='')))"
      ]
     },
     "metadata": {},
     "output_type": "display_data"
    },
    {
     "data": {
      "application/vnd.jupyter.widget-view+json": {
       "model_id": "",
       "version_major": 2,
       "version_minor": 0
      },
      "text/plain": [
       "HBox(children=(FloatProgress(value=0.0, max=21362.0), HTML(value='')))"
      ]
     },
     "metadata": {},
     "output_type": "display_data"
    },
    {
     "data": {
      "application/vnd.jupyter.widget-view+json": {
       "model_id": "",
       "version_major": 2,
       "version_minor": 0
      },
      "text/plain": [
       "HBox(children=(FloatProgress(value=0.0, max=21362.0), HTML(value='')))"
      ]
     },
     "metadata": {},
     "output_type": "display_data"
    },
    {
     "data": {
      "application/vnd.jupyter.widget-view+json": {
       "model_id": "",
       "version_major": 2,
       "version_minor": 0
      },
      "text/plain": [
       "HBox(children=(FloatProgress(value=0.0, max=21362.0), HTML(value='')))"
      ]
     },
     "metadata": {},
     "output_type": "display_data"
    },
    {
     "data": {
      "application/vnd.jupyter.widget-view+json": {
       "model_id": "",
       "version_major": 2,
       "version_minor": 0
      },
      "text/plain": [
       "HBox(children=(FloatProgress(value=0.0, max=21362.0), HTML(value='')))"
      ]
     },
     "metadata": {},
     "output_type": "display_data"
    },
    {
     "data": {
      "application/vnd.jupyter.widget-view+json": {
       "model_id": "",
       "version_major": 2,
       "version_minor": 0
      },
      "text/plain": [
       "HBox(children=(FloatProgress(value=0.0, max=21362.0), HTML(value='')))"
      ]
     },
     "metadata": {},
     "output_type": "display_data"
    },
    {
     "data": {
      "application/vnd.jupyter.widget-view+json": {
       "model_id": "",
       "version_major": 2,
       "version_minor": 0
      },
      "text/plain": [
       "HBox(children=(FloatProgress(value=0.0, max=21362.0), HTML(value='')))"
      ]
     },
     "metadata": {},
     "output_type": "display_data"
    },
    {
     "data": {
      "application/vnd.jupyter.widget-view+json": {
       "model_id": "",
       "version_major": 2,
       "version_minor": 0
      },
      "text/plain": [
       "HBox(children=(FloatProgress(value=0.0, max=21362.0), HTML(value='')))"
      ]
     },
     "metadata": {},
     "output_type": "display_data"
    },
    {
     "data": {
      "application/vnd.jupyter.widget-view+json": {
       "model_id": "",
       "version_major": 2,
       "version_minor": 0
      },
      "text/plain": [
       "HBox(children=(FloatProgress(value=0.0, max=21362.0), HTML(value='')))"
      ]
     },
     "metadata": {},
     "output_type": "display_data"
    },
    {
     "data": {
      "application/vnd.jupyter.widget-view+json": {
       "model_id": "",
       "version_major": 2,
       "version_minor": 0
      },
      "text/plain": [
       "HBox(children=(FloatProgress(value=0.0, max=21362.0), HTML(value='')))"
      ]
     },
     "metadata": {},
     "output_type": "display_data"
    },
    {
     "data": {
      "application/vnd.jupyter.widget-view+json": {
       "model_id": "e86ecf4a0dcb42358ef9af0a603f87ba",
       "version_major": 2,
       "version_minor": 0
      },
      "text/plain": [
       "HBox(children=(FloatProgress(value=0.0, max=21362.0), HTML(value='')))"
      ]
     },
     "metadata": {},
     "output_type": "display_data"
    },
    {
     "ename": "KeyboardInterrupt",
     "evalue": "",
     "output_type": "error",
     "traceback": [
      "\u001b[1;31m---------------------------------------------------------------------------\u001b[0m",
      "\u001b[1;31mKeyboardInterrupt\u001b[0m                         Traceback (most recent call last)",
      "\u001b[1;32m<ipython-input-20-31b3f5a36a52>\u001b[0m in \u001b[0;36m<module>\u001b[1;34m\u001b[0m\n\u001b[0;32m     13\u001b[0m         \u001b[0m_\u001b[0m\u001b[1;33m,\u001b[0m \u001b[0m_\u001b[0m\u001b[1;33m,\u001b[0m \u001b[0mloss\u001b[0m\u001b[1;33m,\u001b[0m \u001b[0m_\u001b[0m \u001b[1;33m=\u001b[0m \u001b[0mrun_model\u001b[0m\u001b[1;33m(\u001b[0m\u001b[0mmodel\u001b[0m\u001b[1;33m,\u001b[0m \u001b[0mbatch\u001b[0m\u001b[1;33m,\u001b[0m \u001b[0mDEVICE\u001b[0m\u001b[1;33m)\u001b[0m\u001b[1;33m\u001b[0m\u001b[1;33m\u001b[0m\u001b[0m\n\u001b[0;32m     14\u001b[0m \u001b[1;33m\u001b[0m\u001b[0m\n\u001b[1;32m---> 15\u001b[1;33m         \u001b[0mloss\u001b[0m\u001b[1;33m.\u001b[0m\u001b[0mbackward\u001b[0m\u001b[1;33m(\u001b[0m\u001b[1;33m)\u001b[0m\u001b[1;33m\u001b[0m\u001b[1;33m\u001b[0m\u001b[0m\n\u001b[0m\u001b[0;32m     16\u001b[0m \u001b[1;33m\u001b[0m\u001b[0m\n\u001b[0;32m     17\u001b[0m         \u001b[0moptim\u001b[0m\u001b[1;33m.\u001b[0m\u001b[0mstep\u001b[0m\u001b[1;33m(\u001b[0m\u001b[1;33m)\u001b[0m\u001b[1;33m\u001b[0m\u001b[1;33m\u001b[0m\u001b[0m\n",
      "\u001b[1;32m~\\Anaconda3\\lib\\site-packages\\torch\\tensor.py\u001b[0m in \u001b[0;36mbackward\u001b[1;34m(self, gradient, retain_graph, create_graph)\u001b[0m\n\u001b[0;32m    193\u001b[0m                 \u001b[0mproducts\u001b[0m\u001b[1;33m.\u001b[0m \u001b[0mDefaults\u001b[0m \u001b[0mto\u001b[0m\u001b[0;31m \u001b[0m\u001b[0;31m`\u001b[0m\u001b[0;31m`\u001b[0m\u001b[1;32mFalse\u001b[0m\u001b[0;31m`\u001b[0m\u001b[0;31m`\u001b[0m\u001b[1;33m.\u001b[0m\u001b[1;33m\u001b[0m\u001b[1;33m\u001b[0m\u001b[0m\n\u001b[0;32m    194\u001b[0m         \"\"\"\n\u001b[1;32m--> 195\u001b[1;33m         \u001b[0mtorch\u001b[0m\u001b[1;33m.\u001b[0m\u001b[0mautograd\u001b[0m\u001b[1;33m.\u001b[0m\u001b[0mbackward\u001b[0m\u001b[1;33m(\u001b[0m\u001b[0mself\u001b[0m\u001b[1;33m,\u001b[0m \u001b[0mgradient\u001b[0m\u001b[1;33m,\u001b[0m \u001b[0mretain_graph\u001b[0m\u001b[1;33m,\u001b[0m \u001b[0mcreate_graph\u001b[0m\u001b[1;33m)\u001b[0m\u001b[1;33m\u001b[0m\u001b[1;33m\u001b[0m\u001b[0m\n\u001b[0m\u001b[0;32m    196\u001b[0m \u001b[1;33m\u001b[0m\u001b[0m\n\u001b[0;32m    197\u001b[0m     \u001b[1;32mdef\u001b[0m \u001b[0mregister_hook\u001b[0m\u001b[1;33m(\u001b[0m\u001b[0mself\u001b[0m\u001b[1;33m,\u001b[0m \u001b[0mhook\u001b[0m\u001b[1;33m)\u001b[0m\u001b[1;33m:\u001b[0m\u001b[1;33m\u001b[0m\u001b[1;33m\u001b[0m\u001b[0m\n",
      "\u001b[1;32m~\\Anaconda3\\lib\\site-packages\\torch\\autograd\\__init__.py\u001b[0m in \u001b[0;36mbackward\u001b[1;34m(tensors, grad_tensors, retain_graph, create_graph, grad_variables)\u001b[0m\n\u001b[0;32m     97\u001b[0m     Variable._execution_engine.run_backward(\n\u001b[0;32m     98\u001b[0m         \u001b[0mtensors\u001b[0m\u001b[1;33m,\u001b[0m \u001b[0mgrad_tensors\u001b[0m\u001b[1;33m,\u001b[0m \u001b[0mretain_graph\u001b[0m\u001b[1;33m,\u001b[0m \u001b[0mcreate_graph\u001b[0m\u001b[1;33m,\u001b[0m\u001b[1;33m\u001b[0m\u001b[1;33m\u001b[0m\u001b[0m\n\u001b[1;32m---> 99\u001b[1;33m         allow_unreachable=True)  # allow_unreachable flag\n\u001b[0m\u001b[0;32m    100\u001b[0m \u001b[1;33m\u001b[0m\u001b[0m\n\u001b[0;32m    101\u001b[0m \u001b[1;33m\u001b[0m\u001b[0m\n",
      "\u001b[1;31mKeyboardInterrupt\u001b[0m: "
     ]
    }
   ],
   "source": [
    "chart_area = widgets.Output()\n",
    "display(chart_area)\n",
    "\n",
    "for epoch in tqdm(range(epoch, 100)):\n",
    "    idx = 0\n",
    "    \n",
    "    model.train()\n",
    "    pct_epoch = 0\n",
    "    \n",
    "    for batch in tqdm(dataloader, leave=False):\n",
    "\n",
    "        model.zero_grad()\n",
    "        _, _, loss, _ = run_model(model, batch, DEVICE)\n",
    "\n",
    "        loss.backward()\n",
    "\n",
    "        optim.step()\n",
    "        warmup.step()\n",
    "            \n",
    "        idx += BATCH_SIZE\n",
    "        pct_epoch = min(1.0, idx/len(data))\n",
    "        \n",
    "        losses.append((epoch + pct_epoch, loss.item()))\n",
    "        \n",
    "        if pct_epoch == 1.0 or epoch + pct_epoch - last_validation > VALIDATION_FREQUENCY:\n",
    "            vloss, vacc, v_conf = get_validation_loss()\n",
    "            validation_stats.append([epoch+pct_epoch, vloss, vacc, v_conf])\n",
    "            \n",
    "            chart_area.clear_output()\n",
    "            fig = get_performance_plots(losses, validation_stats)\n",
    "            with chart_area:\n",
    "                display(fig)\n",
    "            plt.close(fig)\n",
    "            \n",
    "            last_validation = epoch + pct_epoch\n",
    "            \n",
    "    state = {\n",
    "        'epoch': epoch,\n",
    "        'losses': losses,\n",
    "        'validation_stats': validation_stats,\n",
    "        'last_validation': last_validation,\n",
    "        'model': model.state_dict(),\n",
    "        'optim': optim.state_dict(),\n",
    "        'warmup': warmup.state_dict(),\n",
    "    }\n",
    "    T.save(state, f'./checkpoints/model_00_{epoch:03}.pkl')\n",
    "    T.save(state, \"./training_state_00.pkl\")"
   ]
  },
  {
   "cell_type": "code",
   "execution_count": null,
   "metadata": {},
   "outputs": [],
   "source": []
  },
  {
   "cell_type": "code",
   "execution_count": null,
   "metadata": {
    "ExecuteTime": {
     "end_time": "2020-04-15T15:35:19.362728Z",
     "start_time": "2020-04-15T05:36:32.152Z"
    }
   },
   "outputs": [],
   "source": [
    "plot_losses(losses, validation_stats, max(10, len(losses)//2000))"
   ]
  }
 ],
 "metadata": {
  "kernelspec": {
   "display_name": "Python 3",
   "language": "python",
   "name": "python3"
  },
  "language_info": {
   "codemirror_mode": {
    "name": "ipython",
    "version": 3
   },
   "file_extension": ".py",
   "mimetype": "text/x-python",
   "name": "python",
   "nbconvert_exporter": "python",
   "pygments_lexer": "ipython3",
   "version": "3.7.6"
  },
  "toc": {
   "base_numbering": 1,
   "nav_menu": {},
   "number_sections": true,
   "sideBar": true,
   "skip_h1_title": false,
   "title_cell": "Table of Contents",
   "title_sidebar": "Contents",
   "toc_cell": false,
   "toc_position": {},
   "toc_section_display": true,
   "toc_window_display": false
  }
 },
 "nbformat": 4,
 "nbformat_minor": 4
}
