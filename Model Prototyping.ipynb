{
 "cells": [
  {
   "cell_type": "code",
   "execution_count": 1,
   "metadata": {
    "ExecuteTime": {
     "end_time": "2020-04-12T17:34:57.366807Z",
     "start_time": "2020-04-12T17:34:50.215892Z"
    }
   },
   "outputs": [],
   "source": [
    "import pandas as pd\n",
    "import numpy as np\n",
    "import torch as T\n",
    "from torch import nn\n",
    "import torch.nn.functional as F\n",
    "\n",
    "import chemprop\n",
    "import rdkit\n",
    "\n",
    "import pickle as pkl\n",
    "import gzip\n",
    "\n",
    "from tqdm.notebook import tqdm\n",
    "import argparse"
   ]
  },
  {
   "cell_type": "code",
   "execution_count": null,
   "metadata": {},
   "outputs": [],
   "source": [
    "import covid\n",
    "from covid.modules import *\n",
    "from covid.data import *\n",
    "\n",
    "from covid.modules.chemistry import MPNEncoder"
   ]
  },
  {
   "cell_type": "code",
   "execution_count": 6,
   "metadata": {
    "ExecuteTime": {
     "end_time": "2020-04-12T17:35:01.388903Z",
     "start_time": "2020-04-12T17:35:01.384904Z"
    }
   },
   "outputs": [],
   "source": [
    "DROPOUT_RATE = 0.2"
   ]
  },
  {
   "cell_type": "code",
   "execution_count": 7,
   "metadata": {
    "ExecuteTime": {
     "end_time": "2020-04-12T17:35:01.396916Z",
     "start_time": "2020-04-12T17:35:01.390910Z"
    }
   },
   "outputs": [],
   "source": [
    "def create_chemprop_args():\n",
    "    args = argparse.Namespace()\n",
    "    args.seed = 0\n",
    "    args.ensemble_size = 1\n",
    "    args.hidden_size = 300\n",
    "    args.bias = False\n",
    "    args.depth = 3\n",
    "    args.dropout = 0.0\n",
    "    args.activation = 'ReLU'\n",
    "    args.undirected = False\n",
    "    args.atom_messages = False\n",
    "    \n",
    "    return args"
   ]
  },
  {
   "cell_type": "code",
   "execution_count": 8,
   "metadata": {
    "ExecuteTime": {
     "end_time": "2020-04-12T17:35:01.402905Z",
     "start_time": "2020-04-12T17:35:01.399918Z"
    }
   },
   "outputs": [],
   "source": [
    "args = create_chemprop_args()"
   ]
  },
  {
   "cell_type": "code",
   "execution_count": 9,
   "metadata": {
    "ExecuteTime": {
     "end_time": "2020-04-12T17:35:06.441700Z",
     "start_time": "2020-04-12T17:35:01.404901Z"
    }
   },
   "outputs": [],
   "source": [
    "all_data = pd.read_csv('./data/stitch_preprocessed.csv.gz')\n",
    "with gzip.open('./data/stitch_proteins.pkl.gz', 'rb') as f:\n",
    "    all_proteins = pkl.load(f)\n",
    "with gzip.open('./data/stitch_chemicals.pkl.gz', 'rb') as f:\n",
    "    all_chemicals = pkl.load(f)"
   ]
  },
  {
   "cell_type": "code",
   "execution_count": 10,
   "metadata": {
    "ExecuteTime": {
     "end_time": "2020-04-12T17:35:16.588587Z",
     "start_time": "2020-04-12T17:35:16.571638Z"
    }
   },
   "outputs": [],
   "source": [
    "batch = chemprop.features.BatchMolGraph(\n",
    "    [all_chemicals[x][4] for x in all_data['item_id_a'].iloc[:5].values], \n",
    "    args\n",
    ")"
   ]
  },
  {
   "cell_type": "code",
   "execution_count": 11,
   "metadata": {
    "ExecuteTime": {
     "end_time": "2020-04-12T17:35:17.433305Z",
     "start_time": "2020-04-12T17:35:17.420315Z"
    }
   },
   "outputs": [],
   "source": [
    "f_batch = T.stack([\n",
    "    T.tensor(all_chemicals[x][5]) for x in all_data['item_id_a'].iloc[:5].values\n",
    "])"
   ]
  },
  {
   "cell_type": "code",
   "execution_count": 14,
   "metadata": {
    "ExecuteTime": {
     "end_time": "2020-04-12T17:35:19.126691Z",
     "start_time": "2020-04-12T17:35:19.107690Z"
    }
   },
   "outputs": [],
   "source": [
    "chem_model = MPNEncoder(\n",
    "    batch.atom_fdim, \n",
    "    batch.bond_fdim, \n",
    "    layers_per_message=2, \n",
    "    dropout=DROPOUT_RATE\n",
    ")"
   ]
  },
  {
   "cell_type": "code",
   "execution_count": 87,
   "metadata": {
    "ExecuteTime": {
     "end_time": "2020-04-12T17:44:04.999472Z",
     "start_time": "2020-04-12T17:44:04.980475Z"
    }
   },
   "outputs": [],
   "source": [
    "protein_model = nn.Sequential(\n",
    "    # 21->100 channels inplace convolution\n",
    "    apply_to_protein_batch(nn.Conv1d(23, 100, (1, ), 1, 0)),\n",
    "    \n",
    "    #Do some resnet\n",
    "    create_resnet_block_1d(100, 16, inner_kernel=3, for_protein_batch=True),\n",
    "    create_resnet_block_1d(100, 16, inner_kernel=5, for_protein_batch=True),\n",
    "    create_resnet_block_1d(100, 16, inner_kernel=7, for_protein_batch=True),\n",
    "    \n",
    "    # Scale it down\n",
    "    DownscaleConv1d(100, 200, 4, maxpool=True, for_protein_batch=True),\n",
    "    apply_to_protein_batch(nn.Dropout(DROPOUT_RATE)),\n",
    "    \n",
    "    #Do some resnet\n",
    "    create_resnet_block_1d(200, 32, inner_kernel=3, for_protein_batch=True),\n",
    "    create_resnet_block_1d(200, 32, inner_kernel=5, for_protein_batch=True),\n",
    "    \n",
    "    # Scale it down again\n",
    "    DownscaleConv1d(200,400,4,'silu', maxpool=True, for_protein_batch=True),\n",
    "    apply_to_protein_batch(nn.MaxPool1d(10000, ceil_mode=True)),\n",
    "    \n",
    "    # Convert protein batch to standard batch format\n",
    "    ProteinBatchToPaddedBatch(),\n",
    "    \n",
    "    Squeeze(-1),\n",
    "    nn.Dropout(DROPOUT_RATE),\n",
    "    nn.Linear(400,400),\n",
    "    nn.Tanhshrink(),\n",
    "    nn.Tanh(),\n",
    ")"
   ]
  },
  {
   "cell_type": "code",
   "execution_count": 88,
   "metadata": {
    "ExecuteTime": {
     "end_time": "2020-04-12T17:44:05.122487Z",
     "start_time": "2020-04-12T17:44:05.104490Z"
    }
   },
   "outputs": [],
   "source": [
    "protein_names = np.random.choice(list(all_proteins.keys()), 5)\n",
    "x = create_protein_batch(\n",
    "    [encode_protein(all_proteins[n]).unsqueeze(0) for n in protein_names]\n",
    ")"
   ]
  },
  {
   "cell_type": "code",
   "execution_count": 101,
   "metadata": {
    "ExecuteTime": {
     "end_time": "2020-04-12T17:44:33.326955Z",
     "start_time": "2020-04-12T17:44:33.255957Z"
    }
   },
   "outputs": [
    {
     "data": {
      "text/plain": [
       "tensor([[ 6.0182e-06,  8.1120e-01, -2.6744e-03,  ...,  3.9421e-01,\n",
       "         -4.6660e-02, -5.5384e-05],\n",
       "        [-3.6413e-04,  8.2134e-01, -5.5198e-02,  ...,  6.1332e-02,\n",
       "          5.6472e-03, -3.7811e-02],\n",
       "        [-1.6838e-05,  8.0771e-02, -4.7725e-05,  ...,  2.8394e-01,\n",
       "          1.7621e-06,  7.4050e-02],\n",
       "        [-1.6651e-03,  7.5296e-01, -2.6436e-02,  ...,  3.3927e-03,\n",
       "         -1.0249e-02,  7.0409e-02],\n",
       "        [ 1.1029e-02,  7.8234e-01, -7.2476e-02,  ...,  8.1359e-02,\n",
       "          1.9961e-02, -4.0960e-02]], grad_fn=<TanhBackward>)"
      ]
     },
     "execution_count": 101,
     "metadata": {},
     "output_type": "execute_result"
    }
   ],
   "source": [
    "protein_model(x)"
   ]
  },
  {
   "cell_type": "code",
   "execution_count": 102,
   "metadata": {
    "ExecuteTime": {
     "end_time": "2020-04-12T17:44:51.696092Z",
     "start_time": "2020-04-12T17:44:51.648088Z"
    }
   },
   "outputs": [
    {
     "data": {
      "text/plain": [
       "tensor([[0.3962, 0.2333, 0.0000,  ..., 0.2204, 0.3245, 0.3500],\n",
       "        [0.3026, 0.2606, 0.0000,  ..., 0.2903, 0.3789, 0.2969],\n",
       "        [0.3438, 0.2644, 0.0000,  ..., 0.2807, 0.3148, 0.2879],\n",
       "        [0.3375, 0.2875, 0.0000,  ..., 0.2471, 0.3576, 0.2391],\n",
       "        [0.3318, 0.4053, 0.0000,  ..., 0.3227, 0.4726, 0.2699]],\n",
       "       grad_fn=<StackBackward>)"
      ]
     },
     "execution_count": 102,
     "metadata": {},
     "output_type": "execute_result"
    }
   ],
   "source": [
    "chem_model(batch, f_batch)"
   ]
  },
  {
   "cell_type": "code",
   "execution_count": null,
   "metadata": {},
   "outputs": [],
   "source": []
  }
 ],
 "metadata": {
  "kernelspec": {
   "display_name": "Python 3",
   "language": "python",
   "name": "python3"
  },
  "language_info": {
   "codemirror_mode": {
    "name": "ipython",
    "version": 3
   },
   "file_extension": ".py",
   "mimetype": "text/x-python",
   "name": "python",
   "nbconvert_exporter": "python",
   "pygments_lexer": "ipython3",
   "version": "3.7.6"
  },
  "toc": {
   "base_numbering": 1,
   "nav_menu": {},
   "number_sections": true,
   "sideBar": true,
   "skip_h1_title": false,
   "title_cell": "Table of Contents",
   "title_sidebar": "Contents",
   "toc_cell": false,
   "toc_position": {},
   "toc_section_display": true,
   "toc_window_display": false
  }
 },
 "nbformat": 4,
 "nbformat_minor": 4
}
