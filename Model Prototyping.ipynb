{
 "cells": [
  {
   "cell_type": "code",
   "execution_count": 1,
   "metadata": {
    "ExecuteTime": {
     "end_time": "2020-04-15T05:36:34.246061Z",
     "start_time": "2020-04-15T05:36:32.110423Z"
    }
   },
   "outputs": [],
   "source": [
    "import pandas as pd\n",
    "import numpy as np\n",
    "import torch as T\n",
    "from torch import nn\n",
    "import torch.nn.functional as F\n",
    "\n",
    "import chemprop\n",
    "import rdkit\n",
    "\n",
    "import pickle as pkl\n",
    "import gzip\n",
    "\n",
    "from tqdm.notebook import tqdm\n",
    "import argparse\n",
    "\n",
    "import random"
   ]
  },
  {
   "cell_type": "code",
   "execution_count": 2,
   "metadata": {
    "ExecuteTime": {
     "end_time": "2020-04-15T05:36:34.259096Z",
     "start_time": "2020-04-15T05:36:34.248062Z"
    }
   },
   "outputs": [],
   "source": [
    "import covid\n",
    "from covid.datasets import *\n",
    "from covid.modules import *\n",
    "from covid.data import *\n",
    "from covid.model import *\n",
    "from covid.schedulers import LinearWarmupScheduler\n",
    "\n",
    "from covid.modules.chemistry import MPNEncoder"
   ]
  },
  {
   "cell_type": "code",
   "execution_count": 3,
   "metadata": {
    "ExecuteTime": {
     "end_time": "2020-04-15T05:36:34.374059Z",
     "start_time": "2020-04-15T05:36:34.261062Z"
    }
   },
   "outputs": [],
   "source": [
    "import matplotlib.pyplot as plt\n",
    "\n",
    "from ipywidgets import widgets\n",
    "from IPython.display import display"
   ]
  },
  {
   "cell_type": "code",
   "execution_count": 4,
   "metadata": {
    "ExecuteTime": {
     "end_time": "2020-04-15T05:36:34.381065Z",
     "start_time": "2020-04-15T05:36:34.375090Z"
    }
   },
   "outputs": [],
   "source": [
    "np.random.seed(4);\n",
    "random.seed(4);\n",
    "T.manual_seed(4);\n",
    "\n",
    "# 4 -- chosen by fair die roll.  Guaranteed to be random.  https://xkcd.com/221/"
   ]
  },
  {
   "cell_type": "code",
   "execution_count": 5,
   "metadata": {
    "ExecuteTime": {
     "end_time": "2020-04-15T05:36:34.387060Z",
     "start_time": "2020-04-15T05:36:34.383062Z"
    }
   },
   "outputs": [],
   "source": [
    "DROPOUT_RATE = 0.4\n",
    "BATCH_SIZE = 16\n",
    "\n",
    "VALIDATION_FREQUENCY = 0.2"
   ]
  },
  {
   "cell_type": "code",
   "execution_count": 6,
   "metadata": {
    "ExecuteTime": {
     "end_time": "2020-04-15T05:36:34.394060Z",
     "start_time": "2020-04-15T05:36:34.390063Z"
    }
   },
   "outputs": [],
   "source": [
    "DEVICE = 'cuda'"
   ]
  },
  {
   "cell_type": "code",
   "execution_count": 7,
   "metadata": {
    "ExecuteTime": {
     "end_time": "2020-04-15T05:36:34.515095Z",
     "start_time": "2020-04-15T05:36:34.396080Z"
    }
   },
   "outputs": [],
   "source": [
    "chem_model = MPNEncoder(\n",
    "    layers_per_message=2, \n",
    "    hidden_size=300,\n",
    "    dropout=DROPOUT_RATE\n",
    ")\n",
    "\n",
    "protein_model = create_protein_model(dropout=DROPOUT_RATE)\n",
    "\n",
    "model = CovidModel(chem_model, protein_model, dropout=DROPOUT_RATE)"
   ]
  },
  {
   "cell_type": "code",
   "execution_count": 8,
   "metadata": {
    "ExecuteTime": {
     "end_time": "2020-04-15T05:36:37.026783Z",
     "start_time": "2020-04-15T05:36:34.517062Z"
    }
   },
   "outputs": [],
   "source": [
    "model.to(DEVICE);"
   ]
  },
  {
   "cell_type": "code",
   "execution_count": 9,
   "metadata": {
    "ExecuteTime": {
     "end_time": "2020-04-15T05:36:37.032768Z",
     "start_time": "2020-04-15T05:36:37.027770Z"
    }
   },
   "outputs": [],
   "source": [
    "if not os.path.exists('./data/training'):\n",
    "    create_data_split('./data', './data/training', './data/final_holdout')\n",
    "    \n",
    "    for i in range(10):\n",
    "        create_data_split('./data/training', f'./data/train_{i:02}', f'./data/valid_{i:02}')"
   ]
  },
  {
   "cell_type": "code",
   "execution_count": 10,
   "metadata": {
    "ExecuteTime": {
     "end_time": "2020-04-15T05:36:37.046789Z",
     "start_time": "2020-04-15T05:36:37.033771Z"
    }
   },
   "outputs": [],
   "source": [
    "# Have to reset the seeds again to account for the possibility we did or didn't just create the datasets\n",
    "\n",
    "np.random.seed(4);\n",
    "random.seed(4);\n",
    "T.manual_seed(4);"
   ]
  },
  {
   "cell_type": "code",
   "execution_count": 11,
   "metadata": {
    "ExecuteTime": {
     "end_time": "2020-04-15T05:36:41.792224Z",
     "start_time": "2020-04-15T05:36:37.049768Z"
    },
    "scrolled": true
   },
   "outputs": [],
   "source": [
    "data = covid.datasets.StitchDataset('./data/train_00')\n",
    "dataloader = create_dataloader(data, BATCH_SIZE)"
   ]
  },
  {
   "cell_type": "code",
   "execution_count": 12,
   "metadata": {
    "ExecuteTime": {
     "end_time": "2020-04-15T05:36:42.385284Z",
     "start_time": "2020-04-15T05:36:41.793192Z"
    }
   },
   "outputs": [],
   "source": [
    "validation_data = covid.datasets.StitchDataset('./data/valid_00')\n",
    "validation_dataloader = create_dataloader(validation_data, BATCH_SIZE, BATCH_SIZE * 500)"
   ]
  },
  {
   "cell_type": "code",
   "execution_count": 13,
   "metadata": {
    "ExecuteTime": {
     "end_time": "2020-04-15T05:36:42.390082Z",
     "start_time": "2020-04-15T05:36:42.387082Z"
    }
   },
   "outputs": [],
   "source": [
    "optim = T.optim.Adam(model.parameters(), lr=1e-4, betas=(0.95, 0.99))\n",
    "warmup = LinearWarmupScheduler(optim, 2000)"
   ]
  },
  {
   "cell_type": "code",
   "execution_count": 14,
   "metadata": {
    "ExecuteTime": {
     "end_time": "2020-04-15T05:36:42.406157Z",
     "start_time": "2020-04-15T05:36:42.392082Z"
    }
   },
   "outputs": [],
   "source": [
    "losses = []\n",
    "validation_stats = []"
   ]
  },
  {
   "cell_type": "code",
   "execution_count": 15,
   "metadata": {
    "ExecuteTime": {
     "end_time": "2020-04-15T05:36:42.418095Z",
     "start_time": "2020-04-15T05:36:42.410112Z"
    }
   },
   "outputs": [],
   "source": [
    "def plot_losses(losses, validation_stats, period=10, display_to=None):\n",
    "    with plt.style.context('bmh'):\n",
    "        fig, ax = plt.subplots()\n",
    "        x, y = zip(*losses)\n",
    "        \n",
    "        x = np.reshape(x[:((len(x)//period)*period)],(-1,period)).mean(1)\n",
    "        y = np.reshape(y[:((len(y)//period)*period)],(-1,period)).mean(1)\n",
    "        \n",
    "        ax.plot(x, y, lw=1, alpha=0.75, label='model (training)', c='C0')\n",
    "        \n",
    "        x, y, _, _ = zip(*validation_stats)\n",
    "        \n",
    "        ax.plot(x, y, label='model (validation)', c='C1')\n",
    "        \n",
    "        ax.plot((x[0], x[-1]), (0.358, 0.358), c='g', ls=':', lw=1.5, label='random baseline')\n",
    "        ax.legend()\n",
    "        if display_to is not None:\n",
    "            with display_to:\n",
    "                display(fig)\n",
    "            plt.close(fig)"
   ]
  },
  {
   "cell_type": "code",
   "execution_count": 16,
   "metadata": {
    "ExecuteTime": {
     "end_time": "2020-04-15T05:36:42.431091Z",
     "start_time": "2020-04-15T05:36:42.420097Z"
    }
   },
   "outputs": [
    {
     "data": {
      "text/plain": [
       "[]"
      ]
     },
     "execution_count": 16,
     "metadata": {},
     "output_type": "execute_result"
    }
   ],
   "source": [
    "validation_stats"
   ]
  },
  {
   "cell_type": "code",
   "execution_count": 17,
   "metadata": {
    "ExecuteTime": {
     "end_time": "2020-04-15T05:36:42.441116Z",
     "start_time": "2020-04-15T05:36:42.435101Z"
    }
   },
   "outputs": [],
   "source": [
    "from functools import partial\n",
    "\n",
    "get_validation_loss = partial(\n",
    "    calculate_average_loss_and_accuracy, \n",
    "    model, \n",
    "    validation_dataloader,\n",
    "    DEVICE\n",
    ")"
   ]
  },
  {
   "cell_type": "code",
   "execution_count": 18,
   "metadata": {
    "ExecuteTime": {
     "end_time": "2020-04-15T05:37:12.025197Z",
     "start_time": "2020-04-15T05:36:42.444090Z"
    }
   },
   "outputs": [],
   "source": [
    "epoch = 0\n",
    "last_validation = epoch\n",
    "\n",
    "if os.path.exists(\"training_state_00.pkl\"):\n",
    "    state = T.load(\"./training_state_00.pkl\", map_location=DEVICE)\n",
    "        \n",
    "    epoch = state.get('epoch', epoch)\n",
    "    losses = state.get('losses', losses)\n",
    "    validation_stats = state.get('validation_stats', validation_stats)\n",
    "    last_validation = state.get('last_validation', last_validation)\n",
    "    model.load_state_dict(state['model'])\n",
    "    optim.load_state_dict(state['optim'])\n",
    "    warmup.load_state_dict(state['warmup'])\n",
    "    \n",
    "    \n",
    "if epoch == 0:\n",
    "    vloss, vacc, v_conf = get_validation_loss()\n",
    "    validation_stats.append([0, vloss, vacc, v_conf])"
   ]
  },
  {
   "cell_type": "code",
   "execution_count": 19,
   "metadata": {
    "ExecuteTime": {
     "end_time": "2020-04-15T05:37:12.030197Z",
     "start_time": "2020-04-15T05:37:12.026196Z"
    }
   },
   "outputs": [],
   "source": [
    "if not os.path.exists(\"./checkpoints/\"):\n",
    "    os.mkdir(\"./checkpoints\")"
   ]
  },
  {
   "cell_type": "code",
   "execution_count": null,
   "metadata": {
    "ExecuteTime": {
     "start_time": "2020-04-15T05:36:32.149Z"
    },
    "scrolled": false
   },
   "outputs": [
    {
     "data": {
      "application/vnd.jupyter.widget-view+json": {
       "model_id": "b19ddddf9ba54cb0ad279435f0dabfc0",
       "version_major": 2,
       "version_minor": 0
      },
      "text/plain": [
       "Output()"
      ]
     },
     "metadata": {},
     "output_type": "display_data"
    },
    {
     "data": {
      "application/vnd.jupyter.widget-view+json": {
       "model_id": "44bd461d62b24401a7c272a5adbc9d40",
       "version_major": 2,
       "version_minor": 0
      },
      "text/plain": [
       "HBox(children=(FloatProgress(value=0.0), HTML(value='')))"
      ]
     },
     "metadata": {},
     "output_type": "display_data"
    },
    {
     "data": {
      "application/vnd.jupyter.widget-view+json": {
       "model_id": "",
       "version_major": 2,
       "version_minor": 0
      },
      "text/plain": [
       "HBox(children=(FloatProgress(value=0.0, max=21362.0), HTML(value='')))"
      ]
     },
     "metadata": {},
     "output_type": "display_data"
    },
    {
     "data": {
      "application/vnd.jupyter.widget-view+json": {
       "model_id": "",
       "version_major": 2,
       "version_minor": 0
      },
      "text/plain": [
       "HBox(children=(FloatProgress(value=0.0, max=21362.0), HTML(value='')))"
      ]
     },
     "metadata": {},
     "output_type": "display_data"
    },
    {
     "data": {
      "application/vnd.jupyter.widget-view+json": {
       "model_id": "",
       "version_major": 2,
       "version_minor": 0
      },
      "text/plain": [
       "HBox(children=(FloatProgress(value=0.0, max=21362.0), HTML(value='')))"
      ]
     },
     "metadata": {},
     "output_type": "display_data"
    },
    {
     "data": {
      "application/vnd.jupyter.widget-view+json": {
       "model_id": "",
       "version_major": 2,
       "version_minor": 0
      },
      "text/plain": [
       "HBox(children=(FloatProgress(value=0.0, max=21362.0), HTML(value='')))"
      ]
     },
     "metadata": {},
     "output_type": "display_data"
    },
    {
     "data": {
      "application/vnd.jupyter.widget-view+json": {
       "model_id": "",
       "version_major": 2,
       "version_minor": 0
      },
      "text/plain": [
       "HBox(children=(FloatProgress(value=0.0, max=21362.0), HTML(value='')))"
      ]
     },
     "metadata": {},
     "output_type": "display_data"
    },
    {
     "data": {
      "application/vnd.jupyter.widget-view+json": {
       "model_id": "",
       "version_major": 2,
       "version_minor": 0
      },
      "text/plain": [
       "HBox(children=(FloatProgress(value=0.0, max=21362.0), HTML(value='')))"
      ]
     },
     "metadata": {},
     "output_type": "display_data"
    },
    {
     "data": {
      "application/vnd.jupyter.widget-view+json": {
       "model_id": "",
       "version_major": 2,
       "version_minor": 0
      },
      "text/plain": [
       "HBox(children=(FloatProgress(value=0.0, max=21362.0), HTML(value='')))"
      ]
     },
     "metadata": {},
     "output_type": "display_data"
    },
    {
     "data": {
      "application/vnd.jupyter.widget-view+json": {
       "model_id": "4e20ff13e5734ff8bdda64bb8119d1df",
       "version_major": 2,
       "version_minor": 0
      },
      "text/plain": [
       "HBox(children=(FloatProgress(value=0.0, max=21362.0), HTML(value='')))"
      ]
     },
     "metadata": {},
     "output_type": "display_data"
    }
   ],
   "source": [
    "chart_area = widgets.Output()\n",
    "display(chart_area)\n",
    "\n",
    "for epoch in tqdm(range(epoch, 100)):\n",
    "    idx = 0\n",
    "    \n",
    "    model.train()\n",
    "    pct_epoch = 0\n",
    "    \n",
    "    for batch in tqdm(dataloader, leave=False):\n",
    "\n",
    "        model.zero_grad()\n",
    "        _, _, loss, _ = run_model(model, batch, DEVICE)\n",
    "\n",
    "        loss.backward()\n",
    "\n",
    "        optim.step()\n",
    "        warmup.step()\n",
    "            \n",
    "        idx += BATCH_SIZE\n",
    "        pct_epoch = min(1.0, idx/len(data))\n",
    "        \n",
    "        losses.append((epoch + pct_epoch, loss.item()))\n",
    "        \n",
    "        if epoch + pct_epoch - last_validation > VALIDATION_FREQUENCY:\n",
    "            vloss, vacc, v_conf = get_validation_loss()\n",
    "            validation_stats.append([epoch+pct_epoch, vloss, vacc, v_conf])\n",
    "            \n",
    "            chart_area.clear_output()\n",
    "            plot_losses(losses, validation_stats, max(10, len(losses)//2000), chart_area)\n",
    "            last_validation = epoch + pct_epoch\n",
    "            \n",
    "    state = {\n",
    "        'epoch': epoch,\n",
    "        'losses': losses,\n",
    "        'validation_stats': validation_stats,\n",
    "        'last_validation': last_validation,\n",
    "        'model': model.state_dict(),\n",
    "        'optim': optim.state_dict(),\n",
    "        'warmup': warmup.state_dict(),\n",
    "    }\n",
    "    T.save(state, f'./checkpoints/model_00_{epoch:03}.pkl')\n",
    "    T.save(state, \"./training_state_00.pkl\")"
   ]
  },
  {
   "cell_type": "code",
   "execution_count": null,
   "metadata": {
    "ExecuteTime": {
     "start_time": "2020-04-15T05:36:32.152Z"
    }
   },
   "outputs": [],
   "source": [
    "plot_losses(losses, validation_stats, max(10, len(losses)//2000))"
   ]
  }
 ],
 "metadata": {
  "kernelspec": {
   "display_name": "Python 3",
   "language": "python",
   "name": "python3"
  },
  "language_info": {
   "codemirror_mode": {
    "name": "ipython",
    "version": 3
   },
   "file_extension": ".py",
   "mimetype": "text/x-python",
   "name": "python",
   "nbconvert_exporter": "python",
   "pygments_lexer": "ipython3",
   "version": "3.7.6"
  },
  "toc": {
   "base_numbering": 1,
   "nav_menu": {},
   "number_sections": true,
   "sideBar": true,
   "skip_h1_title": false,
   "title_cell": "Table of Contents",
   "title_sidebar": "Contents",
   "toc_cell": false,
   "toc_position": {},
   "toc_section_display": true,
   "toc_window_display": false
  }
 },
 "nbformat": 4,
 "nbformat_minor": 4
}
