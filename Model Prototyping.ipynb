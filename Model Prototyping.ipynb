{
 "cells": [
  {
   "cell_type": "code",
   "execution_count": 1,
   "metadata": {
    "ExecuteTime": {
     "end_time": "2020-05-01T19:10:28.501523Z",
     "start_time": "2020-05-01T19:10:26.695455Z"
    }
   },
   "outputs": [],
   "source": [
    "import pandas as pd\n",
    "import numpy as np\n",
    "import torch as T\n",
    "from torch import nn\n",
    "import torch.nn.functional as F\n",
    "\n",
    "import chemprop\n",
    "import rdkit\n",
    "\n",
    "import pickle as pkl\n",
    "import gzip\n",
    "\n",
    "from tqdm.notebook import tqdm\n",
    "import argparse\n",
    "\n",
    "import random"
   ]
  },
  {
   "cell_type": "code",
   "execution_count": 2,
   "metadata": {
    "ExecuteTime": {
     "end_time": "2020-05-01T19:10:28.606490Z",
     "start_time": "2020-05-01T19:10:28.503482Z"
    }
   },
   "outputs": [],
   "source": [
    "import covid\n",
    "from covid.datasets import *\n",
    "from covid.modules import *\n",
    "from covid.data import *\n",
    "from covid.model import *\n",
    "from covid.schedulers import LinearWarmupScheduler\n",
    "from covid.reporting import get_performance_plots\n",
    "\n",
    "from covid.modules.chemistry import MPNEncoder"
   ]
  },
  {
   "cell_type": "code",
   "execution_count": 3,
   "metadata": {
    "ExecuteTime": {
     "end_time": "2020-05-01T19:10:28.611475Z",
     "start_time": "2020-05-01T19:10:28.608511Z"
    }
   },
   "outputs": [],
   "source": [
    "import matplotlib.pyplot as plt\n",
    "\n",
    "from ipywidgets import widgets\n",
    "from IPython.display import display"
   ]
  },
  {
   "cell_type": "code",
   "execution_count": 4,
   "metadata": {
    "ExecuteTime": {
     "end_time": "2020-05-01T19:10:28.628479Z",
     "start_time": "2020-05-01T19:10:28.613455Z"
    }
   },
   "outputs": [],
   "source": [
    "import covid.training"
   ]
  },
  {
   "cell_type": "code",
   "execution_count": 5,
   "metadata": {
    "ExecuteTime": {
     "end_time": "2020-05-01T19:10:28.636472Z",
     "start_time": "2020-05-01T19:10:28.632454Z"
    }
   },
   "outputs": [],
   "source": [
    "config = covid.training.CovidTrainingConfiguration()"
   ]
  },
  {
   "cell_type": "code",
   "execution_count": 6,
   "metadata": {
    "ExecuteTime": {
     "end_time": "2020-05-01T19:10:32.915685Z",
     "start_time": "2020-05-01T19:10:28.638456Z"
    }
   },
   "outputs": [],
   "source": [
    "dl, _ = covid.training._create_dataloaders(config)"
   ]
  },
  {
   "cell_type": "code",
   "execution_count": 7,
   "metadata": {
    "ExecuteTime": {
     "end_time": "2020-05-01T19:10:41.440927Z",
     "start_time": "2020-05-01T19:10:32.917452Z"
    }
   },
   "outputs": [],
   "source": [
    "data = next(iter(dl))"
   ]
  },
  {
   "cell_type": "code",
   "execution_count": 8,
   "metadata": {
    "ExecuteTime": {
     "end_time": "2020-05-01T19:10:41.544891Z",
     "start_time": "2020-05-01T19:10:41.442890Z"
    }
   },
   "outputs": [],
   "source": [
    "_, chem_batch, chem_f_batch, prot_batch, _ = data"
   ]
  },
  {
   "cell_type": "code",
   "execution_count": 9,
   "metadata": {
    "ExecuteTime": {
     "end_time": "2020-05-01T19:10:41.559892Z",
     "start_time": "2020-05-01T19:10:41.545889Z"
    }
   },
   "outputs": [
    {
     "data": {
      "text/plain": [
       "0.0024787521766663585"
      ]
     },
     "execution_count": 9,
     "metadata": {},
     "output_type": "execute_result"
    }
   ],
   "source": [
    "np.exp(-6)"
   ]
  },
  {
   "cell_type": "code",
   "execution_count": 10,
   "metadata": {
    "ExecuteTime": {
     "end_time": "2020-05-01T19:10:41.564892Z",
     "start_time": "2020-05-01T19:10:41.561904Z"
    }
   },
   "outputs": [],
   "source": [
    "config.chem_undirected = True\n",
    "config.chem_atom_messages = True"
   ]
  },
  {
   "cell_type": "code",
   "execution_count": 11,
   "metadata": {
    "ExecuteTime": {
     "end_time": "2020-05-01T19:10:42.292892Z",
     "start_time": "2020-05-01T19:10:41.566889Z"
    },
    "scrolled": true
   },
   "outputs": [
    {
     "ename": "RuntimeError",
     "evalue": "The size of tensor a (945) must match the size of tensor b (4) at non-singleton dimension 1",
     "output_type": "error",
     "traceback": [
      "\u001b[1;31m---------------------------------------------------------------------------\u001b[0m",
      "\u001b[1;31mRuntimeError\u001b[0m                              Traceback (most recent call last)",
      "\u001b[1;32m<ipython-input-11-89487109d5fd>\u001b[0m in \u001b[0;36m<module>\u001b[1;34m\u001b[0m\n\u001b[0;32m      1\u001b[0m \u001b[0mmodel\u001b[0m \u001b[1;33m=\u001b[0m \u001b[0mcovid\u001b[0m\u001b[1;33m.\u001b[0m\u001b[0mtraining\u001b[0m\u001b[1;33m.\u001b[0m\u001b[0m_create_model\u001b[0m\u001b[1;33m(\u001b[0m\u001b[0mconfig\u001b[0m\u001b[1;33m)\u001b[0m\u001b[1;33m\u001b[0m\u001b[1;33m\u001b[0m\u001b[0m\n\u001b[1;32m----> 2\u001b[1;33m \u001b[0mres\u001b[0m \u001b[1;33m=\u001b[0m \u001b[0mmodel\u001b[0m\u001b[1;33m(\u001b[0m\u001b[0mchem_batch\u001b[0m\u001b[1;33m,\u001b[0m \u001b[0mchem_f_batch\u001b[0m\u001b[1;33m,\u001b[0m \u001b[0mprot_batch\u001b[0m\u001b[1;33m)\u001b[0m\u001b[1;33m\u001b[0m\u001b[1;33m\u001b[0m\u001b[0m\n\u001b[0m\u001b[0;32m      3\u001b[0m \u001b[0mres\u001b[0m\u001b[1;33m\u001b[0m\u001b[1;33m\u001b[0m\u001b[0m\n",
      "\u001b[1;32m~\\Anaconda3\\lib\\site-packages\\torch\\nn\\modules\\module.py\u001b[0m in \u001b[0;36m__call__\u001b[1;34m(self, *input, **kwargs)\u001b[0m\n\u001b[0;32m    530\u001b[0m             \u001b[0mresult\u001b[0m \u001b[1;33m=\u001b[0m \u001b[0mself\u001b[0m\u001b[1;33m.\u001b[0m\u001b[0m_slow_forward\u001b[0m\u001b[1;33m(\u001b[0m\u001b[1;33m*\u001b[0m\u001b[0minput\u001b[0m\u001b[1;33m,\u001b[0m \u001b[1;33m**\u001b[0m\u001b[0mkwargs\u001b[0m\u001b[1;33m)\u001b[0m\u001b[1;33m\u001b[0m\u001b[1;33m\u001b[0m\u001b[0m\n\u001b[0;32m    531\u001b[0m         \u001b[1;32melse\u001b[0m\u001b[1;33m:\u001b[0m\u001b[1;33m\u001b[0m\u001b[1;33m\u001b[0m\u001b[0m\n\u001b[1;32m--> 532\u001b[1;33m             \u001b[0mresult\u001b[0m \u001b[1;33m=\u001b[0m \u001b[0mself\u001b[0m\u001b[1;33m.\u001b[0m\u001b[0mforward\u001b[0m\u001b[1;33m(\u001b[0m\u001b[1;33m*\u001b[0m\u001b[0minput\u001b[0m\u001b[1;33m,\u001b[0m \u001b[1;33m**\u001b[0m\u001b[0mkwargs\u001b[0m\u001b[1;33m)\u001b[0m\u001b[1;33m\u001b[0m\u001b[1;33m\u001b[0m\u001b[0m\n\u001b[0m\u001b[0;32m    533\u001b[0m         \u001b[1;32mfor\u001b[0m \u001b[0mhook\u001b[0m \u001b[1;32min\u001b[0m \u001b[0mself\u001b[0m\u001b[1;33m.\u001b[0m\u001b[0m_forward_hooks\u001b[0m\u001b[1;33m.\u001b[0m\u001b[0mvalues\u001b[0m\u001b[1;33m(\u001b[0m\u001b[1;33m)\u001b[0m\u001b[1;33m:\u001b[0m\u001b[1;33m\u001b[0m\u001b[1;33m\u001b[0m\u001b[0m\n\u001b[0;32m    534\u001b[0m             \u001b[0mhook_result\u001b[0m \u001b[1;33m=\u001b[0m \u001b[0mhook\u001b[0m\u001b[1;33m(\u001b[0m\u001b[0mself\u001b[0m\u001b[1;33m,\u001b[0m \u001b[0minput\u001b[0m\u001b[1;33m,\u001b[0m \u001b[0mresult\u001b[0m\u001b[1;33m)\u001b[0m\u001b[1;33m\u001b[0m\u001b[1;33m\u001b[0m\u001b[0m\n",
      "\u001b[1;32m~\\src\\COVID\\covid\\model.py\u001b[0m in \u001b[0;36mforward\u001b[1;34m(self, chem_batch, chem_f_batch, protein_batch)\u001b[0m\n\u001b[0;32m    121\u001b[0m             \u001b[0mcontext\u001b[0m \u001b[1;33m=\u001b[0m \u001b[0mself\u001b[0m\u001b[1;33m.\u001b[0m\u001b[0mcontext_model\u001b[0m\u001b[1;33m(\u001b[0m\u001b[0mcontext\u001b[0m\u001b[1;33m)\u001b[0m\u001b[1;33m\u001b[0m\u001b[1;33m\u001b[0m\u001b[0m\n\u001b[0;32m    122\u001b[0m \u001b[1;33m\u001b[0m\u001b[0m\n\u001b[1;32m--> 123\u001b[1;33m             \u001b[0mchem_state\u001b[0m \u001b[1;33m=\u001b[0m \u001b[0mself\u001b[0m\u001b[1;33m.\u001b[0m\u001b[0mchem_middle_model\u001b[0m\u001b[1;33m(\u001b[0m\u001b[0mchem_state\u001b[0m\u001b[1;33m,\u001b[0m \u001b[0mcontext\u001b[0m\u001b[1;33m)\u001b[0m\u001b[1;33m\u001b[0m\u001b[1;33m\u001b[0m\u001b[0m\n\u001b[0m\u001b[0;32m    124\u001b[0m             \u001b[0mprotein_state\u001b[0m \u001b[1;33m=\u001b[0m \u001b[0mself\u001b[0m\u001b[1;33m.\u001b[0m\u001b[0mprotein_middle_model\u001b[0m\u001b[1;33m(\u001b[0m\u001b[0mprotein_state\u001b[0m\u001b[1;33m,\u001b[0m \u001b[0mcontext\u001b[0m\u001b[1;33m)\u001b[0m\u001b[1;33m\u001b[0m\u001b[1;33m\u001b[0m\u001b[0m\n\u001b[0;32m    125\u001b[0m \u001b[1;33m\u001b[0m\u001b[0m\n",
      "\u001b[1;32m~\\Anaconda3\\lib\\site-packages\\torch\\nn\\modules\\module.py\u001b[0m in \u001b[0;36m__call__\u001b[1;34m(self, *input, **kwargs)\u001b[0m\n\u001b[0;32m    530\u001b[0m             \u001b[0mresult\u001b[0m \u001b[1;33m=\u001b[0m \u001b[0mself\u001b[0m\u001b[1;33m.\u001b[0m\u001b[0m_slow_forward\u001b[0m\u001b[1;33m(\u001b[0m\u001b[1;33m*\u001b[0m\u001b[0minput\u001b[0m\u001b[1;33m,\u001b[0m \u001b[1;33m**\u001b[0m\u001b[0mkwargs\u001b[0m\u001b[1;33m)\u001b[0m\u001b[1;33m\u001b[0m\u001b[1;33m\u001b[0m\u001b[0m\n\u001b[0;32m    531\u001b[0m         \u001b[1;32melse\u001b[0m\u001b[1;33m:\u001b[0m\u001b[1;33m\u001b[0m\u001b[1;33m\u001b[0m\u001b[0m\n\u001b[1;32m--> 532\u001b[1;33m             \u001b[0mresult\u001b[0m \u001b[1;33m=\u001b[0m \u001b[0mself\u001b[0m\u001b[1;33m.\u001b[0m\u001b[0mforward\u001b[0m\u001b[1;33m(\u001b[0m\u001b[1;33m*\u001b[0m\u001b[0minput\u001b[0m\u001b[1;33m,\u001b[0m \u001b[1;33m**\u001b[0m\u001b[0mkwargs\u001b[0m\u001b[1;33m)\u001b[0m\u001b[1;33m\u001b[0m\u001b[1;33m\u001b[0m\u001b[0m\n\u001b[0m\u001b[0;32m    533\u001b[0m         \u001b[1;32mfor\u001b[0m \u001b[0mhook\u001b[0m \u001b[1;32min\u001b[0m \u001b[0mself\u001b[0m\u001b[1;33m.\u001b[0m\u001b[0m_forward_hooks\u001b[0m\u001b[1;33m.\u001b[0m\u001b[0mvalues\u001b[0m\u001b[1;33m(\u001b[0m\u001b[1;33m)\u001b[0m\u001b[1;33m:\u001b[0m\u001b[1;33m\u001b[0m\u001b[1;33m\u001b[0m\u001b[0m\n\u001b[0;32m    534\u001b[0m             \u001b[0mhook_result\u001b[0m \u001b[1;33m=\u001b[0m \u001b[0mhook\u001b[0m\u001b[1;33m(\u001b[0m\u001b[0mself\u001b[0m\u001b[1;33m,\u001b[0m \u001b[0minput\u001b[0m\u001b[1;33m,\u001b[0m \u001b[0mresult\u001b[0m\u001b[1;33m)\u001b[0m\u001b[1;33m\u001b[0m\u001b[1;33m\u001b[0m\u001b[0m\n",
      "\u001b[1;32m~\\src\\COVID\\covid\\modules\\chemistry.py\u001b[0m in \u001b[0;36mforward\u001b[1;34m(self, state, context)\u001b[0m\n\u001b[0;32m    250\u001b[0m                     \u001b[0mmessage\u001b[0m \u001b[1;33m=\u001b[0m \u001b[1;33m(\u001b[0m\u001b[0mmessage\u001b[0m \u001b[1;33m+\u001b[0m \u001b[0mmessage\u001b[0m\u001b[1;33m[\u001b[0m\u001b[0mb2revb\u001b[0m\u001b[1;33m]\u001b[0m\u001b[1;33m)\u001b[0m \u001b[1;33m/\u001b[0m \u001b[1;36m2\u001b[0m\u001b[1;33m\u001b[0m\u001b[1;33m\u001b[0m\u001b[0m\n\u001b[0;32m    251\u001b[0m                 \u001b[1;32melse\u001b[0m\u001b[1;33m:\u001b[0m\u001b[1;33m\u001b[0m\u001b[1;33m\u001b[0m\u001b[0m\n\u001b[1;32m--> 252\u001b[1;33m                     \u001b[0mmessage\u001b[0m \u001b[1;33m=\u001b[0m \u001b[1;33m(\u001b[0m\u001b[0mmessage\u001b[0m \u001b[1;33m+\u001b[0m \u001b[0mmessage\u001b[0m\u001b[1;33m[\u001b[0m\u001b[0mb2a\u001b[0m\u001b[1;33m]\u001b[0m\u001b[1;33m[\u001b[0m\u001b[0mb2revb\u001b[0m\u001b[1;33m]\u001b[0m\u001b[1;33m[\u001b[0m\u001b[0ma2b\u001b[0m\u001b[1;33m]\u001b[0m\u001b[1;33m)\u001b[0m\u001b[1;33m\u001b[0m\u001b[1;33m\u001b[0m\u001b[0m\n\u001b[0m\u001b[0;32m    253\u001b[0m \u001b[1;33m\u001b[0m\u001b[0m\n\u001b[0;32m    254\u001b[0m             \u001b[1;32mif\u001b[0m \u001b[0mself\u001b[0m\u001b[1;33m.\u001b[0m\u001b[0matom_messages\u001b[0m\u001b[1;33m:\u001b[0m\u001b[1;33m\u001b[0m\u001b[1;33m\u001b[0m\u001b[0m\n",
      "\u001b[1;31mRuntimeError\u001b[0m: The size of tensor a (945) must match the size of tensor b (4) at non-singleton dimension 1"
     ]
    }
   ],
   "source": [
    "model = covid.training._create_model(config)\n",
    "res = model(chem_batch, chem_f_batch, prot_batch)\n",
    "res"
   ]
  },
  {
   "cell_type": "code",
   "execution_count": 13,
   "metadata": {
    "ExecuteTime": {
     "end_time": "2020-05-01T17:57:00.934989Z",
     "start_time": "2020-05-01T17:57:00.925975Z"
    }
   },
   "outputs": [
    {
     "data": {
      "text/plain": [
       "tensor([[1.0000e+00, 0.0000e+00, 0.0000e+00, 1.0000e+00, 0.0000e+00],\n",
       "        [1.0000e+00, 0.0000e+00, 2.0121e-21, 4.7708e-03, 2.9000e-21],\n",
       "        [5.7479e-01, 5.1361e-01, 4.7839e-01, 2.9510e-01, 1.1528e-01],\n",
       "        [1.0000e+00, 0.0000e+00, 0.0000e+00, 0.0000e+00, 1.0000e+00],\n",
       "        [1.0000e+00, 0.0000e+00, 1.0000e+00, 7.5077e-31, 1.8772e-04],\n",
       "        [1.0000e+00, 0.0000e+00, 0.0000e+00, 0.0000e+00, 1.0000e+00],\n",
       "        [9.3171e-01, 1.6819e-02, 2.9866e-01, 3.1749e-01, 8.5037e-03],\n",
       "        [1.0000e+00, 0.0000e+00, 0.0000e+00, 0.0000e+00, 1.0000e+00],\n",
       "        [1.0000e+00, 0.0000e+00, 0.0000e+00, 1.0000e+00, 1.0000e+00],\n",
       "        [1.0000e+00, 0.0000e+00, 1.0000e+00, 0.0000e+00, 1.0000e+00],\n",
       "        [1.0000e+00, 4.4133e-25, 0.0000e+00, 0.0000e+00, 1.0000e+00],\n",
       "        [0.0000e+00, 0.0000e+00, 0.0000e+00, 0.0000e+00, 1.0000e+00],\n",
       "        [1.0000e+00, 0.0000e+00, 8.1183e-09, 9.9497e-01, 5.6646e-05],\n",
       "        [2.0471e-02, 3.0788e-39, 1.0000e+00, 1.0000e+00, 1.0000e+00],\n",
       "        [0.0000e+00, 0.0000e+00, 1.3296e-02, 0.0000e+00, 1.0000e+00],\n",
       "        [1.0000e+00, 0.0000e+00, 0.0000e+00, 0.0000e+00, 0.0000e+00],\n",
       "        [1.0000e+00, 1.0000e+00, 0.0000e+00, 0.0000e+00, 0.0000e+00],\n",
       "        [1.0000e+00, 0.0000e+00, 1.0000e+00, 1.0000e+00, 1.0000e+00],\n",
       "        [1.0000e+00, 0.0000e+00, 1.0000e+00, 2.9155e-10, 1.0000e+00],\n",
       "        [9.9990e-01, 6.8606e-04, 7.2382e-01, 1.6009e-02, 6.7901e-02],\n",
       "        [9.2675e-01, 5.0827e-02, 1.2164e-01, 8.4297e-01, 3.1184e-01],\n",
       "        [1.0000e+00, 0.0000e+00, 0.0000e+00, 1.0000e+00, 0.0000e+00],\n",
       "        [5.8156e-01, 4.8483e-01, 4.9220e-01, 4.1861e-01, 2.8555e-01],\n",
       "        [0.0000e+00, 0.0000e+00, 1.0000e+00, 0.0000e+00, 1.0000e+00],\n",
       "        [1.0000e+00, 0.0000e+00, 1.0000e+00, 0.0000e+00, 1.0000e+00],\n",
       "        [1.0000e+00, 0.0000e+00, 1.0000e+00, 0.0000e+00, 0.0000e+00],\n",
       "        [1.0000e+00, 0.0000e+00, 0.0000e+00, 1.0000e+00, 0.0000e+00],\n",
       "        [5.5341e-01, 2.8577e-01, 7.8015e-02, 9.4892e-01, 1.4535e-02],\n",
       "        [1.0000e+00, 0.0000e+00, 1.0000e+00, 1.0000e+00, 0.0000e+00],\n",
       "        [1.0000e+00, 0.0000e+00, 1.0000e+00, 0.0000e+00, 0.0000e+00],\n",
       "        [1.0000e+00, 0.0000e+00, 1.0000e+00, 2.8303e-10, 1.0000e+00],\n",
       "        [1.0000e+00, 0.0000e+00, 0.0000e+00, 0.0000e+00, 1.0000e+00]],\n",
       "       grad_fn=<SigmoidBackward>)"
      ]
     },
     "execution_count": 13,
     "metadata": {},
     "output_type": "execute_result"
    }
   ],
   "source": [
    "res"
   ]
  },
  {
   "cell_type": "code",
   "execution_count": 16,
   "metadata": {
    "ExecuteTime": {
     "end_time": "2020-05-01T16:45:30.321297Z",
     "start_time": "2020-05-01T16:45:30.318264Z"
    }
   },
   "outputs": [],
   "source": [
    "_, f_bonds, a2b, _, _, a_scope, _ = chem_batch.get_components()"
   ]
  },
  {
   "cell_type": "code",
   "execution_count": 20,
   "metadata": {
    "ExecuteTime": {
     "end_time": "2020-05-01T16:59:57.475986Z",
     "start_time": "2020-05-01T16:59:57.468933Z"
    }
   },
   "outputs": [
    {
     "data": {
      "text/plain": [
       "[(1, 29),\n",
       " (30, 22),\n",
       " (52, 25),\n",
       " (77, 9),\n",
       " (86, 27),\n",
       " (113, 32),\n",
       " (145, 23),\n",
       " (168, 30),\n",
       " (198, 3),\n",
       " (201, 20),\n",
       " (221, 30),\n",
       " (251, 42),\n",
       " (293, 97),\n",
       " (390, 28),\n",
       " (418, 37),\n",
       " (455, 26),\n",
       " (481, 23),\n",
       " (504, 15),\n",
       " (519, 29),\n",
       " (548, 1),\n",
       " (549, 34),\n",
       " (583, 9),\n",
       " (592, 10),\n",
       " (602, 75),\n",
       " (677, 19),\n",
       " (696, 28),\n",
       " (724, 36),\n",
       " (760, 37),\n",
       " (797, 12),\n",
       " (809, 33),\n",
       " (842, 53),\n",
       " (895, 22)]"
      ]
     },
     "execution_count": 20,
     "metadata": {},
     "output_type": "execute_result"
    }
   ],
   "source": [
    "a_scope"
   ]
  },
  {
   "cell_type": "code",
   "execution_count": 15,
   "metadata": {
    "ExecuteTime": {
     "end_time": "2020-05-01T16:44:23.276784Z",
     "start_time": "2020-05-01T16:44:23.267782Z"
    }
   },
   "outputs": [
    {
     "data": {
      "text/plain": [
       "torch.Size([1981, 128])"
      ]
     },
     "execution_count": 15,
     "metadata": {},
     "output_type": "execute_result"
    }
   ],
   "source": [
    "model.chem_head_model(chem_batch)[0].shape"
   ]
  },
  {
   "cell_type": "code",
   "execution_count": 17,
   "metadata": {
    "ExecuteTime": {
     "end_time": "2020-05-01T20:44:14.113863Z",
     "start_time": "2020-05-01T20:44:14.109861Z"
    }
   },
   "outputs": [],
   "source": [
    "from hyperopt import Trials"
   ]
  },
  {
   "cell_type": "code",
   "execution_count": 18,
   "metadata": {
    "ExecuteTime": {
     "end_time": "2020-05-01T20:44:14.275865Z",
     "start_time": "2020-05-01T20:44:14.272869Z"
    }
   },
   "outputs": [],
   "source": [
    "from hyperopt.mongoexp import MongoTrials\n",
    "import hyperopt"
   ]
  },
  {
   "cell_type": "code",
   "execution_count": 19,
   "metadata": {
    "ExecuteTime": {
     "end_time": "2020-05-01T20:44:15.477998Z",
     "start_time": "2020-05-01T20:44:14.883196Z"
    }
   },
   "outputs": [],
   "source": [
    "mtrials = MongoTrials('mongo://localhost:1234/covid/jobs') #, exp_key='covid-8')"
   ]
  },
  {
   "cell_type": "code",
   "execution_count": 20,
   "metadata": {
    "ExecuteTime": {
     "end_time": "2020-05-01T20:44:15.904713Z",
     "start_time": "2020-05-01T20:44:15.900742Z"
    }
   },
   "outputs": [
    {
     "data": {
      "text/plain": [
       "7"
      ]
     },
     "execution_count": 20,
     "metadata": {},
     "output_type": "execute_result"
    }
   ],
   "source": [
    "len(mtrials.trials)"
   ]
  },
  {
   "cell_type": "code",
   "execution_count": 21,
   "metadata": {
    "ExecuteTime": {
     "end_time": "2020-05-01T20:44:20.088245Z",
     "start_time": "2020-05-01T20:44:20.083223Z"
    }
   },
   "outputs": [
    {
     "data": {
      "text/plain": [
       "'fail'"
      ]
     },
     "execution_count": 21,
     "metadata": {},
     "output_type": "execute_result"
    }
   ],
   "source": [
    "hyperopt.STATUS_FAIL"
   ]
  },
  {
   "cell_type": "code",
   "execution_count": 23,
   "metadata": {
    "ExecuteTime": {
     "end_time": "2020-05-01T20:44:25.328182Z",
     "start_time": "2020-05-01T20:44:24.635840Z"
    }
   },
   "outputs": [],
   "source": [
    "mtrials.delete_all()"
   ]
  },
  {
   "cell_type": "code",
   "execution_count": 10,
   "metadata": {
    "ExecuteTime": {
     "end_time": "2020-04-23T15:27:19.284903Z",
     "start_time": "2020-04-23T15:27:19.240146Z"
    }
   },
   "outputs": [],
   "source": [
    "from sklearn.gaussian_process import GaussianProcessRegressor\n",
    "from sklearn.gaussian_process.kernels import RBF, WhiteKernel"
   ]
  },
  {
   "cell_type": "code",
   "execution_count": 46,
   "metadata": {
    "ExecuteTime": {
     "end_time": "2020-04-26T18:50:20.657138Z",
     "start_time": "2020-04-26T18:50:20.652138Z"
    }
   },
   "outputs": [
    {
     "data": {
      "text/plain": [
       "True"
      ]
     },
     "execution_count": 46,
     "metadata": {},
     "output_type": "execute_result"
    }
   ],
   "source": [
    "x = 3\n",
    "5 > x > 1"
   ]
  },
  {
   "cell_type": "code",
   "execution_count": 164,
   "metadata": {
    "ExecuteTime": {
     "end_time": "2020-04-23T16:04:02.834076Z",
     "start_time": "2020-04-23T16:04:02.828077Z"
    }
   },
   "outputs": [
    {
     "data": {
      "text/plain": [
       "array([0.4719193 , 0.30040295, 0.29290585, 0.27723786])"
      ]
     },
     "execution_count": 164,
     "metadata": {},
     "output_type": "execute_result"
    }
   ],
   "source": [
    "v_loss"
   ]
  },
  {
   "cell_type": "code",
   "execution_count": 216,
   "metadata": {
    "ExecuteTime": {
     "end_time": "2020-04-23T16:19:05.940051Z",
     "start_time": "2020-04-23T16:19:05.935169Z"
    }
   },
   "outputs": [],
   "source": [
    "v_x, v_loss, _, _ = zip(*mtrials.trials[10]['result'].get('validation_stats', [(0,1.0)]))\n",
    "v_x, v_loss = np.array(v_x[1:]), np.array(v_loss[1:])\n",
    "\n",
    "# kernel = (\n",
    "#     1.0 * RBF(length_scale=1.0, length_scale_bounds=(0.0001,10))\n",
    "#     + WhiteKernel(noise_level=1e-3, noise_level_bounds=(1e-4, 10))\n",
    "# )\n",
    "# gp = GaussianProcessRegressor(kernel=kernel, alpha=0).fit(v_x[:-1].reshape(-1,1), v_loss[1:]-v_loss[:-1])\n",
    "\n",
    "# X_ = np.linspace(0,10,50)\n",
    "# y_mean, y_cov = gp.predict(X_.reshape(-1,1), return_cov=True)\n",
    "\n",
    "# y_mean = np.cumsum(y_mean)\n",
    "# y_mean -= y_mean[v_x.shape[0]-1] - v_loss[-1]\n",
    "# plt.plot(X_, y_mean, 'k', lw=3, zorder=9)\n",
    "# plt.fill_between(X_, y_mean - np.sqrt(np.cumsum(np.diag(y_cov)))*1.65, y_mean + np.sqrt(np.cumsum(np.diag(y_cov)))*1.65, alpha=0.5, color='k')\n",
    "# plt.scatter(v_x, v_loss)"
   ]
  },
  {
   "cell_type": "code",
   "execution_count": 217,
   "metadata": {
    "ExecuteTime": {
     "end_time": "2020-04-23T16:19:07.230886Z",
     "start_time": "2020-04-23T16:19:07.223886Z"
    }
   },
   "outputs": [
    {
     "name": "stdout",
     "output_type": "stream",
     "text": [
      "Help on function curve_fit in module scipy.optimize.minpack:\n",
      "\n",
      "curve_fit(f, xdata, ydata, p0=None, sigma=None, absolute_sigma=False, check_finite=True, bounds=(-inf, inf), method=None, jac=None, **kwargs)\n",
      "    Use non-linear least squares to fit a function, f, to data.\n",
      "    \n",
      "    Assumes ``ydata = f(xdata, *params) + eps``\n",
      "    \n",
      "    Parameters\n",
      "    ----------\n",
      "    f : callable\n",
      "        The model function, f(x, ...).  It must take the independent\n",
      "        variable as the first argument and the parameters to fit as\n",
      "        separate remaining arguments.\n",
      "    xdata : array_like or object\n",
      "        The independent variable where the data is measured.\n",
      "        Should usually be an M-length sequence or an (k,M)-shaped array for\n",
      "        functions with k predictors, but can actually be any object.\n",
      "    ydata : array_like\n",
      "        The dependent data, a length M array - nominally ``f(xdata, ...)``.\n",
      "    p0 : array_like, optional\n",
      "        Initial guess for the parameters (length N).  If None, then the\n",
      "        initial values will all be 1 (if the number of parameters for the\n",
      "        function can be determined using introspection, otherwise a\n",
      "        ValueError is raised).\n",
      "    sigma : None or M-length sequence or MxM array, optional\n",
      "        Determines the uncertainty in `ydata`. If we define residuals as\n",
      "        ``r = ydata - f(xdata, *popt)``, then the interpretation of `sigma`\n",
      "        depends on its number of dimensions:\n",
      "    \n",
      "            - A 1-d `sigma` should contain values of standard deviations of\n",
      "              errors in `ydata`. In this case, the optimized function is\n",
      "              ``chisq = sum((r / sigma) ** 2)``.\n",
      "    \n",
      "            - A 2-d `sigma` should contain the covariance matrix of\n",
      "              errors in `ydata`. In this case, the optimized function is\n",
      "              ``chisq = r.T @ inv(sigma) @ r``.\n",
      "    \n",
      "              .. versionadded:: 0.19\n",
      "    \n",
      "        None (default) is equivalent of 1-d `sigma` filled with ones.\n",
      "    absolute_sigma : bool, optional\n",
      "        If True, `sigma` is used in an absolute sense and the estimated parameter\n",
      "        covariance `pcov` reflects these absolute values.\n",
      "    \n",
      "        If False, only the relative magnitudes of the `sigma` values matter.\n",
      "        The returned parameter covariance matrix `pcov` is based on scaling\n",
      "        `sigma` by a constant factor. This constant is set by demanding that the\n",
      "        reduced `chisq` for the optimal parameters `popt` when using the\n",
      "        *scaled* `sigma` equals unity. In other words, `sigma` is scaled to\n",
      "        match the sample variance of the residuals after the fit.\n",
      "        Mathematically,\n",
      "        ``pcov(absolute_sigma=False) = pcov(absolute_sigma=True) * chisq(popt)/(M-N)``\n",
      "    check_finite : bool, optional\n",
      "        If True, check that the input arrays do not contain nans of infs,\n",
      "        and raise a ValueError if they do. Setting this parameter to\n",
      "        False may silently produce nonsensical results if the input arrays\n",
      "        do contain nans. Default is True.\n",
      "    bounds : 2-tuple of array_like, optional\n",
      "        Lower and upper bounds on parameters. Defaults to no bounds.\n",
      "        Each element of the tuple must be either an array with the length equal\n",
      "        to the number of parameters, or a scalar (in which case the bound is\n",
      "        taken to be the same for all parameters.) Use ``np.inf`` with an\n",
      "        appropriate sign to disable bounds on all or some parameters.\n",
      "    \n",
      "        .. versionadded:: 0.17\n",
      "    method : {'lm', 'trf', 'dogbox'}, optional\n",
      "        Method to use for optimization.  See `least_squares` for more details.\n",
      "        Default is 'lm' for unconstrained problems and 'trf' if `bounds` are\n",
      "        provided. The method 'lm' won't work when the number of observations\n",
      "        is less than the number of variables, use 'trf' or 'dogbox' in this\n",
      "        case.\n",
      "    \n",
      "        .. versionadded:: 0.17\n",
      "    jac : callable, string or None, optional\n",
      "        Function with signature ``jac(x, ...)`` which computes the Jacobian\n",
      "        matrix of the model function with respect to parameters as a dense\n",
      "        array_like structure. It will be scaled according to provided `sigma`.\n",
      "        If None (default), the Jacobian will be estimated numerically.\n",
      "        String keywords for 'trf' and 'dogbox' methods can be used to select\n",
      "        a finite difference scheme, see `least_squares`.\n",
      "    \n",
      "        .. versionadded:: 0.18\n",
      "    kwargs\n",
      "        Keyword arguments passed to `leastsq` for ``method='lm'`` or\n",
      "        `least_squares` otherwise.\n",
      "    \n",
      "    Returns\n",
      "    -------\n",
      "    popt : array\n",
      "        Optimal values for the parameters so that the sum of the squared\n",
      "        residuals of ``f(xdata, *popt) - ydata`` is minimized\n",
      "    pcov : 2d array\n",
      "        The estimated covariance of popt. The diagonals provide the variance\n",
      "        of the parameter estimate. To compute one standard deviation errors\n",
      "        on the parameters use ``perr = np.sqrt(np.diag(pcov))``.\n",
      "    \n",
      "        How the `sigma` parameter affects the estimated covariance\n",
      "        depends on `absolute_sigma` argument, as described above.\n",
      "    \n",
      "        If the Jacobian matrix at the solution doesn't have a full rank, then\n",
      "        'lm' method returns a matrix filled with ``np.inf``, on the other hand\n",
      "        'trf'  and 'dogbox' methods use Moore-Penrose pseudoinverse to compute\n",
      "        the covariance matrix.\n",
      "    \n",
      "    Raises\n",
      "    ------\n",
      "    ValueError\n",
      "        if either `ydata` or `xdata` contain NaNs, or if incompatible options\n",
      "        are used.\n",
      "    \n",
      "    RuntimeError\n",
      "        if the least-squares minimization fails.\n",
      "    \n",
      "    OptimizeWarning\n",
      "        if covariance of the parameters can not be estimated.\n",
      "    \n",
      "    See Also\n",
      "    --------\n",
      "    least_squares : Minimize the sum of squares of nonlinear functions.\n",
      "    scipy.stats.linregress : Calculate a linear least squares regression for\n",
      "                             two sets of measurements.\n",
      "    \n",
      "    Notes\n",
      "    -----\n",
      "    With ``method='lm'``, the algorithm uses the Levenberg-Marquardt algorithm\n",
      "    through `leastsq`. Note that this algorithm can only deal with\n",
      "    unconstrained problems.\n",
      "    \n",
      "    Box constraints can be handled by methods 'trf' and 'dogbox'. Refer to\n",
      "    the docstring of `least_squares` for more information.\n",
      "    \n",
      "    Examples\n",
      "    --------\n",
      "    >>> import matplotlib.pyplot as plt\n",
      "    >>> from scipy.optimize import curve_fit\n",
      "    \n",
      "    >>> def func(x, a, b, c):\n",
      "    ...     return a * np.exp(-b * x) + c\n",
      "    \n",
      "    Define the data to be fit with some noise:\n",
      "    \n",
      "    >>> xdata = np.linspace(0, 4, 50)\n",
      "    >>> y = func(xdata, 2.5, 1.3, 0.5)\n",
      "    >>> np.random.seed(1729)\n",
      "    >>> y_noise = 0.2 * np.random.normal(size=xdata.size)\n",
      "    >>> ydata = y + y_noise\n",
      "    >>> plt.plot(xdata, ydata, 'b-', label='data')\n",
      "    \n",
      "    Fit for the parameters a, b, c of the function `func`:\n",
      "    \n",
      "    >>> popt, pcov = curve_fit(func, xdata, ydata)\n",
      "    >>> popt\n",
      "    array([ 2.55423706,  1.35190947,  0.47450618])\n",
      "    >>> plt.plot(xdata, func(xdata, *popt), 'r-',\n",
      "    ...          label='fit: a=%5.3f, b=%5.3f, c=%5.3f' % tuple(popt))\n",
      "    \n",
      "    Constrain the optimization to the region of ``0 <= a <= 3``,\n",
      "    ``0 <= b <= 1`` and ``0 <= c <= 0.5``:\n",
      "    \n",
      "    >>> popt, pcov = curve_fit(func, xdata, ydata, bounds=(0, [3., 1., 0.5]))\n",
      "    >>> popt\n",
      "    array([ 2.43708906,  1.        ,  0.35015434])\n",
      "    >>> plt.plot(xdata, func(xdata, *popt), 'g--',\n",
      "    ...          label='fit: a=%5.3f, b=%5.3f, c=%5.3f' % tuple(popt))\n",
      "    \n",
      "    >>> plt.xlabel('x')\n",
      "    >>> plt.ylabel('y')\n",
      "    >>> plt.legend()\n",
      "    >>> plt.show()\n",
      "\n"
     ]
    }
   ],
   "source": [
    "help(curve_fit)"
   ]
  },
  {
   "cell_type": "code",
   "execution_count": 7,
   "metadata": {
    "ExecuteTime": {
     "end_time": "2020-04-25T17:54:40.017369Z",
     "start_time": "2020-04-25T17:54:40.007369Z"
    }
   },
   "outputs": [],
   "source": [
    "import numpy as np\n",
    "from scipy.optimize import curve_fit\n",
    "import matplotlib.pyplot as plt\n",
    "\n",
    "def func_exp(x, a, b, c):\n",
    "        return a * np.exp(b * x) + c\n",
    "\n",
    "def exponential_regression (x_data, y_data):\n",
    "    popt, pcov = curve_fit(func_exp, x_data, y_data, p0 = (10, -1, 0.15), maxfev=10000)\n",
    "    print(popt)\n",
    "    puntos = plt.plot(x_data, y_data, 'x', color='xkcd:maroon', label = \"data\")\n",
    "    curva_regresion = plt.plot(np.linspace(0,10,50), func_exp(np.linspace(0,10,50), *popt), color='xkcd:teal', label = \"fit: {:.3f}, {:.3f}, {:.3f}\".format(*popt))\n",
    "    plt.legend()\n",
    "    plt.show()\n",
    "    return func_exp(x_data, *popt)"
   ]
  },
  {
   "cell_type": "code",
   "execution_count": 229,
   "metadata": {
    "ExecuteTime": {
     "end_time": "2020-04-23T16:22:33.755993Z",
     "start_time": "2020-04-23T16:22:33.750993Z"
    }
   },
   "outputs": [
    {
     "data": {
      "text/plain": [
       "array([0.31562347, 0.27531525, 0.25896614, 0.23404766, 0.22988034,\n",
       "       0.21191199, 0.21041474, 0.20575748, 0.19749399, 0.20020197,\n",
       "       0.18883561, 0.18614933, 0.18709274, 0.18744925, 0.18726777,\n",
       "       0.18520451, 0.18235041, 0.18086849, 0.18087484, 0.17980106,\n",
       "       0.17765961, 0.17996113, 0.17674937, 0.17441856, 0.1736659 ])"
      ]
     },
     "execution_count": 229,
     "metadata": {},
     "output_type": "execute_result"
    }
   ],
   "source": [
    "v_loss"
   ]
  },
  {
   "cell_type": "code",
   "execution_count": 236,
   "metadata": {
    "ExecuteTime": {
     "end_time": "2020-04-23T16:24:29.732602Z",
     "start_time": "2020-04-23T16:24:29.542689Z"
    }
   },
   "outputs": [
    {
     "data": {
      "text/plain": [
       "[<matplotlib.lines.Line2D at 0x11f28537a08>]"
      ]
     },
     "execution_count": 236,
     "metadata": {},
     "output_type": "execute_result"
    },
    {
     "data": {
      "image/png": "[encoded data removed]",
      "text/plain": [
       "<Figure size 432x288 with 1 Axes>"
      ]
     },
     "metadata": {
      "needs_background": "light"
     },
     "output_type": "display_data"
    }
   ],
   "source": [
    "plt.plot(v_x, func_exp(v_x, 1,-1,0.15))"
   ]
  },
  {
   "cell_type": "code",
   "execution_count": 230,
   "metadata": {
    "ExecuteTime": {
     "end_time": "2020-04-23T16:22:34.366998Z",
     "start_time": "2020-04-23T16:22:34.219273Z"
    }
   },
   "outputs": [
    {
     "data": {
      "text/plain": [
       "<matplotlib.collections.PathCollection at 0x11f28408088>"
      ]
     },
     "execution_count": 230,
     "metadata": {},
     "output_type": "execute_result"
    },
    {
     "data": {
      "image/png": "[encoded data removed]",
      "text/plain": [
       "<Figure size 432x288 with 1 Axes>"
      ]
     },
     "metadata": {
      "needs_background": "light"
     },
     "output_type": "display_data"
    }
   ],
   "source": [
    "plt.scatter(v_x, v_loss)"
   ]
  },
  {
   "cell_type": "code",
   "execution_count": 237,
   "metadata": {
    "ExecuteTime": {
     "end_time": "2020-04-23T16:24:31.338270Z",
     "start_time": "2020-04-23T16:24:31.109639Z"
    }
   },
   "outputs": [
    {
     "name": "stdout",
     "output_type": "stream",
     "text": [
      "[ 0.16755071 -1.23885798  0.17893682]\n"
     ]
    },
    {
     "data": {
      "image/png": "[encoded data removed]",
      "text/plain": [
       "<Figure size 432x288 with 1 Axes>"
      ]
     },
     "metadata": {
      "needs_background": "light"
     },
     "output_type": "display_data"
    },
    {
     "data": {
      "text/plain": [
       "array([0.3096945 , 0.28098097, 0.25858618, 0.2410957 , 0.22747876,\n",
       "       0.21681927, 0.20850053, 0.20201243, 0.19694518, 0.19300015,\n",
       "       0.18991378, 0.18750332, 0.1856233 , 0.18415499, 0.18301118,\n",
       "       0.18211701, 0.18141866, 0.180874  , 0.18044861, 0.18011723,\n",
       "       0.17985817, 0.17965597, 0.17949805, 0.17937488, 0.1792788 ])"
      ]
     },
     "execution_count": 237,
     "metadata": {},
     "output_type": "execute_result"
    }
   ],
   "source": [
    "exponential_regression(v_x, v_loss)"
   ]
  },
  {
   "cell_type": "code",
   "execution_count": null,
   "metadata": {},
   "outputs": [],
   "source": []
  },
  {
   "cell_type": "code",
   "execution_count": 33,
   "metadata": {
    "ExecuteTime": {
     "end_time": "2020-04-23T15:41:18.693102Z",
     "start_time": "2020-04-23T15:41:18.685155Z"
    }
   },
   "outputs": [
    {
     "name": "stdout",
     "output_type": "stream",
     "text": [
      "Help on class GaussianProcessRegressor in module sklearn.gaussian_process._gpr:\n",
      "\n",
      "class GaussianProcessRegressor(sklearn.base.MultiOutputMixin, sklearn.base.RegressorMixin, sklearn.base.BaseEstimator)\n",
      " |  GaussianProcessRegressor(kernel=None, alpha=1e-10, optimizer='fmin_l_bfgs_b', n_restarts_optimizer=0, normalize_y=False, copy_X_train=True, random_state=None)\n",
      " |  \n",
      " |  Gaussian process regression (GPR).\n",
      " |  \n",
      " |  The implementation is based on Algorithm 2.1 of Gaussian Processes\n",
      " |  for Machine Learning (GPML) by Rasmussen and Williams.\n",
      " |  \n",
      " |  In addition to standard scikit-learn estimator API,\n",
      " |  GaussianProcessRegressor:\n",
      " |  \n",
      " |     * allows prediction without prior fitting (based on the GP prior)\n",
      " |     * provides an additional method sample_y(X), which evaluates samples\n",
      " |       drawn from the GPR (prior or posterior) at given inputs\n",
      " |     * exposes a method log_marginal_likelihood(theta), which can be used\n",
      " |       externally for other ways of selecting hyperparameters, e.g., via\n",
      " |       Markov chain Monte Carlo.\n",
      " |  \n",
      " |  Read more in the :ref:`User Guide <gaussian_process>`.\n",
      " |  \n",
      " |  .. versionadded:: 0.18\n",
      " |  \n",
      " |  Parameters\n",
      " |  ----------\n",
      " |  kernel : kernel object\n",
      " |      The kernel specifying the covariance function of the GP. If None is\n",
      " |      passed, the kernel \"1.0 * RBF(1.0)\" is used as default. Note that\n",
      " |      the kernel's hyperparameters are optimized during fitting.\n",
      " |  \n",
      " |  alpha : float or array-like, optional (default: 1e-10)\n",
      " |      Value added to the diagonal of the kernel matrix during fitting.\n",
      " |      Larger values correspond to increased noise level in the observations.\n",
      " |      This can also prevent a potential numerical issue during fitting, by\n",
      " |      ensuring that the calculated values form a positive definite matrix.\n",
      " |      If an array is passed, it must have the same number of entries as the\n",
      " |      data used for fitting and is used as datapoint-dependent noise level.\n",
      " |      Note that this is equivalent to adding a WhiteKernel with c=alpha.\n",
      " |      Allowing to specify the noise level directly as a parameter is mainly\n",
      " |      for convenience and for consistency with Ridge.\n",
      " |  \n",
      " |  optimizer : string or callable, optional (default: \"fmin_l_bfgs_b\")\n",
      " |      Can either be one of the internally supported optimizers for optimizing\n",
      " |      the kernel's parameters, specified by a string, or an externally\n",
      " |      defined optimizer passed as a callable. If a callable is passed, it\n",
      " |      must have the signature::\n",
      " |  \n",
      " |          def optimizer(obj_func, initial_theta, bounds):\n",
      " |              # * 'obj_func' is the objective function to be minimized, which\n",
      " |              #   takes the hyperparameters theta as parameter and an\n",
      " |              #   optional flag eval_gradient, which determines if the\n",
      " |              #   gradient is returned additionally to the function value\n",
      " |              # * 'initial_theta': the initial value for theta, which can be\n",
      " |              #   used by local optimizers\n",
      " |              # * 'bounds': the bounds on the values of theta\n",
      " |              ....\n",
      " |              # Returned are the best found hyperparameters theta and\n",
      " |              # the corresponding value of the target function.\n",
      " |              return theta_opt, func_min\n",
      " |  \n",
      " |      Per default, the 'L-BGFS-B' algorithm from scipy.optimize.minimize\n",
      " |      is used. If None is passed, the kernel's parameters are kept fixed.\n",
      " |      Available internal optimizers are::\n",
      " |  \n",
      " |          'fmin_l_bfgs_b'\n",
      " |  \n",
      " |  n_restarts_optimizer : int, optional (default: 0)\n",
      " |      The number of restarts of the optimizer for finding the kernel's\n",
      " |      parameters which maximize the log-marginal likelihood. The first run\n",
      " |      of the optimizer is performed from the kernel's initial parameters,\n",
      " |      the remaining ones (if any) from thetas sampled log-uniform randomly\n",
      " |      from the space of allowed theta-values. If greater than 0, all bounds\n",
      " |      must be finite. Note that n_restarts_optimizer == 0 implies that one\n",
      " |      run is performed.\n",
      " |  \n",
      " |  normalize_y : boolean, optional (default: False)\n",
      " |      Whether the target values y are normalized, i.e., the mean of the\n",
      " |      observed target values become zero. This parameter should be set to\n",
      " |      True if the target values' mean is expected to differ considerable from\n",
      " |      zero. When enabled, the normalization effectively modifies the GP's\n",
      " |      prior based on the data, which contradicts the likelihood principle;\n",
      " |      normalization is thus disabled per default.\n",
      " |  \n",
      " |  copy_X_train : bool, optional (default: True)\n",
      " |      If True, a persistent copy of the training data is stored in the\n",
      " |      object. Otherwise, just a reference to the training data is stored,\n",
      " |      which might cause predictions to change if the data is modified\n",
      " |      externally.\n",
      " |  \n",
      " |  random_state : int, RandomState instance or None, optional (default: None)\n",
      " |      The generator used to initialize the centers. If int, random_state is\n",
      " |      the seed used by the random number generator; If RandomState instance,\n",
      " |      random_state is the random number generator; If None, the random number\n",
      " |      generator is the RandomState instance used by `np.random`.\n",
      " |  \n",
      " |  Attributes\n",
      " |  ----------\n",
      " |  X_train_ : sequence of length n_samples\n",
      " |      Feature vectors or other representations of training data (also\n",
      " |      required for prediction). Could either be array-like with shape =\n",
      " |      (n_samples, n_features) or a list of objects.\n",
      " |  \n",
      " |  y_train_ : array-like of shape (n_samples,) or (n_samples, n_targets)\n",
      " |      Target values in training data (also required for prediction)\n",
      " |  \n",
      " |  kernel_ : kernel object\n",
      " |      The kernel used for prediction. The structure of the kernel is the\n",
      " |      same as the one passed as parameter but with optimized hyperparameters\n",
      " |  \n",
      " |  L_ : array-like of shape (n_samples, n_samples)\n",
      " |      Lower-triangular Cholesky decomposition of the kernel in ``X_train_``\n",
      " |  \n",
      " |  alpha_ : array-like of shape (n_samples,)\n",
      " |      Dual coefficients of training data points in kernel space\n",
      " |  \n",
      " |  log_marginal_likelihood_value_ : float\n",
      " |      The log-marginal-likelihood of ``self.kernel_.theta``\n",
      " |  \n",
      " |  Examples\n",
      " |  --------\n",
      " |  >>> from sklearn.datasets import make_friedman2\n",
      " |  >>> from sklearn.gaussian_process import GaussianProcessRegressor\n",
      " |  >>> from sklearn.gaussian_process.kernels import DotProduct, WhiteKernel\n",
      " |  >>> X, y = make_friedman2(n_samples=500, noise=0, random_state=0)\n",
      " |  >>> kernel = DotProduct() + WhiteKernel()\n",
      " |  >>> gpr = GaussianProcessRegressor(kernel=kernel,\n",
      " |  ...         random_state=0).fit(X, y)\n",
      " |  >>> gpr.score(X, y)\n",
      " |  0.3680...\n",
      " |  >>> gpr.predict(X[:2,:], return_std=True)\n",
      " |  (array([653.0..., 592.1...]), array([316.6..., 316.6...]))\n",
      " |  \n",
      " |  Method resolution order:\n",
      " |      GaussianProcessRegressor\n",
      " |      sklearn.base.MultiOutputMixin\n",
      " |      sklearn.base.RegressorMixin\n",
      " |      sklearn.base.BaseEstimator\n",
      " |      builtins.object\n",
      " |  \n",
      " |  Methods defined here:\n",
      " |  \n",
      " |  __init__(self, kernel=None, alpha=1e-10, optimizer='fmin_l_bfgs_b', n_restarts_optimizer=0, normalize_y=False, copy_X_train=True, random_state=None)\n",
      " |      Initialize self.  See help(type(self)) for accurate signature.\n",
      " |  \n",
      " |  fit(self, X, y)\n",
      " |      Fit Gaussian process regression model.\n",
      " |      \n",
      " |      Parameters\n",
      " |      ----------\n",
      " |      X : sequence of length n_samples\n",
      " |          Feature vectors or other representations of training data.\n",
      " |          Could either be array-like with shape = (n_samples, n_features)\n",
      " |          or a list of objects.\n",
      " |      \n",
      " |      y : array-like of shape (n_samples,) or (n_samples, n_targets)\n",
      " |          Target values\n",
      " |      \n",
      " |      Returns\n",
      " |      -------\n",
      " |      self : returns an instance of self.\n",
      " |  \n",
      " |  log_marginal_likelihood(self, theta=None, eval_gradient=False, clone_kernel=True)\n",
      " |      Returns log-marginal likelihood of theta for training data.\n",
      " |      \n",
      " |      Parameters\n",
      " |      ----------\n",
      " |      theta : array-like of shape (n_kernel_params,) or None\n",
      " |          Kernel hyperparameters for which the log-marginal likelihood is\n",
      " |          evaluated. If None, the precomputed log_marginal_likelihood\n",
      " |          of ``self.kernel_.theta`` is returned.\n",
      " |      \n",
      " |      eval_gradient : bool, default: False\n",
      " |          If True, the gradient of the log-marginal likelihood with respect\n",
      " |          to the kernel hyperparameters at position theta is returned\n",
      " |          additionally. If True, theta must not be None.\n",
      " |      \n",
      " |      clone_kernel : bool, default=True\n",
      " |          If True, the kernel attribute is copied. If False, the kernel\n",
      " |          attribute is modified, but may result in a performance improvement.\n",
      " |      \n",
      " |      Returns\n",
      " |      -------\n",
      " |      log_likelihood : float\n",
      " |          Log-marginal likelihood of theta for training data.\n",
      " |      \n",
      " |      log_likelihood_gradient : array, shape = (n_kernel_params,), optional\n",
      " |          Gradient of the log-marginal likelihood with respect to the kernel\n",
      " |          hyperparameters at position theta.\n",
      " |          Only returned when eval_gradient is True.\n",
      " |  \n",
      " |  predict(self, X, return_std=False, return_cov=False)\n",
      " |      Predict using the Gaussian process regression model\n",
      " |      \n",
      " |      We can also predict based on an unfitted model by using the GP prior.\n",
      " |      In addition to the mean of the predictive distribution, also its\n",
      " |      standard deviation (return_std=True) or covariance (return_cov=True).\n",
      " |      Note that at most one of the two can be requested.\n",
      " |      \n",
      " |      Parameters\n",
      " |      ----------\n",
      " |      X : sequence of length n_samples\n",
      " |          Query points where the GP is evaluated.\n",
      " |          Could either be array-like with shape = (n_samples, n_features)\n",
      " |          or a list of objects.\n",
      " |      \n",
      " |      return_std : bool, default: False\n",
      " |          If True, the standard-deviation of the predictive distribution at\n",
      " |          the query points is returned along with the mean.\n",
      " |      \n",
      " |      return_cov : bool, default: False\n",
      " |          If True, the covariance of the joint predictive distribution at\n",
      " |          the query points is returned along with the mean\n",
      " |      \n",
      " |      Returns\n",
      " |      -------\n",
      " |      y_mean : array, shape = (n_samples, [n_output_dims])\n",
      " |          Mean of predictive distribution a query points\n",
      " |      \n",
      " |      y_std : array, shape = (n_samples,), optional\n",
      " |          Standard deviation of predictive distribution at query points.\n",
      " |          Only returned when return_std is True.\n",
      " |      \n",
      " |      y_cov : array, shape = (n_samples, n_samples), optional\n",
      " |          Covariance of joint predictive distribution a query points.\n",
      " |          Only returned when return_cov is True.\n",
      " |  \n",
      " |  sample_y(self, X, n_samples=1, random_state=0)\n",
      " |      Draw samples from Gaussian process and evaluate at X.\n",
      " |      \n",
      " |      Parameters\n",
      " |      ----------\n",
      " |      X : sequence of length n_samples\n",
      " |          Query points where the GP is evaluated.\n",
      " |          Could either be array-like with shape = (n_samples, n_features)\n",
      " |          or a list of objects.\n",
      " |      \n",
      " |      n_samples : int, default: 1\n",
      " |          The number of samples drawn from the Gaussian process\n",
      " |      \n",
      " |      random_state : int, RandomState instance or None, optional (default=0)\n",
      " |          If int, random_state is the seed used by the random number\n",
      " |          generator; If RandomState instance, random_state is the\n",
      " |          random number generator; If None, the random number\n",
      " |          generator is the RandomState instance used by `np.random`.\n",
      " |      \n",
      " |      Returns\n",
      " |      -------\n",
      " |      y_samples : array, shape = (n_samples_X, [n_output_dims], n_samples)\n",
      " |          Values of n_samples samples drawn from Gaussian process and\n",
      " |          evaluated at query points.\n",
      " |  \n",
      " |  ----------------------------------------------------------------------\n",
      " |  Data descriptors inherited from sklearn.base.MultiOutputMixin:\n",
      " |  \n",
      " |  __dict__\n",
      " |      dictionary for instance variables (if defined)\n",
      " |  \n",
      " |  __weakref__\n",
      " |      list of weak references to the object (if defined)\n",
      " |  \n",
      " |  ----------------------------------------------------------------------\n",
      " |  Methods inherited from sklearn.base.RegressorMixin:\n",
      " |  \n",
      " |  score(self, X, y, sample_weight=None)\n",
      " |      Return the coefficient of determination R^2 of the prediction.\n",
      " |      \n",
      " |      The coefficient R^2 is defined as (1 - u/v), where u is the residual\n",
      " |      sum of squares ((y_true - y_pred) ** 2).sum() and v is the total\n",
      " |      sum of squares ((y_true - y_true.mean()) ** 2).sum().\n",
      " |      The best possible score is 1.0 and it can be negative (because the\n",
      " |      model can be arbitrarily worse). A constant model that always\n",
      " |      predicts the expected value of y, disregarding the input features,\n",
      " |      would get a R^2 score of 0.0.\n",
      " |      \n",
      " |      Parameters\n",
      " |      ----------\n",
      " |      X : array-like of shape (n_samples, n_features)\n",
      " |          Test samples. For some estimators this may be a\n",
      " |          precomputed kernel matrix or a list of generic objects instead,\n",
      " |          shape = (n_samples, n_samples_fitted),\n",
      " |          where n_samples_fitted is the number of\n",
      " |          samples used in the fitting for the estimator.\n",
      " |      \n",
      " |      y : array-like of shape (n_samples,) or (n_samples, n_outputs)\n",
      " |          True values for X.\n",
      " |      \n",
      " |      sample_weight : array-like of shape (n_samples,), default=None\n",
      " |          Sample weights.\n",
      " |      \n",
      " |      Returns\n",
      " |      -------\n",
      " |      score : float\n",
      " |          R^2 of self.predict(X) wrt. y.\n",
      " |      \n",
      " |      Notes\n",
      " |      -----\n",
      " |      The R2 score used when calling ``score`` on a regressor will use\n",
      " |      ``multioutput='uniform_average'`` from version 0.23 to keep consistent\n",
      " |      with :func:`~sklearn.metrics.r2_score`. This will influence the\n",
      " |      ``score`` method of all the multioutput regressors (except for\n",
      " |      :class:`~sklearn.multioutput.MultiOutputRegressor`). To specify the\n",
      " |      default value manually and avoid the warning, please either call\n",
      " |      :func:`~sklearn.metrics.r2_score` directly or make a custom scorer with\n",
      " |      :func:`~sklearn.metrics.make_scorer` (the built-in scorer ``'r2'`` uses\n",
      " |      ``multioutput='uniform_average'``).\n",
      " |  \n",
      " |  ----------------------------------------------------------------------\n",
      " |  Methods inherited from sklearn.base.BaseEstimator:\n",
      " |  \n",
      " |  __getstate__(self)\n",
      " |  \n",
      " |  __repr__(self, N_CHAR_MAX=700)\n",
      " |      Return repr(self).\n",
      " |  \n",
      " |  __setstate__(self, state)\n",
      " |  \n",
      " |  get_params(self, deep=True)\n",
      " |      Get parameters for this estimator.\n",
      " |      \n",
      " |      Parameters\n",
      " |      ----------\n",
      " |      deep : bool, default=True\n",
      " |          If True, will return the parameters for this estimator and\n",
      " |          contained subobjects that are estimators.\n",
      " |      \n",
      " |      Returns\n",
      " |      -------\n",
      " |      params : mapping of string to any\n",
      " |          Parameter names mapped to their values.\n",
      " |  \n",
      " |  set_params(self, **params)\n",
      " |      Set the parameters of this estimator.\n",
      " |      \n",
      " |      The method works on simple estimators as well as on nested objects\n",
      " |      (such as pipelines). The latter have parameters of the form\n",
      " |      ``<component>__<parameter>`` so that it's possible to update each\n",
      " |      component of a nested object.\n",
      " |      \n",
      " |      Parameters\n",
      " |      ----------\n",
      " |      **params : dict\n",
      " |          Estimator parameters.\n",
      " |      \n",
      " |      Returns\n",
      " |      -------\n",
      " |      self : object\n",
      " |          Estimator instance.\n",
      "\n"
     ]
    }
   ],
   "source": [
    "help(GaussianProcessRegressor)"
   ]
  },
  {
   "cell_type": "code",
   "execution_count": 12,
   "metadata": {
    "ExecuteTime": {
     "end_time": "2020-04-22T13:50:51.360135Z",
     "start_time": "2020-04-22T13:50:51.331960Z"
    }
   },
   "outputs": [],
   "source": [
    "mtrials.refresh()"
   ]
  },
  {
   "cell_type": "code",
   "execution_count": 497,
   "metadata": {
    "ExecuteTime": {
     "end_time": "2020-04-21T16:57:31.304297Z",
     "start_time": "2020-04-21T16:57:31.211300Z"
    },
    "scrolled": true
   },
   "outputs": [
    {
     "data": {
      "text/plain": [
       "2"
      ]
     },
     "execution_count": 497,
     "metadata": {},
     "output_type": "execute_result"
    }
   ],
   "source": [
    "mtrials.best_trial['state']"
   ]
  },
  {
   "cell_type": "code",
   "execution_count": null,
   "metadata": {},
   "outputs": [],
   "source": []
  },
  {
   "cell_type": "code",
   "execution_count": 501,
   "metadata": {
    "ExecuteTime": {
     "end_time": "2020-04-21T16:58:19.748095Z",
     "start_time": "2020-04-21T16:58:19.730090Z"
    }
   },
   "outputs": [
    {
     "data": {
      "text/plain": [
       "2"
      ]
     },
     "execution_count": 501,
     "metadata": {},
     "output_type": "execute_result"
    }
   ],
   "source": [
    "hyperopt.JOB_STATE_DONE"
   ]
  },
  {
   "cell_type": "code",
   "execution_count": 15,
   "metadata": {
    "ExecuteTime": {
     "end_time": "2020-04-22T13:51:18.528712Z",
     "start_time": "2020-04-22T13:51:18.523718Z"
    }
   },
   "outputs": [
    {
     "data": {
      "text/plain": [
       "[]"
      ]
     },
     "execution_count": 15,
     "metadata": {},
     "output_type": "execute_result"
    }
   ],
   "source": [
    "trials"
   ]
  },
  {
   "cell_type": "code",
   "execution_count": 265,
   "metadata": {
    "ExecuteTime": {
     "end_time": "2020-04-24T12:19:11.301333Z",
     "start_time": "2020-04-24T12:19:11.298369Z"
    }
   },
   "outputs": [],
   "source": [
    "from collections import Counter"
   ]
  },
  {
   "cell_type": "code",
   "execution_count": 267,
   "metadata": {
    "ExecuteTime": {
     "end_time": "2020-04-24T12:19:34.586250Z",
     "start_time": "2020-04-24T12:19:34.572284Z"
    }
   },
   "outputs": [],
   "source": [
    "news = [x for x in all_trials.trials if x['state'] == 1]"
   ]
  },
  {
   "cell_type": "code",
   "execution_count": 289,
   "metadata": {
    "ExecuteTime": {
     "end_time": "2020-04-24T13:00:07.844246Z",
     "start_time": "2020-04-24T13:00:07.829246Z"
    }
   },
   "outputs": [
    {
     "data": {
      "text/plain": [
       "'covid-8'"
      ]
     },
     "execution_count": 289,
     "metadata": {},
     "output_type": "execute_result"
    }
   ],
   "source": [
    "mtrials.trials[0]['exp_key']\n"
   ]
  },
  {
   "cell_type": "code",
   "execution_count": 290,
   "metadata": {
    "ExecuteTime": {
     "end_time": "2020-04-24T13:00:47.563862Z",
     "start_time": "2020-04-24T13:00:11.099161Z"
    }
   },
   "outputs": [],
   "source": [
    "for x in list(mtrials.trials):\n",
    "    jobs.find_one_and_delete({'_id': x['_id']})"
   ]
  },
  {
   "cell_type": "code",
   "execution_count": 271,
   "metadata": {
    "ExecuteTime": {
     "end_time": "2020-04-24T12:19:58.354648Z",
     "start_time": "2020-04-24T12:19:58.349601Z"
    }
   },
   "outputs": [
    {
     "data": {
      "text/plain": [
       "4"
      ]
     },
     "execution_count": 271,
     "metadata": {},
     "output_type": "execute_result"
    }
   ],
   "source": [
    "len(news)"
   ]
  },
  {
   "cell_type": "code",
   "execution_count": 266,
   "metadata": {
    "ExecuteTime": {
     "end_time": "2020-04-24T12:19:11.558202Z",
     "start_time": "2020-04-24T12:19:11.553190Z"
    }
   },
   "outputs": [
    {
     "data": {
      "text/plain": [
       "Counter({2: 842, 1: 4})"
      ]
     },
     "execution_count": 266,
     "metadata": {},
     "output_type": "execute_result"
    }
   ],
   "source": [
    "Counter(x['state'] for x in all_trials.trials)"
   ]
  },
  {
   "cell_type": "code",
   "execution_count": 13,
   "metadata": {
    "ExecuteTime": {
     "end_time": "2020-04-22T13:50:53.382102Z",
     "start_time": "2020-04-22T13:50:53.083831Z"
    },
    "scrolled": true
   },
   "outputs": [],
   "source": [
    "# mtrials.refresh()\n",
    "# trials = list(mtrials.trials)\n",
    "# new_trials = []\n",
    "# mtrials.delete_all()\n",
    "# for tr in trials:\n",
    "#     if tr['state'] == hyperopt.STATUS_NEW:\n",
    "#         continue\n",
    "    \n",
    "#     if 'idxs' not in tr['misc']:        \n",
    "#         continue\n",
    "        \n",
    "#     tid = tr['tid']\n",
    "#     tr['misc']['idxs'] = {k:[tid] for k in tr['misc']['idxs'].keys()}\n",
    "#     del tr['_id']\n",
    "#     new_trials.append(tr)\n",
    "    \n",
    "# mtrials.insert_trial_docs(new_trials);"
   ]
  },
  {
   "cell_type": "code",
   "execution_count": 27,
   "metadata": {
    "ExecuteTime": {
     "end_time": "2020-04-22T14:04:36.529689Z",
     "start_time": "2020-04-22T14:04:36.524682Z"
    }
   },
   "outputs": [
    {
     "data": {
      "text/plain": [
       "'4'"
      ]
     },
     "execution_count": 27,
     "metadata": {},
     "output_type": "execute_result"
    }
   ],
   "source": [
    "f\"{4.2:0.0f}\""
   ]
  },
  {
   "cell_type": "code",
   "execution_count": 18,
   "metadata": {
    "ExecuteTime": {
     "end_time": "2020-04-22T13:56:47.543408Z",
     "start_time": "2020-04-22T13:56:47.525407Z"
    },
    "scrolled": true
   },
   "outputs": [
    {
     "name": "stdout",
     "output_type": "stream",
     "text": [
      "68452 68452 [68452]\n",
      "68453 68453 [68453]\n",
      "68454 68454 [68454]\n",
      "68455 68455 [68455]\n",
      "68456 68456 [68456]\n",
      "68457 68457 [68457]\n",
      "68458 68458 [68458]\n",
      "68459 68459 [68459]\n",
      "68460 68460 [68460]\n",
      "68461 68461 [68461]\n",
      "68462 68462 [68462]\n",
      "68463 68463 [68463]\n",
      "68464 68464 [68464]\n",
      "68465 68465 [68465]\n",
      "68466 68466 [68466]\n",
      "68467 68467 [68467]\n",
      "68468 68468 [68468]\n",
      "68469 68469 [68469]\n",
      "68470 68470 [68470]\n",
      "68471 68471 [68471]\n",
      "68472 68472 [68472]\n",
      "68473 68473 [68473]\n",
      "68474 68474 [68474]\n",
      "68475 68475 [68475]\n",
      "68476 68476 [68476]\n",
      "68477 68477 [68477]\n",
      "68478 68478 [68478]\n",
      "68479 68479 [68479]\n",
      "68480 68480 [68480]\n",
      "68481 68481 [68481]\n",
      "68482 68482 [68482]\n",
      "68483 68483 [68483]\n",
      "68484 68484 [68484]\n",
      "68485 68485 [68485]\n",
      "68486 68486 [68486]\n",
      "68487 68487 [68487]\n",
      "68488 68488 [68488]\n"
     ]
    }
   ],
   "source": [
    "for tr in list(mtrials.trials):\n",
    "    print(tr['tid'], tr['misc']['tid'], tr['misc']['idxs']['chem_hidden_size'])"
   ]
  },
  {
   "cell_type": "code",
   "execution_count": 17,
   "metadata": {
    "ExecuteTime": {
     "end_time": "2020-04-22T13:56:15.333817Z",
     "start_time": "2020-04-22T13:56:15.322770Z"
    }
   },
   "outputs": [
    {
     "ename": "NameError",
     "evalue": "name 'all_trials' is not defined",
     "output_type": "error",
     "traceback": [
      "\u001b[1;31m---------------------------------------------------------------------------\u001b[0m",
      "\u001b[1;31mNameError\u001b[0m                                 Traceback (most recent call last)",
      "\u001b[1;32m<ipython-input-17-9e3755cc0939>\u001b[0m in \u001b[0;36m<module>\u001b[1;34m\u001b[0m\n\u001b[1;32m----> 1\u001b[1;33m \u001b[0mlen\u001b[0m\u001b[1;33m(\u001b[0m\u001b[0mall_trials\u001b[0m\u001b[1;33m.\u001b[0m\u001b[0mtrials\u001b[0m\u001b[1;33m)\u001b[0m\u001b[1;33m\u001b[0m\u001b[1;33m\u001b[0m\u001b[0m\n\u001b[0m",
      "\u001b[1;31mNameError\u001b[0m: name 'all_trials' is not defined"
     ]
    }
   ],
   "source": [
    "len(all_trials.trials)"
   ]
  },
  {
   "cell_type": "code",
   "execution_count": 482,
   "metadata": {
    "ExecuteTime": {
     "end_time": "2020-04-21T15:43:19.134595Z",
     "start_time": "2020-04-21T15:43:19.130596Z"
    }
   },
   "outputs": [],
   "source": [
    "trials = list(all_trials.trials)"
   ]
  },
  {
   "cell_type": "code",
   "execution_count": 490,
   "metadata": {
    "ExecuteTime": {
     "end_time": "2020-04-21T15:44:41.810527Z",
     "start_time": "2020-04-21T15:44:41.806521Z"
    }
   },
   "outputs": [],
   "source": [
    "trials.sort(key=lambda x: x['exp_key'], reverse=True)"
   ]
  },
  {
   "cell_type": "code",
   "execution_count": 486,
   "metadata": {
    "ExecuteTime": {
     "end_time": "2020-04-21T15:44:13.763389Z",
     "start_time": "2020-04-21T15:44:13.744387Z"
    }
   },
   "outputs": [
    {
     "data": {
      "text/plain": [
       "['covid-1',\n",
       " 'covid-1',\n",
       " 'covid-1',\n",
       " 'covid-1',\n",
       " 'covid-1',\n",
       " 'covid-1',\n",
       " 'covid-1',\n",
       " 'covid-1',\n",
       " 'covid-1',\n",
       " 'covid-1',\n",
       " 'covid-1',\n",
       " 'covid-1',\n",
       " 'covid-1',\n",
       " 'covid-1',\n",
       " 'covid-1',\n",
       " 'covid-1',\n",
       " 'covid-1',\n",
       " 'covid-1',\n",
       " 'covid-1',\n",
       " 'covid-1',\n",
       " 'covid-1',\n",
       " 'covid-1',\n",
       " 'covid-1',\n",
       " 'covid-1',\n",
       " 'covid-1',\n",
       " 'covid-1',\n",
       " 'covid-1',\n",
       " 'covid-1',\n",
       " 'covid-1',\n",
       " 'covid-1',\n",
       " 'covid-1',\n",
       " 'covid-1',\n",
       " 'covid-1',\n",
       " 'covid-1',\n",
       " 'covid-1',\n",
       " 'covid-1',\n",
       " 'covid-1',\n",
       " 'covid-1',\n",
       " 'covid-1',\n",
       " 'covid-1',\n",
       " 'covid-1',\n",
       " 'covid-1',\n",
       " 'covid-1',\n",
       " 'covid-1',\n",
       " 'covid-1',\n",
       " 'covid-1',\n",
       " 'covid-1',\n",
       " 'covid-1',\n",
       " 'covid-1',\n",
       " 'covid-1',\n",
       " 'covid-1',\n",
       " 'covid-1',\n",
       " 'covid-1',\n",
       " 'covid-1',\n",
       " 'covid-1',\n",
       " 'covid-1',\n",
       " 'covid-1',\n",
       " 'covid-1',\n",
       " 'covid-1',\n",
       " 'covid-1',\n",
       " 'covid-1',\n",
       " 'covid-1',\n",
       " 'covid-1',\n",
       " 'covid-1',\n",
       " 'covid-1',\n",
       " 'covid-1',\n",
       " 'covid-1',\n",
       " 'covid-1',\n",
       " 'covid-1',\n",
       " 'covid-1',\n",
       " 'covid-1',\n",
       " 'covid-1',\n",
       " 'covid-1',\n",
       " 'covid-1',\n",
       " 'covid-1',\n",
       " 'covid-1',\n",
       " 'covid-1',\n",
       " 'covid-1',\n",
       " 'covid-1',\n",
       " 'covid-1',\n",
       " 'covid-1',\n",
       " 'covid-1',\n",
       " 'covid-1',\n",
       " 'covid-1',\n",
       " 'covid-1',\n",
       " 'covid-1',\n",
       " 'covid-1',\n",
       " 'covid-1',\n",
       " 'covid-1',\n",
       " 'covid-1',\n",
       " 'covid-1',\n",
       " 'covid-1',\n",
       " 'covid-1',\n",
       " 'covid-1',\n",
       " 'covid-1',\n",
       " 'covid-1',\n",
       " 'covid-1',\n",
       " 'covid-1',\n",
       " 'covid-2',\n",
       " 'covid-2',\n",
       " 'covid-2',\n",
       " 'covid-2',\n",
       " 'covid-2',\n",
       " 'covid-2',\n",
       " 'covid-2',\n",
       " 'covid-2',\n",
       " 'covid-2',\n",
       " 'covid-2',\n",
       " 'covid-2',\n",
       " 'covid-2',\n",
       " 'covid-2',\n",
       " 'covid-2',\n",
       " 'covid-2',\n",
       " 'covid-2',\n",
       " 'covid-2',\n",
       " 'covid-2',\n",
       " 'covid-2',\n",
       " 'covid-2',\n",
       " 'covid-2',\n",
       " 'covid-2',\n",
       " 'covid-2',\n",
       " 'covid-2',\n",
       " 'covid-2',\n",
       " 'covid-2',\n",
       " 'covid-2',\n",
       " 'covid-2',\n",
       " 'covid-2',\n",
       " 'covid-2',\n",
       " 'covid-2',\n",
       " 'covid-2',\n",
       " 'covid-2',\n",
       " 'covid-2',\n",
       " 'covid-2',\n",
       " 'covid-2',\n",
       " 'covid-2',\n",
       " 'covid-2',\n",
       " 'covid-2',\n",
       " 'covid-2',\n",
       " 'covid-2',\n",
       " 'covid-2',\n",
       " 'covid-2',\n",
       " 'covid-2',\n",
       " 'covid-2',\n",
       " 'covid-2',\n",
       " 'covid-2',\n",
       " 'covid-2',\n",
       " 'covid-2',\n",
       " 'covid-2',\n",
       " 'covid-2',\n",
       " 'covid-2',\n",
       " 'covid-2',\n",
       " 'covid-2',\n",
       " 'covid-2',\n",
       " 'covid-2',\n",
       " 'covid-2',\n",
       " 'covid-2',\n",
       " 'covid-2',\n",
       " 'covid-2',\n",
       " 'covid-2',\n",
       " 'covid-2',\n",
       " 'covid-2',\n",
       " 'covid-2',\n",
       " 'covid-2',\n",
       " 'covid-2',\n",
       " 'covid-2',\n",
       " 'covid-2',\n",
       " 'covid-2',\n",
       " 'covid-2',\n",
       " 'covid-2',\n",
       " 'covid-2',\n",
       " 'covid-2',\n",
       " 'covid-2',\n",
       " 'covid-2',\n",
       " 'covid-2',\n",
       " 'covid-2',\n",
       " 'covid-2',\n",
       " 'covid-2',\n",
       " 'covid-2',\n",
       " 'covid-2',\n",
       " 'covid-2',\n",
       " 'covid-2',\n",
       " 'covid-2',\n",
       " 'covid-2',\n",
       " 'covid-2',\n",
       " 'covid-2',\n",
       " 'covid-2',\n",
       " 'covid-2',\n",
       " 'covid-2',\n",
       " 'covid-2',\n",
       " 'covid-2',\n",
       " 'covid-2',\n",
       " 'covid-2',\n",
       " 'covid-2',\n",
       " 'covid-2',\n",
       " 'covid-2',\n",
       " 'covid-2',\n",
       " 'covid-2',\n",
       " 'covid-2',\n",
       " 'covid-2',\n",
       " 'covid-2',\n",
       " 'covid-2',\n",
       " 'covid-2',\n",
       " 'covid-2',\n",
       " 'covid-2',\n",
       " 'covid-2',\n",
       " 'covid-2',\n",
       " 'covid-2',\n",
       " 'covid-2',\n",
       " 'covid-3',\n",
       " 'covid-3',\n",
       " 'covid-3',\n",
       " 'covid-3',\n",
       " 'covid-3',\n",
       " 'covid-3',\n",
       " 'covid-3',\n",
       " 'covid-3',\n",
       " 'covid-3',\n",
       " 'covid-3',\n",
       " 'covid-3',\n",
       " 'covid-3',\n",
       " 'covid-3',\n",
       " 'covid-3',\n",
       " 'covid-3',\n",
       " 'covid-3',\n",
       " 'covid-3',\n",
       " 'covid-3',\n",
       " 'covid-3',\n",
       " 'covid-3',\n",
       " 'covid-3',\n",
       " 'covid-3',\n",
       " 'covid-3',\n",
       " 'covid-3',\n",
       " 'covid-3',\n",
       " 'covid-3',\n",
       " 'covid-3',\n",
       " 'covid-3',\n",
       " 'covid-3',\n",
       " 'covid-3',\n",
       " 'covid-3',\n",
       " 'covid-3',\n",
       " 'covid-3',\n",
       " 'covid-3',\n",
       " 'covid-3',\n",
       " 'covid-3',\n",
       " 'covid-3',\n",
       " 'covid-3',\n",
       " 'covid-3',\n",
       " 'covid-3',\n",
       " 'covid-3',\n",
       " 'covid-3',\n",
       " 'covid-3',\n",
       " 'covid-3',\n",
       " 'covid-3',\n",
       " 'covid-3',\n",
       " 'covid-3',\n",
       " 'covid-3',\n",
       " 'covid-3',\n",
       " 'covid-3',\n",
       " 'covid-3',\n",
       " 'covid-3',\n",
       " 'covid-3',\n",
       " 'covid-3',\n",
       " 'covid-3',\n",
       " 'covid-3',\n",
       " 'covid-3',\n",
       " 'covid-3',\n",
       " 'covid-3',\n",
       " 'covid-3',\n",
       " 'covid-3',\n",
       " 'covid-3',\n",
       " 'covid-3',\n",
       " 'covid-3',\n",
       " 'covid-3',\n",
       " 'covid-3',\n",
       " 'covid-3',\n",
       " 'covid-3',\n",
       " 'covid-3',\n",
       " 'covid-3',\n",
       " 'covid-3',\n",
       " 'covid-3',\n",
       " 'covid-3',\n",
       " 'covid-3',\n",
       " 'covid-3',\n",
       " 'covid-3',\n",
       " 'covid-3',\n",
       " 'covid-3',\n",
       " 'covid-3',\n",
       " 'covid-3',\n",
       " 'covid-3',\n",
       " 'covid-3',\n",
       " 'covid-3',\n",
       " 'covid-3',\n",
       " 'covid-3',\n",
       " 'covid-3',\n",
       " 'covid-3',\n",
       " 'covid-3',\n",
       " 'covid-3',\n",
       " 'covid-3',\n",
       " 'covid-3',\n",
       " 'covid-3',\n",
       " 'covid-3',\n",
       " 'covid-3',\n",
       " 'covid-3',\n",
       " 'covid-3',\n",
       " 'covid-3',\n",
       " 'covid-3',\n",
       " 'covid-3']"
      ]
     },
     "execution_count": 486,
     "metadata": {},
     "output_type": "execute_result"
    }
   ],
   "source": [
    "[x['exp_key'] for x in trials]"
   ]
  },
  {
   "cell_type": "code",
   "execution_count": 432,
   "metadata": {
    "ExecuteTime": {
     "end_time": "2020-04-21T04:11:29.670973Z",
     "start_time": "2020-04-21T04:11:26.562973Z"
    }
   },
   "outputs": [],
   "source": [
    "mtrials.refresh()"
   ]
  },
  {
   "cell_type": "code",
   "execution_count": 476,
   "metadata": {
    "ExecuteTime": {
     "end_time": "2020-04-21T14:19:42.943355Z",
     "start_time": "2020-04-21T14:19:42.937391Z"
    },
    "scrolled": true
   },
   "outputs": [
    {
     "data": {
      "text/plain": [
       "[None,\n",
       " None,\n",
       " None,\n",
       " None,\n",
       " None,\n",
       " None,\n",
       " None,\n",
       " None,\n",
       " None,\n",
       " None,\n",
       " None,\n",
       " None,\n",
       " None,\n",
       " None,\n",
       " None,\n",
       " 0.21328111628602275,\n",
       " 0.22479035340367565,\n",
       " 0.3556961630207984,\n",
       " 0.22169327307610345,\n",
       " 0.22389276772592984,\n",
       " 0.23422493468952832,\n",
       " 0.2890324062397457,\n",
       " 0.2520814773839728,\n",
       " 0.2715198570780236,\n",
       " 0.2690689443427018,\n",
       " 0.2258686390389643,\n",
       " 0.44775285827415306,\n",
       " 0.2434224739944544,\n",
       " 0.31642576905365183,\n",
       " 0.3342891712872157,\n",
       " 0.28491476489814715,\n",
       " 0.2749412064689787,\n",
       " 0.2956341970039592,\n",
       " 0.27734930605432073,\n",
       " 0.35449660826809015,\n",
       " 0.16114772885089448,\n",
       " 0.18324904197370948,\n",
       " 0.155036593445272,\n",
       " 0.19740942185282445,\n",
       " 0.1610595414137637,\n",
       " 0.1676622261036571,\n",
       " 0.1823361170224568,\n",
       " 0.3520490129614179,\n",
       " 0.2066641516756525,\n",
       " 0.16664173639201835,\n",
       " 0.18660646538284198,\n",
       " 0.18723331533290288,\n",
       " 0.16952371641920694,\n",
       " 0.18484370085302007,\n",
       " 0.165470789611178,\n",
       " 0.38596525781677293,\n",
       " 0.17112317745648262,\n",
       " 0.18634207285815674,\n",
       " 0.16525157686275244,\n",
       " 0.17309890359522506,\n",
       " 0.17971583028113114,\n",
       " 0.21628123721420622,\n",
       " 0.17653787017966338,\n",
       " 0.3144145629989131,\n",
       " 0.3597656542846764,\n",
       " 0.2421278415135356,\n",
       " 0.2047601151440886,\n",
       " 0.1957035639003981,\n",
       " 0.24833277797627185,\n",
       " 0.2172142272598822,\n",
       " 0.2518901204754158,\n",
       " 0.33858363806432157,\n",
       " 0.4505934404318103,\n",
       " 0.4633732593572811,\n",
       " 0.49717993647068875,\n",
       " 0.23934821022611633,\n",
       " 0.45576452972257575,\n",
       " 0.4563620839197339,\n",
       " 0.4527882477631915,\n",
       " 0.4482046217398311,\n",
       " 0.45470108250353447,\n",
       " 0.46783680558220936,\n",
       " 0.48957649245634194,\n",
       " 0.46969559392056537,\n",
       " 0.28364439766557653,\n",
       " 0.29519930363108915,\n",
       " 0.46546953385576506,\n",
       " 0.47730472483447917,\n",
       " 0.45397085839755197,\n",
       " 0.45930064817608846,\n",
       " 0.43858088826956215,\n",
       " 0.4882900769832072,\n",
       " 7.4394293399251685,\n",
       " 7.439429350159346,\n",
       " 7.810598284605423,\n",
       " 8.26915143605745,\n",
       " 8.302715538865925,\n",
       " 10.367352102401167,\n",
       " 10.488300332763517,\n",
       " 11.296297575328614,\n",
       " 7.9315464812432825,\n",
       " 7.931546465918415,\n",
       " 20.846244652496207,\n",
       " 24.629400716828243]"
      ]
     },
     "execution_count": 476,
     "metadata": {},
     "output_type": "execute_result"
    }
   ],
   "source": [
    "mtrials.losses()"
   ]
  },
  {
   "cell_type": "code",
   "execution_count": 386,
   "metadata": {
    "ExecuteTime": {
     "end_time": "2020-04-20T22:16:21.906649Z",
     "start_time": "2020-04-20T22:16:19.526138Z"
    }
   },
   "outputs": [],
   "source": [
    "mtrials.delete_all()"
   ]
  },
  {
   "cell_type": "code",
   "execution_count": 27,
   "metadata": {
    "ExecuteTime": {
     "end_time": "2020-04-18T20:24:11.725493Z",
     "start_time": "2020-04-18T20:24:11.722445Z"
    }
   },
   "outputs": [],
   "source": [
    "import json"
   ]
  },
  {
   "cell_type": "code",
   "execution_count": 31,
   "metadata": {
    "ExecuteTime": {
     "end_time": "2020-04-18T20:25:14.969017Z",
     "start_time": "2020-04-18T20:25:14.966017Z"
    }
   },
   "outputs": [],
   "source": [
    "v_stats = t['result']['validation_stats']"
   ]
  },
  {
   "cell_type": "code",
   "execution_count": 33,
   "metadata": {
    "ExecuteTime": {
     "end_time": "2020-04-18T20:25:57.783789Z",
     "start_time": "2020-04-18T20:25:57.780791Z"
    }
   },
   "outputs": [],
   "source": [
    "v_x, v_loss, v_acc, v_conf = zip(*v_stats)"
   ]
  },
  {
   "cell_type": "code",
   "execution_count": 72,
   "metadata": {
    "ExecuteTime": {
     "end_time": "2020-04-18T20:40:12.940365Z",
     "start_time": "2020-04-18T20:40:12.937361Z"
    }
   },
   "outputs": [],
   "source": [
    "from datetime import timedelta\n",
    "from collections import Iterable, Mapping"
   ]
  },
  {
   "cell_type": "code",
   "execution_count": 89,
   "metadata": {
    "ExecuteTime": {
     "end_time": "2020-04-18T20:44:47.353072Z",
     "start_time": "2020-04-18T20:44:47.345037Z"
    }
   },
   "outputs": [],
   "source": [
    "def make_json_friendly(result):\n",
    "    if isinstance(result, list):\n",
    "        return make_json_list_friendly(result)\n",
    "    \n",
    "    if len(result) == 0:\n",
    "        return result\n",
    "    \n",
    "    output = {}\n",
    "    \n",
    "    for k,v in result.items():\n",
    "        if isinstance(v, np.ndarray):\n",
    "            v = list(v)\n",
    "        elif isinstance(v, timedelta):\n",
    "            v = v.total_seconds()\n",
    "        \n",
    "        if isinstance(v, Mapping):\n",
    "            v = make_json_friendly(v)\n",
    "        elif isinstance(v, Iterable):\n",
    "            v = make_json_list_friendly(v)\n",
    "            \n",
    "        \n",
    "        output[k] = v\n",
    "    return output\n",
    "\n",
    "def make_json_list_friendly(lst):\n",
    "    if len(lst) == 0 or isinstance(lst, str):\n",
    "        return lst\n",
    "    \n",
    "    output = []\n",
    "    for item in lst:\n",
    "        if isinstance(item, np.ndarray):\n",
    "            item = list(item)\n",
    "        elif isinstance(item, timedelta):\n",
    "            item = item.total_seconds()\n",
    "            \n",
    "        if isinstance(item, Mapping):\n",
    "            item = make_json_friendly(item)\n",
    "        elif isinstance(item, Iterable):\n",
    "            item = make_json_list_friendly(item)\n",
    "            \n",
    "        output.append(item)\n",
    "    return output"
   ]
  },
  {
   "cell_type": "code",
   "execution_count": 143,
   "metadata": {
    "ExecuteTime": {
     "end_time": "2020-04-20T00:43:04.491903Z",
     "start_time": "2020-04-20T00:43:04.486927Z"
    }
   },
   "outputs": [
    {
     "data": {
      "text/plain": [
       "0.4528115093335509"
      ]
     },
     "execution_count": 143,
     "metadata": {},
     "output_type": "execute_result"
    }
   ],
   "source": [
    "trials.trials[0]['result']['loss']"
   ]
  },
  {
   "cell_type": "code",
   "execution_count": 144,
   "metadata": {
    "ExecuteTime": {
     "end_time": "2020-04-20T00:43:37.861493Z",
     "start_time": "2020-04-20T00:43:37.848515Z"
    }
   },
   "outputs": [],
   "source": [
    "from scipy.stats import linregress"
   ]
  },
  {
   "cell_type": "code",
   "execution_count": 238,
   "metadata": {
    "ExecuteTime": {
     "end_time": "2020-04-20T14:10:26.865834Z",
     "start_time": "2020-04-20T14:10:26.862831Z"
    }
   },
   "outputs": [],
   "source": [
    "t = mtrials.trials[-1]"
   ]
  },
  {
   "cell_type": "code",
   "execution_count": 240,
   "metadata": {
    "ExecuteTime": {
     "end_time": "2020-04-20T14:10:40.083831Z",
     "start_time": "2020-04-20T14:10:40.079863Z"
    }
   },
   "outputs": [
    {
     "data": {
      "text/plain": [
       "['_id',\n",
       " 'state',\n",
       " 'tid',\n",
       " 'spec',\n",
       " 'result',\n",
       " 'misc',\n",
       " 'exp_key',\n",
       " 'owner',\n",
       " 'version',\n",
       " 'book_time',\n",
       " 'refresh_time']"
      ]
     },
     "execution_count": 240,
     "metadata": {},
     "output_type": "execute_result"
    }
   ],
   "source": [
    "t.keys()"
   ]
  },
  {
   "cell_type": "code",
   "execution_count": 276,
   "metadata": {
    "ExecuteTime": {
     "end_time": "2020-04-24T12:38:25.736751Z",
     "start_time": "2020-04-24T12:38:14.381915Z"
    }
   },
   "outputs": [],
   "source": [
    "c7 = MongoTrials('mongo://localhost:1234/covid/jobs', exp_key='covid-7')"
   ]
  },
  {
   "cell_type": "code",
   "execution_count": 285,
   "metadata": {
    "ExecuteTime": {
     "end_time": "2020-04-24T12:53:44.378055Z",
     "start_time": "2020-04-24T12:53:44.233203Z"
    }
   },
   "outputs": [],
   "source": [
    "cnt = 0\n",
    "for t in c7.trials:\n",
    "    try:\n",
    "        epoch = int(t['result'].get('training_loss_hist', [(-1,np.inf)])[-1][0] + 1e-8)\n",
    "    except:\n",
    "        #jobs.find_one_and_delete({'_id':t['_id']})\n",
    "        pass\n",
    "    "
   ]
  },
  {
   "cell_type": "code",
   "execution_count": 284,
   "metadata": {
    "ExecuteTime": {
     "end_time": "2020-04-24T12:48:59.361411Z",
     "start_time": "2020-04-24T12:48:59.356416Z"
    }
   },
   "outputs": [
    {
     "data": {
      "text/plain": [
       "6"
      ]
     },
     "execution_count": 284,
     "metadata": {},
     "output_type": "execute_result"
    }
   ],
   "source": [
    "cnt"
   ]
  },
  {
   "cell_type": "code",
   "execution_count": 282,
   "metadata": {
    "ExecuteTime": {
     "end_time": "2020-04-24T12:39:39.137603Z",
     "start_time": "2020-04-24T12:39:39.119604Z"
    }
   },
   "outputs": [
    {
     "data": {
      "text/plain": [
       "SON([('loss', 0.47336986934958536), ('runtime', 46.930123), ('status', 'ok'), ('label', 'hyperopt_bb26c3b7853e'), ('training_loss_hist', []), ('validation_stats', [[0, 0.47336986934958536, [0.4327753319596978, 0.21416831513670326, 0.45095700959174223, 0.5675868709180731, 0.4970411023853835], [[5089.772014379501, 0.0, 5540.012501001358, 7125.466645240784, 6292.086115837097], [6671.0, 0.0, 6745.0, 5428.5, 6367.0], [0.0, 12119.449392795563, 0.0, 0.0, 0.0], [0.0, 3303.0, 0.0, 0.0, 0.0]]]])])"
      ]
     },
     "execution_count": 282,
     "metadata": {},
     "output_type": "execute_result"
    }
   ],
   "source": [
    "t['result']"
   ]
  },
  {
   "cell_type": "code",
   "execution_count": 23,
   "metadata": {
    "ExecuteTime": {
     "end_time": "2020-04-27T14:16:18.432672Z",
     "start_time": "2020-04-27T14:16:14.033371Z"
    }
   },
   "outputs": [
    {
     "name": "stderr",
     "output_type": "stream",
     "text": [
      "INFO:hyperopt.mongoexp:PROTOCOL mongo\n",
      "INFO:hyperopt.mongoexp:USERNAME None\n",
      "INFO:hyperopt.mongoexp:HOSTNAME localhost\n",
      "INFO:hyperopt.mongoexp:PORT 1234\n",
      "INFO:hyperopt.mongoexp:PATH /covid/jobs\n",
      "INFO:hyperopt.mongoexp:AUTH DB None\n",
      "INFO:hyperopt.mongoexp:DB covid\n",
      "INFO:hyperopt.mongoexp:COLLECTION jobs\n",
      "DEBUG:hyperopt.mongoexp:Refresh data download took 4.154947 seconds for 146 ids\n"
     ]
    }
   ],
   "source": [
    "all_trials = MongoTrials('mongo://localhost:1234/covid/jobs')"
   ]
  },
  {
   "cell_type": "code",
   "execution_count": 41,
   "metadata": {
    "ExecuteTime": {
     "end_time": "2020-04-26T04:39:44.533739Z",
     "start_time": "2020-04-26T04:39:44.529709Z"
    }
   },
   "outputs": [],
   "source": [
    "with open(\"./round1_mongo_trials.pkl\", \"wb\") as f:\n",
    "    pkl.dump(all_trials.trials, f, pkl.HIGHEST_PROTOCOL)"
   ]
  },
  {
   "cell_type": "code",
   "execution_count": 24,
   "metadata": {
    "ExecuteTime": {
     "end_time": "2020-04-27T14:16:41.326714Z",
     "start_time": "2020-04-27T14:16:35.298008Z"
    }
   },
   "outputs": [
    {
     "name": "stderr",
     "output_type": "stream",
     "text": [
      "INFO:hyperopt.mongoexp:deleting job 5ea514365c4ed4eb7702272e\n",
      "INFO:hyperopt.mongoexp:deleting job 5ea514c45c4ed4eb7702272f\n",
      "INFO:hyperopt.mongoexp:deleting job 5ea514cc5c4ed4eb77022730\n",
      "INFO:hyperopt.mongoexp:deleting job 5ea515a35c4ed4eb77022731\n",
      "INFO:hyperopt.mongoexp:deleting job 5ea515c85c4ed4eb77022732\n",
      "INFO:hyperopt.mongoexp:deleting job 5ea515dd5c4ed4eb77022733\n",
      "INFO:hyperopt.mongoexp:deleting job 5ea5164f5c4ed4eb77022735\n",
      "INFO:hyperopt.mongoexp:deleting job 5ea5173a5c4ed4eb77022736\n",
      "INFO:hyperopt.mongoexp:deleting job 5ea519685c4ed4eb77022737\n",
      "INFO:hyperopt.mongoexp:deleting job 5ea51a375c4ed4eb77022738\n",
      "INFO:hyperopt.mongoexp:deleting job 5ea520c95c4ed4eb77022739\n",
      "INFO:hyperopt.mongoexp:deleting job 5ea5234f5c4ed4eb7702273a\n",
      "INFO:hyperopt.mongoexp:deleting job 5ea523b25c4ed4eb7702273b\n",
      "INFO:hyperopt.mongoexp:deleting job 5ea5252c5c4ed4eb7702273c\n",
      "INFO:hyperopt.mongoexp:deleting job 5ea528395c4ed4eb7702273d\n",
      "INFO:hyperopt.mongoexp:deleting job 5ea5284d5c4ed4eb7702273e\n",
      "INFO:hyperopt.mongoexp:deleting job 5ea528de5c4ed4eb7702273f\n",
      "INFO:hyperopt.mongoexp:deleting job 5ea52a785c4ed4eb77022740\n",
      "INFO:hyperopt.mongoexp:deleting job 5ea52c735c4ed4eb77022741\n",
      "INFO:hyperopt.mongoexp:deleting job 5ea52d455c4ed4eb77022742\n",
      "INFO:hyperopt.mongoexp:deleting job 5ea530355c4ed4eb77022743\n",
      "INFO:hyperopt.mongoexp:deleting job 5ea531535c4ed4eb77022744\n",
      "INFO:hyperopt.mongoexp:deleting job 5ea5329a5c4ed4eb77022745\n",
      "INFO:hyperopt.mongoexp:deleting job 5ea5355e5c4ed4eb77022746\n",
      "INFO:hyperopt.mongoexp:deleting job 5ea536195c4ed4eb77022747\n",
      "INFO:hyperopt.mongoexp:deleting job 5ea53c7e5c4ed4eb77022748\n",
      "INFO:hyperopt.mongoexp:deleting job 5ea53cca5c4ed4eb77022749\n",
      "INFO:hyperopt.mongoexp:deleting job 5ea53d165c4ed4eb7702274a\n",
      "INFO:hyperopt.mongoexp:deleting job 5ea53db95c4ed4eb7702274b\n",
      "INFO:hyperopt.mongoexp:deleting job 5ea53ee15c4ed4eb7702274c\n",
      "INFO:hyperopt.mongoexp:deleting job 5ea53f8f5c4ed4eb7702274d\n",
      "INFO:hyperopt.mongoexp:deleting job 5ea540095c4ed4eb7702274e\n",
      "INFO:hyperopt.mongoexp:deleting job 5ea5415b5c4ed4eb7702274f\n",
      "INFO:hyperopt.mongoexp:deleting job 5ea5446b5c4ed4eb77022750\n",
      "INFO:hyperopt.mongoexp:deleting job 5ea545115c4ed4eb77022751\n",
      "INFO:hyperopt.mongoexp:deleting job 5ea54b4e5c4ed4eb77022752\n",
      "INFO:hyperopt.mongoexp:deleting job 5ea54cac5c4ed4eb77022753\n",
      "INFO:hyperopt.mongoexp:deleting job 5ea54d815c4ed4eb77022754\n",
      "INFO:hyperopt.mongoexp:deleting job 5ea550725c4ed4eb77022755\n",
      "INFO:hyperopt.mongoexp:deleting job 5ea552ed5c4ed4eb77022756\n",
      "INFO:hyperopt.mongoexp:deleting job 5ea55ac65c4ed4eb77022757\n",
      "INFO:hyperopt.mongoexp:deleting job 5ea55d1a5c4ed4eb77022758\n",
      "INFO:hyperopt.mongoexp:deleting job 5ea55db65c4ed4eb77022759\n",
      "INFO:hyperopt.mongoexp:deleting job 5ea55e535c4ed4eb7702275a\n",
      "INFO:hyperopt.mongoexp:deleting job 5ea563805c4ed4eb7702275b\n",
      "INFO:hyperopt.mongoexp:deleting job 5ea567945c4ed4eb7702275c\n",
      "INFO:hyperopt.mongoexp:deleting job 5ea56a975c4ed4eb7702275d\n",
      "INFO:hyperopt.mongoexp:deleting job 5ea56b235c4ed4eb7702275e\n",
      "INFO:hyperopt.mongoexp:deleting job 5ea56c0a5c4ed4eb7702275f\n",
      "INFO:hyperopt.mongoexp:deleting job 5ea570d95c4ed4eb77022760\n",
      "INFO:hyperopt.mongoexp:deleting job 5ea573485c4ed4eb77022761\n",
      "INFO:hyperopt.mongoexp:deleting job 5ea575695c4ed4eb77022762\n",
      "INFO:hyperopt.mongoexp:deleting job 5ea577315c4ed4eb77022763\n",
      "INFO:hyperopt.mongoexp:deleting job 5ea57b8c5c4ed4eb77022764\n",
      "INFO:hyperopt.mongoexp:deleting job 5ea57b8e5c4ed4eb77022765\n",
      "INFO:hyperopt.mongoexp:deleting job 5ea581585c4ed4eb77022766\n",
      "INFO:hyperopt.mongoexp:deleting job 5ea581a35c4ed4eb77022767\n",
      "INFO:hyperopt.mongoexp:deleting job 5ea582e55c4ed4eb77022768\n",
      "INFO:hyperopt.mongoexp:deleting job 5ea5873b5c4ed4eb77022769\n",
      "INFO:hyperopt.mongoexp:deleting job 5ea589595c4ed4eb7702276a\n",
      "INFO:hyperopt.mongoexp:deleting job 5ea58bc65c4ed4eb7702276b\n",
      "INFO:hyperopt.mongoexp:deleting job 5ea58db75c4ed4eb7702276c\n",
      "INFO:hyperopt.mongoexp:deleting job 5ea590945c4ed4eb7702276d\n",
      "INFO:hyperopt.mongoexp:deleting job 5ea591a05c4ed4eb7702276e\n",
      "INFO:hyperopt.mongoexp:deleting job 5ea594195c4ed4eb7702276f\n",
      "INFO:hyperopt.mongoexp:deleting job 5ea595fb5c4ed4eb77022770\n",
      "INFO:hyperopt.mongoexp:deleting job 5ea59b605c4ed4eb77022771\n",
      "INFO:hyperopt.mongoexp:deleting job 5ea59c785c4ed4eb77022772\n",
      "INFO:hyperopt.mongoexp:deleting job 5ea59e8d5c4ed4eb77022773\n",
      "INFO:hyperopt.mongoexp:deleting job 5ea59f3b5c4ed4eb77022774\n",
      "INFO:hyperopt.mongoexp:deleting job 5ea59fad5c4ed4eb77022775\n",
      "INFO:hyperopt.mongoexp:deleting job 5ea5a0615c4ed4eb77022776\n",
      "INFO:hyperopt.mongoexp:deleting job 5ea5a1c65c4ed4eb77022777\n",
      "INFO:hyperopt.mongoexp:deleting job 5ea5a3fa5c4ed4eb77022778\n",
      "INFO:hyperopt.mongoexp:deleting job 5ea5a4845c4ed4eb77022779\n",
      "INFO:hyperopt.mongoexp:deleting job 5ea5a48f5c4ed4eb7702277a\n",
      "INFO:hyperopt.mongoexp:deleting job 5ea5a5555c4ed4eb7702277b\n",
      "INFO:hyperopt.mongoexp:deleting job 5ea5a7b95c4ed4eb7702277c\n",
      "INFO:hyperopt.mongoexp:deleting job 5ea5a8935c4ed4eb7702277d\n",
      "INFO:hyperopt.mongoexp:deleting job 5ea5aa6f5c4ed4eb7702277e\n",
      "INFO:hyperopt.mongoexp:deleting job 5ea5ab7c5c4ed4eb7702277f\n",
      "INFO:hyperopt.mongoexp:deleting job 5ea5ad4f5c4ed4eb77022780\n",
      "INFO:hyperopt.mongoexp:deleting job 5ea5aee85c4ed4eb77022781\n",
      "INFO:hyperopt.mongoexp:deleting job 5ea5b0595c4ed4eb77022782\n",
      "INFO:hyperopt.mongoexp:deleting job 5ea5b1085c4ed4eb77022783\n",
      "INFO:hyperopt.mongoexp:deleting job 5ea5b19c5c4ed4eb77022784\n",
      "INFO:hyperopt.mongoexp:deleting job 5ea5b3625c4ed4eb77022785\n",
      "INFO:hyperopt.mongoexp:deleting job 5ea5b4195c4ed4eb77022786\n",
      "INFO:hyperopt.mongoexp:deleting job 5ea5b4a25c4ed4eb77022787\n",
      "INFO:hyperopt.mongoexp:deleting job 5ea5b8915c4ed4eb77022788\n",
      "INFO:hyperopt.mongoexp:deleting job 5ea5bfe65c4ed4eb77022789\n",
      "INFO:hyperopt.mongoexp:deleting job 5ea5c3db5c4ed4eb7702278a\n",
      "INFO:hyperopt.mongoexp:deleting job 5ea5c4a35c4ed4eb7702278b\n",
      "INFO:hyperopt.mongoexp:deleting job 5ea5c57e5c4ed4eb7702278c\n",
      "INFO:hyperopt.mongoexp:deleting job 5ea5c6945c4ed4eb7702278d\n",
      "INFO:hyperopt.mongoexp:deleting job 5ea5c8eb5c4ed4eb7702278e\n",
      "INFO:hyperopt.mongoexp:deleting job 5ea5cf668d91200cdb28fccc\n",
      "INFO:hyperopt.mongoexp:deleting job 5ea5d1178d91200cdb28fccd\n",
      "INFO:hyperopt.mongoexp:deleting job 5ea5d48f8d91200cdb28fcce\n",
      "INFO:hyperopt.mongoexp:deleting job 5ea5d4c78d91200cdb28fccf\n",
      "INFO:hyperopt.mongoexp:deleting job 5ea5f5a3c946fe64d83ae601\n",
      "INFO:hyperopt.mongoexp:deleting job 5ea601a12d29de3aff14b80d\n",
      "INFO:hyperopt.mongoexp:deleting job 5ea601a32d29de3aff14b80e\n",
      "INFO:hyperopt.mongoexp:deleting job 5ea601a42d29de3aff14b80f\n",
      "INFO:hyperopt.mongoexp:deleting job 5ea601ad2d29de3aff14b810\n",
      "INFO:hyperopt.mongoexp:deleting job 5ea601b62d29de3aff14b811\n",
      "INFO:hyperopt.mongoexp:deleting job 5ea601ca2d29de3aff14b812\n",
      "INFO:hyperopt.mongoexp:deleting job 5ea60eb62d29de3aff14b813\n",
      "INFO:hyperopt.mongoexp:deleting job 5ea611732d29de3aff14b814\n",
      "INFO:hyperopt.mongoexp:deleting job 5ea611772d29de3aff14b815\n",
      "INFO:hyperopt.mongoexp:deleting job 5ea6131f2d29de3aff14b816\n",
      "INFO:hyperopt.mongoexp:deleting job 5ea61f662d29de3aff14b817\n",
      "INFO:hyperopt.mongoexp:deleting job 5ea622a32d29de3aff14b818\n",
      "INFO:hyperopt.mongoexp:deleting job 5ea623a92d29de3aff14b819\n",
      "INFO:hyperopt.mongoexp:deleting job 5ea626042d29de3aff14b81a\n",
      "INFO:hyperopt.mongoexp:deleting job 5ea629962d29de3aff14b81b\n",
      "INFO:hyperopt.mongoexp:deleting job 5ea62a6d2d29de3aff14b81c\n",
      "INFO:hyperopt.mongoexp:deleting job 5ea62e182d29de3aff14b81d\n",
      "INFO:hyperopt.mongoexp:deleting job 5ea6342c2d29de3aff14b81e\n",
      "INFO:hyperopt.mongoexp:deleting job 5ea6365a2d29de3aff14b81f\n",
      "INFO:hyperopt.mongoexp:deleting job 5ea63cd82d29de3aff14b820\n",
      "INFO:hyperopt.mongoexp:deleting job 5ea63fd32d29de3aff14b821\n",
      "INFO:hyperopt.mongoexp:deleting job 5ea641dd2d29de3aff14b822\n",
      "INFO:hyperopt.mongoexp:deleting job 5ea6421a2d29de3aff14b823\n",
      "INFO:hyperopt.mongoexp:deleting job 5ea643a82d29de3aff14b824\n",
      "INFO:hyperopt.mongoexp:deleting job 5ea645562d29de3aff14b825\n",
      "INFO:hyperopt.mongoexp:deleting job 5ea645b42d29de3aff14b826\n",
      "INFO:hyperopt.mongoexp:deleting job 5ea648de2d29de3aff14b827\n",
      "INFO:hyperopt.mongoexp:deleting job 5ea64a7f2d29de3aff14b828\n",
      "INFO:hyperopt.mongoexp:deleting job 5ea64c352d29de3aff14b829\n",
      "INFO:hyperopt.mongoexp:deleting job 5ea64dd42d29de3aff14b82a\n",
      "INFO:hyperopt.mongoexp:deleting job 5ea653ca2d29de3aff14b82b\n",
      "INFO:hyperopt.mongoexp:deleting job 5ea657432d29de3aff14b82c\n",
      "INFO:hyperopt.mongoexp:deleting job 5ea6587b2d29de3aff14b82d\n",
      "INFO:hyperopt.mongoexp:deleting job 5ea65e602d29de3aff14b82e\n"
     ]
    },
    {
     "name": "stderr",
     "output_type": "stream",
     "text": [
      "INFO:hyperopt.mongoexp:deleting job 5ea660f32d29de3aff14b82f\n",
      "INFO:hyperopt.mongoexp:deleting job 5ea6628f2d29de3aff14b830\n",
      "INFO:hyperopt.mongoexp:deleting job 5ea668402d29de3aff14b831\n",
      "INFO:hyperopt.mongoexp:deleting job 5ea66d632d29de3aff14b832\n",
      "INFO:hyperopt.mongoexp:deleting job 5ea672d12d29de3aff14b833\n",
      "INFO:hyperopt.mongoexp:deleting job 5ea675cb2d29de3aff14b834\n",
      "INFO:hyperopt.mongoexp:deleting job 5ea678572d29de3aff14b835\n",
      "INFO:hyperopt.mongoexp:deleting job 5ea689b22d29de3aff14b836\n",
      "INFO:hyperopt.mongoexp:deleting job 5ea69a252d29de3aff14b837\n",
      "INFO:hyperopt.mongoexp:deleting job 5ea6b4d12d29de3aff14b838\n",
      "INFO:hyperopt.mongoexp:deleting job 5ea6b8e82d29de3aff14b839\n",
      "INFO:hyperopt.mongoexp:deleting job 5ea6d0102d29de3aff14b83a\n",
      "INFO:hyperopt.mongoexp:deleting job 5ea6d3552d29de3aff14b83b\n",
      "DEBUG:hyperopt.mongoexp:Refresh data download took 0.015586 seconds for 0 ids\n"
     ]
    }
   ],
   "source": [
    "all_trials.delete_all()"
   ]
  },
  {
   "cell_type": "code",
   "execution_count": 275,
   "metadata": {
    "ExecuteTime": {
     "end_time": "2020-04-24T12:37:21.765083Z",
     "start_time": "2020-04-24T12:37:21.738094Z"
    }
   },
   "outputs": [
    {
     "data": {
      "text/plain": [
       "['ok',\n",
       " 'ok',\n",
       " 'ok',\n",
       " 'ok',\n",
       " 'ok',\n",
       " 'ok',\n",
       " 'ok',\n",
       " 'ok',\n",
       " 'ok',\n",
       " 'ok',\n",
       " 'ok',\n",
       " 'ok',\n",
       " 'ok',\n",
       " 'ok',\n",
       " 'ok',\n",
       " 'ok',\n",
       " 'ok',\n",
       " 'ok',\n",
       " 'ok',\n",
       " 'ok',\n",
       " 'ok',\n",
       " 'ok',\n",
       " 'ok',\n",
       " 'ok',\n",
       " 'ok',\n",
       " 'ok',\n",
       " 'ok',\n",
       " 'ok',\n",
       " 'ok',\n",
       " 'ok',\n",
       " 'ok',\n",
       " 'ok',\n",
       " 'ok',\n",
       " 'ok',\n",
       " 'ok',\n",
       " 'ok',\n",
       " 'ok',\n",
       " 'ok',\n",
       " 'ok',\n",
       " 'ok',\n",
       " 'ok',\n",
       " 'ok',\n",
       " 'ok',\n",
       " 'ok',\n",
       " 'ok',\n",
       " 'ok',\n",
       " 'ok',\n",
       " 'ok',\n",
       " 'ok',\n",
       " 'ok',\n",
       " 'ok',\n",
       " 'ok',\n",
       " 'ok',\n",
       " 'ok',\n",
       " 'ok',\n",
       " 'ok',\n",
       " 'ok',\n",
       " 'ok',\n",
       " 'ok',\n",
       " 'ok',\n",
       " 'ok',\n",
       " 'ok',\n",
       " 'ok',\n",
       " 'ok',\n",
       " 'ok',\n",
       " 'ok',\n",
       " 'ok',\n",
       " 'ok',\n",
       " 'ok',\n",
       " 'ok',\n",
       " 'ok',\n",
       " 'ok',\n",
       " 'ok',\n",
       " 'ok',\n",
       " 'ok',\n",
       " 'ok',\n",
       " 'ok',\n",
       " 'ok',\n",
       " 'ok',\n",
       " 'ok',\n",
       " 'ok',\n",
       " 'ok',\n",
       " 'ok',\n",
       " 'ok',\n",
       " 'ok',\n",
       " 'ok',\n",
       " 'ok',\n",
       " 'ok',\n",
       " 'ok',\n",
       " 'ok',\n",
       " 'ok',\n",
       " 'ok',\n",
       " 'ok',\n",
       " 'ok',\n",
       " 'ok',\n",
       " 'ok',\n",
       " 'ok',\n",
       " 'ok',\n",
       " 'ok',\n",
       " 'ok',\n",
       " 'ok',\n",
       " 'ok',\n",
       " 'ok',\n",
       " 'ok',\n",
       " 'ok',\n",
       " 'ok',\n",
       " 'ok',\n",
       " 'ok',\n",
       " 'ok',\n",
       " 'ok',\n",
       " 'ok',\n",
       " 'ok',\n",
       " 'ok',\n",
       " 'ok',\n",
       " 'ok',\n",
       " 'ok',\n",
       " 'ok',\n",
       " 'ok',\n",
       " 'ok',\n",
       " 'ok',\n",
       " 'ok',\n",
       " 'ok',\n",
       " 'ok',\n",
       " 'ok',\n",
       " 'ok',\n",
       " 'ok',\n",
       " 'ok',\n",
       " 'ok',\n",
       " 'ok',\n",
       " 'ok',\n",
       " 'ok',\n",
       " 'ok',\n",
       " 'ok',\n",
       " 'ok',\n",
       " 'ok',\n",
       " 'ok',\n",
       " 'ok',\n",
       " 'ok',\n",
       " 'ok',\n",
       " 'ok',\n",
       " 'ok',\n",
       " 'ok',\n",
       " 'ok',\n",
       " 'ok',\n",
       " 'ok',\n",
       " 'ok',\n",
       " 'ok',\n",
       " 'ok',\n",
       " 'ok',\n",
       " 'ok',\n",
       " 'ok',\n",
       " 'ok',\n",
       " 'ok',\n",
       " 'ok',\n",
       " 'ok',\n",
       " 'ok',\n",
       " 'ok',\n",
       " 'ok',\n",
       " 'ok',\n",
       " 'ok',\n",
       " 'ok',\n",
       " 'ok',\n",
       " 'ok',\n",
       " 'ok',\n",
       " 'ok',\n",
       " 'ok',\n",
       " 'ok',\n",
       " 'ok',\n",
       " 'ok',\n",
       " 'ok',\n",
       " 'ok',\n",
       " 'ok',\n",
       " 'ok',\n",
       " 'ok',\n",
       " 'ok',\n",
       " 'ok',\n",
       " 'ok',\n",
       " 'ok',\n",
       " 'ok',\n",
       " 'ok',\n",
       " 'ok',\n",
       " 'ok',\n",
       " 'ok',\n",
       " 'ok',\n",
       " 'ok',\n",
       " 'ok',\n",
       " 'ok',\n",
       " 'ok',\n",
       " 'ok',\n",
       " 'ok',\n",
       " 'ok',\n",
       " 'ok',\n",
       " 'ok',\n",
       " 'ok',\n",
       " 'ok',\n",
       " 'ok',\n",
       " 'ok',\n",
       " 'ok',\n",
       " 'ok',\n",
       " 'ok',\n",
       " 'ok',\n",
       " 'ok',\n",
       " 'ok',\n",
       " 'ok',\n",
       " 'ok',\n",
       " 'ok',\n",
       " 'ok',\n",
       " 'ok',\n",
       " 'ok',\n",
       " 'ok',\n",
       " 'ok',\n",
       " 'ok',\n",
       " 'ok',\n",
       " 'ok',\n",
       " 'ok',\n",
       " 'ok',\n",
       " 'ok',\n",
       " 'ok',\n",
       " 'ok',\n",
       " 'ok',\n",
       " 'ok',\n",
       " 'ok',\n",
       " 'ok',\n",
       " 'ok',\n",
       " 'ok',\n",
       " 'ok',\n",
       " 'ok',\n",
       " 'ok',\n",
       " 'ok',\n",
       " 'ok',\n",
       " 'ok',\n",
       " 'ok',\n",
       " 'ok',\n",
       " 'ok',\n",
       " 'ok',\n",
       " 'ok',\n",
       " 'ok',\n",
       " 'ok',\n",
       " 'ok',\n",
       " 'ok',\n",
       " 'ok',\n",
       " 'ok',\n",
       " 'ok',\n",
       " 'ok',\n",
       " 'ok',\n",
       " 'ok',\n",
       " 'ok',\n",
       " 'ok',\n",
       " 'ok',\n",
       " 'ok',\n",
       " 'ok',\n",
       " 'ok',\n",
       " 'ok',\n",
       " 'ok',\n",
       " 'ok',\n",
       " 'ok',\n",
       " 'ok',\n",
       " 'ok',\n",
       " 'ok',\n",
       " 'ok',\n",
       " 'ok',\n",
       " 'ok',\n",
       " 'ok',\n",
       " 'ok',\n",
       " 'ok',\n",
       " 'ok',\n",
       " 'ok',\n",
       " 'ok',\n",
       " 'ok',\n",
       " 'ok',\n",
       " 'ok',\n",
       " 'ok',\n",
       " 'ok',\n",
       " 'ok',\n",
       " 'ok',\n",
       " 'ok',\n",
       " 'ok',\n",
       " 'ok',\n",
       " 'ok',\n",
       " 'ok',\n",
       " 'ok',\n",
       " 'ok',\n",
       " 'ok',\n",
       " 'ok',\n",
       " 'ok',\n",
       " 'ok',\n",
       " 'ok',\n",
       " 'ok',\n",
       " 'ok',\n",
       " 'ok',\n",
       " 'ok',\n",
       " 'ok',\n",
       " 'ok',\n",
       " 'ok',\n",
       " 'ok',\n",
       " 'ok',\n",
       " 'ok',\n",
       " 'ok',\n",
       " 'ok',\n",
       " 'ok',\n",
       " 'ok',\n",
       " 'ok',\n",
       " 'ok',\n",
       " 'ok',\n",
       " 'ok',\n",
       " 'ok',\n",
       " 'ok',\n",
       " 'ok',\n",
       " 'ok',\n",
       " 'ok',\n",
       " 'ok',\n",
       " 'ok',\n",
       " 'ok',\n",
       " 'ok',\n",
       " 'ok',\n",
       " 'ok',\n",
       " 'ok',\n",
       " 'ok',\n",
       " 'ok',\n",
       " 'ok',\n",
       " 'ok',\n",
       " 'ok',\n",
       " 'ok',\n",
       " 'ok',\n",
       " 'ok',\n",
       " 'ok',\n",
       " 'ok',\n",
       " 'ok',\n",
       " 'ok',\n",
       " 'ok',\n",
       " 'ok',\n",
       " 'ok',\n",
       " 'ok',\n",
       " 'ok',\n",
       " 'ok',\n",
       " 'ok',\n",
       " 'ok',\n",
       " 'ok',\n",
       " 'ok',\n",
       " 'ok',\n",
       " 'ok',\n",
       " 'ok',\n",
       " 'ok',\n",
       " 'ok',\n",
       " 'ok',\n",
       " 'ok',\n",
       " 'ok',\n",
       " 'ok',\n",
       " 'ok',\n",
       " 'ok',\n",
       " 'ok',\n",
       " 'ok',\n",
       " 'ok',\n",
       " 'ok',\n",
       " 'ok',\n",
       " 'ok',\n",
       " 'ok',\n",
       " 'ok',\n",
       " 'ok',\n",
       " 'ok',\n",
       " 'ok',\n",
       " 'ok',\n",
       " 'ok',\n",
       " 'ok',\n",
       " 'ok',\n",
       " 'ok',\n",
       " 'ok',\n",
       " 'ok',\n",
       " 'ok',\n",
       " 'ok',\n",
       " 'ok',\n",
       " 'ok',\n",
       " 'ok',\n",
       " 'ok',\n",
       " 'ok',\n",
       " 'ok',\n",
       " 'ok',\n",
       " 'ok',\n",
       " 'ok',\n",
       " 'ok',\n",
       " 'ok',\n",
       " 'ok',\n",
       " 'ok',\n",
       " 'ok',\n",
       " 'ok',\n",
       " 'ok',\n",
       " 'ok',\n",
       " 'ok',\n",
       " 'ok',\n",
       " 'ok',\n",
       " 'ok',\n",
       " 'ok',\n",
       " 'ok',\n",
       " 'ok',\n",
       " 'ok',\n",
       " 'ok',\n",
       " 'ok',\n",
       " 'ok',\n",
       " 'ok',\n",
       " 'ok',\n",
       " 'ok',\n",
       " 'ok',\n",
       " 'ok',\n",
       " 'ok',\n",
       " 'ok',\n",
       " 'ok',\n",
       " 'ok',\n",
       " 'ok',\n",
       " 'ok',\n",
       " 'ok',\n",
       " 'ok',\n",
       " 'ok',\n",
       " 'ok',\n",
       " 'ok',\n",
       " 'ok',\n",
       " 'ok',\n",
       " 'ok',\n",
       " 'ok',\n",
       " 'ok',\n",
       " 'ok',\n",
       " 'ok',\n",
       " 'ok',\n",
       " 'ok',\n",
       " 'ok',\n",
       " 'ok',\n",
       " 'ok',\n",
       " 'ok',\n",
       " 'ok',\n",
       " 'ok',\n",
       " 'ok',\n",
       " 'ok',\n",
       " 'ok',\n",
       " 'ok',\n",
       " 'ok',\n",
       " 'ok',\n",
       " 'ok',\n",
       " 'ok',\n",
       " 'ok',\n",
       " 'ok',\n",
       " 'ok',\n",
       " 'ok',\n",
       " 'ok',\n",
       " 'ok',\n",
       " 'ok',\n",
       " 'ok',\n",
       " 'ok',\n",
       " 'ok',\n",
       " 'ok',\n",
       " 'ok',\n",
       " 'ok',\n",
       " 'ok',\n",
       " 'ok',\n",
       " 'ok',\n",
       " 'ok',\n",
       " 'ok',\n",
       " 'ok',\n",
       " 'ok',\n",
       " 'ok',\n",
       " 'ok',\n",
       " 'ok',\n",
       " 'ok',\n",
       " 'ok',\n",
       " 'ok',\n",
       " 'ok',\n",
       " 'ok',\n",
       " 'ok',\n",
       " 'ok',\n",
       " 'ok',\n",
       " 'ok',\n",
       " 'ok',\n",
       " 'ok',\n",
       " 'ok',\n",
       " 'ok',\n",
       " 'ok',\n",
       " 'ok',\n",
       " 'ok',\n",
       " 'ok',\n",
       " 'ok',\n",
       " 'ok',\n",
       " 'ok',\n",
       " 'ok',\n",
       " 'ok',\n",
       " 'ok',\n",
       " 'ok',\n",
       " 'ok',\n",
       " 'ok',\n",
       " 'ok',\n",
       " 'ok',\n",
       " 'ok',\n",
       " 'ok',\n",
       " 'ok',\n",
       " 'ok',\n",
       " 'ok',\n",
       " 'ok',\n",
       " 'ok',\n",
       " 'ok',\n",
       " 'ok',\n",
       " 'ok',\n",
       " 'ok',\n",
       " 'ok',\n",
       " 'ok',\n",
       " 'ok',\n",
       " 'ok',\n",
       " 'ok',\n",
       " 'ok',\n",
       " 'ok',\n",
       " 'ok',\n",
       " 'ok',\n",
       " 'ok',\n",
       " 'ok',\n",
       " 'ok',\n",
       " 'ok',\n",
       " 'ok',\n",
       " 'ok',\n",
       " 'ok',\n",
       " 'ok',\n",
       " 'ok',\n",
       " 'ok',\n",
       " 'ok',\n",
       " 'ok',\n",
       " 'ok',\n",
       " 'ok',\n",
       " 'ok',\n",
       " 'ok',\n",
       " 'ok',\n",
       " 'ok',\n",
       " 'ok',\n",
       " 'ok',\n",
       " 'ok',\n",
       " 'ok',\n",
       " 'ok',\n",
       " 'ok',\n",
       " 'ok',\n",
       " 'ok',\n",
       " 'ok',\n",
       " 'ok',\n",
       " 'ok',\n",
       " 'ok',\n",
       " 'ok',\n",
       " 'ok',\n",
       " 'ok',\n",
       " 'ok',\n",
       " 'ok',\n",
       " 'ok',\n",
       " 'ok',\n",
       " 'ok',\n",
       " 'ok',\n",
       " 'ok',\n",
       " 'ok',\n",
       " 'ok',\n",
       " 'ok',\n",
       " 'ok',\n",
       " 'ok',\n",
       " 'ok',\n",
       " 'ok',\n",
       " 'ok',\n",
       " 'ok',\n",
       " 'ok',\n",
       " 'ok',\n",
       " 'ok',\n",
       " 'ok',\n",
       " 'ok',\n",
       " 'ok',\n",
       " 'ok',\n",
       " 'ok',\n",
       " 'ok',\n",
       " 'ok',\n",
       " 'ok',\n",
       " 'ok',\n",
       " 'ok',\n",
       " 'ok',\n",
       " 'ok',\n",
       " 'ok',\n",
       " 'ok',\n",
       " 'ok',\n",
       " 'ok',\n",
       " 'ok',\n",
       " 'ok',\n",
       " 'ok',\n",
       " 'ok',\n",
       " 'ok',\n",
       " 'ok',\n",
       " 'ok',\n",
       " 'ok',\n",
       " 'ok',\n",
       " 'ok',\n",
       " 'ok',\n",
       " 'ok',\n",
       " 'ok',\n",
       " 'ok',\n",
       " 'ok',\n",
       " 'ok',\n",
       " 'ok',\n",
       " 'ok',\n",
       " 'ok',\n",
       " 'ok',\n",
       " 'ok',\n",
       " 'ok',\n",
       " 'ok',\n",
       " 'ok',\n",
       " 'ok',\n",
       " 'ok',\n",
       " 'ok',\n",
       " 'ok',\n",
       " 'ok',\n",
       " 'ok',\n",
       " 'ok',\n",
       " 'ok',\n",
       " 'ok',\n",
       " 'ok',\n",
       " 'ok',\n",
       " 'ok',\n",
       " 'ok',\n",
       " 'ok',\n",
       " 'ok',\n",
       " 'ok',\n",
       " 'ok',\n",
       " 'ok',\n",
       " 'ok',\n",
       " 'ok',\n",
       " 'ok',\n",
       " 'ok',\n",
       " 'ok',\n",
       " 'ok',\n",
       " 'ok',\n",
       " 'ok',\n",
       " 'ok',\n",
       " 'ok',\n",
       " 'ok',\n",
       " 'ok',\n",
       " 'ok',\n",
       " 'ok',\n",
       " 'ok',\n",
       " 'ok',\n",
       " 'ok',\n",
       " 'ok',\n",
       " 'ok',\n",
       " 'ok',\n",
       " 'ok',\n",
       " 'ok',\n",
       " 'ok',\n",
       " 'ok',\n",
       " 'ok',\n",
       " 'ok',\n",
       " 'ok',\n",
       " 'ok',\n",
       " 'ok',\n",
       " 'ok',\n",
       " 'ok',\n",
       " 'ok',\n",
       " 'ok',\n",
       " 'ok',\n",
       " 'ok',\n",
       " 'ok',\n",
       " 'ok',\n",
       " 'ok',\n",
       " 'ok',\n",
       " 'ok',\n",
       " 'ok',\n",
       " 'ok',\n",
       " 'ok',\n",
       " 'ok',\n",
       " 'ok',\n",
       " 'ok',\n",
       " 'ok',\n",
       " 'ok',\n",
       " 'ok',\n",
       " 'ok',\n",
       " 'ok',\n",
       " 'ok',\n",
       " 'ok',\n",
       " 'ok',\n",
       " 'ok',\n",
       " 'ok',\n",
       " 'ok',\n",
       " 'ok',\n",
       " 'ok',\n",
       " 'ok',\n",
       " 'ok',\n",
       " 'ok',\n",
       " 'ok',\n",
       " 'ok',\n",
       " 'ok',\n",
       " 'ok',\n",
       " 'ok',\n",
       " 'ok',\n",
       " 'ok',\n",
       " 'ok',\n",
       " 'ok',\n",
       " 'ok',\n",
       " 'ok',\n",
       " 'ok',\n",
       " 'ok',\n",
       " 'ok',\n",
       " 'ok',\n",
       " 'ok',\n",
       " 'ok',\n",
       " 'ok',\n",
       " 'ok',\n",
       " 'ok',\n",
       " 'ok',\n",
       " 'ok',\n",
       " 'ok',\n",
       " 'ok',\n",
       " 'ok',\n",
       " 'ok',\n",
       " 'ok',\n",
       " 'ok',\n",
       " 'ok',\n",
       " 'ok',\n",
       " 'ok',\n",
       " 'ok',\n",
       " 'ok',\n",
       " 'ok',\n",
       " 'ok',\n",
       " 'ok',\n",
       " 'ok',\n",
       " 'ok',\n",
       " 'ok',\n",
       " 'ok',\n",
       " 'ok',\n",
       " 'ok',\n",
       " 'ok',\n",
       " 'ok',\n",
       " 'ok',\n",
       " 'ok',\n",
       " 'ok',\n",
       " 'ok',\n",
       " 'ok',\n",
       " 'ok',\n",
       " 'ok',\n",
       " 'ok',\n",
       " 'ok',\n",
       " 'ok',\n",
       " 'ok',\n",
       " 'ok',\n",
       " 'ok',\n",
       " 'ok',\n",
       " 'ok',\n",
       " 'ok',\n",
       " 'ok',\n",
       " 'ok',\n",
       " 'ok',\n",
       " 'ok',\n",
       " 'ok',\n",
       " 'ok',\n",
       " 'ok',\n",
       " 'ok',\n",
       " 'ok',\n",
       " 'ok',\n",
       " 'ok',\n",
       " 'ok',\n",
       " 'ok',\n",
       " 'ok',\n",
       " 'ok',\n",
       " 'ok',\n",
       " 'ok',\n",
       " 'ok',\n",
       " 'ok',\n",
       " 'ok',\n",
       " 'ok',\n",
       " 'ok',\n",
       " 'ok',\n",
       " 'ok',\n",
       " 'ok',\n",
       " 'ok',\n",
       " 'ok',\n",
       " 'ok',\n",
       " 'ok',\n",
       " 'ok',\n",
       " 'ok',\n",
       " 'ok',\n",
       " 'ok',\n",
       " 'ok',\n",
       " 'ok',\n",
       " 'ok',\n",
       " 'ok',\n",
       " 'ok',\n",
       " 'ok',\n",
       " 'ok',\n",
       " 'ok',\n",
       " 'ok',\n",
       " 'ok',\n",
       " 'ok',\n",
       " 'ok',\n",
       " 'ok',\n",
       " 'ok',\n",
       " 'ok',\n",
       " 'ok',\n",
       " 'ok',\n",
       " 'ok',\n",
       " 'ok',\n",
       " 'ok',\n",
       " 'ok',\n",
       " 'ok',\n",
       " 'ok',\n",
       " 'ok',\n",
       " 'ok',\n",
       " 'ok',\n",
       " 'ok',\n",
       " 'ok',\n",
       " 'ok',\n",
       " 'ok',\n",
       " 'ok',\n",
       " 'ok',\n",
       " 'ok',\n",
       " 'ok',\n",
       " 'ok',\n",
       " 'ok',\n",
       " 'ok',\n",
       " 'ok',\n",
       " 'ok',\n",
       " 'ok',\n",
       " 'ok',\n",
       " 'ok',\n",
       " 'ok',\n",
       " 'ok',\n",
       " 'ok',\n",
       " 'ok',\n",
       " 'ok',\n",
       " 'ok',\n",
       " 'ok',\n",
       " 'ok',\n",
       " 'ok',\n",
       " 'ok',\n",
       " 'ok',\n",
       " 'ok',\n",
       " 'ok',\n",
       " 'ok',\n",
       " 'ok',\n",
       " 'ok',\n",
       " 'ok',\n",
       " 'ok',\n",
       " 'ok',\n",
       " 'ok',\n",
       " 'ok',\n",
       " 'ok',\n",
       " 'ok',\n",
       " 'ok',\n",
       " 'ok',\n",
       " 'ok',\n",
       " 'ok',\n",
       " 'ok',\n",
       " 'ok',\n",
       " 'ok',\n",
       " 'ok',\n",
       " 'ok',\n",
       " 'ok',\n",
       " 'ok',\n",
       " 'ok',\n",
       " 'ok',\n",
       " 'ok',\n",
       " 'ok',\n",
       " 'ok',\n",
       " 'ok',\n",
       " 'ok',\n",
       " 'ok',\n",
       " 'ok',\n",
       " 'ok',\n",
       " 'ok',\n",
       " 'ok',\n",
       " 'ok',\n",
       " 'ok',\n",
       " 'ok',\n",
       " 'ok',\n",
       " 'ok',\n",
       " 'ok',\n",
       " 'ok',\n",
       " 'ok',\n",
       " 'ok',\n",
       " 'ok',\n",
       " 'ok',\n",
       " 'ok',\n",
       " 'ok',\n",
       " 'ok',\n",
       " 'ok',\n",
       " 'ok',\n",
       " 'ok',\n",
       " 'ok',\n",
       " 'ok',\n",
       " 'ok',\n",
       " 'ok',\n",
       " 'ok',\n",
       " 'ok',\n",
       " 'ok',\n",
       " 'ok',\n",
       " 'ok',\n",
       " 'ok',\n",
       " 'ok',\n",
       " 'ok',\n",
       " 'ok',\n",
       " 'ok',\n",
       " 'ok',\n",
       " 'ok',\n",
       " 'ok',\n",
       " 'ok',\n",
       " 'ok',\n",
       " 'ok',\n",
       " 'ok',\n",
       " 'ok',\n",
       " 'ok',\n",
       " 'ok',\n",
       " 'ok',\n",
       " 'ok',\n",
       " 'ok',\n",
       " 'ok',\n",
       " 'ok',\n",
       " 'ok',\n",
       " 'ok',\n",
       " 'ok',\n",
       " 'ok',\n",
       " 'ok',\n",
       " 'ok',\n",
       " 'ok',\n",
       " 'ok',\n",
       " 'ok',\n",
       " 'ok',\n",
       " 'ok',\n",
       " 'ok',\n",
       " 'ok',\n",
       " 'ok',\n",
       " 'ok',\n",
       " 'ok',\n",
       " 'ok',\n",
       " 'ok',\n",
       " 'ok',\n",
       " 'ok',\n",
       " 'ok',\n",
       " 'ok',\n",
       " 'ok',\n",
       " 'ok',\n",
       " 'ok',\n",
       " 'ok',\n",
       " 'ok',\n",
       " 'ok',\n",
       " 'ok',\n",
       " 'ok',\n",
       " 'ok',\n",
       " 'ok',\n",
       " 'ok',\n",
       " 'ok',\n",
       " 'ok',\n",
       " 'ok',\n",
       " 'ok',\n",
       " 'ok',\n",
       " 'ok',\n",
       " 'ok',\n",
       " 'ok',\n",
       " 'ok',\n",
       " 'ok',\n",
       " 'ok',\n",
       " 'ok',\n",
       " 'ok',\n",
       " 'new',\n",
       " 'new',\n",
       " 'new',\n",
       " 'new',\n",
       " 'new',\n",
       " 'new']"
      ]
     },
     "execution_count": 275,
     "metadata": {},
     "output_type": "execute_result"
    }
   ],
   "source": [
    "all_trials.statuses()"
   ]
  },
  {
   "cell_type": "code",
   "execution_count": 343,
   "metadata": {
    "ExecuteTime": {
     "end_time": "2020-04-20T21:23:28.115349Z",
     "start_time": "2020-04-20T21:23:28.110320Z"
    }
   },
   "outputs": [
    {
     "data": {
      "text/plain": [
       "[]"
      ]
     },
     "execution_count": 343,
     "metadata": {},
     "output_type": "execute_result"
    }
   ],
   "source": [
    "all_trials.trials"
   ]
  },
  {
   "cell_type": "code",
   "execution_count": 346,
   "metadata": {
    "ExecuteTime": {
     "end_time": "2020-04-20T21:34:48.803734Z",
     "start_time": "2020-04-20T21:34:48.798705Z"
    }
   },
   "outputs": [
    {
     "data": {
      "text/plain": [
       "25"
      ]
     },
     "execution_count": 346,
     "metadata": {},
     "output_type": "execute_result"
    }
   ],
   "source": [
    "int(np.ceil(int(50/2/1)))"
   ]
  },
  {
   "cell_type": "code",
   "execution_count": 349,
   "metadata": {
    "ExecuteTime": {
     "end_time": "2020-04-20T21:36:48.835230Z",
     "start_time": "2020-04-20T21:36:48.821219Z"
    }
   },
   "outputs": [
    {
     "data": {
      "text/plain": [
       "['state',\n",
       " 'tid',\n",
       " 'spec',\n",
       " 'result',\n",
       " 'misc',\n",
       " 'exp_key',\n",
       " 'owner',\n",
       " 'version',\n",
       " 'book_time',\n",
       " 'refresh_time']"
      ]
     },
     "execution_count": 349,
     "metadata": {},
     "output_type": "execute_result"
    }
   ],
   "source": [
    "t.keys()"
   ]
  },
  {
   "cell_type": "code",
   "execution_count": 150,
   "metadata": {
    "ExecuteTime": {
     "end_time": "2020-04-20T00:47:12.853851Z",
     "start_time": "2020-04-20T00:47:05.904185Z"
    }
   },
   "outputs": [],
   "source": [
    "for t in list(mtrials.trials):\n",
    "    #t['exp_key'] = 'covid-1'\n",
    "    t['misc']['idxs']['dropout_rate'] = [t['misc']['tid']]\n",
    "    t['misc']['vals']['dropout_rate'] = [0.4]\n",
    "    v_x, v_loss, _, _ = zip(*t['result']['validation_stats'])\n",
    "    slope, intercept, _, _, _ = linregress(v_x[3:6], v_loss[3:6])\n",
    "    t['result']['loss'] = intercept + slope * 1.5\n",
    "    mtrials.insert_trial_doc(make_json_friendly(t))"
   ]
  },
  {
   "cell_type": "code",
   "execution_count": 162,
   "metadata": {
    "ExecuteTime": {
     "end_time": "2020-04-20T04:12:14.340202Z",
     "start_time": "2020-04-20T04:12:14.289153Z"
    }
   },
   "outputs": [],
   "source": [
    "mtrials.refresh()"
   ]
  },
  {
   "cell_type": "code",
   "execution_count": 9,
   "metadata": {
    "ExecuteTime": {
     "end_time": "2020-04-25T17:55:00.123401Z",
     "start_time": "2020-04-25T17:55:00.120364Z"
    }
   },
   "outputs": [],
   "source": [
    "import importlib"
   ]
  },
  {
   "cell_type": "code",
   "execution_count": 178,
   "metadata": {
    "ExecuteTime": {
     "end_time": "2020-04-20T04:26:28.566569Z",
     "start_time": "2020-04-20T04:26:28.509586Z"
    }
   },
   "outputs": [
    {
     "data": {
      "text/plain": [
       "<module 'covid.reporting' from 'C:\\\\Users\\\\Bryce.Eakin\\\\src\\\\COVID\\\\covid\\\\reporting.py'>"
      ]
     },
     "execution_count": 178,
     "metadata": {},
     "output_type": "execute_result"
    }
   ],
   "source": [
    "importlib.reload(covid.reporting)"
   ]
  },
  {
   "cell_type": "code",
   "execution_count": 8,
   "metadata": {
    "ExecuteTime": {
     "end_time": "2020-04-25T17:54:57.935032Z",
     "start_time": "2020-04-25T17:54:57.929596Z"
    }
   },
   "outputs": [],
   "source": [
    "from covid.reporting import get_performance_plots"
   ]
  },
  {
   "cell_type": "code",
   "execution_count": 175,
   "metadata": {
    "ExecuteTime": {
     "end_time": "2020-04-20T04:25:52.852605Z",
     "start_time": "2020-04-20T04:25:52.701571Z"
    }
   },
   "outputs": [
    {
     "data": {
      "text/plain": [
       "(0.0, 0.5)"
      ]
     },
     "execution_count": 175,
     "metadata": {},
     "output_type": "execute_result"
    },
    {
     "data": {
      "image/png": "[encoded data removed]",
      "text/plain": [
       "<Figure size 432x288 with 1 Axes>"
      ]
     },
     "metadata": {
      "needs_background": "light"
     },
     "output_type": "display_data"
    }
   ],
   "source": [
    "fig, ax = plt.subplots()\n",
    "ax.plot(v_x, v_loss)\n",
    "ax.set_ylim((0.0, 0.5))"
   ]
  },
  {
   "cell_type": "code",
   "execution_count": 226,
   "metadata": {
    "ExecuteTime": {
     "end_time": "2020-04-20T05:20:46.841761Z",
     "start_time": "2020-04-20T05:20:46.647762Z"
    }
   },
   "outputs": [],
   "source": [
    "mtrials.refresh()"
   ]
  },
  {
   "cell_type": "code",
   "execution_count": 200,
   "metadata": {
    "ExecuteTime": {
     "end_time": "2020-04-20T05:12:44.461957Z",
     "start_time": "2020-04-20T05:12:44.421926Z"
    }
   },
   "outputs": [
    {
     "data": {
      "text/plain": [
       "7"
      ]
     },
     "execution_count": 200,
     "metadata": {},
     "output_type": "execute_result"
    }
   ],
   "source": [
    "sum(1 if x == 'new' else 0 for x in mtrials.statuses())"
   ]
  },
  {
   "cell_type": "code",
   "execution_count": 10,
   "metadata": {
    "ExecuteTime": {
     "end_time": "2020-04-25T17:55:02.914519Z",
     "start_time": "2020-04-25T17:55:02.909242Z"
    }
   },
   "outputs": [],
   "source": [
    "from IPython.display import display, clear_output\n",
    "from time import sleep\n",
    "\n"
   ]
  },
  {
   "cell_type": "code",
   "execution_count": 197,
   "metadata": {
    "ExecuteTime": {
     "end_time": "2020-04-20T04:36:51.643791Z",
     "start_time": "2020-04-20T04:36:51.639758Z"
    }
   },
   "outputs": [
    {
     "data": {
      "text/plain": [
       "'covid-1'"
      ]
     },
     "execution_count": 197,
     "metadata": {},
     "output_type": "execute_result"
    }
   ],
   "source": [
    "mtrials.trials[0]['exp_key']"
   ]
  },
  {
   "cell_type": "code",
   "execution_count": 502,
   "metadata": {
    "ExecuteTime": {
     "end_time": "2020-04-21T17:15:53.191804Z",
     "start_time": "2020-04-21T17:15:51.956806Z"
    }
   },
   "outputs": [],
   "source": [
    "mtrials.refresh()"
   ]
  },
  {
   "cell_type": "code",
   "execution_count": 271,
   "metadata": {
    "ExecuteTime": {
     "end_time": "2020-04-20T14:25:43.431838Z",
     "start_time": "2020-04-20T14:25:43.426840Z"
    }
   },
   "outputs": [
    {
     "data": {
      "text/plain": [
       "['tid', 'cmd', 'workdir', 'idxs', 'vals']"
      ]
     },
     "execution_count": 271,
     "metadata": {},
     "output_type": "execute_result"
    }
   ],
   "source": [
    "mtrials.trials[t_idx]['misc']"
   ]
  },
  {
   "cell_type": "code",
   "execution_count": 517,
   "metadata": {
    "ExecuteTime": {
     "end_time": "2020-04-21T17:21:48.817619Z",
     "start_time": "2020-04-21T17:21:48.802620Z"
    }
   },
   "outputs": [
    {
     "ename": "SyntaxError",
     "evalue": "invalid syntax (<ipython-input-517-d7c0e6c130d7>, line 18)",
     "output_type": "error",
     "traceback": [
      "\u001b[1;36m  File \u001b[1;32m\"<ipython-input-517-d7c0e6c130d7>\"\u001b[1;36m, line \u001b[1;32m18\u001b[0m\n\u001b[1;33m    ax.set_xlim(1e-5.5, 1e-1.5)\u001b[0m\n\u001b[1;37m                     ^\u001b[0m\n\u001b[1;31mSyntaxError\u001b[0m\u001b[1;31m:\u001b[0m invalid syntax\n"
     ]
    }
   ],
   "source": [
    "def plot_param(pname):\n",
    "\n",
    "    xs = []\n",
    "    ys = []\n",
    "\n",
    "    for t in mtrials.trials:\n",
    "        if t['result'].get('loss') is None:\n",
    "            continue\n",
    "        params = hyperopt.space_eval(search_space, {k:v[0] for k,v in t['misc']['vals'].items()})\n",
    "        xs.append(params[pname])\n",
    "        ys.append(t['result']['loss'])\n",
    "\n",
    "    fig, ax = plt.subplots()\n",
    "    ax.scatter(xs, ys)\n",
    "    ax.set_yscale('log')\n",
    "    if pname == 'optim_initial_lr':\n",
    "        ax.set_xscale('log')\n",
    "        ax.set_xlim(1e-5.5, 1e-1.5)\n",
    "    ax.set_title(pname)\n",
    "    \n",
    "    display(fig)\n",
    "    plt.close(fig)"
   ]
  },
  {
   "cell_type": "code",
   "execution_count": 518,
   "metadata": {
    "ExecuteTime": {
     "end_time": "2020-04-21T17:21:55.628095Z",
     "start_time": "2020-04-21T17:21:50.267600Z"
    },
    "scrolled": true
   },
   "outputs": [
    {
     "data": {
      "image/png": "[encoded data removed]",
      "text/plain": [
       "<Figure size 432x288 with 1 Axes>"
      ]
     },
     "metadata": {},
     "output_type": "display_data"
    },
    {
     "data": {
      "image/png": "[encoded data removed]",
      "text/plain": [
       "<Figure size 432x288 with 1 Axes>"
      ]
     },
     "metadata": {},
     "output_type": "display_data"
    },
    {
     "data": {
      "image/png": "[encoded data removed]",
      "text/plain": [
       "<Figure size 432x288 with 1 Axes>"
      ]
     },
     "metadata": {},
     "output_type": "display_data"
    },
    {
     "data": {
      "image/png": "[encoded data removed]",
      "text/plain": [
       "<Figure size 432x288 with 1 Axes>"
      ]
     },
     "metadata": {},
     "output_type": "display_data"
    },
    {
     "data": {
      "image/png": "[encoded data removed]",
      "text/plain": [
       "<Figure size 432x288 with 1 Axes>"
      ]
     },
     "metadata": {},
     "output_type": "display_data"
    },
    {
     "data": {
      "image/png": "[encoded data removed]",
      "text/plain": [
       "<Figure size 432x288 with 1 Axes>"
      ]
     },
     "metadata": {},
     "output_type": "display_data"
    },
    {
     "data": {
      "image/png": "[encoded data removed]",
      "text/plain": [
       "<Figure size 432x288 with 1 Axes>"
      ]
     },
     "metadata": {},
     "output_type": "display_data"
    },
    {
     "data": {
      "image/png": "[encoded data removed]",
      "text/plain": [
       "<Figure size 432x288 with 1 Axes>"
      ]
     },
     "metadata": {},
     "output_type": "display_data"
    }
   ],
   "source": [
    "for param in ['synthetic_negative_rate', 'optim_initial_lr', 'adam_beta1', 'adam_beta2', 'dropout_rate', 'chem_layers_per_message', 'protein_base_dim', 'protein_output_dim']:\n",
    "    plot_param(param)"
   ]
  },
  {
   "cell_type": "code",
   "execution_count": 519,
   "metadata": {
    "ExecuteTime": {
     "end_time": "2020-04-21T20:07:57.172783Z",
     "start_time": "2020-04-21T20:07:53.712773Z"
    }
   },
   "outputs": [],
   "source": [
    "mtrials.refresh()"
   ]
  },
  {
   "cell_type": "code",
   "execution_count": null,
   "metadata": {},
   "outputs": [],
   "source": [
    "hyperopt.J"
   ]
  },
  {
   "cell_type": "code",
   "execution_count": 533,
   "metadata": {
    "ExecuteTime": {
     "end_time": "2020-04-21T20:21:38.419150Z",
     "start_time": "2020-04-21T20:21:38.415169Z"
    }
   },
   "outputs": [],
   "source": [
    "from collections import Counter, defaultdict"
   ]
  },
  {
   "cell_type": "code",
   "execution_count": 537,
   "metadata": {
    "ExecuteTime": {
     "end_time": "2020-04-21T20:24:04.943794Z",
     "start_time": "2020-04-21T20:24:04.935813Z"
    }
   },
   "outputs": [
    {
     "data": {
      "text/plain": [
       "defaultdict(<function __main__.<lambda>()>,\n",
       "            {'covid-1': {0: Counter(),\n",
       "              3: Counter(),\n",
       "              1: Counter(),\n",
       "              2: Counter()}})"
      ]
     },
     "execution_count": 537,
     "metadata": {},
     "output_type": "execute_result"
    }
   ],
   "source": [
    "counters[]"
   ]
  },
  {
   "cell_type": "code",
   "execution_count": 553,
   "metadata": {
    "ExecuteTime": {
     "end_time": "2020-04-21T21:01:10.488085Z",
     "start_time": "2020-04-21T21:01:10.482035Z"
    }
   },
   "outputs": [],
   "source": [
    "from IPython.display import HTML"
   ]
  },
  {
   "cell_type": "code",
   "execution_count": 556,
   "metadata": {
    "ExecuteTime": {
     "end_time": "2020-04-21T21:18:34.543643Z",
     "start_time": "2020-04-21T21:18:33.848380Z"
    }
   },
   "outputs": [],
   "source": [
    "all_trials.refresh()"
   ]
  },
  {
   "cell_type": "code",
   "execution_count": 558,
   "metadata": {
    "ExecuteTime": {
     "end_time": "2020-04-21T21:20:50.645471Z",
     "start_time": "2020-04-21T21:20:50.028539Z"
    }
   },
   "outputs": [],
   "source": [
    "mtrials.refresh()"
   ]
  },
  {
   "cell_type": "code",
   "execution_count": 5,
   "metadata": {
    "ExecuteTime": {
     "end_time": "2020-04-26T20:56:43.022904Z",
     "start_time": "2020-04-26T20:56:42.677305Z"
    }
   },
   "outputs": [],
   "source": [
    "import pymongo"
   ]
  },
  {
   "cell_type": "code",
   "execution_count": 15,
   "metadata": {
    "ExecuteTime": {
     "end_time": "2020-04-27T14:15:38.387498Z",
     "start_time": "2020-04-27T14:15:38.379489Z"
    }
   },
   "outputs": [],
   "source": [
    "from pymongo import MongoClient\n",
    "client = MongoClient('localhost', 1234)"
   ]
  },
  {
   "cell_type": "code",
   "execution_count": 7,
   "metadata": {
    "ExecuteTime": {
     "end_time": "2020-04-26T20:56:43.978485Z",
     "start_time": "2020-04-26T20:56:43.974446Z"
    }
   },
   "outputs": [],
   "source": [
    "jobs = client.covid['jobs']"
   ]
  },
  {
   "cell_type": "code",
   "execution_count": 8,
   "metadata": {
    "ExecuteTime": {
     "end_time": "2020-04-26T20:56:45.010013Z",
     "start_time": "2020-04-26T20:56:44.920358Z"
    }
   },
   "outputs": [
    {
     "data": {
      "text/plain": [
       "1"
      ]
     },
     "execution_count": 8,
     "metadata": {},
     "output_type": "execute_result"
    }
   ],
   "source": [
    "len(list(jobs.find({'state':1})))"
   ]
  },
  {
   "cell_type": "code",
   "execution_count": 779,
   "metadata": {
    "ExecuteTime": {
     "end_time": "2020-04-21T23:09:47.632331Z",
     "start_time": "2020-04-21T23:09:47.620327Z"
    }
   },
   "outputs": [
    {
     "data": {
      "text/plain": [
       "datetime.datetime(2020, 4, 21, 20, 33, 36, 323000)"
      ]
     },
     "execution_count": 779,
     "metadata": {},
     "output_type": "execute_result"
    }
   ],
   "source": [
    "tr['refresh_time']"
   ]
  },
  {
   "cell_type": "code",
   "execution_count": 9,
   "metadata": {
    "ExecuteTime": {
     "end_time": "2020-04-26T20:56:58.393766Z",
     "start_time": "2020-04-26T20:56:58.355731Z"
    }
   },
   "outputs": [],
   "source": [
    "for obj in list(jobs.find({'state':1})):\n",
    "    jobs.find_one_and_delete({'_id':obj['_id']})"
   ]
  },
  {
   "cell_type": "code",
   "execution_count": 763,
   "metadata": {
    "ExecuteTime": {
     "end_time": "2020-04-21T22:47:53.456058Z",
     "start_time": "2020-04-21T22:47:53.431501Z"
    }
   },
   "outputs": [],
   "source": [
    "obj = jobs.find_one_and_delete({'exp_key':'covid-4'})\n",
    "obj"
   ]
  },
  {
   "cell_type": "code",
   "execution_count": 651,
   "metadata": {
    "ExecuteTime": {
     "end_time": "2020-04-21T22:25:34.546352Z",
     "start_time": "2020-04-21T22:25:34.521346Z"
    }
   },
   "outputs": [
    {
     "data": {
      "text/plain": [
       "('new', 'running', 'suspended', 'ok', 'fail')"
      ]
     },
     "execution_count": 651,
     "metadata": {},
     "output_type": "execute_result"
    }
   ],
   "source": [
    "hyperopt.STATUS_STRINGS"
   ]
  },
  {
   "cell_type": "code",
   "execution_count": 642,
   "metadata": {
    "ExecuteTime": {
     "end_time": "2020-04-21T21:48:13.411820Z",
     "start_time": "2020-04-21T21:48:13.406817Z"
    }
   },
   "outputs": [
    {
     "data": {
      "text/plain": [
       "111"
      ]
     },
     "execution_count": 642,
     "metadata": {},
     "output_type": "execute_result"
    }
   ],
   "source": [
    "len(mtrials.trials)"
   ]
  },
  {
   "cell_type": "code",
   "execution_count": 620,
   "metadata": {
    "ExecuteTime": {
     "end_time": "2020-04-21T21:41:38.758653Z",
     "start_time": "2020-04-21T21:41:38.731570Z"
    }
   },
   "outputs": [
    {
     "name": "stdout",
     "output_type": "stream",
     "text": [
      "{'_id': ObjectId('5e9e153cb272fc0c15bccf8c'), 'filename': 'FMinIter_Domain', 'encoding': 'utf-8', 'exp_key': 'covid-1', 'md5': '5e9ab2058b952aad9047a1acfc1811e2', 'chunkSize': 261120, 'length': 27333, 'uploadDate': datetime.datetime(2020, 4, 20, 21, 33, 48, 594000)}\n",
      "{'_id': ObjectId('5e9f193a2e1648053c867944'), 'filename': 'FMinIter_Domain', 'encoding': 'utf-8', 'exp_key': 'covid-3', 'md5': 'be44496efe7759b2d485827db2394c25', 'chunkSize': 261120, 'length': 27471, 'uploadDate': datetime.datetime(2020, 4, 21, 16, 3, 6, 141000)}\n"
     ]
    }
   ],
   "source": [
    "for obj in client.covid['fs.files'].find():\n",
    "    print(obj)"
   ]
  },
  {
   "cell_type": "code",
   "execution_count": 594,
   "metadata": {
    "ExecuteTime": {
     "end_time": "2020-04-21T21:36:59.542146Z",
     "start_time": "2020-04-21T21:36:59.511145Z"
    }
   },
   "outputs": [
    {
     "name": "stdout",
     "output_type": "stream",
     "text": [
      "5e9e13712d11fd9570ff2822 None\n",
      "5e9f002382d73e83fc7e5bc2 None\n",
      "5e9f002382d73e83fc7e5bc3 None\n",
      "5e9f002382d73e83fc7e5bc4 None\n",
      "5e9f002482d73e83fc7e5bc8 None\n",
      "5e9f002582d73e83fc7e5bcc None\n",
      "5e9f004182d73e83fc7e5c2d None\n",
      "5e9f0058012ebf63b16d299f None\n"
     ]
    }
   ],
   "source": [
    "for obj in jobs.find({\"state\":1}):\n",
    "    #jobs.find_one_and_update({'_id':obj['_id']},{'$set':{'owner':None}})\n",
    "    print(obj['_id'], obj['owner'])"
   ]
  },
  {
   "cell_type": "code",
   "execution_count": 588,
   "metadata": {
    "ExecuteTime": {
     "end_time": "2020-04-21T21:31:37.071251Z",
     "start_time": "2020-04-21T21:31:37.044247Z"
    },
    "scrolled": true
   },
   "outputs": [
    {
     "name": "stdout",
     "output_type": "stream",
     "text": [
      "Help on Collection in module pymongo.collection object:\n",
      "\n",
      "class Collection(pymongo.common.BaseObject)\n",
      " |  Collection(database, name, create=False, codec_options=None, read_preference=None, write_concern=None, read_concern=None, session=None, **kwargs)\n",
      " |  \n",
      " |  A Mongo collection.\n",
      " |  \n",
      " |  Method resolution order:\n",
      " |      Collection\n",
      " |      pymongo.common.BaseObject\n",
      " |      builtins.object\n",
      " |  \n",
      " |  Methods defined here:\n",
      " |  \n",
      " |  __call__(self, *args, **kwargs)\n",
      " |      This is only here so that some API misusages are easier to debug.\n",
      " |  \n",
      " |  __eq__(self, other)\n",
      " |      Return self==value.\n",
      " |  \n",
      " |  __getattr__(self, name)\n",
      " |      Get a sub-collection of this collection by name.\n",
      " |      \n",
      " |      Raises InvalidName if an invalid collection name is used.\n",
      " |      \n",
      " |      :Parameters:\n",
      " |        - `name`: the name of the collection to get\n",
      " |  \n",
      " |  __getitem__(self, name)\n",
      " |  \n",
      " |  __init__(self, database, name, create=False, codec_options=None, read_preference=None, write_concern=None, read_concern=None, session=None, **kwargs)\n",
      " |      Get / create a Mongo collection.\n",
      " |      \n",
      " |      Raises :class:`TypeError` if `name` is not an instance of\n",
      " |      :class:`basestring` (:class:`str` in python 3). Raises\n",
      " |      :class:`~pymongo.errors.InvalidName` if `name` is not a valid\n",
      " |      collection name. Any additional keyword arguments will be used\n",
      " |      as options passed to the create command. See\n",
      " |      :meth:`~pymongo.database.Database.create_collection` for valid\n",
      " |      options.\n",
      " |      \n",
      " |      If `create` is ``True``, `collation` is specified, or any additional\n",
      " |      keyword arguments are present, a ``create`` command will be\n",
      " |      sent, using ``session`` if specified. Otherwise, a ``create`` command\n",
      " |      will not be sent and the collection will be created implicitly on first\n",
      " |      use. The optional ``session`` argument is *only* used for the ``create``\n",
      " |      command, it is not associated with the collection afterward.\n",
      " |      \n",
      " |      :Parameters:\n",
      " |        - `database`: the database to get a collection from\n",
      " |        - `name`: the name of the collection to get\n",
      " |        - `create` (optional): if ``True``, force collection\n",
      " |          creation even without options being set\n",
      " |        - `codec_options` (optional): An instance of\n",
      " |          :class:`~bson.codec_options.CodecOptions`. If ``None`` (the\n",
      " |          default) database.codec_options is used.\n",
      " |        - `read_preference` (optional): The read preference to use. If\n",
      " |          ``None`` (the default) database.read_preference is used.\n",
      " |        - `write_concern` (optional): An instance of\n",
      " |          :class:`~pymongo.write_concern.WriteConcern`. If ``None`` (the\n",
      " |          default) database.write_concern is used.\n",
      " |        - `read_concern` (optional): An instance of\n",
      " |          :class:`~pymongo.read_concern.ReadConcern`. If ``None`` (the\n",
      " |          default) database.read_concern is used.\n",
      " |        - `collation` (optional): An instance of\n",
      " |          :class:`~pymongo.collation.Collation`. If a collation is provided,\n",
      " |          it will be passed to the create collection command. This option is\n",
      " |          only supported on MongoDB 3.4 and above.\n",
      " |        - `session` (optional): a\n",
      " |          :class:`~pymongo.client_session.ClientSession` that is used with\n",
      " |          the create collection command\n",
      " |        - `**kwargs` (optional): additional keyword arguments will\n",
      " |          be passed as options for the create collection command\n",
      " |      \n",
      " |      .. versionchanged:: 3.6\n",
      " |         Added ``session`` parameter.\n",
      " |      \n",
      " |      .. versionchanged:: 3.4\n",
      " |         Support the `collation` option.\n",
      " |      \n",
      " |      .. versionchanged:: 3.2\n",
      " |         Added the read_concern option.\n",
      " |      \n",
      " |      .. versionchanged:: 3.0\n",
      " |         Added the codec_options, read_preference, and write_concern options.\n",
      " |         Removed the uuid_subtype attribute.\n",
      " |         :class:`~pymongo.collection.Collection` no longer returns an\n",
      " |         instance of :class:`~pymongo.collection.Collection` for attribute\n",
      " |         names with leading underscores. You must use dict-style lookups\n",
      " |         instead::\n",
      " |      \n",
      " |             collection['__my_collection__']\n",
      " |      \n",
      " |         Not:\n",
      " |      \n",
      " |             collection.__my_collection__\n",
      " |      \n",
      " |      .. versionchanged:: 2.2\n",
      " |         Removed deprecated argument: options\n",
      " |      \n",
      " |      .. versionadded:: 2.1\n",
      " |         uuid_subtype attribute\n",
      " |      \n",
      " |      .. mongodoc:: collections\n",
      " |  \n",
      " |  __iter__(self)\n",
      " |  \n",
      " |  __ne__(self, other)\n",
      " |      Return self!=value.\n",
      " |  \n",
      " |  __next__(self)\n",
      " |  \n",
      " |  __repr__(self)\n",
      " |      Return repr(self).\n",
      " |  \n",
      " |  aggregate(self, pipeline, session=None, **kwargs)\n",
      " |      Perform an aggregation using the aggregation framework on this\n",
      " |      collection.\n",
      " |      \n",
      " |      All optional `aggregate command`_ parameters should be passed as\n",
      " |      keyword arguments to this method. Valid options include, but are not\n",
      " |      limited to:\n",
      " |      \n",
      " |        - `allowDiskUse` (bool): Enables writing to temporary files. When set\n",
      " |          to True, aggregation stages can write data to the _tmp subdirectory\n",
      " |          of the --dbpath directory. The default is False.\n",
      " |        - `maxTimeMS` (int): The maximum amount of time to allow the operation\n",
      " |          to run in milliseconds.\n",
      " |        - `batchSize` (int): The maximum number of documents to return per\n",
      " |          batch. Ignored if the connected mongod or mongos does not support\n",
      " |          returning aggregate results using a cursor, or `useCursor` is\n",
      " |          ``False``.\n",
      " |        - `collation` (optional): An instance of\n",
      " |          :class:`~pymongo.collation.Collation`. This option is only supported\n",
      " |          on MongoDB 3.4 and above.\n",
      " |        - `useCursor` (bool): Deprecated. Will be removed in PyMongo 4.0.\n",
      " |      \n",
      " |      The :meth:`aggregate` method obeys the :attr:`read_preference` of this\n",
      " |      :class:`Collection`, except when ``$out`` or ``$merge`` are used, in\n",
      " |      which case  :attr:`~pymongo.read_preferences.ReadPreference.PRIMARY`\n",
      " |      is used.\n",
      " |      \n",
      " |      .. note:: This method does not support the 'explain' option. Please\n",
      " |         use :meth:`~pymongo.database.Database.command` instead. An\n",
      " |         example is included in the :ref:`aggregate-examples` documentation.\n",
      " |      \n",
      " |      .. note:: The :attr:`~pymongo.collection.Collection.write_concern` of\n",
      " |         this collection is automatically applied to this operation when using\n",
      " |         MongoDB >= 3.4.\n",
      " |      \n",
      " |      :Parameters:\n",
      " |        - `pipeline`: a list of aggregation pipeline stages\n",
      " |        - `session` (optional): a\n",
      " |          :class:`~pymongo.client_session.ClientSession`.\n",
      " |        - `**kwargs` (optional): See list of options above.\n",
      " |      \n",
      " |      :Returns:\n",
      " |        A :class:`~pymongo.command_cursor.CommandCursor` over the result\n",
      " |        set.\n",
      " |      \n",
      " |      .. versionchanged:: 3.9\n",
      " |         Apply this collection's read concern to pipelines containing the\n",
      " |         `$out` stage when connected to MongoDB >= 4.2.\n",
      " |         Added support for the ``$merge`` pipeline stage.\n",
      " |         Aggregations that write always use read preference\n",
      " |         :attr:`~pymongo.read_preferences.ReadPreference.PRIMARY`.\n",
      " |      .. versionchanged:: 3.6\n",
      " |         Added the `session` parameter. Added the `maxAwaitTimeMS` option.\n",
      " |         Deprecated the `useCursor` option.\n",
      " |      .. versionchanged:: 3.4\n",
      " |         Apply this collection's write concern automatically to this operation\n",
      " |         when connected to MongoDB >= 3.4. Support the `collation` option.\n",
      " |      .. versionchanged:: 3.0\n",
      " |         The :meth:`aggregate` method always returns a CommandCursor. The\n",
      " |         pipeline argument must be a list.\n",
      " |      .. versionchanged:: 2.7\n",
      " |         When the cursor option is used, return\n",
      " |         :class:`~pymongo.command_cursor.CommandCursor` instead of\n",
      " |         :class:`~pymongo.cursor.Cursor`.\n",
      " |      .. versionchanged:: 2.6\n",
      " |         Added cursor support.\n",
      " |      .. versionadded:: 2.3\n",
      " |      \n",
      " |      .. seealso:: :doc:`/examples/aggregation`\n",
      " |      \n",
      " |      .. _aggregate command:\n",
      " |          https://docs.mongodb.com/manual/reference/command/aggregate\n",
      " |  \n",
      " |  aggregate_raw_batches(self, pipeline, **kwargs)\n",
      " |      Perform an aggregation and retrieve batches of raw BSON.\n",
      " |      \n",
      " |      Similar to the :meth:`aggregate` method but returns a\n",
      " |      :class:`~pymongo.cursor.RawBatchCursor`.\n",
      " |      \n",
      " |      This example demonstrates how to work with raw batches, but in practice\n",
      " |      raw batches should be passed to an external library that can decode\n",
      " |      BSON into another data type, rather than used with PyMongo's\n",
      " |      :mod:`bson` module.\n",
      " |      \n",
      " |        >>> import bson\n",
      " |        >>> cursor = db.test.aggregate_raw_batches([\n",
      " |        ...     {'$project': {'x': {'$multiply': [2, '$x']}}}])\n",
      " |        >>> for batch in cursor:\n",
      " |        ...     print(bson.decode_all(batch))\n",
      " |      \n",
      " |      .. note:: aggregate_raw_batches does not support sessions or auto\n",
      " |         encryption.\n",
      " |      \n",
      " |      .. versionadded:: 3.6\n",
      " |  \n",
      " |  bulk_write(self, requests, ordered=True, bypass_document_validation=False, session=None)\n",
      " |      Send a batch of write operations to the server.\n",
      " |      \n",
      " |      Requests are passed as a list of write operation instances (\n",
      " |      :class:`~pymongo.operations.InsertOne`,\n",
      " |      :class:`~pymongo.operations.UpdateOne`,\n",
      " |      :class:`~pymongo.operations.UpdateMany`,\n",
      " |      :class:`~pymongo.operations.ReplaceOne`,\n",
      " |      :class:`~pymongo.operations.DeleteOne`, or\n",
      " |      :class:`~pymongo.operations.DeleteMany`).\n",
      " |      \n",
      " |        >>> for doc in db.test.find({}):\n",
      " |        ...     print(doc)\n",
      " |        ...\n",
      " |        {u'x': 1, u'_id': ObjectId('54f62e60fba5226811f634ef')}\n",
      " |        {u'x': 1, u'_id': ObjectId('54f62e60fba5226811f634f0')}\n",
      " |        >>> # DeleteMany, UpdateOne, and UpdateMany are also available.\n",
      " |        ...\n",
      " |        >>> from pymongo import InsertOne, DeleteOne, ReplaceOne\n",
      " |        >>> requests = [InsertOne({'y': 1}), DeleteOne({'x': 1}),\n",
      " |        ...             ReplaceOne({'w': 1}, {'z': 1}, upsert=True)]\n",
      " |        >>> result = db.test.bulk_write(requests)\n",
      " |        >>> result.inserted_count\n",
      " |        1\n",
      " |        >>> result.deleted_count\n",
      " |        1\n",
      " |        >>> result.modified_count\n",
      " |        0\n",
      " |        >>> result.upserted_ids\n",
      " |        {2: ObjectId('54f62ee28891e756a6e1abd5')}\n",
      " |        >>> for doc in db.test.find({}):\n",
      " |        ...     print(doc)\n",
      " |        ...\n",
      " |        {u'x': 1, u'_id': ObjectId('54f62e60fba5226811f634f0')}\n",
      " |        {u'y': 1, u'_id': ObjectId('54f62ee2fba5226811f634f1')}\n",
      " |        {u'z': 1, u'_id': ObjectId('54f62ee28891e756a6e1abd5')}\n",
      " |      \n",
      " |      :Parameters:\n",
      " |        - `requests`: A list of write operations (see examples above).\n",
      " |        - `ordered` (optional): If ``True`` (the default) requests will be\n",
      " |          performed on the server serially, in the order provided. If an error\n",
      " |          occurs all remaining operations are aborted. If ``False`` requests\n",
      " |          will be performed on the server in arbitrary order, possibly in\n",
      " |          parallel, and all operations will be attempted.\n",
      " |        - `bypass_document_validation`: (optional) If ``True``, allows the\n",
      " |          write to opt-out of document level validation. Default is\n",
      " |          ``False``.\n",
      " |        - `session` (optional): a\n",
      " |          :class:`~pymongo.client_session.ClientSession`.\n",
      " |      \n",
      " |      :Returns:\n",
      " |        An instance of :class:`~pymongo.results.BulkWriteResult`.\n",
      " |      \n",
      " |      .. seealso:: :ref:`writes-and-ids`\n",
      " |      \n",
      " |      .. note:: `bypass_document_validation` requires server version\n",
      " |        **>= 3.2**\n",
      " |      \n",
      " |      .. versionchanged:: 3.6\n",
      " |         Added ``session`` parameter.\n",
      " |      \n",
      " |      .. versionchanged:: 3.2\n",
      " |        Added bypass_document_validation support\n",
      " |      \n",
      " |      .. versionadded:: 3.0\n",
      " |  \n",
      " |  count(self, filter=None, session=None, **kwargs)\n",
      " |      **DEPRECATED** - Get the number of documents in this collection.\n",
      " |      \n",
      " |      The :meth:`count` method is deprecated and **not** supported in a\n",
      " |      transaction. Please use :meth:`count_documents` or\n",
      " |      :meth:`estimated_document_count` instead.\n",
      " |      \n",
      " |      All optional count parameters should be passed as keyword arguments\n",
      " |      to this method. Valid options include:\n",
      " |      \n",
      " |        - `skip` (int): The number of matching documents to skip before\n",
      " |          returning results.\n",
      " |        - `limit` (int): The maximum number of documents to count. A limit\n",
      " |          of 0 (the default) is equivalent to setting no limit.\n",
      " |        - `maxTimeMS` (int): The maximum amount of time to allow the count\n",
      " |          command to run, in milliseconds.\n",
      " |        - `collation` (optional): An instance of\n",
      " |          :class:`~pymongo.collation.Collation`. This option is only supported\n",
      " |          on MongoDB 3.4 and above.\n",
      " |        - `hint` (string or list of tuples): The index to use. Specify either\n",
      " |          the index name as a string or the index specification as a list of\n",
      " |          tuples (e.g. [('a', pymongo.ASCENDING), ('b', pymongo.ASCENDING)]).\n",
      " |      \n",
      " |      The :meth:`count` method obeys the :attr:`read_preference` of\n",
      " |      this :class:`Collection`.\n",
      " |      \n",
      " |      .. note:: When migrating from :meth:`count` to :meth:`count_documents`\n",
      " |         the following query operators must be replaced:\n",
      " |      \n",
      " |         +-------------+-------------------------------------+\n",
      " |         | Operator    | Replacement                         |\n",
      " |         +=============+=====================================+\n",
      " |         | $where      | `$expr`_                            |\n",
      " |         +-------------+-------------------------------------+\n",
      " |         | $near       | `$geoWithin`_ with `$center`_       |\n",
      " |         +-------------+-------------------------------------+\n",
      " |         | $nearSphere | `$geoWithin`_ with `$centerSphere`_ |\n",
      " |         +-------------+-------------------------------------+\n",
      " |      \n",
      " |         $expr requires MongoDB 3.6+\n",
      " |      \n",
      " |      :Parameters:\n",
      " |        - `filter` (optional): A query document that selects which documents\n",
      " |          to count in the collection.\n",
      " |        - `session` (optional): a\n",
      " |          :class:`~pymongo.client_session.ClientSession`.\n",
      " |        - `**kwargs` (optional): See list of options above.\n",
      " |      \n",
      " |      .. versionchanged:: 3.7\n",
      " |         Deprecated.\n",
      " |      \n",
      " |      .. versionchanged:: 3.6\n",
      " |         Added ``session`` parameter.\n",
      " |      \n",
      " |      .. versionchanged:: 3.4\n",
      " |         Support the `collation` option.\n",
      " |      \n",
      " |      .. _$expr: https://docs.mongodb.com/manual/reference/operator/query/expr/\n",
      " |      .. _$geoWithin: https://docs.mongodb.com/manual/reference/operator/query/geoWithin/\n",
      " |      .. _$center: https://docs.mongodb.com/manual/reference/operator/query/center/#op._S_center\n",
      " |      .. _$centerSphere: https://docs.mongodb.com/manual/reference/operator/query/centerSphere/#op._S_centerSphere\n",
      " |  \n",
      " |  count_documents(self, filter, session=None, **kwargs)\n",
      " |      Count the number of documents in this collection.\n",
      " |      \n",
      " |      .. note:: For a fast count of the total documents in a collection see\n",
      " |         :meth:`estimated_document_count`.\n",
      " |      \n",
      " |      The :meth:`count_documents` method is supported in a transaction.\n",
      " |      \n",
      " |      All optional parameters should be passed as keyword arguments\n",
      " |      to this method. Valid options include:\n",
      " |      \n",
      " |        - `skip` (int): The number of matching documents to skip before\n",
      " |          returning results.\n",
      " |        - `limit` (int): The maximum number of documents to count. Must be\n",
      " |          a positive integer. If not provided, no limit is imposed.\n",
      " |        - `maxTimeMS` (int): The maximum amount of time to allow this\n",
      " |          operation to run, in milliseconds.\n",
      " |        - `collation` (optional): An instance of\n",
      " |          :class:`~pymongo.collation.Collation`. This option is only supported\n",
      " |          on MongoDB 3.4 and above.\n",
      " |        - `hint` (string or list of tuples): The index to use. Specify either\n",
      " |          the index name as a string or the index specification as a list of\n",
      " |          tuples (e.g. [('a', pymongo.ASCENDING), ('b', pymongo.ASCENDING)]).\n",
      " |          This option is only supported on MongoDB 3.6 and above.\n",
      " |      \n",
      " |      The :meth:`count_documents` method obeys the :attr:`read_preference` of\n",
      " |      this :class:`Collection`.\n",
      " |      \n",
      " |      .. note:: When migrating from :meth:`count` to :meth:`count_documents`\n",
      " |         the following query operators must be replaced:\n",
      " |      \n",
      " |         +-------------+-------------------------------------+\n",
      " |         | Operator    | Replacement                         |\n",
      " |         +=============+=====================================+\n",
      " |         | $where      | `$expr`_                            |\n",
      " |         +-------------+-------------------------------------+\n",
      " |         | $near       | `$geoWithin`_ with `$center`_       |\n",
      " |         +-------------+-------------------------------------+\n",
      " |         | $nearSphere | `$geoWithin`_ with `$centerSphere`_ |\n",
      " |         +-------------+-------------------------------------+\n",
      " |      \n",
      " |         $expr requires MongoDB 3.6+\n",
      " |      \n",
      " |      :Parameters:\n",
      " |        - `filter` (required): A query document that selects which documents\n",
      " |          to count in the collection. Can be an empty document to count all\n",
      " |          documents.\n",
      " |        - `session` (optional): a\n",
      " |          :class:`~pymongo.client_session.ClientSession`.\n",
      " |        - `**kwargs` (optional): See list of options above.\n",
      " |      \n",
      " |      .. versionadded:: 3.7\n",
      " |      \n",
      " |      .. _$expr: https://docs.mongodb.com/manual/reference/operator/query/expr/\n",
      " |      .. _$geoWithin: https://docs.mongodb.com/manual/reference/operator/query/geoWithin/\n",
      " |      .. _$center: https://docs.mongodb.com/manual/reference/operator/query/center/#op._S_center\n",
      " |      .. _$centerSphere: https://docs.mongodb.com/manual/reference/operator/query/centerSphere/#op._S_centerSphere\n",
      " |  \n",
      " |  create_index(self, keys, session=None, **kwargs)\n",
      " |      Creates an index on this collection.\n",
      " |      \n",
      " |      Takes either a single key or a list of (key, direction) pairs.\n",
      " |      The key(s) must be an instance of :class:`basestring`\n",
      " |      (:class:`str` in python 3), and the direction(s) must be one of\n",
      " |      (:data:`~pymongo.ASCENDING`, :data:`~pymongo.DESCENDING`,\n",
      " |      :data:`~pymongo.GEO2D`, :data:`~pymongo.GEOHAYSTACK`,\n",
      " |      :data:`~pymongo.GEOSPHERE`, :data:`~pymongo.HASHED`,\n",
      " |      :data:`~pymongo.TEXT`).\n",
      " |      \n",
      " |      To create a single key ascending index on the key ``'mike'`` we just\n",
      " |      use a string argument::\n",
      " |      \n",
      " |        >>> my_collection.create_index(\"mike\")\n",
      " |      \n",
      " |      For a compound index on ``'mike'`` descending and ``'eliot'``\n",
      " |      ascending we need to use a list of tuples::\n",
      " |      \n",
      " |        >>> my_collection.create_index([(\"mike\", pymongo.DESCENDING),\n",
      " |        ...                             (\"eliot\", pymongo.ASCENDING)])\n",
      " |      \n",
      " |      All optional index creation parameters should be passed as\n",
      " |      keyword arguments to this method. For example::\n",
      " |      \n",
      " |        >>> my_collection.create_index([(\"mike\", pymongo.DESCENDING)],\n",
      " |        ...                            background=True)\n",
      " |      \n",
      " |      Valid options include, but are not limited to:\n",
      " |      \n",
      " |        - `name`: custom name to use for this index - if none is\n",
      " |          given, a name will be generated.\n",
      " |        - `unique`: if ``True`` creates a uniqueness constraint on the index.\n",
      " |        - `background`: if ``True`` this index should be created in the\n",
      " |          background.\n",
      " |        - `sparse`: if ``True``, omit from the index any documents that lack\n",
      " |          the indexed field.\n",
      " |        - `bucketSize`: for use with geoHaystack indexes.\n",
      " |          Number of documents to group together within a certain proximity\n",
      " |          to a given longitude and latitude.\n",
      " |        - `min`: minimum value for keys in a :data:`~pymongo.GEO2D`\n",
      " |          index.\n",
      " |        - `max`: maximum value for keys in a :data:`~pymongo.GEO2D`\n",
      " |          index.\n",
      " |        - `expireAfterSeconds`: <int> Used to create an expiring (TTL)\n",
      " |          collection. MongoDB will automatically delete documents from\n",
      " |          this collection after <int> seconds. The indexed field must\n",
      " |          be a UTC datetime or the data will not expire.\n",
      " |        - `partialFilterExpression`: A document that specifies a filter for\n",
      " |          a partial index. Requires server version >=3.2.\n",
      " |        - `collation` (optional): An instance of\n",
      " |          :class:`~pymongo.collation.Collation`. This option is only supported\n",
      " |          on MongoDB 3.4 and above.\n",
      " |        - `wildcardProjection`: Allows users to include or exclude specific\n",
      " |          field paths from a `wildcard index`_ using the { \"$**\" : 1} key\n",
      " |          pattern. Requires server version >= 4.2.\n",
      " |      \n",
      " |      See the MongoDB documentation for a full list of supported options by\n",
      " |      server version.\n",
      " |      \n",
      " |      .. warning:: `dropDups` is not supported by MongoDB 3.0 or newer. The\n",
      " |        option is silently ignored by the server and unique index builds\n",
      " |        using the option will fail if a duplicate value is detected.\n",
      " |      \n",
      " |      .. note:: The :attr:`~pymongo.collection.Collection.write_concern` of\n",
      " |         this collection is automatically applied to this operation when using\n",
      " |         MongoDB >= 3.4.\n",
      " |      \n",
      " |      :Parameters:\n",
      " |        - `keys`: a single key or a list of (key, direction)\n",
      " |          pairs specifying the index to create\n",
      " |        - `session` (optional): a\n",
      " |          :class:`~pymongo.client_session.ClientSession`.\n",
      " |        - `**kwargs` (optional): any additional index creation\n",
      " |          options (see the above list) should be passed as keyword\n",
      " |          arguments\n",
      " |      \n",
      " |      .. versionchanged:: 3.6\n",
      " |         Added ``session`` parameter. Added support for passing maxTimeMS\n",
      " |         in kwargs.\n",
      " |      .. versionchanged:: 3.4\n",
      " |         Apply this collection's write concern automatically to this operation\n",
      " |         when connected to MongoDB >= 3.4. Support the `collation` option.\n",
      " |      .. versionchanged:: 3.2\n",
      " |          Added partialFilterExpression to support partial indexes.\n",
      " |      .. versionchanged:: 3.0\n",
      " |          Renamed `key_or_list` to `keys`. Removed the `cache_for` option.\n",
      " |          :meth:`create_index` no longer caches index names. Removed support\n",
      " |          for the drop_dups and bucket_size aliases.\n",
      " |      \n",
      " |      .. mongodoc:: indexes\n",
      " |      \n",
      " |      .. _wildcard index: https://docs.mongodb.com/master/core/index-wildcard/#wildcard-index-core\n",
      " |  \n",
      " |  create_indexes(self, indexes, session=None, **kwargs)\n",
      " |      Create one or more indexes on this collection.\n",
      " |      \n",
      " |        >>> from pymongo import IndexModel, ASCENDING, DESCENDING\n",
      " |        >>> index1 = IndexModel([(\"hello\", DESCENDING),\n",
      " |        ...                      (\"world\", ASCENDING)], name=\"hello_world\")\n",
      " |        >>> index2 = IndexModel([(\"goodbye\", DESCENDING)])\n",
      " |        >>> db.test.create_indexes([index1, index2])\n",
      " |        [\"hello_world\", \"goodbye_-1\"]\n",
      " |      \n",
      " |      :Parameters:\n",
      " |        - `indexes`: A list of :class:`~pymongo.operations.IndexModel`\n",
      " |          instances.\n",
      " |        - `session` (optional): a\n",
      " |          :class:`~pymongo.client_session.ClientSession`.\n",
      " |        - `**kwargs` (optional): optional arguments to the createIndexes\n",
      " |          command (like maxTimeMS) can be passed as keyword arguments.\n",
      " |      \n",
      " |      .. note:: `create_indexes` uses the `createIndexes`_ command\n",
      " |         introduced in MongoDB **2.6** and cannot be used with earlier\n",
      " |         versions.\n",
      " |      \n",
      " |      .. note:: The :attr:`~pymongo.collection.Collection.write_concern` of\n",
      " |         this collection is automatically applied to this operation when using\n",
      " |         MongoDB >= 3.4.\n",
      " |      \n",
      " |      .. versionchanged:: 3.6\n",
      " |         Added ``session`` parameter. Added support for arbitrary keyword\n",
      " |         arguments.\n",
      " |      \n",
      " |      .. versionchanged:: 3.4\n",
      " |         Apply this collection's write concern automatically to this operation\n",
      " |         when connected to MongoDB >= 3.4.\n",
      " |      .. versionadded:: 3.0\n",
      " |      \n",
      " |      .. _createIndexes: https://docs.mongodb.com/manual/reference/command/createIndexes/\n",
      " |  \n",
      " |  delete_many(self, filter, collation=None, session=None)\n",
      " |      Delete one or more documents matching the filter.\n",
      " |      \n",
      " |        >>> db.test.count_documents({'x': 1})\n",
      " |        3\n",
      " |        >>> result = db.test.delete_many({'x': 1})\n",
      " |        >>> result.deleted_count\n",
      " |        3\n",
      " |        >>> db.test.count_documents({'x': 1})\n",
      " |        0\n",
      " |      \n",
      " |      :Parameters:\n",
      " |        - `filter`: A query that matches the documents to delete.\n",
      " |        - `collation` (optional): An instance of\n",
      " |          :class:`~pymongo.collation.Collation`. This option is only supported\n",
      " |          on MongoDB 3.4 and above.\n",
      " |        - `session` (optional): a\n",
      " |          :class:`~pymongo.client_session.ClientSession`.\n",
      " |      \n",
      " |      :Returns:\n",
      " |        - An instance of :class:`~pymongo.results.DeleteResult`.\n",
      " |      \n",
      " |      .. versionchanged:: 3.6\n",
      " |         Added ``session`` parameter.\n",
      " |      \n",
      " |      .. versionchanged:: 3.4\n",
      " |        Added the `collation` option.\n",
      " |      \n",
      " |      .. versionadded:: 3.0\n",
      " |  \n",
      " |  delete_one(self, filter, collation=None, session=None)\n",
      " |      Delete a single document matching the filter.\n",
      " |      \n",
      " |        >>> db.test.count_documents({'x': 1})\n",
      " |        3\n",
      " |        >>> result = db.test.delete_one({'x': 1})\n",
      " |        >>> result.deleted_count\n",
      " |        1\n",
      " |        >>> db.test.count_documents({'x': 1})\n",
      " |        2\n",
      " |      \n",
      " |      :Parameters:\n",
      " |        - `filter`: A query that matches the document to delete.\n",
      " |        - `collation` (optional): An instance of\n",
      " |          :class:`~pymongo.collation.Collation`. This option is only supported\n",
      " |          on MongoDB 3.4 and above.\n",
      " |        - `session` (optional): a\n",
      " |          :class:`~pymongo.client_session.ClientSession`.\n",
      " |      \n",
      " |      :Returns:\n",
      " |        - An instance of :class:`~pymongo.results.DeleteResult`.\n",
      " |      \n",
      " |      .. versionchanged:: 3.6\n",
      " |         Added ``session`` parameter.\n",
      " |      \n",
      " |      .. versionchanged:: 3.4\n",
      " |        Added the `collation` option.\n",
      " |      \n",
      " |      .. versionadded:: 3.0\n",
      " |  \n",
      " |  distinct(self, key, filter=None, session=None, **kwargs)\n",
      " |      Get a list of distinct values for `key` among all documents\n",
      " |      in this collection.\n",
      " |      \n",
      " |      Raises :class:`TypeError` if `key` is not an instance of\n",
      " |      :class:`basestring` (:class:`str` in python 3).\n",
      " |      \n",
      " |      All optional distinct parameters should be passed as keyword arguments\n",
      " |      to this method. Valid options include:\n",
      " |      \n",
      " |        - `maxTimeMS` (int): The maximum amount of time to allow the count\n",
      " |          command to run, in milliseconds.\n",
      " |        - `collation` (optional): An instance of\n",
      " |          :class:`~pymongo.collation.Collation`. This option is only supported\n",
      " |          on MongoDB 3.4 and above.\n",
      " |      \n",
      " |      The :meth:`distinct` method obeys the :attr:`read_preference` of\n",
      " |      this :class:`Collection`.\n",
      " |      \n",
      " |      :Parameters:\n",
      " |        - `key`: name of the field for which we want to get the distinct\n",
      " |          values\n",
      " |        - `filter` (optional): A query document that specifies the documents\n",
      " |          from which to retrieve the distinct values.\n",
      " |        - `session` (optional): a\n",
      " |          :class:`~pymongo.client_session.ClientSession`.\n",
      " |        - `**kwargs` (optional): See list of options above.\n",
      " |      \n",
      " |      .. versionchanged:: 3.6\n",
      " |         Added ``session`` parameter.\n",
      " |      \n",
      " |      .. versionchanged:: 3.4\n",
      " |         Support the `collation` option.\n",
      " |  \n",
      " |  drop(self, session=None)\n",
      " |      Alias for :meth:`~pymongo.database.Database.drop_collection`.\n",
      " |      \n",
      " |      :Parameters:\n",
      " |        - `session` (optional): a\n",
      " |          :class:`~pymongo.client_session.ClientSession`.\n",
      " |      \n",
      " |      The following two calls are equivalent:\n",
      " |      \n",
      " |        >>> db.foo.drop()\n",
      " |        >>> db.drop_collection(\"foo\")\n",
      " |      \n",
      " |      .. versionchanged:: 3.7\n",
      " |         :meth:`drop` now respects this :class:`Collection`'s :attr:`write_concern`.\n",
      " |      \n",
      " |      .. versionchanged:: 3.6\n",
      " |         Added ``session`` parameter.\n",
      " |  \n",
      " |  drop_index(self, index_or_name, session=None, **kwargs)\n",
      " |      Drops the specified index on this collection.\n",
      " |      \n",
      " |      Can be used on non-existant collections or collections with no\n",
      " |      indexes.  Raises OperationFailure on an error (e.g. trying to\n",
      " |      drop an index that does not exist). `index_or_name`\n",
      " |      can be either an index name (as returned by `create_index`),\n",
      " |      or an index specifier (as passed to `create_index`). An index\n",
      " |      specifier should be a list of (key, direction) pairs. Raises\n",
      " |      TypeError if index is not an instance of (str, unicode, list).\n",
      " |      \n",
      " |      .. warning::\n",
      " |      \n",
      " |        if a custom name was used on index creation (by\n",
      " |        passing the `name` parameter to :meth:`create_index` or\n",
      " |        :meth:`ensure_index`) the index **must** be dropped by name.\n",
      " |      \n",
      " |      :Parameters:\n",
      " |        - `index_or_name`: index (or name of index) to drop\n",
      " |        - `session` (optional): a\n",
      " |          :class:`~pymongo.client_session.ClientSession`.\n",
      " |        - `**kwargs` (optional): optional arguments to the createIndexes\n",
      " |          command (like maxTimeMS) can be passed as keyword arguments.\n",
      " |      \n",
      " |      .. note:: The :attr:`~pymongo.collection.Collection.write_concern` of\n",
      " |         this collection is automatically applied to this operation when using\n",
      " |         MongoDB >= 3.4.\n",
      " |      \n",
      " |      .. versionchanged:: 3.6\n",
      " |         Added ``session`` parameter. Added support for arbitrary keyword\n",
      " |         arguments.\n",
      " |      \n",
      " |      .. versionchanged:: 3.4\n",
      " |         Apply this collection's write concern automatically to this operation\n",
      " |         when connected to MongoDB >= 3.4.\n",
      " |  \n",
      " |  drop_indexes(self, session=None, **kwargs)\n",
      " |      Drops all indexes on this collection.\n",
      " |      \n",
      " |      Can be used on non-existant collections or collections with no indexes.\n",
      " |      Raises OperationFailure on an error.\n",
      " |      \n",
      " |      :Parameters:\n",
      " |        - `session` (optional): a\n",
      " |          :class:`~pymongo.client_session.ClientSession`.\n",
      " |        - `**kwargs` (optional): optional arguments to the createIndexes\n",
      " |          command (like maxTimeMS) can be passed as keyword arguments.\n",
      " |      \n",
      " |      .. note:: The :attr:`~pymongo.collection.Collection.write_concern` of\n",
      " |         this collection is automatically applied to this operation when using\n",
      " |         MongoDB >= 3.4.\n",
      " |      \n",
      " |      .. versionchanged:: 3.6\n",
      " |         Added ``session`` parameter. Added support for arbitrary keyword\n",
      " |         arguments.\n",
      " |      \n",
      " |      .. versionchanged:: 3.4\n",
      " |         Apply this collection's write concern automatically to this operation\n",
      " |         when connected to MongoDB >= 3.4.\n",
      " |  \n",
      " |  ensure_index(self, key_or_list, cache_for=300, **kwargs)\n",
      " |      **DEPRECATED** - Ensures that an index exists on this collection.\n",
      " |      \n",
      " |      .. versionchanged:: 3.0\n",
      " |          **DEPRECATED**\n",
      " |  \n",
      " |  estimated_document_count(self, **kwargs)\n",
      " |      Get an estimate of the number of documents in this collection using\n",
      " |      collection metadata.\n",
      " |      \n",
      " |      The :meth:`estimated_document_count` method is **not** supported in a\n",
      " |      transaction.\n",
      " |      \n",
      " |      All optional parameters should be passed as keyword arguments\n",
      " |      to this method. Valid options include:\n",
      " |      \n",
      " |        - `maxTimeMS` (int): The maximum amount of time to allow this\n",
      " |          operation to run, in milliseconds.\n",
      " |      \n",
      " |      :Parameters:\n",
      " |        - `**kwargs` (optional): See list of options above.\n",
      " |      \n",
      " |      .. versionadded:: 3.7\n",
      " |  \n",
      " |  find(self, *args, **kwargs)\n",
      " |      Query the database.\n",
      " |      \n",
      " |      The `filter` argument is a prototype document that all results\n",
      " |      must match. For example:\n",
      " |      \n",
      " |      >>> db.test.find({\"hello\": \"world\"})\n",
      " |      \n",
      " |      only matches documents that have a key \"hello\" with value\n",
      " |      \"world\".  Matches can have other keys *in addition* to\n",
      " |      \"hello\". The `projection` argument is used to specify a subset\n",
      " |      of fields that should be included in the result documents. By\n",
      " |      limiting results to a certain subset of fields you can cut\n",
      " |      down on network traffic and decoding time.\n",
      " |      \n",
      " |      Raises :class:`TypeError` if any of the arguments are of\n",
      " |      improper type. Returns an instance of\n",
      " |      :class:`~pymongo.cursor.Cursor` corresponding to this query.\n",
      " |      \n",
      " |      The :meth:`find` method obeys the :attr:`read_preference` of\n",
      " |      this :class:`Collection`.\n",
      " |      \n",
      " |      :Parameters:\n",
      " |        - `filter` (optional): a SON object specifying elements which\n",
      " |          must be present for a document to be included in the\n",
      " |          result set\n",
      " |        - `projection` (optional): a list of field names that should be\n",
      " |          returned in the result set or a dict specifying the fields\n",
      " |          to include or exclude. If `projection` is a list \"_id\" will\n",
      " |          always be returned. Use a dict to exclude fields from\n",
      " |          the result (e.g. projection={'_id': False}).\n",
      " |        - `session` (optional): a\n",
      " |          :class:`~pymongo.client_session.ClientSession`.\n",
      " |        - `skip` (optional): the number of documents to omit (from\n",
      " |          the start of the result set) when returning the results\n",
      " |        - `limit` (optional): the maximum number of results to\n",
      " |          return. A limit of 0 (the default) is equivalent to setting no\n",
      " |          limit.\n",
      " |        - `no_cursor_timeout` (optional): if False (the default), any\n",
      " |          returned cursor is closed by the server after 10 minutes of\n",
      " |          inactivity. If set to True, the returned cursor will never\n",
      " |          time out on the server. Care should be taken to ensure that\n",
      " |          cursors with no_cursor_timeout turned on are properly closed.\n",
      " |        - `cursor_type` (optional): the type of cursor to return. The valid\n",
      " |          options are defined by :class:`~pymongo.cursor.CursorType`:\n",
      " |      \n",
      " |          - :attr:`~pymongo.cursor.CursorType.NON_TAILABLE` - the result of\n",
      " |            this find call will return a standard cursor over the result set.\n",
      " |          - :attr:`~pymongo.cursor.CursorType.TAILABLE` - the result of this\n",
      " |            find call will be a tailable cursor - tailable cursors are only\n",
      " |            for use with capped collections. They are not closed when the\n",
      " |            last data is retrieved but are kept open and the cursor location\n",
      " |            marks the final document position. If more data is received\n",
      " |            iteration of the cursor will continue from the last document\n",
      " |            received. For details, see the `tailable cursor documentation\n",
      " |            <http://www.mongodb.org/display/DOCS/Tailable+Cursors>`_.\n",
      " |          - :attr:`~pymongo.cursor.CursorType.TAILABLE_AWAIT` - the result\n",
      " |            of this find call will be a tailable cursor with the await flag\n",
      " |            set. The server will wait for a few seconds after returning the\n",
      " |            full result set so that it can capture and return additional data\n",
      " |            added during the query.\n",
      " |          - :attr:`~pymongo.cursor.CursorType.EXHAUST` - the result of this\n",
      " |            find call will be an exhaust cursor. MongoDB will stream batched\n",
      " |            results to the client without waiting for the client to request\n",
      " |            each batch, reducing latency. See notes on compatibility below.\n",
      " |      \n",
      " |        - `sort` (optional): a list of (key, direction) pairs\n",
      " |          specifying the sort order for this query. See\n",
      " |          :meth:`~pymongo.cursor.Cursor.sort` for details.\n",
      " |        - `allow_partial_results` (optional): if True, mongos will return\n",
      " |          partial results if some shards are down instead of returning an\n",
      " |          error.\n",
      " |        - `oplog_replay` (optional): If True, set the oplogReplay query\n",
      " |          flag.\n",
      " |        - `batch_size` (optional): Limits the number of documents returned in\n",
      " |          a single batch.\n",
      " |        - `manipulate` (optional): **DEPRECATED** - If True (the default),\n",
      " |          apply any outgoing SON manipulators before returning.\n",
      " |        - `collation` (optional): An instance of\n",
      " |          :class:`~pymongo.collation.Collation`. This option is only supported\n",
      " |          on MongoDB 3.4 and above.\n",
      " |        - `return_key` (optional): If True, return only the index keys in\n",
      " |          each document.\n",
      " |        - `show_record_id` (optional): If True, adds a field ``$recordId`` in\n",
      " |          each document with the storage engine's internal record identifier.\n",
      " |        - `snapshot` (optional): **DEPRECATED** - If True, prevents the\n",
      " |          cursor from returning a document more than once because of an\n",
      " |          intervening write operation.\n",
      " |        - `hint` (optional): An index, in the same format as passed to\n",
      " |          :meth:`~pymongo.collection.Collection.create_index` (e.g.\n",
      " |          ``[('field', ASCENDING)]``). Pass this as an alternative to calling\n",
      " |          :meth:`~pymongo.cursor.Cursor.hint` on the cursor to tell Mongo the\n",
      " |          proper index to use for the query.\n",
      " |        - `max_time_ms` (optional): Specifies a time limit for a query\n",
      " |          operation. If the specified time is exceeded, the operation will be\n",
      " |          aborted and :exc:`~pymongo.errors.ExecutionTimeout` is raised. Pass\n",
      " |          this as an alternative to calling\n",
      " |          :meth:`~pymongo.cursor.Cursor.max_time_ms` on the cursor.\n",
      " |        - `max_scan` (optional): **DEPRECATED** - The maximum number of\n",
      " |          documents to scan. Pass this as an alternative to calling\n",
      " |          :meth:`~pymongo.cursor.Cursor.max_scan` on the cursor.\n",
      " |        - `min` (optional): A list of field, limit pairs specifying the\n",
      " |          inclusive lower bound for all keys of a specific index in order.\n",
      " |          Pass this as an alternative to calling\n",
      " |          :meth:`~pymongo.cursor.Cursor.min` on the cursor. ``hint`` must\n",
      " |          also be passed to ensure the query utilizes the correct index.\n",
      " |        - `max` (optional): A list of field, limit pairs specifying the\n",
      " |          exclusive upper bound for all keys of a specific index in order.\n",
      " |          Pass this as an alternative to calling\n",
      " |          :meth:`~pymongo.cursor.Cursor.max` on the cursor. ``hint`` must\n",
      " |          also be passed to ensure the query utilizes the correct index.\n",
      " |        - `comment` (optional): A string to attach to the query to help\n",
      " |          interpret and trace the operation in the server logs and in profile\n",
      " |          data. Pass this as an alternative to calling\n",
      " |          :meth:`~pymongo.cursor.Cursor.comment` on the cursor.\n",
      " |        - `modifiers` (optional): **DEPRECATED** - A dict specifying\n",
      " |          additional MongoDB query modifiers. Use the keyword arguments listed\n",
      " |          above instead.\n",
      " |      \n",
      " |      .. note:: There are a number of caveats to using\n",
      " |        :attr:`~pymongo.cursor.CursorType.EXHAUST` as cursor_type:\n",
      " |      \n",
      " |        - The `limit` option can not be used with an exhaust cursor.\n",
      " |      \n",
      " |        - Exhaust cursors are not supported by mongos and can not be\n",
      " |          used with a sharded cluster.\n",
      " |      \n",
      " |        - A :class:`~pymongo.cursor.Cursor` instance created with the\n",
      " |          :attr:`~pymongo.cursor.CursorType.EXHAUST` cursor_type requires an\n",
      " |          exclusive :class:`~socket.socket` connection to MongoDB. If the\n",
      " |          :class:`~pymongo.cursor.Cursor` is discarded without being\n",
      " |          completely iterated the underlying :class:`~socket.socket`\n",
      " |          connection will be closed and discarded without being returned to\n",
      " |          the connection pool.\n",
      " |      \n",
      " |      .. versionchanged:: 3.7\n",
      " |         Deprecated the `snapshot` option, which is deprecated in MongoDB\n",
      " |         3.6 and removed in MongoDB 4.0.\n",
      " |         Deprecated the `max_scan` option. Support for this option is\n",
      " |         deprecated in MongoDB 4.0. Use `max_time_ms` instead to limit server\n",
      " |         side execution time.\n",
      " |      \n",
      " |      \n",
      " |      .. versionchanged:: 3.6\n",
      " |         Added ``session`` parameter.\n",
      " |      \n",
      " |      .. versionchanged:: 3.5\n",
      " |         Added the options `return_key`, `show_record_id`, `snapshot`,\n",
      " |         `hint`, `max_time_ms`, `max_scan`, `min`, `max`, and `comment`.\n",
      " |         Deprecated the option `modifiers`.\n",
      " |      \n",
      " |      .. versionchanged:: 3.4\n",
      " |         Support the `collation` option.\n",
      " |      \n",
      " |      .. versionchanged:: 3.0\n",
      " |         Changed the parameter names `spec`, `fields`, `timeout`, and\n",
      " |         `partial` to `filter`, `projection`, `no_cursor_timeout`, and\n",
      " |         `allow_partial_results` respectively.\n",
      " |         Added the `cursor_type`, `oplog_replay`, and `modifiers` options.\n",
      " |         Removed the `network_timeout`, `read_preference`, `tag_sets`,\n",
      " |         `secondary_acceptable_latency_ms`, `max_scan`, `snapshot`,\n",
      " |         `tailable`, `await_data`, `exhaust`, `as_class`, and slave_okay\n",
      " |         parameters. Removed `compile_re` option: PyMongo now always\n",
      " |         represents BSON regular expressions as :class:`~bson.regex.Regex`\n",
      " |         objects. Use :meth:`~bson.regex.Regex.try_compile` to attempt to\n",
      " |         convert from a BSON regular expression to a Python regular\n",
      " |         expression object. Soft deprecated the `manipulate` option.\n",
      " |      \n",
      " |      .. versionchanged:: 2.7\n",
      " |         Added `compile_re` option. If set to False, PyMongo represented BSON\n",
      " |         regular expressions as :class:`~bson.regex.Regex` objects instead of\n",
      " |         attempting to compile BSON regular expressions as Python native\n",
      " |         regular expressions, thus preventing errors for some incompatible\n",
      " |         patterns, see `PYTHON-500`_.\n",
      " |      \n",
      " |      .. versionadded:: 2.3\n",
      " |         The `tag_sets` and `secondary_acceptable_latency_ms` parameters.\n",
      " |      \n",
      " |      .. _PYTHON-500: https://jira.mongodb.org/browse/PYTHON-500\n",
      " |      \n",
      " |      .. mongodoc:: find\n",
      " |  \n",
      " |  find_and_modify(self, query={}, update=None, upsert=False, sort=None, full_response=False, manipulate=False, **kwargs)\n",
      " |      Update and return an object.\n",
      " |      \n",
      " |      **DEPRECATED** - Use :meth:`find_one_and_delete`,\n",
      " |      :meth:`find_one_and_replace`, or :meth:`find_one_and_update` instead.\n",
      " |  \n",
      " |  find_one(self, filter=None, *args, **kwargs)\n",
      " |      Get a single document from the database.\n",
      " |      \n",
      " |      All arguments to :meth:`find` are also valid arguments for\n",
      " |      :meth:`find_one`, although any `limit` argument will be\n",
      " |      ignored. Returns a single document, or ``None`` if no matching\n",
      " |      document is found.\n",
      " |      \n",
      " |      The :meth:`find_one` method obeys the :attr:`read_preference` of\n",
      " |      this :class:`Collection`.\n",
      " |      \n",
      " |      :Parameters:\n",
      " |      \n",
      " |        - `filter` (optional): a dictionary specifying\n",
      " |          the query to be performed OR any other type to be used as\n",
      " |          the value for a query for ``\"_id\"``.\n",
      " |      \n",
      " |        - `*args` (optional): any additional positional arguments\n",
      " |          are the same as the arguments to :meth:`find`.\n",
      " |      \n",
      " |        - `**kwargs` (optional): any additional keyword arguments\n",
      " |          are the same as the arguments to :meth:`find`.\n",
      " |      \n",
      " |            >>> collection.find_one(max_time_ms=100)\n",
      " |  \n",
      " |  find_one_and_delete(self, filter, projection=None, sort=None, session=None, **kwargs)\n",
      " |      Finds a single document and deletes it, returning the document.\n",
      " |      \n",
      " |        >>> db.test.count_documents({'x': 1})\n",
      " |        2\n",
      " |        >>> db.test.find_one_and_delete({'x': 1})\n",
      " |        {u'x': 1, u'_id': ObjectId('54f4e12bfba5220aa4d6dee8')}\n",
      " |        >>> db.test.count_documents({'x': 1})\n",
      " |        1\n",
      " |      \n",
      " |      If multiple documents match *filter*, a *sort* can be applied.\n",
      " |      \n",
      " |        >>> for doc in db.test.find({'x': 1}):\n",
      " |        ...     print(doc)\n",
      " |        ...\n",
      " |        {u'x': 1, u'_id': 0}\n",
      " |        {u'x': 1, u'_id': 1}\n",
      " |        {u'x': 1, u'_id': 2}\n",
      " |        >>> db.test.find_one_and_delete(\n",
      " |        ...     {'x': 1}, sort=[('_id', pymongo.DESCENDING)])\n",
      " |        {u'x': 1, u'_id': 2}\n",
      " |      \n",
      " |      The *projection* option can be used to limit the fields returned.\n",
      " |      \n",
      " |        >>> db.test.find_one_and_delete({'x': 1}, projection={'_id': False})\n",
      " |        {u'x': 1}\n",
      " |      \n",
      " |      :Parameters:\n",
      " |        - `filter`: A query that matches the document to delete.\n",
      " |        - `projection` (optional): a list of field names that should be\n",
      " |          returned in the result document or a mapping specifying the fields\n",
      " |          to include or exclude. If `projection` is a list \"_id\" will\n",
      " |          always be returned. Use a mapping to exclude fields from\n",
      " |          the result (e.g. projection={'_id': False}).\n",
      " |        - `sort` (optional): a list of (key, direction) pairs\n",
      " |          specifying the sort order for the query. If multiple documents\n",
      " |          match the query, they are sorted and the first is deleted.\n",
      " |        - `session` (optional): a\n",
      " |          :class:`~pymongo.client_session.ClientSession`.\n",
      " |        - `**kwargs` (optional): additional command arguments can be passed\n",
      " |          as keyword arguments (for example maxTimeMS can be used with\n",
      " |          recent server versions).\n",
      " |      \n",
      " |      .. versionchanged:: 3.6\n",
      " |         Added ``session`` parameter.\n",
      " |      \n",
      " |      .. versionchanged:: 3.2\n",
      " |         Respects write concern.\n",
      " |      \n",
      " |      .. warning:: Starting in PyMongo 3.2, this command uses the\n",
      " |         :class:`~pymongo.write_concern.WriteConcern` of this\n",
      " |         :class:`~pymongo.collection.Collection` when connected to MongoDB >=\n",
      " |         3.2. Note that using an elevated write concern with this command may\n",
      " |         be slower compared to using the default write concern.\n",
      " |      \n",
      " |      .. versionchanged:: 3.4\n",
      " |         Added the `collation` option.\n",
      " |      .. versionadded:: 3.0\n",
      " |  \n",
      " |  find_one_and_replace(self, filter, replacement, projection=None, sort=None, upsert=False, return_document=False, session=None, **kwargs)\n",
      " |      Finds a single document and replaces it, returning either the\n",
      " |      original or the replaced document.\n",
      " |      \n",
      " |      The :meth:`find_one_and_replace` method differs from\n",
      " |      :meth:`find_one_and_update` by replacing the document matched by\n",
      " |      *filter*, rather than modifying the existing document.\n",
      " |      \n",
      " |        >>> for doc in db.test.find({}):\n",
      " |        ...     print(doc)\n",
      " |        ...\n",
      " |        {u'x': 1, u'_id': 0}\n",
      " |        {u'x': 1, u'_id': 1}\n",
      " |        {u'x': 1, u'_id': 2}\n",
      " |        >>> db.test.find_one_and_replace({'x': 1}, {'y': 1})\n",
      " |        {u'x': 1, u'_id': 0}\n",
      " |        >>> for doc in db.test.find({}):\n",
      " |        ...     print(doc)\n",
      " |        ...\n",
      " |        {u'y': 1, u'_id': 0}\n",
      " |        {u'x': 1, u'_id': 1}\n",
      " |        {u'x': 1, u'_id': 2}\n",
      " |      \n",
      " |      :Parameters:\n",
      " |        - `filter`: A query that matches the document to replace.\n",
      " |        - `replacement`: The replacement document.\n",
      " |        - `projection` (optional): A list of field names that should be\n",
      " |          returned in the result document or a mapping specifying the fields\n",
      " |          to include or exclude. If `projection` is a list \"_id\" will\n",
      " |          always be returned. Use a mapping to exclude fields from\n",
      " |          the result (e.g. projection={'_id': False}).\n",
      " |        - `sort` (optional): a list of (key, direction) pairs\n",
      " |          specifying the sort order for the query. If multiple documents\n",
      " |          match the query, they are sorted and the first is replaced.\n",
      " |        - `upsert` (optional): When ``True``, inserts a new document if no\n",
      " |          document matches the query. Defaults to ``False``.\n",
      " |        - `return_document`: If\n",
      " |          :attr:`ReturnDocument.BEFORE` (the default),\n",
      " |          returns the original document before it was replaced, or ``None``\n",
      " |          if no document matches. If\n",
      " |          :attr:`ReturnDocument.AFTER`, returns the replaced\n",
      " |          or inserted document.\n",
      " |        - `session` (optional): a\n",
      " |          :class:`~pymongo.client_session.ClientSession`.\n",
      " |        - `**kwargs` (optional): additional command arguments can be passed\n",
      " |          as keyword arguments (for example maxTimeMS can be used with\n",
      " |          recent server versions).\n",
      " |      \n",
      " |      .. versionchanged:: 3.6\n",
      " |         Added ``session`` parameter.\n",
      " |      .. versionchanged:: 3.4\n",
      " |         Added the `collation` option.\n",
      " |      .. versionchanged:: 3.2\n",
      " |         Respects write concern.\n",
      " |      \n",
      " |      .. warning:: Starting in PyMongo 3.2, this command uses the\n",
      " |         :class:`~pymongo.write_concern.WriteConcern` of this\n",
      " |         :class:`~pymongo.collection.Collection` when connected to MongoDB >=\n",
      " |         3.2. Note that using an elevated write concern with this command may\n",
      " |         be slower compared to using the default write concern.\n",
      " |      \n",
      " |      .. versionadded:: 3.0\n",
      " |  \n",
      " |  find_one_and_update(self, filter, update, projection=None, sort=None, upsert=False, return_document=False, array_filters=None, session=None, **kwargs)\n",
      " |      Finds a single document and updates it, returning either the\n",
      " |      original or the updated document.\n",
      " |      \n",
      " |        >>> db.test.find_one_and_update(\n",
      " |        ...    {'_id': 665}, {'$inc': {'count': 1}, '$set': {'done': True}})\n",
      " |        {u'_id': 665, u'done': False, u'count': 25}}\n",
      " |      \n",
      " |      Returns ``None`` if no document matches the filter.\n",
      " |      \n",
      " |        >>> db.test.find_one_and_update(\n",
      " |        ...    {'_exists': False}, {'$inc': {'count': 1}})\n",
      " |      \n",
      " |      When the filter matches, by default :meth:`find_one_and_update`\n",
      " |      returns the original version of the document before the update was\n",
      " |      applied. To return the updated (or inserted in the case of\n",
      " |      *upsert*) version of the document instead, use the *return_document*\n",
      " |      option.\n",
      " |      \n",
      " |        >>> from pymongo import ReturnDocument\n",
      " |        >>> db.example.find_one_and_update(\n",
      " |        ...     {'_id': 'userid'},\n",
      " |        ...     {'$inc': {'seq': 1}},\n",
      " |        ...     return_document=ReturnDocument.AFTER)\n",
      " |        {u'_id': u'userid', u'seq': 1}\n",
      " |      \n",
      " |      You can limit the fields returned with the *projection* option.\n",
      " |      \n",
      " |        >>> db.example.find_one_and_update(\n",
      " |        ...     {'_id': 'userid'},\n",
      " |        ...     {'$inc': {'seq': 1}},\n",
      " |        ...     projection={'seq': True, '_id': False},\n",
      " |        ...     return_document=ReturnDocument.AFTER)\n",
      " |        {u'seq': 2}\n",
      " |      \n",
      " |      The *upsert* option can be used to create the document if it doesn't\n",
      " |      already exist.\n",
      " |      \n",
      " |        >>> db.example.delete_many({}).deleted_count\n",
      " |        1\n",
      " |        >>> db.example.find_one_and_update(\n",
      " |        ...     {'_id': 'userid'},\n",
      " |        ...     {'$inc': {'seq': 1}},\n",
      " |        ...     projection={'seq': True, '_id': False},\n",
      " |        ...     upsert=True,\n",
      " |        ...     return_document=ReturnDocument.AFTER)\n",
      " |        {u'seq': 1}\n",
      " |      \n",
      " |      If multiple documents match *filter*, a *sort* can be applied.\n",
      " |      \n",
      " |        >>> for doc in db.test.find({'done': True}):\n",
      " |        ...     print(doc)\n",
      " |        ...\n",
      " |        {u'_id': 665, u'done': True, u'result': {u'count': 26}}\n",
      " |        {u'_id': 701, u'done': True, u'result': {u'count': 17}}\n",
      " |        >>> db.test.find_one_and_update(\n",
      " |        ...     {'done': True},\n",
      " |        ...     {'$set': {'final': True}},\n",
      " |        ...     sort=[('_id', pymongo.DESCENDING)])\n",
      " |        {u'_id': 701, u'done': True, u'result': {u'count': 17}}\n",
      " |      \n",
      " |      :Parameters:\n",
      " |        - `filter`: A query that matches the document to update.\n",
      " |        - `update`: The update operations to apply.\n",
      " |        - `projection` (optional): A list of field names that should be\n",
      " |          returned in the result document or a mapping specifying the fields\n",
      " |          to include or exclude. If `projection` is a list \"_id\" will\n",
      " |          always be returned. Use a dict to exclude fields from\n",
      " |          the result (e.g. projection={'_id': False}).\n",
      " |        - `sort` (optional): a list of (key, direction) pairs\n",
      " |          specifying the sort order for the query. If multiple documents\n",
      " |          match the query, they are sorted and the first is updated.\n",
      " |        - `upsert` (optional): When ``True``, inserts a new document if no\n",
      " |          document matches the query. Defaults to ``False``.\n",
      " |        - `return_document`: If\n",
      " |          :attr:`ReturnDocument.BEFORE` (the default),\n",
      " |          returns the original document before it was updated. If\n",
      " |          :attr:`ReturnDocument.AFTER`, returns the updated\n",
      " |          or inserted document.\n",
      " |        - `array_filters` (optional): A list of filters specifying which\n",
      " |          array elements an update should apply. Requires MongoDB 3.6+.\n",
      " |        - `session` (optional): a\n",
      " |          :class:`~pymongo.client_session.ClientSession`.\n",
      " |        - `**kwargs` (optional): additional command arguments can be passed\n",
      " |          as keyword arguments (for example maxTimeMS can be used with\n",
      " |          recent server versions).\n",
      " |      \n",
      " |      .. versionchanged:: 3.9\n",
      " |         Added the ability to accept a pipeline as the `update`.\n",
      " |      .. versionchanged:: 3.6\n",
      " |         Added the `array_filters` and `session` options.\n",
      " |      .. versionchanged:: 3.4\n",
      " |         Added the `collation` option.\n",
      " |      .. versionchanged:: 3.2\n",
      " |         Respects write concern.\n",
      " |      \n",
      " |      .. warning:: Starting in PyMongo 3.2, this command uses the\n",
      " |         :class:`~pymongo.write_concern.WriteConcern` of this\n",
      " |         :class:`~pymongo.collection.Collection` when connected to MongoDB >=\n",
      " |         3.2. Note that using an elevated write concern with this command may\n",
      " |         be slower compared to using the default write concern.\n",
      " |      \n",
      " |      .. versionadded:: 3.0\n",
      " |  \n",
      " |  find_raw_batches(self, *args, **kwargs)\n",
      " |      Query the database and retrieve batches of raw BSON.\n",
      " |      \n",
      " |      Similar to the :meth:`find` method but returns a\n",
      " |      :class:`~pymongo.cursor.RawBatchCursor`.\n",
      " |      \n",
      " |      This example demonstrates how to work with raw batches, but in practice\n",
      " |      raw batches should be passed to an external library that can decode\n",
      " |      BSON into another data type, rather than used with PyMongo's\n",
      " |      :mod:`bson` module.\n",
      " |      \n",
      " |        >>> import bson\n",
      " |        >>> cursor = db.test.find_raw_batches()\n",
      " |        >>> for batch in cursor:\n",
      " |        ...     print(bson.decode_all(batch))\n",
      " |      \n",
      " |      .. note:: find_raw_batches does not support sessions or auto\n",
      " |         encryption.\n",
      " |      \n",
      " |      .. versionadded:: 3.6\n",
      " |  \n",
      " |  group(self, key, condition, initial, reduce, finalize=None, **kwargs)\n",
      " |      Perform a query similar to an SQL *group by* operation.\n",
      " |      \n",
      " |      **DEPRECATED** - The group command was deprecated in MongoDB 3.4. The\n",
      " |      :meth:`~group` method is deprecated and will be removed in PyMongo 4.0.\n",
      " |      Use :meth:`~aggregate` with the `$group` stage or :meth:`~map_reduce`\n",
      " |      instead.\n",
      " |      \n",
      " |      .. versionchanged:: 3.5\n",
      " |         Deprecated the group method.\n",
      " |      .. versionchanged:: 3.4\n",
      " |         Added the `collation` option.\n",
      " |      .. versionchanged:: 2.2\n",
      " |         Removed deprecated argument: command\n",
      " |  \n",
      " |  index_information(self, session=None)\n",
      " |      Get information on this collection's indexes.\n",
      " |      \n",
      " |      Returns a dictionary where the keys are index names (as\n",
      " |      returned by create_index()) and the values are dictionaries\n",
      " |      containing information about each index. The dictionary is\n",
      " |      guaranteed to contain at least a single key, ``\"key\"`` which\n",
      " |      is a list of (key, direction) pairs specifying the index (as\n",
      " |      passed to create_index()). It will also contain any other\n",
      " |      metadata about the indexes, except for the ``\"ns\"`` and\n",
      " |      ``\"name\"`` keys, which are cleaned. Example output might look\n",
      " |      like this:\n",
      " |      \n",
      " |      >>> db.test.create_index(\"x\", unique=True)\n",
      " |      u'x_1'\n",
      " |      >>> db.test.index_information()\n",
      " |      {u'_id_': {u'key': [(u'_id', 1)]},\n",
      " |       u'x_1': {u'unique': True, u'key': [(u'x', 1)]}}\n",
      " |      \n",
      " |      :Parameters:\n",
      " |        - `session` (optional): a\n",
      " |          :class:`~pymongo.client_session.ClientSession`.\n",
      " |      \n",
      " |      .. versionchanged:: 3.6\n",
      " |         Added ``session`` parameter.\n",
      " |  \n",
      " |  initialize_ordered_bulk_op(self, bypass_document_validation=False)\n",
      " |      **DEPRECATED** - Initialize an ordered batch of write operations.\n",
      " |      \n",
      " |      Operations will be performed on the server serially, in the\n",
      " |      order provided. If an error occurs all remaining operations\n",
      " |      are aborted.\n",
      " |      \n",
      " |      :Parameters:\n",
      " |        - `bypass_document_validation`: (optional) If ``True``, allows the\n",
      " |          write to opt-out of document level validation. Default is\n",
      " |          ``False``.\n",
      " |      \n",
      " |      Returns a :class:`~pymongo.bulk.BulkOperationBuilder` instance.\n",
      " |      \n",
      " |      See :ref:`ordered_bulk` for examples.\n",
      " |      \n",
      " |      .. note:: `bypass_document_validation` requires server version\n",
      " |        **>= 3.2**\n",
      " |      \n",
      " |      .. versionchanged:: 3.5\n",
      " |         Deprecated. Use :meth:`~pymongo.collection.Collection.bulk_write`\n",
      " |         instead.\n",
      " |      \n",
      " |      .. versionchanged:: 3.2\n",
      " |         Added bypass_document_validation support\n",
      " |      \n",
      " |      .. versionadded:: 2.7\n",
      " |  \n",
      " |  initialize_unordered_bulk_op(self, bypass_document_validation=False)\n",
      " |      **DEPRECATED** - Initialize an unordered batch of write operations.\n",
      " |      \n",
      " |      Operations will be performed on the server in arbitrary order,\n",
      " |      possibly in parallel. All operations will be attempted.\n",
      " |      \n",
      " |      :Parameters:\n",
      " |        - `bypass_document_validation`: (optional) If ``True``, allows the\n",
      " |          write to opt-out of document level validation. Default is\n",
      " |          ``False``.\n",
      " |      \n",
      " |      Returns a :class:`~pymongo.bulk.BulkOperationBuilder` instance.\n",
      " |      \n",
      " |      See :ref:`unordered_bulk` for examples.\n",
      " |      \n",
      " |      .. note:: `bypass_document_validation` requires server version\n",
      " |        **>= 3.2**\n",
      " |      \n",
      " |      .. versionchanged:: 3.5\n",
      " |         Deprecated. Use :meth:`~pymongo.collection.Collection.bulk_write`\n",
      " |         instead.\n",
      " |      \n",
      " |      .. versionchanged:: 3.2\n",
      " |         Added bypass_document_validation support\n",
      " |      \n",
      " |      .. versionadded:: 2.7\n",
      " |  \n",
      " |  inline_map_reduce(self, map, reduce, full_response=False, session=None, **kwargs)\n",
      " |      Perform an inline map/reduce operation on this collection.\n",
      " |      \n",
      " |      Perform the map/reduce operation on the server in RAM. A result\n",
      " |      collection is not created. The result set is returned as a list\n",
      " |      of documents.\n",
      " |      \n",
      " |      If `full_response` is ``False`` (default) returns the\n",
      " |      result documents in a list. Otherwise, returns the full\n",
      " |      response from the server to the `map reduce command`_.\n",
      " |      \n",
      " |      The :meth:`inline_map_reduce` method obeys the :attr:`read_preference`\n",
      " |      of this :class:`Collection`.\n",
      " |      \n",
      " |      :Parameters:\n",
      " |        - `map`: map function (as a JavaScript string)\n",
      " |        - `reduce`: reduce function (as a JavaScript string)\n",
      " |        - `full_response` (optional): if ``True``, return full response to\n",
      " |          this command - otherwise just return the result collection\n",
      " |        - `session` (optional): a\n",
      " |          :class:`~pymongo.client_session.ClientSession`.\n",
      " |        - `**kwargs` (optional): additional arguments to the\n",
      " |          `map reduce command`_ may be passed as keyword arguments to this\n",
      " |          helper method, e.g.::\n",
      " |      \n",
      " |          >>> db.test.inline_map_reduce(map, reduce, limit=2)\n",
      " |      \n",
      " |      .. versionchanged:: 3.6\n",
      " |         Added ``session`` parameter.\n",
      " |      \n",
      " |      .. versionchanged:: 3.4\n",
      " |         Added the `collation` option.\n",
      " |  \n",
      " |  insert(self, doc_or_docs, manipulate=True, check_keys=True, continue_on_error=False, **kwargs)\n",
      " |      Insert a document(s) into this collection.\n",
      " |      \n",
      " |      **DEPRECATED** - Use :meth:`insert_one` or :meth:`insert_many` instead.\n",
      " |      \n",
      " |      .. versionchanged:: 3.0\n",
      " |         Removed the `safe` parameter. Pass ``w=0`` for unacknowledged write\n",
      " |         operations.\n",
      " |  \n",
      " |  insert_many(self, documents, ordered=True, bypass_document_validation=False, session=None)\n",
      " |      Insert an iterable of documents.\n",
      " |      \n",
      " |        >>> db.test.count_documents({})\n",
      " |        0\n",
      " |        >>> result = db.test.insert_many([{'x': i} for i in range(2)])\n",
      " |        >>> result.inserted_ids\n",
      " |        [ObjectId('54f113fffba522406c9cc20e'), ObjectId('54f113fffba522406c9cc20f')]\n",
      " |        >>> db.test.count_documents({})\n",
      " |        2\n",
      " |      \n",
      " |      :Parameters:\n",
      " |        - `documents`: A iterable of documents to insert.\n",
      " |        - `ordered` (optional): If ``True`` (the default) documents will be\n",
      " |          inserted on the server serially, in the order provided. If an error\n",
      " |          occurs all remaining inserts are aborted. If ``False``, documents\n",
      " |          will be inserted on the server in arbitrary order, possibly in\n",
      " |          parallel, and all document inserts will be attempted.\n",
      " |        - `bypass_document_validation`: (optional) If ``True``, allows the\n",
      " |          write to opt-out of document level validation. Default is\n",
      " |          ``False``.\n",
      " |        - `session` (optional): a\n",
      " |          :class:`~pymongo.client_session.ClientSession`.\n",
      " |      \n",
      " |      :Returns:\n",
      " |        An instance of :class:`~pymongo.results.InsertManyResult`.\n",
      " |      \n",
      " |      .. seealso:: :ref:`writes-and-ids`\n",
      " |      \n",
      " |      .. note:: `bypass_document_validation` requires server version\n",
      " |        **>= 3.2**\n",
      " |      \n",
      " |      .. versionchanged:: 3.6\n",
      " |         Added ``session`` parameter.\n",
      " |      \n",
      " |      .. versionchanged:: 3.2\n",
      " |        Added bypass_document_validation support\n",
      " |      \n",
      " |      .. versionadded:: 3.0\n",
      " |  \n",
      " |  insert_one(self, document, bypass_document_validation=False, session=None)\n",
      " |      Insert a single document.\n",
      " |      \n",
      " |        >>> db.test.count_documents({'x': 1})\n",
      " |        0\n",
      " |        >>> result = db.test.insert_one({'x': 1})\n",
      " |        >>> result.inserted_id\n",
      " |        ObjectId('54f112defba522406c9cc208')\n",
      " |        >>> db.test.find_one({'x': 1})\n",
      " |        {u'x': 1, u'_id': ObjectId('54f112defba522406c9cc208')}\n",
      " |      \n",
      " |      :Parameters:\n",
      " |        - `document`: The document to insert. Must be a mutable mapping\n",
      " |          type. If the document does not have an _id field one will be\n",
      " |          added automatically.\n",
      " |        - `bypass_document_validation`: (optional) If ``True``, allows the\n",
      " |          write to opt-out of document level validation. Default is\n",
      " |          ``False``.\n",
      " |        - `session` (optional): a\n",
      " |          :class:`~pymongo.client_session.ClientSession`.\n",
      " |      \n",
      " |      :Returns:\n",
      " |        - An instance of :class:`~pymongo.results.InsertOneResult`.\n",
      " |      \n",
      " |      .. seealso:: :ref:`writes-and-ids`\n",
      " |      \n",
      " |      .. note:: `bypass_document_validation` requires server version\n",
      " |        **>= 3.2**\n",
      " |      \n",
      " |      .. versionchanged:: 3.6\n",
      " |         Added ``session`` parameter.\n",
      " |      \n",
      " |      .. versionchanged:: 3.2\n",
      " |        Added bypass_document_validation support\n",
      " |      \n",
      " |      .. versionadded:: 3.0\n",
      " |  \n",
      " |  list_indexes(self, session=None)\n",
      " |      Get a cursor over the index documents for this collection.\n",
      " |      \n",
      " |        >>> for index in db.test.list_indexes():\n",
      " |        ...     print(index)\n",
      " |        ...\n",
      " |        SON([(u'v', 1), (u'key', SON([(u'_id', 1)])),\n",
      " |             (u'name', u'_id_'), (u'ns', u'test.test')])\n",
      " |      \n",
      " |      :Parameters:\n",
      " |        - `session` (optional): a\n",
      " |          :class:`~pymongo.client_session.ClientSession`.\n",
      " |      \n",
      " |      :Returns:\n",
      " |        An instance of :class:`~pymongo.command_cursor.CommandCursor`.\n",
      " |      \n",
      " |      .. versionchanged:: 3.6\n",
      " |         Added ``session`` parameter.\n",
      " |      \n",
      " |      .. versionadded:: 3.0\n",
      " |  \n",
      " |  map_reduce(self, map, reduce, out, full_response=False, session=None, **kwargs)\n",
      " |      Perform a map/reduce operation on this collection.\n",
      " |      \n",
      " |      If `full_response` is ``False`` (default) returns a\n",
      " |      :class:`~pymongo.collection.Collection` instance containing\n",
      " |      the results of the operation. Otherwise, returns the full\n",
      " |      response from the server to the `map reduce command`_.\n",
      " |      \n",
      " |      :Parameters:\n",
      " |        - `map`: map function (as a JavaScript string)\n",
      " |        - `reduce`: reduce function (as a JavaScript string)\n",
      " |        - `out`: output collection name or `out object` (dict). See\n",
      " |          the `map reduce command`_ documentation for available options.\n",
      " |          Note: `out` options are order sensitive. :class:`~bson.son.SON`\n",
      " |          can be used to specify multiple options.\n",
      " |          e.g. SON([('replace', <collection name>), ('db', <database name>)])\n",
      " |        - `full_response` (optional): if ``True``, return full response to\n",
      " |          this command - otherwise just return the result collection\n",
      " |        - `session` (optional): a\n",
      " |          :class:`~pymongo.client_session.ClientSession`.\n",
      " |        - `**kwargs` (optional): additional arguments to the\n",
      " |          `map reduce command`_ may be passed as keyword arguments to this\n",
      " |          helper method, e.g.::\n",
      " |      \n",
      " |          >>> db.test.map_reduce(map, reduce, \"myresults\", limit=2)\n",
      " |      \n",
      " |      .. note:: The :meth:`map_reduce` method does **not** obey the\n",
      " |         :attr:`read_preference` of this :class:`Collection`. To run\n",
      " |         mapReduce on a secondary use the :meth:`inline_map_reduce` method\n",
      " |         instead.\n",
      " |      \n",
      " |      .. note:: The :attr:`~pymongo.collection.Collection.write_concern` of\n",
      " |         this collection is automatically applied to this operation (if the\n",
      " |         output is not inline) when using MongoDB >= 3.4.\n",
      " |      \n",
      " |      .. versionchanged:: 3.6\n",
      " |         Added ``session`` parameter.\n",
      " |      \n",
      " |      .. versionchanged:: 3.4\n",
      " |         Apply this collection's write concern automatically to this operation\n",
      " |         when connected to MongoDB >= 3.4.\n",
      " |      \n",
      " |      .. seealso:: :doc:`/examples/aggregation`\n",
      " |      \n",
      " |      .. versionchanged:: 3.4\n",
      " |         Added the `collation` option.\n",
      " |      .. versionchanged:: 2.2\n",
      " |         Removed deprecated arguments: merge_output and reduce_output\n",
      " |      \n",
      " |      .. _map reduce command: http://docs.mongodb.org/manual/reference/command/mapReduce/\n",
      " |      \n",
      " |      .. mongodoc:: mapreduce\n",
      " |  \n",
      " |  next = __next__(self)\n",
      " |  \n",
      " |  options(self, session=None)\n",
      " |      Get the options set on this collection.\n",
      " |      \n",
      " |      Returns a dictionary of options and their values - see\n",
      " |      :meth:`~pymongo.database.Database.create_collection` for more\n",
      " |      information on the possible options. Returns an empty\n",
      " |      dictionary if the collection has not been created yet.\n",
      " |      \n",
      " |      :Parameters:\n",
      " |        - `session` (optional): a\n",
      " |          :class:`~pymongo.client_session.ClientSession`.\n",
      " |      \n",
      " |      .. versionchanged:: 3.6\n",
      " |         Added ``session`` parameter.\n",
      " |  \n",
      " |  parallel_scan(self, num_cursors, session=None, **kwargs)\n",
      " |      **DEPRECATED**: Scan this entire collection in parallel.\n",
      " |      \n",
      " |      Returns a list of up to ``num_cursors`` cursors that can be iterated\n",
      " |      concurrently. As long as the collection is not modified during\n",
      " |      scanning, each document appears once in one of the cursors result\n",
      " |      sets.\n",
      " |      \n",
      " |      For example, to process each document in a collection using some\n",
      " |      thread-safe ``process_document()`` function:\n",
      " |      \n",
      " |        >>> def process_cursor(cursor):\n",
      " |        ...     for document in cursor:\n",
      " |        ...     # Some thread-safe processing function:\n",
      " |        ...     process_document(document)\n",
      " |        >>>\n",
      " |        >>> # Get up to 4 cursors.\n",
      " |        ...\n",
      " |        >>> cursors = collection.parallel_scan(4)\n",
      " |        >>> threads = [\n",
      " |        ...     threading.Thread(target=process_cursor, args=(cursor,))\n",
      " |        ...     for cursor in cursors]\n",
      " |        >>>\n",
      " |        >>> for thread in threads:\n",
      " |        ...     thread.start()\n",
      " |        >>>\n",
      " |        >>> for thread in threads:\n",
      " |        ...     thread.join()\n",
      " |        >>>\n",
      " |        >>> # All documents have now been processed.\n",
      " |      \n",
      " |      The :meth:`parallel_scan` method obeys the :attr:`read_preference` of\n",
      " |      this :class:`Collection`.\n",
      " |      \n",
      " |      :Parameters:\n",
      " |        - `num_cursors`: the number of cursors to return\n",
      " |        - `session` (optional): a\n",
      " |          :class:`~pymongo.client_session.ClientSession`.\n",
      " |        - `**kwargs`: additional options for the parallelCollectionScan\n",
      " |          command can be passed as keyword arguments.\n",
      " |      \n",
      " |      .. note:: Requires server version **>= 2.5.5**.\n",
      " |      \n",
      " |      .. versionchanged:: 3.7\n",
      " |         Deprecated.\n",
      " |      \n",
      " |      .. versionchanged:: 3.6\n",
      " |         Added ``session`` parameter.\n",
      " |      \n",
      " |      .. versionchanged:: 3.4\n",
      " |         Added back support for arbitrary keyword arguments. MongoDB 3.4\n",
      " |         adds support for maxTimeMS as an option to the\n",
      " |         parallelCollectionScan command.\n",
      " |      \n",
      " |      .. versionchanged:: 3.0\n",
      " |         Removed support for arbitrary keyword arguments, since\n",
      " |         the parallelCollectionScan command has no optional arguments.\n",
      " |  \n",
      " |  reindex(self, session=None, **kwargs)\n",
      " |      Rebuilds all indexes on this collection.\n",
      " |      \n",
      " |      :Parameters:\n",
      " |        - `session` (optional): a\n",
      " |          :class:`~pymongo.client_session.ClientSession`.\n",
      " |        - `**kwargs` (optional): optional arguments to the reIndex\n",
      " |          command (like maxTimeMS) can be passed as keyword arguments.\n",
      " |      \n",
      " |      .. warning:: reindex blocks all other operations (indexes\n",
      " |         are built in the foreground) and will be slow for large\n",
      " |         collections.\n",
      " |      \n",
      " |      .. versionchanged:: 3.6\n",
      " |         Added ``session`` parameter. Added support for arbitrary keyword\n",
      " |         arguments.\n",
      " |      \n",
      " |      .. versionchanged:: 3.4\n",
      " |         Apply this collection's write concern automatically to this operation\n",
      " |         when connected to MongoDB >= 3.4.\n",
      " |      \n",
      " |      .. versionchanged:: 3.5\n",
      " |         We no longer apply this collection's write concern to this operation.\n",
      " |         MongoDB 3.4 silently ignored the write concern. MongoDB 3.6+ returns\n",
      " |         an error if we include the write concern.\n",
      " |  \n",
      " |  remove(self, spec_or_id=None, multi=True, **kwargs)\n",
      " |      Remove a document(s) from this collection.\n",
      " |      \n",
      " |      **DEPRECATED** - Use :meth:`delete_one` or :meth:`delete_many` instead.\n",
      " |      \n",
      " |      .. versionchanged:: 3.0\n",
      " |         Removed the `safe` parameter. Pass ``w=0`` for unacknowledged write\n",
      " |         operations.\n",
      " |  \n",
      " |  rename(self, new_name, session=None, **kwargs)\n",
      " |      Rename this collection.\n",
      " |      \n",
      " |      If operating in auth mode, client must be authorized as an\n",
      " |      admin to perform this operation. Raises :class:`TypeError` if\n",
      " |      `new_name` is not an instance of :class:`basestring`\n",
      " |      (:class:`str` in python 3). Raises :class:`~pymongo.errors.InvalidName`\n",
      " |      if `new_name` is not a valid collection name.\n",
      " |      \n",
      " |      :Parameters:\n",
      " |        - `new_name`: new name for this collection\n",
      " |        - `session` (optional): a\n",
      " |          :class:`~pymongo.client_session.ClientSession`.\n",
      " |        - `**kwargs` (optional): additional arguments to the rename command\n",
      " |          may be passed as keyword arguments to this helper method\n",
      " |          (i.e. ``dropTarget=True``)\n",
      " |      \n",
      " |      .. note:: The :attr:`~pymongo.collection.Collection.write_concern` of\n",
      " |         this collection is automatically applied to this operation when using\n",
      " |         MongoDB >= 3.4.\n",
      " |      \n",
      " |      .. versionchanged:: 3.6\n",
      " |         Added ``session`` parameter.\n",
      " |      \n",
      " |      .. versionchanged:: 3.4\n",
      " |         Apply this collection's write concern automatically to this operation\n",
      " |         when connected to MongoDB >= 3.4.\n",
      " |  \n",
      " |  replace_one(self, filter, replacement, upsert=False, bypass_document_validation=False, collation=None, session=None)\n",
      " |      Replace a single document matching the filter.\n",
      " |      \n",
      " |        >>> for doc in db.test.find({}):\n",
      " |        ...     print(doc)\n",
      " |        ...\n",
      " |        {u'x': 1, u'_id': ObjectId('54f4c5befba5220aa4d6dee7')}\n",
      " |        >>> result = db.test.replace_one({'x': 1}, {'y': 1})\n",
      " |        >>> result.matched_count\n",
      " |        1\n",
      " |        >>> result.modified_count\n",
      " |        1\n",
      " |        >>> for doc in db.test.find({}):\n",
      " |        ...     print(doc)\n",
      " |        ...\n",
      " |        {u'y': 1, u'_id': ObjectId('54f4c5befba5220aa4d6dee7')}\n",
      " |      \n",
      " |      The *upsert* option can be used to insert a new document if a matching\n",
      " |      document does not exist.\n",
      " |      \n",
      " |        >>> result = db.test.replace_one({'x': 1}, {'x': 1}, True)\n",
      " |        >>> result.matched_count\n",
      " |        0\n",
      " |        >>> result.modified_count\n",
      " |        0\n",
      " |        >>> result.upserted_id\n",
      " |        ObjectId('54f11e5c8891e756a6e1abd4')\n",
      " |        >>> db.test.find_one({'x': 1})\n",
      " |        {u'x': 1, u'_id': ObjectId('54f11e5c8891e756a6e1abd4')}\n",
      " |      \n",
      " |      :Parameters:\n",
      " |        - `filter`: A query that matches the document to replace.\n",
      " |        - `replacement`: The new document.\n",
      " |        - `upsert` (optional): If ``True``, perform an insert if no documents\n",
      " |          match the filter.\n",
      " |        - `bypass_document_validation`: (optional) If ``True``, allows the\n",
      " |          write to opt-out of document level validation. Default is\n",
      " |          ``False``.\n",
      " |        - `collation` (optional): An instance of\n",
      " |          :class:`~pymongo.collation.Collation`. This option is only supported\n",
      " |          on MongoDB 3.4 and above.\n",
      " |        - `session` (optional): a\n",
      " |          :class:`~pymongo.client_session.ClientSession`.\n",
      " |      \n",
      " |      :Returns:\n",
      " |        - An instance of :class:`~pymongo.results.UpdateResult`.\n",
      " |      \n",
      " |      .. note:: `bypass_document_validation` requires server version\n",
      " |        **>= 3.2**\n",
      " |      \n",
      " |      .. versionchanged:: 3.6\n",
      " |         Added ``session`` parameter.\n",
      " |      \n",
      " |      .. versionchanged:: 3.4\n",
      " |        Added the `collation` option.\n",
      " |      \n",
      " |      .. versionchanged:: 3.2\n",
      " |        Added bypass_document_validation support\n",
      " |      \n",
      " |      .. versionadded:: 3.0\n",
      " |  \n",
      " |  save(self, to_save, manipulate=True, check_keys=True, **kwargs)\n",
      " |      Save a document in this collection.\n",
      " |      \n",
      " |      **DEPRECATED** - Use :meth:`insert_one` or :meth:`replace_one` instead.\n",
      " |      \n",
      " |      .. versionchanged:: 3.0\n",
      " |         Removed the `safe` parameter. Pass ``w=0`` for unacknowledged write\n",
      " |         operations.\n",
      " |  \n",
      " |  update(self, spec, document, upsert=False, manipulate=False, multi=False, check_keys=True, **kwargs)\n",
      " |      Update a document(s) in this collection.\n",
      " |      \n",
      " |      **DEPRECATED** - Use :meth:`replace_one`, :meth:`update_one`, or\n",
      " |      :meth:`update_many` instead.\n",
      " |      \n",
      " |      .. versionchanged:: 3.0\n",
      " |         Removed the `safe` parameter. Pass ``w=0`` for unacknowledged write\n",
      " |         operations.\n",
      " |  \n",
      " |  update_many(self, filter, update, upsert=False, array_filters=None, bypass_document_validation=False, collation=None, session=None)\n",
      " |      Update one or more documents that match the filter.\n",
      " |      \n",
      " |        >>> for doc in db.test.find():\n",
      " |        ...     print(doc)\n",
      " |        ...\n",
      " |        {u'x': 1, u'_id': 0}\n",
      " |        {u'x': 1, u'_id': 1}\n",
      " |        {u'x': 1, u'_id': 2}\n",
      " |        >>> result = db.test.update_many({'x': 1}, {'$inc': {'x': 3}})\n",
      " |        >>> result.matched_count\n",
      " |        3\n",
      " |        >>> result.modified_count\n",
      " |        3\n",
      " |        >>> for doc in db.test.find():\n",
      " |        ...     print(doc)\n",
      " |        ...\n",
      " |        {u'x': 4, u'_id': 0}\n",
      " |        {u'x': 4, u'_id': 1}\n",
      " |        {u'x': 4, u'_id': 2}\n",
      " |      \n",
      " |      :Parameters:\n",
      " |        - `filter`: A query that matches the documents to update.\n",
      " |        - `update`: The modifications to apply.\n",
      " |        - `upsert` (optional): If ``True``, perform an insert if no documents\n",
      " |          match the filter.\n",
      " |        - `bypass_document_validation` (optional): If ``True``, allows the\n",
      " |          write to opt-out of document level validation. Default is\n",
      " |          ``False``.\n",
      " |        - `collation` (optional): An instance of\n",
      " |          :class:`~pymongo.collation.Collation`. This option is only supported\n",
      " |          on MongoDB 3.4 and above.\n",
      " |        - `array_filters` (optional): A list of filters specifying which\n",
      " |          array elements an update should apply. Requires MongoDB 3.6+.\n",
      " |        - `session` (optional): a\n",
      " |          :class:`~pymongo.client_session.ClientSession`.\n",
      " |      \n",
      " |      :Returns:\n",
      " |        - An instance of :class:`~pymongo.results.UpdateResult`.\n",
      " |      \n",
      " |      .. note:: `bypass_document_validation` requires server version\n",
      " |        **>= 3.2**\n",
      " |      \n",
      " |      .. versionchanged:: 3.9\n",
      " |         Added the ability to accept a pipeline as the `update`.\n",
      " |      \n",
      " |      .. versionchanged:: 3.6\n",
      " |         Added ``array_filters`` and ``session`` parameters.\n",
      " |      \n",
      " |      .. versionchanged:: 3.4\n",
      " |        Added the `collation` option.\n",
      " |      \n",
      " |      .. versionchanged:: 3.2\n",
      " |        Added bypass_document_validation support\n",
      " |      \n",
      " |      .. versionadded:: 3.0\n",
      " |  \n",
      " |  update_one(self, filter, update, upsert=False, bypass_document_validation=False, collation=None, array_filters=None, session=None)\n",
      " |      Update a single document matching the filter.\n",
      " |      \n",
      " |        >>> for doc in db.test.find():\n",
      " |        ...     print(doc)\n",
      " |        ...\n",
      " |        {u'x': 1, u'_id': 0}\n",
      " |        {u'x': 1, u'_id': 1}\n",
      " |        {u'x': 1, u'_id': 2}\n",
      " |        >>> result = db.test.update_one({'x': 1}, {'$inc': {'x': 3}})\n",
      " |        >>> result.matched_count\n",
      " |        1\n",
      " |        >>> result.modified_count\n",
      " |        1\n",
      " |        >>> for doc in db.test.find():\n",
      " |        ...     print(doc)\n",
      " |        ...\n",
      " |        {u'x': 4, u'_id': 0}\n",
      " |        {u'x': 1, u'_id': 1}\n",
      " |        {u'x': 1, u'_id': 2}\n",
      " |      \n",
      " |      :Parameters:\n",
      " |        - `filter`: A query that matches the document to update.\n",
      " |        - `update`: The modifications to apply.\n",
      " |        - `upsert` (optional): If ``True``, perform an insert if no documents\n",
      " |          match the filter.\n",
      " |        - `bypass_document_validation`: (optional) If ``True``, allows the\n",
      " |          write to opt-out of document level validation. Default is\n",
      " |          ``False``.\n",
      " |        - `collation` (optional): An instance of\n",
      " |          :class:`~pymongo.collation.Collation`. This option is only supported\n",
      " |          on MongoDB 3.4 and above.\n",
      " |        - `array_filters` (optional): A list of filters specifying which\n",
      " |          array elements an update should apply. Requires MongoDB 3.6+.\n",
      " |        - `session` (optional): a\n",
      " |          :class:`~pymongo.client_session.ClientSession`.\n",
      " |      \n",
      " |      :Returns:\n",
      " |        - An instance of :class:`~pymongo.results.UpdateResult`.\n",
      " |      \n",
      " |      .. note:: `bypass_document_validation` requires server version\n",
      " |        **>= 3.2**\n",
      " |      \n",
      " |      .. versionchanged:: 3.9\n",
      " |         Added the ability to accept a pipeline as the `update`.\n",
      " |      \n",
      " |      .. versionchanged:: 3.6\n",
      " |         Added the `array_filters` and ``session`` parameters.\n",
      " |      \n",
      " |      .. versionchanged:: 3.4\n",
      " |        Added the `collation` option.\n",
      " |      \n",
      " |      .. versionchanged:: 3.2\n",
      " |        Added bypass_document_validation support\n",
      " |      \n",
      " |      .. versionadded:: 3.0\n",
      " |  \n",
      " |  watch(self, pipeline=None, full_document=None, resume_after=None, max_await_time_ms=None, batch_size=None, collation=None, start_at_operation_time=None, session=None, start_after=None)\n",
      " |      Watch changes on this collection.\n",
      " |      \n",
      " |      Performs an aggregation with an implicit initial ``$changeStream``\n",
      " |      stage and returns a\n",
      " |      :class:`~pymongo.change_stream.CollectionChangeStream` cursor which\n",
      " |      iterates over changes on this collection.\n",
      " |      \n",
      " |      Introduced in MongoDB 3.6.\n",
      " |      \n",
      " |      .. code-block:: python\n",
      " |      \n",
      " |         with db.collection.watch() as stream:\n",
      " |             for change in stream:\n",
      " |                 print(change)\n",
      " |      \n",
      " |      The :class:`~pymongo.change_stream.CollectionChangeStream` iterable\n",
      " |      blocks until the next change document is returned or an error is\n",
      " |      raised. If the\n",
      " |      :meth:`~pymongo.change_stream.CollectionChangeStream.next` method\n",
      " |      encounters a network error when retrieving a batch from the server,\n",
      " |      it will automatically attempt to recreate the cursor such that no\n",
      " |      change events are missed. Any error encountered during the resume\n",
      " |      attempt indicates there may be an outage and will be raised.\n",
      " |      \n",
      " |      .. code-block:: python\n",
      " |      \n",
      " |          try:\n",
      " |              with db.collection.watch(\n",
      " |                      [{'$match': {'operationType': 'insert'}}]) as stream:\n",
      " |                  for insert_change in stream:\n",
      " |                      print(insert_change)\n",
      " |          except pymongo.errors.PyMongoError:\n",
      " |              # The ChangeStream encountered an unrecoverable error or the\n",
      " |              # resume attempt failed to recreate the cursor.\n",
      " |              logging.error('...')\n",
      " |      \n",
      " |      For a precise description of the resume process see the\n",
      " |      `change streams specification`_.\n",
      " |      \n",
      " |      .. note:: Using this helper method is preferred to directly calling\n",
      " |          :meth:`~pymongo.collection.Collection.aggregate` with a\n",
      " |          ``$changeStream`` stage, for the purpose of supporting\n",
      " |          resumability.\n",
      " |      \n",
      " |      .. warning:: This Collection's :attr:`read_concern` must be\n",
      " |          ``ReadConcern(\"majority\")`` in order to use the ``$changeStream``\n",
      " |          stage.\n",
      " |      \n",
      " |      :Parameters:\n",
      " |        - `pipeline` (optional): A list of aggregation pipeline stages to\n",
      " |          append to an initial ``$changeStream`` stage. Not all\n",
      " |          pipeline stages are valid after a ``$changeStream`` stage, see the\n",
      " |          MongoDB documentation on change streams for the supported stages.\n",
      " |        - `full_document` (optional): The fullDocument to pass as an option\n",
      " |          to the ``$changeStream`` stage. Allowed values: 'updateLookup'.\n",
      " |          When set to 'updateLookup', the change notification for partial\n",
      " |          updates will include both a delta describing the changes to the\n",
      " |          document, as well as a copy of the entire document that was\n",
      " |          changed from some time after the change occurred.\n",
      " |        - `resume_after` (optional): A resume token. If provided, the\n",
      " |          change stream will start returning changes that occur directly\n",
      " |          after the operation specified in the resume token. A resume token\n",
      " |          is the _id value of a change document.\n",
      " |        - `max_await_time_ms` (optional): The maximum time in milliseconds\n",
      " |          for the server to wait for changes before responding to a getMore\n",
      " |          operation.\n",
      " |        - `batch_size` (optional): The maximum number of documents to return\n",
      " |          per batch.\n",
      " |        - `collation` (optional): The :class:`~pymongo.collation.Collation`\n",
      " |          to use for the aggregation.\n",
      " |        - `start_at_operation_time` (optional): If provided, the resulting\n",
      " |          change stream will only return changes that occurred at or after\n",
      " |          the specified :class:`~bson.timestamp.Timestamp`. Requires\n",
      " |          MongoDB >= 4.0.\n",
      " |        - `session` (optional): a\n",
      " |          :class:`~pymongo.client_session.ClientSession`.\n",
      " |        - `start_after` (optional): The same as `resume_after` except that\n",
      " |          `start_after` can resume notifications after an invalidate event.\n",
      " |          This option and `resume_after` are mutually exclusive.\n",
      " |      \n",
      " |      :Returns:\n",
      " |        A :class:`~pymongo.change_stream.CollectionChangeStream` cursor.\n",
      " |      \n",
      " |      .. versionchanged:: 3.9\n",
      " |         Added the ``start_after`` parameter.\n",
      " |      \n",
      " |      .. versionchanged:: 3.7\n",
      " |         Added the ``start_at_operation_time`` parameter.\n",
      " |      \n",
      " |      .. versionadded:: 3.6\n",
      " |      \n",
      " |      .. mongodoc:: changeStreams\n",
      " |      \n",
      " |      .. _change streams specification:\n",
      " |          https://github.com/mongodb/specifications/blob/master/source/change-streams/change-streams.rst\n",
      " |  \n",
      " |  with_options(self, codec_options=None, read_preference=None, write_concern=None, read_concern=None)\n",
      " |      Get a clone of this collection changing the specified settings.\n",
      " |      \n",
      " |        >>> coll1.read_preference\n",
      " |        Primary()\n",
      " |        >>> from pymongo import ReadPreference\n",
      " |        >>> coll2 = coll1.with_options(read_preference=ReadPreference.SECONDARY)\n",
      " |        >>> coll1.read_preference\n",
      " |        Primary()\n",
      " |        >>> coll2.read_preference\n",
      " |        Secondary(tag_sets=None)\n",
      " |      \n",
      " |      :Parameters:\n",
      " |        - `codec_options` (optional): An instance of\n",
      " |          :class:`~bson.codec_options.CodecOptions`. If ``None`` (the\n",
      " |          default) the :attr:`codec_options` of this :class:`Collection`\n",
      " |          is used.\n",
      " |        - `read_preference` (optional): The read preference to use. If\n",
      " |          ``None`` (the default) the :attr:`read_preference` of this\n",
      " |          :class:`Collection` is used. See :mod:`~pymongo.read_preferences`\n",
      " |          for options.\n",
      " |        - `write_concern` (optional): An instance of\n",
      " |          :class:`~pymongo.write_concern.WriteConcern`. If ``None`` (the\n",
      " |          default) the :attr:`write_concern` of this :class:`Collection`\n",
      " |          is used.\n",
      " |        - `read_concern` (optional): An instance of\n",
      " |          :class:`~pymongo.read_concern.ReadConcern`. If ``None`` (the\n",
      " |          default) the :attr:`read_concern` of this :class:`Collection`\n",
      " |          is used.\n",
      " |  \n",
      " |  ----------------------------------------------------------------------\n",
      " |  Data descriptors defined here:\n",
      " |  \n",
      " |  database\n",
      " |      The :class:`~pymongo.database.Database` that this\n",
      " |      :class:`Collection` is a part of.\n",
      " |  \n",
      " |  full_name\n",
      " |      The full name of this :class:`Collection`.\n",
      " |      \n",
      " |      The full name is of the form `database_name.collection_name`.\n",
      " |  \n",
      " |  name\n",
      " |      The name of this :class:`Collection`.\n",
      " |  \n",
      " |  ----------------------------------------------------------------------\n",
      " |  Data and other attributes defined here:\n",
      " |  \n",
      " |  __hash__ = None\n",
      " |  \n",
      " |  ----------------------------------------------------------------------\n",
      " |  Data descriptors inherited from pymongo.common.BaseObject:\n",
      " |  \n",
      " |  __dict__\n",
      " |      dictionary for instance variables (if defined)\n",
      " |  \n",
      " |  __weakref__\n",
      " |      list of weak references to the object (if defined)\n",
      " |  \n",
      " |  codec_options\n",
      " |      Read only access to the :class:`~bson.codec_options.CodecOptions`\n",
      " |      of this instance.\n",
      " |  \n",
      " |  read_concern\n",
      " |      Read only access to the :class:`~pymongo.read_concern.ReadConcern`\n",
      " |      of this instance.\n",
      " |      \n",
      " |      .. versionadded:: 3.2\n",
      " |  \n",
      " |  read_preference\n",
      " |      Read only access to the read preference of this instance.\n",
      " |      \n",
      " |      .. versionchanged:: 3.0\n",
      " |        The :attr:`read_preference` attribute is now read only.\n",
      " |  \n",
      " |  write_concern\n",
      " |      Read only access to the :class:`~pymongo.write_concern.WriteConcern`\n",
      " |      of this instance.\n",
      " |      \n",
      " |      .. versionchanged:: 3.0\n",
      " |        The :attr:`write_concern` attribute is now read only.\n",
      "\n"
     ]
    }
   ],
   "source": [
    "help(jobs.find_and_update)"
   ]
  },
  {
   "cell_type": "code",
   "execution_count": 560,
   "metadata": {
    "ExecuteTime": {
     "end_time": "2020-04-21T21:21:40.752494Z",
     "start_time": "2020-04-21T21:21:40.742304Z"
    }
   },
   "outputs": [
    {
     "data": {
      "text/plain": [
       "['BRYCE-EAK-ACER7:36644']"
      ]
     },
     "execution_count": 560,
     "metadata": {},
     "output_type": "execute_result"
    }
   ],
   "source": [
    "mtrials.trials[10]['owner']"
   ]
  },
  {
   "cell_type": "code",
   "execution_count": 557,
   "metadata": {
    "ExecuteTime": {
     "end_time": "2020-04-21T21:18:35.341823Z",
     "start_time": "2020-04-21T21:18:35.330787Z"
    }
   },
   "outputs": [
    {
     "data": {
      "text/html": [
       "\n",
       "<table class=\"table table-striped table-sm w-auto ml-1\">\n",
       "<thead class=\"thead-light\">\n",
       "<th>Hyperopt Pass</th><th>Prev-Level Hints</th><th>New</th><th>Running</th><th>Done</th><th>Error</th>\n",
       "</thead>\n",
       "<tbody>\n",
       "<tr><th>covid-1</th><td>10</td><td>0</td><td>1</td><td>87</td><td>0</td></tr><tr><th>covid-2</th><td>77</td><td>0</td><td>6</td><td>27</td><td>0</td></tr><tr><th>covid-3</th><td>74</td><td>1</td><td>0</td><td>36</td><td>0</td></tr>\n",
       "</tbody>\n"
      ],
      "text/plain": [
       "<IPython.core.display.HTML object>"
      ]
     },
     "execution_count": 557,
     "metadata": {},
     "output_type": "execute_result"
    }
   ],
   "source": [
    "state_lookup = {getattr(hyperopt, k):k for k in ['JOB_STATE_NEW', 'JOB_STATE_ERROR', 'JOB_STATE_RUNNING', 'JOB_STATE_DONE']}\n",
    "state_lookup[-1] = 'JOB_STATE_Prev-Level Hints'\n",
    "counters = defaultdict(lambda: Counter())\n",
    "\n",
    "for tr in all_trials.trials:\n",
    "    if 'training_loss_hist' in tr['result'] and tr['state'] == hyperopt.JOB_STATE_DONE:\n",
    "        epoch = int(tr['result']['training_loss_hist'][-1][0])\n",
    "        if tr['exp_key'] != f'covid-{epoch}':\n",
    "            counters[tr['exp_key']][-1] += 1\n",
    "        else:\n",
    "            counters[tr['exp_key']][tr['state']] += 1\n",
    "    else:\n",
    "        counters[tr['exp_key']][tr['state']] += 1\n",
    "    \n",
    "HTML(f\"\"\"\n",
    "<table class=\"table table-striped table-sm w-auto ml-1\">\n",
    "<thead class=\"thead-light\">\n",
    "<th>Hyperopt Pass</th><th>{'</th><th>'.join(state_lookup[i][10:].title() for i in range(-1,4))}</th>\n",
    "</thead>\n",
    "<tbody>\n",
    "{''.join('<tr><th>' + k + '</th><td>' + '</td><td>'.join(\n",
    "    str(counters[k][c]) for c in range(-1,4)\n",
    ") + '</td></tr>' for k in counters.keys())}\n",
    "</tbody>\n",
    "\"\"\")"
   ]
  },
  {
   "cell_type": "code",
   "execution_count": 547,
   "metadata": {
    "ExecuteTime": {
     "end_time": "2020-04-21T20:49:33.378206Z",
     "start_time": "2020-04-21T20:49:33.371286Z"
    }
   },
   "outputs": [
    {
     "data": {
      "text/plain": [
       "{0: 'JOB_STATE_NEW',\n",
       " 3: 'JOB_STATE_ERROR',\n",
       " 1: 'JOB_STATE_RUNNING',\n",
       " 2: 'JOB_STATE_DONE',\n",
       " -1: 'PASS_THROUGH_HINTS'}"
      ]
     },
     "execution_count": 547,
     "metadata": {},
     "output_type": "execute_result"
    }
   ],
   "source": [
    "state_lookup"
   ]
  },
  {
   "cell_type": "code",
   "execution_count": 531,
   "metadata": {
    "ExecuteTime": {
     "end_time": "2020-04-21T20:12:30.290176Z",
     "start_time": "2020-04-21T20:12:30.280945Z"
    }
   },
   "outputs": [
    {
     "data": {
      "text/plain": [
       "['_id',\n",
       " 'state',\n",
       " 'tid',\n",
       " 'spec',\n",
       " 'result',\n",
       " 'misc',\n",
       " 'exp_key',\n",
       " 'owner',\n",
       " 'version',\n",
       " 'book_time',\n",
       " 'refresh_time']"
      ]
     },
     "execution_count": 531,
     "metadata": {},
     "output_type": "execute_result"
    }
   ],
   "source": [
    "tr.keys()"
   ]
  },
  {
   "cell_type": "code",
   "execution_count": 524,
   "metadata": {
    "ExecuteTime": {
     "end_time": "2020-04-21T20:08:59.139095Z",
     "start_time": "2020-04-21T20:08:59.122575Z"
    }
   },
   "outputs": [
    {
     "data": {
      "text/plain": [
       "[2,\n",
       " 2,\n",
       " 2,\n",
       " 2,\n",
       " 2,\n",
       " 2,\n",
       " 2,\n",
       " 2,\n",
       " 2,\n",
       " 2,\n",
       " 1,\n",
       " 2,\n",
       " 2,\n",
       " 2,\n",
       " 2,\n",
       " 2,\n",
       " 2,\n",
       " 2,\n",
       " 2,\n",
       " 2,\n",
       " 2,\n",
       " 2,\n",
       " 2,\n",
       " 2,\n",
       " 2,\n",
       " 2,\n",
       " 2,\n",
       " 2,\n",
       " 2,\n",
       " 2,\n",
       " 2,\n",
       " 2,\n",
       " 2,\n",
       " 2,\n",
       " 2,\n",
       " 2,\n",
       " 2,\n",
       " 2,\n",
       " 2,\n",
       " 2,\n",
       " 2,\n",
       " 2,\n",
       " 2,\n",
       " 2,\n",
       " 2,\n",
       " 2,\n",
       " 2,\n",
       " 2,\n",
       " 2,\n",
       " 2,\n",
       " 2,\n",
       " 2,\n",
       " 2,\n",
       " 2,\n",
       " 2,\n",
       " 2,\n",
       " 2,\n",
       " 2,\n",
       " 2,\n",
       " 2,\n",
       " 2,\n",
       " 2,\n",
       " 2,\n",
       " 2,\n",
       " 2,\n",
       " 2,\n",
       " 2,\n",
       " 2,\n",
       " 2,\n",
       " 2,\n",
       " 2,\n",
       " 2,\n",
       " 2,\n",
       " 2,\n",
       " 2,\n",
       " 2,\n",
       " 2,\n",
       " 2,\n",
       " 2,\n",
       " 2,\n",
       " 2,\n",
       " 2,\n",
       " 2,\n",
       " 2,\n",
       " 2,\n",
       " 2,\n",
       " 2,\n",
       " 2,\n",
       " 2,\n",
       " 2,\n",
       " 2,\n",
       " 2,\n",
       " 2,\n",
       " 2,\n",
       " 2,\n",
       " 2,\n",
       " 2,\n",
       " 2,\n",
       " 2,\n",
       " 2,\n",
       " 2,\n",
       " 2,\n",
       " 1,\n",
       " 2,\n",
       " 2,\n",
       " 2,\n",
       " 1,\n",
       " 1,\n",
       " 1,\n",
       " 1,\n",
       " 1]"
      ]
     },
     "execution_count": 524,
     "metadata": {},
     "output_type": "execute_result"
    }
   ],
   "source": [
    "[tr['state'] for tr in mtrials.trials]"
   ]
  },
  {
   "cell_type": "code",
   "execution_count": 422,
   "metadata": {
    "ExecuteTime": {
     "end_time": "2020-04-21T02:57:05.042182Z",
     "start_time": "2020-04-21T02:56:55.800973Z"
    }
   },
   "outputs": [],
   "source": [
    "mtrials.delete_all()"
   ]
  },
  {
   "cell_type": "code",
   "execution_count": 414,
   "metadata": {
    "ExecuteTime": {
     "end_time": "2020-04-21T02:36:56.827865Z",
     "start_time": "2020-04-21T02:36:56.824824Z"
    }
   },
   "outputs": [],
   "source": [
    "trials = list(mtrials.trials)"
   ]
  },
  {
   "cell_type": "code",
   "execution_count": 423,
   "metadata": {
    "ExecuteTime": {
     "end_time": "2020-04-21T02:58:37.501021Z",
     "start_time": "2020-04-21T02:58:36.825525Z"
    }
   },
   "outputs": [],
   "source": [
    "mtrials.delete_all()"
   ]
  },
  {
   "cell_type": "code",
   "execution_count": 424,
   "metadata": {
    "ExecuteTime": {
     "end_time": "2020-04-21T02:58:52.694779Z",
     "start_time": "2020-04-21T02:58:52.592642Z"
    }
   },
   "outputs": [],
   "source": [
    "mtrials.refresh()"
   ]
  },
  {
   "cell_type": "code",
   "execution_count": 426,
   "metadata": {
    "ExecuteTime": {
     "end_time": "2020-04-21T02:59:01.257869Z",
     "start_time": "2020-04-21T02:59:01.253909Z"
    }
   },
   "outputs": [
    {
     "data": {
      "text/plain": [
       "0"
      ]
     },
     "execution_count": 426,
     "metadata": {},
     "output_type": "execute_result"
    }
   ],
   "source": [
    "len(mtrials)"
   ]
  },
  {
   "cell_type": "code",
   "execution_count": 420,
   "metadata": {
    "ExecuteTime": {
     "end_time": "2020-04-21T02:46:18.182718Z",
     "start_time": "2020-04-21T02:45:27.061128Z"
    },
    "scrolled": true
   },
   "outputs": [
    {
     "data": {
      "text/plain": [
       "[ObjectId('5e9e5e5382d73e83fc7e5b04'),\n",
       " ObjectId('5e9e5e5382d73e83fc7e5b05'),\n",
       " ObjectId('5e9e5e5482d73e83fc7e5b06'),\n",
       " ObjectId('5e9e5e5482d73e83fc7e5b07'),\n",
       " ObjectId('5e9e5e5582d73e83fc7e5b08'),\n",
       " ObjectId('5e9e5e5582d73e83fc7e5b09'),\n",
       " ObjectId('5e9e5e5682d73e83fc7e5b0a'),\n",
       " ObjectId('5e9e5e5682d73e83fc7e5b0b'),\n",
       " ObjectId('5e9e5e5782d73e83fc7e5b0c'),\n",
       " ObjectId('5e9e5e5782d73e83fc7e5b0d'),\n",
       " ObjectId('5e9e5e5882d73e83fc7e5b0e'),\n",
       " ObjectId('5e9e5e5882d73e83fc7e5b0f'),\n",
       " ObjectId('5e9e5e5882d73e83fc7e5b10'),\n",
       " ObjectId('5e9e5e5982d73e83fc7e5b11'),\n",
       " ObjectId('5e9e5e5982d73e83fc7e5b12'),\n",
       " ObjectId('5e9e5e5982d73e83fc7e5b13'),\n",
       " ObjectId('5e9e5e5a82d73e83fc7e5b14'),\n",
       " ObjectId('5e9e5e5a82d73e83fc7e5b15'),\n",
       " ObjectId('5e9e5e5a82d73e83fc7e5b16'),\n",
       " ObjectId('5e9e5e5b82d73e83fc7e5b17'),\n",
       " ObjectId('5e9e5e5b82d73e83fc7e5b18'),\n",
       " ObjectId('5e9e5e5b82d73e83fc7e5b19'),\n",
       " ObjectId('5e9e5e5c82d73e83fc7e5b1a'),\n",
       " ObjectId('5e9e5e5c82d73e83fc7e5b1b'),\n",
       " ObjectId('5e9e5e5c82d73e83fc7e5b1c'),\n",
       " ObjectId('5e9e5e5c82d73e83fc7e5b1d'),\n",
       " ObjectId('5e9e5e5d82d73e83fc7e5b1e'),\n",
       " ObjectId('5e9e5e5d82d73e83fc7e5b1f'),\n",
       " ObjectId('5e9e5e5e82d73e83fc7e5b20'),\n",
       " ObjectId('5e9e5e5e82d73e83fc7e5b21'),\n",
       " ObjectId('5e9e5e5e82d73e83fc7e5b22'),\n",
       " ObjectId('5e9e5e5e82d73e83fc7e5b23'),\n",
       " ObjectId('5e9e5e5f82d73e83fc7e5b24'),\n",
       " ObjectId('5e9e5e5f82d73e83fc7e5b25'),\n",
       " ObjectId('5e9e5e5f82d73e83fc7e5b26'),\n",
       " ObjectId('5e9e5e6082d73e83fc7e5b27'),\n",
       " ObjectId('5e9e5e6082d73e83fc7e5b28'),\n",
       " ObjectId('5e9e5e6082d73e83fc7e5b29'),\n",
       " ObjectId('5e9e5e6182d73e83fc7e5b2a'),\n",
       " ObjectId('5e9e5e6182d73e83fc7e5b2b'),\n",
       " ObjectId('5e9e5e6182d73e83fc7e5b2c'),\n",
       " ObjectId('5e9e5e6282d73e83fc7e5b2d'),\n",
       " ObjectId('5e9e5e6282d73e83fc7e5b2e'),\n",
       " ObjectId('5e9e5e6282d73e83fc7e5b2f'),\n",
       " ObjectId('5e9e5e6382d73e83fc7e5b30'),\n",
       " ObjectId('5e9e5e6382d73e83fc7e5b31'),\n",
       " ObjectId('5e9e5e6382d73e83fc7e5b32'),\n",
       " ObjectId('5e9e5e6482d73e83fc7e5b33'),\n",
       " ObjectId('5e9e5e6482d73e83fc7e5b34'),\n",
       " ObjectId('5e9e5e6482d73e83fc7e5b35'),\n",
       " ObjectId('5e9e5e6582d73e83fc7e5b36'),\n",
       " ObjectId('5e9e5e6582d73e83fc7e5b37'),\n",
       " ObjectId('5e9e5e6582d73e83fc7e5b38'),\n",
       " ObjectId('5e9e5e6582d73e83fc7e5b39'),\n",
       " ObjectId('5e9e5e6682d73e83fc7e5b3a'),\n",
       " ObjectId('5e9e5e6682d73e83fc7e5b3b'),\n",
       " ObjectId('5e9e5e6782d73e83fc7e5b3c'),\n",
       " ObjectId('5e9e5e6782d73e83fc7e5b3d'),\n",
       " ObjectId('5e9e5e6782d73e83fc7e5b3e'),\n",
       " ObjectId('5e9e5e6882d73e83fc7e5b3f'),\n",
       " ObjectId('5e9e5e6982d73e83fc7e5b40'),\n",
       " ObjectId('5e9e5e6982d73e83fc7e5b41'),\n",
       " ObjectId('5e9e5e6a82d73e83fc7e5b42'),\n",
       " ObjectId('5e9e5e6b82d73e83fc7e5b43'),\n",
       " ObjectId('5e9e5e6b82d73e83fc7e5b44'),\n",
       " ObjectId('5e9e5e6d82d73e83fc7e5b45'),\n",
       " ObjectId('5e9e5e6e82d73e83fc7e5b46'),\n",
       " ObjectId('5e9e5e6e82d73e83fc7e5b47'),\n",
       " ObjectId('5e9e5e6f82d73e83fc7e5b48'),\n",
       " ObjectId('5e9e5e7082d73e83fc7e5b49'),\n",
       " ObjectId('5e9e5e7082d73e83fc7e5b4a'),\n",
       " ObjectId('5e9e5e7182d73e83fc7e5b4b'),\n",
       " ObjectId('5e9e5e7182d73e83fc7e5b4c'),\n",
       " ObjectId('5e9e5e7282d73e83fc7e5b4d'),\n",
       " ObjectId('5e9e5e7282d73e83fc7e5b4e'),\n",
       " ObjectId('5e9e5e7482d73e83fc7e5b4f'),\n",
       " ObjectId('5e9e5e7482d73e83fc7e5b50'),\n",
       " ObjectId('5e9e5e7482d73e83fc7e5b51'),\n",
       " ObjectId('5e9e5e7582d73e83fc7e5b52'),\n",
       " ObjectId('5e9e5e7682d73e83fc7e5b53'),\n",
       " ObjectId('5e9e5e7682d73e83fc7e5b54'),\n",
       " ObjectId('5e9e5e7682d73e83fc7e5b55'),\n",
       " ObjectId('5e9e5e7782d73e83fc7e5b56'),\n",
       " ObjectId('5e9e5e7782d73e83fc7e5b57'),\n",
       " ObjectId('5e9e5e7782d73e83fc7e5b58'),\n",
       " ObjectId('5e9e5e7882d73e83fc7e5b59'),\n",
       " ObjectId('5e9e5e7882d73e83fc7e5b5a'),\n",
       " ObjectId('5e9e5e7882d73e83fc7e5b5b'),\n",
       " ObjectId('5e9e5e7982d73e83fc7e5b5c'),\n",
       " ObjectId('5e9e5e7982d73e83fc7e5b5d'),\n",
       " ObjectId('5e9e5e7982d73e83fc7e5b5e')]"
      ]
     },
     "execution_count": 420,
     "metadata": {},
     "output_type": "execute_result"
    }
   ],
   "source": [
    "mtrials.insert_trial_docs(trials)"
   ]
  },
  {
   "cell_type": "code",
   "execution_count": 417,
   "metadata": {
    "ExecuteTime": {
     "end_time": "2020-04-21T02:38:26.289556Z",
     "start_time": "2020-04-21T02:38:26.266540Z"
    }
   },
   "outputs": [],
   "source": [
    "for t in trials:\n",
    "    del t['_id']\n",
    "    tid = t['tid']\n",
    "    t['misc']['idxs'] = {k:[tid] for k in t['misc']['idxs'].keys()}"
   ]
  },
  {
   "cell_type": "code",
   "execution_count": 418,
   "metadata": {
    "ExecuteTime": {
     "end_time": "2020-04-21T02:38:36.454476Z",
     "start_time": "2020-04-21T02:38:36.438527Z"
    }
   },
   "outputs": [
    {
     "data": {
      "text/plain": [
       "SON([('tid', 3738), ('cmd', ['domain_attachment', 'FMinIter_Domain']), ('workdir', None), ('idxs', {'chem_hidden_size': [3738], 'chem_layers_per_message': [3738], 'chem_nonlinearity': [3738], 'dropout_rate': [3738], 'eps': [3738], 'inv_beta1': [3738], 'inv_beta2': [3738], 'lr_exp': [3738], 'neg_rate': [3738], 'protein_downscale_nonlinearity': [3738], 'protein_nonlinearity': [3738], 'protein_out_dim': [3738], 'protien_base_dim': [3738]}), ('vals', SON([('chem_hidden_size', [448.0]), ('chem_layers_per_message', [1.0]), ('chem_nonlinearity', [2]), ('dropout_rate', [0.7097555972104654]), ('eps', [0.00015811358302116524]), ('inv_beta1', [0.027406156115387627]), ('inv_beta2', [0.0007945309759339589]), ('lr_exp', [2.75]), ('neg_rate', [0.37168172156026946]), ('protein_downscale_nonlinearity', [4]), ('protein_nonlinearity', [1]), ('protein_out_dim', [128.0]), ('protien_base_dim', [32.0])]))])"
      ]
     },
     "execution_count": 418,
     "metadata": {},
     "output_type": "execute_result"
    }
   ],
   "source": [
    "t['misc']"
   ]
  },
  {
   "cell_type": "code",
   "execution_count": 413,
   "metadata": {
    "ExecuteTime": {
     "end_time": "2020-04-21T01:53:15.098817Z",
     "start_time": "2020-04-21T01:53:15.072808Z"
    },
    "scrolled": true
   },
   "outputs": [
    {
     "data": {
      "text/plain": [
       "[7.439429350159346,\n",
       " 0.1692000009115363,\n",
       " None,\n",
       " 0.16114772885089448,\n",
       " 0.165470789611178,\n",
       " 0.17653787017966338,\n",
       " 0.22130780178566012,\n",
       " 0.16525157686275244,\n",
       " 0.2172142272598822,\n",
       " 0.18634207285815674,\n",
       " None,\n",
       " 0.16664173639201835,\n",
       " 0.1957035639003981,\n",
       " 0.17309890359522506,\n",
       " 0.22373886773720947,\n",
       " 0.23310064350091755,\n",
       " 0.2402137711800636,\n",
       " 0.21203745794913786,\n",
       " 0.2274126981031661,\n",
       " 0.21915882515082888,\n",
       " 0.19002372246121751,\n",
       " 0.22345033561588287,\n",
       " 0.2056929076334187,\n",
       " 0.28525064332917555,\n",
       " 0.21655175371417645,\n",
       " 0.2802831254829167,\n",
       " 0.3126174179777176,\n",
       " 0.25632707441524355,\n",
       " 0.2043305233835873,\n",
       " 0.23226056074481238,\n",
       " 0.23385558467193485,\n",
       " 0.25837453606217403,\n",
       " 0.20344991294791878,\n",
       " 0.33895270858506893,\n",
       " 0.21328111628602275,\n",
       " 0.22479035340367565,\n",
       " 0.3556961630207984,\n",
       " 0.22169327307610345,\n",
       " 0.22389276772592984,\n",
       " 0.23422493468952832,\n",
       " 0.2890324062397457,\n",
       " 0.2520814773839728,\n",
       " 0.2715198570780236,\n",
       " 0.2690689443427018,\n",
       " 0.2258686390389643,\n",
       " 0.44775285827415306,\n",
       " 0.2434224739944544,\n",
       " 0.31642576905365183,\n",
       " 0.3342891712872157,\n",
       " 0.28491476489814715,\n",
       " 0.2749412064689787,\n",
       " 0.2956341970039592,\n",
       " 0.27734930605432073,\n",
       " 0.35449660826809015,\n",
       " 0.3520490129614179,\n",
       " 0.38596525781677293,\n",
       " 0.3144145629989131,\n",
       " 0.3597656542846764,\n",
       " 0.2047601151440886,\n",
       " 0.2518901204754158,\n",
       " 0.33858363806432157,\n",
       " 0.4505934404318103,\n",
       " 0.4633732593572811,\n",
       " 0.49717993647068875,\n",
       " 0.23934821022611633,\n",
       " 0.45576452972257575,\n",
       " 0.4563620839197339,\n",
       " 0.4527882477631915,\n",
       " 0.4482046217398311,\n",
       " 0.45470108250353447,\n",
       " 0.46783680558220936,\n",
       " 0.48957649245634194,\n",
       " 0.46969559392056537,\n",
       " 0.28364439766557653,\n",
       " 0.29519930363108915,\n",
       " 0.46546953385576506,\n",
       " 0.47730472483447917,\n",
       " 0.45397085839755197,\n",
       " 0.43858088826956215,\n",
       " 0.4882900769832072,\n",
       " 7.4394293399251685,\n",
       " 7.810598284605423,\n",
       " 8.26915143605745,\n",
       " 8.302715538865925,\n",
       " 10.367352102401167,\n",
       " 10.488300332763517,\n",
       " 11.296297575328614,\n",
       " 7.9315464812432825,\n",
       " 7.931546465918415,\n",
       " 20.846244652496207,\n",
       " 24.629400716828243]"
      ]
     },
     "execution_count": 413,
     "metadata": {},
     "output_type": "execute_result"
    }
   ],
   "source": [
    "mtrials.losses()"
   ]
  },
  {
   "cell_type": "code",
   "execution_count": 410,
   "metadata": {
    "ExecuteTime": {
     "end_time": "2020-04-20T23:59:05.276800Z",
     "start_time": "2020-04-20T23:58:34.574800Z"
    }
   },
   "outputs": [
    {
     "name": "stdout",
     "output_type": "stream",
     "text": [
      "0.20344991294791878\n"
     ]
    },
    {
     "data": {
      "image/png": "[encoded data removed]",
      "text/plain": [
       "<Figure size 864x864 with 6 Axes>"
      ]
     },
     "metadata": {},
     "output_type": "display_data"
    },
    {
     "ename": "KeyboardInterrupt",
     "evalue": "",
     "output_type": "error",
     "traceback": [
      "\u001b[1;31m---------------------------------------------------------------------------\u001b[0m",
      "\u001b[1;31mKeyboardInterrupt\u001b[0m                         Traceback (most recent call last)",
      "\u001b[1;32m<ipython-input-410-f3b22eb3fef3>\u001b[0m in \u001b[0;36m<module>\u001b[1;34m\u001b[0m\n\u001b[0;32m     19\u001b[0m     \u001b[1;32mif\u001b[0m \u001b[0mlast\u001b[0m\u001b[1;33m:\u001b[0m\u001b[1;33m\u001b[0m\u001b[1;33m\u001b[0m\u001b[0m\n\u001b[0;32m     20\u001b[0m         \u001b[1;32mbreak\u001b[0m\u001b[1;33m\u001b[0m\u001b[1;33m\u001b[0m\u001b[0m\n\u001b[1;32m---> 21\u001b[1;33m     \u001b[0msleep\u001b[0m\u001b[1;33m(\u001b[0m\u001b[1;36m5\u001b[0m \u001b[1;32mif\u001b[0m \u001b[0mi\u001b[0m \u001b[1;33m<\u001b[0m \u001b[1;36m5\u001b[0m \u001b[1;32melse\u001b[0m \u001b[1;36m1\u001b[0m\u001b[1;33m)\u001b[0m\u001b[1;33m\u001b[0m\u001b[1;33m\u001b[0m\u001b[0m\n\u001b[0m",
      "\u001b[1;31mKeyboardInterrupt\u001b[0m: "
     ]
    }
   ],
   "source": [
    "idx_list = np.argsort([x if x is not None else np.inf for x in mtrials.losses()]).flatten()\n",
    "last = False\n",
    "\n",
    "for i, t_idx in enumerate(idx_list):\n",
    "    t = mtrials.trials[t_idx]\n",
    "    if t is None or t.get('result') is None or t['result'].get('training_loss_hist') is None:\n",
    "        t = mtrials.best_trial\n",
    "        last = True\n",
    "        \n",
    "    losses = t['result']['training_loss_hist']\n",
    "    validation_stats = t['result']['validation_stats']\n",
    "\n",
    "    fig = get_performance_plots(losses, validation_stats);\n",
    "    clear_output()\n",
    "    print(t['result']['loss'])\n",
    "    display(fig)\n",
    "    plt.close(fig);\n",
    "    \n",
    "    if last:\n",
    "        break\n",
    "    sleep(5 if i < 5 else 1)"
   ]
  },
  {
   "cell_type": "code",
   "execution_count": 10,
   "metadata": {
    "ExecuteTime": {
     "end_time": "2020-04-27T14:08:28.926398Z",
     "start_time": "2020-04-27T14:08:28.853915Z"
    }
   },
   "outputs": [],
   "source": [
    "from covid.training import _set_random_seeds\n",
    "from covid.datasets import create_data_split, StitchDataset"
   ]
  },
  {
   "cell_type": "code",
   "execution_count": 13,
   "metadata": {
    "ExecuteTime": {
     "end_time": "2020-04-27T14:08:44.791825Z",
     "start_time": "2020-04-27T14:08:44.436536Z"
    }
   },
   "outputs": [],
   "source": [
    "data = StitchDataset('./data/valid_00')"
   ]
  },
  {
   "cell_type": "code",
   "execution_count": 14,
   "metadata": {
    "ExecuteTime": {
     "end_time": "2020-04-27T14:08:47.367021Z",
     "start_time": "2020-04-27T14:08:46.302469Z"
    }
   },
   "outputs": [
    {
     "data": {
      "text/plain": [
       "activation    0.340611\n",
       "binding       0.732567\n",
       "catalysis     0.199311\n",
       "inhibition    0.581246\n",
       "reaction      0.175132\n",
       "dtype: float64"
      ]
     },
     "execution_count": 14,
     "metadata": {},
     "output_type": "execute_result"
    }
   ],
   "source": [
    "data._deferred_load()\n",
    "(data.all_data.iloc[:,2:]>0).mean(0)"
   ]
  },
  {
   "cell_type": "code",
   "execution_count": 4,
   "metadata": {
    "ExecuteTime": {
     "end_time": "2020-04-26T19:18:41.914643Z",
     "start_time": "2020-04-26T19:18:41.910714Z"
    }
   },
   "outputs": [
    {
     "data": {
      "text/plain": [
       "69307"
      ]
     },
     "execution_count": 4,
     "metadata": {},
     "output_type": "execute_result"
    }
   ],
   "source": [
    "len(data)"
   ]
  },
  {
   "cell_type": "code",
   "execution_count": 2,
   "metadata": {
    "ExecuteTime": {
     "end_time": "2020-04-26T19:21:18.634220Z",
     "start_time": "2020-04-26T19:21:18.630232Z"
    }
   },
   "outputs": [],
   "source": [
    "import logging\n",
    "import sys\n",
    "logging.basicConfig(level=logging.DEBUG)"
   ]
  },
  {
   "cell_type": "code",
   "execution_count": 4,
   "metadata": {
    "ExecuteTime": {
     "end_time": "2020-04-26T19:30:17.058917Z",
     "start_time": "2020-04-26T19:26:47.054261Z"
    }
   },
   "outputs": [
    {
     "name": "stderr",
     "output_type": "stream",
     "text": [
      "DEBUG:root:Random seeds set: 4\n",
      "DEBUG:root:Creating 0.875 data split - ./data/retry_train ; ./data/retry_holdout\n"
     ]
    },
    {
     "name": "stdout",
     "output_type": "stream",
     "text": [
      "#4 - CIDs46227962                   \r"
     ]
    },
    {
     "name": "stderr",
     "output_type": "stream",
     "text": [
      "DEBUG:root:Test set selected -- 10.308% (dropping 7.146%, truncated 27.208%)\n"
     ]
    },
    {
     "name": "stdout",
     "output_type": "stream",
     "text": [
      "#3 - CIDm05771750                \r",
      "#2 - CIDs00006267                \r",
      "#1 - CIDs09549297                \r",
      "#0 - CIDs00667466                \r"
     ]
    }
   ],
   "source": [
    "_set_random_seeds(4)\n",
    "create_data_split('./data', './data/retry_train', './data/retry_holdout')"
   ]
  },
  {
   "cell_type": "code",
   "execution_count": 10,
   "metadata": {
    "ExecuteTime": {
     "end_time": "2020-04-25T22:53:32.628315Z",
     "start_time": "2020-04-25T22:53:32.091802Z"
    }
   },
   "outputs": [],
   "source": [
    "new_train_data = StitchDataset('./data/retry_train')"
   ]
  },
  {
   "cell_type": "code",
   "execution_count": 11,
   "metadata": {
    "ExecuteTime": {
     "end_time": "2020-04-25T22:53:37.804534Z",
     "start_time": "2020-04-25T22:53:32.629328Z"
    }
   },
   "outputs": [],
   "source": [
    "new_train_data._deferred_load()"
   ]
  },
  {
   "cell_type": "code",
   "execution_count": 12,
   "metadata": {
    "ExecuteTime": {
     "end_time": "2020-04-25T22:53:37.820537Z",
     "start_time": "2020-04-25T22:53:37.806534Z"
    }
   },
   "outputs": [
    {
     "data": {
      "text/plain": [
       "activation    0.198218\n",
       "binding       0.697067\n",
       "catalysis     0.139705\n",
       "inhibition    0.593850\n",
       "reaction      0.131626\n",
       "dtype: float64"
      ]
     },
     "execution_count": 12,
     "metadata": {},
     "output_type": "execute_result"
    }
   ],
   "source": [
    "(new_train_data.all_data.iloc[:,2:]>0).mean(0)"
   ]
  },
  {
   "cell_type": "code",
   "execution_count": 13,
   "metadata": {
    "ExecuteTime": {
     "end_time": "2020-04-25T22:53:37.833533Z",
     "start_time": "2020-04-25T22:53:37.826536Z"
    }
   },
   "outputs": [
    {
     "data": {
      "text/plain": [
       "(4996, 36396)"
      ]
     },
     "execution_count": 13,
     "metadata": {},
     "output_type": "execute_result"
    }
   ],
   "source": [
    "len(new_train_data.all_chemicals), len(new_train_data.all_proteins)"
   ]
  },
  {
   "cell_type": "code",
   "execution_count": 14,
   "metadata": {
    "ExecuteTime": {
     "end_time": "2020-04-25T22:53:38.256280Z",
     "start_time": "2020-04-25T22:53:37.835537Z"
    }
   },
   "outputs": [
    {
     "data": {
      "text/plain": [
       "activation    0.565565\n",
       "binding       0.450005\n",
       "catalysis     0.359125\n",
       "inhibition    0.159994\n",
       "reaction      0.495763\n",
       "dtype: float64"
      ]
     },
     "execution_count": 14,
     "metadata": {},
     "output_type": "execute_result"
    }
   ],
   "source": [
    "new_test_data = StitchDataset('./data/retry_holdout')\n",
    "new_test_data._deferred_load()\n",
    "(new_test_data.all_data.iloc[:,2:]>0).mean(0)"
   ]
  },
  {
   "cell_type": "code",
   "execution_count": 15,
   "metadata": {
    "ExecuteTime": {
     "end_time": "2020-04-25T22:53:38.264421Z",
     "start_time": "2020-04-25T22:53:38.258281Z"
    }
   },
   "outputs": [
    {
     "data": {
      "text/plain": [
       "(478, 8298)"
      ]
     },
     "execution_count": 15,
     "metadata": {},
     "output_type": "execute_result"
    }
   ],
   "source": [
    "len(new_test_data.all_chemicals), len(new_test_data.all_proteins)"
   ]
  },
  {
   "cell_type": "code",
   "execution_count": 331,
   "metadata": {
    "ExecuteTime": {
     "end_time": "2020-04-20T19:54:32.487470Z",
     "start_time": "2020-04-20T19:54:32.177803Z"
    }
   },
   "outputs": [],
   "source": [
    "import requests"
   ]
  },
  {
   "cell_type": "code",
   "execution_count": 333,
   "metadata": {
    "ExecuteTime": {
     "end_time": "2020-04-20T19:58:47.266142Z",
     "start_time": "2020-04-20T19:58:47.215143Z"
    }
   },
   "outputs": [],
   "source": [
    "with open('./logfile.txt', 'rb') as f:\n",
    "    requests.put('http://127.0.0.1:8000/training-state/logfile', data=f)"
   ]
  },
  {
   "cell_type": "code",
   "execution_count": 334,
   "metadata": {
    "ExecuteTime": {
     "end_time": "2020-04-20T20:08:14.753632Z",
     "start_time": "2020-04-20T20:08:14.270601Z"
    }
   },
   "outputs": [],
   "source": [
    "r = requests.get('https://google.com')"
   ]
  },
  {
   "cell_type": "code",
   "execution_count": 275,
   "metadata": {
    "ExecuteTime": {
     "end_time": "2020-04-20T15:25:22.070131Z",
     "start_time": "2020-04-20T15:25:22.056126Z"
    }
   },
   "outputs": [],
   "source": [
    "import logging"
   ]
  },
  {
   "cell_type": "code",
   "execution_count": 322,
   "metadata": {
    "ExecuteTime": {
     "end_time": "2020-04-20T17:39:28.978935Z",
     "start_time": "2020-04-20T17:39:28.972936Z"
    }
   },
   "outputs": [],
   "source": [
    "d = mtrials.best_trial['refresh_time']"
   ]
  },
  {
   "cell_type": "code",
   "execution_count": 325,
   "metadata": {
    "ExecuteTime": {
     "end_time": "2020-04-20T17:39:46.910566Z",
     "start_time": "2020-04-20T17:39:46.905567Z"
    }
   },
   "outputs": [
    {
     "data": {
      "text/plain": [
       "'29'"
      ]
     },
     "execution_count": 325,
     "metadata": {},
     "output_type": "execute_result"
    }
   ],
   "source": [
    "d.strftime(\"%S\")"
   ]
  },
  {
   "cell_type": "code",
   "execution_count": 317,
   "metadata": {
    "ExecuteTime": {
     "end_time": "2020-04-20T17:38:32.214276Z",
     "start_time": "2020-04-20T17:38:32.197271Z"
    }
   },
   "outputs": [
    {
     "data": {
      "text/plain": [
       "['_id',\n",
       " 'state',\n",
       " 'tid',\n",
       " 'spec',\n",
       " 'result',\n",
       " 'misc',\n",
       " 'exp_key',\n",
       " 'owner',\n",
       " 'version',\n",
       " 'book_time',\n",
       " 'refresh_time']"
      ]
     },
     "execution_count": 317,
     "metadata": {},
     "output_type": "execute_result"
    }
   ],
   "source": [
    "mtrials.best_trial.keys()"
   ]
  },
  {
   "cell_type": "code",
   "execution_count": 313,
   "metadata": {
    "ExecuteTime": {
     "end_time": "2020-04-20T15:59:07.126848Z",
     "start_time": "2020-04-20T15:59:07.115829Z"
    }
   },
   "outputs": [
    {
     "data": {
      "text/plain": [
       "82"
      ]
     },
     "execution_count": 313,
     "metadata": {},
     "output_type": "execute_result"
    }
   ],
   "source": [
    "len(mtrials.trials)"
   ]
  },
  {
   "cell_type": "code",
   "execution_count": 277,
   "metadata": {
    "ExecuteTime": {
     "end_time": "2020-04-20T15:25:41.193913Z",
     "start_time": "2020-04-20T15:25:41.190870Z"
    }
   },
   "outputs": [],
   "source": [
    "log = logging.getLogger()"
   ]
  },
  {
   "cell_type": "code",
   "execution_count": 128,
   "metadata": {
    "ExecuteTime": {
     "end_time": "2020-04-18T20:52:27.211455Z",
     "start_time": "2020-04-18T20:52:27.203485Z"
    }
   },
   "outputs": [],
   "source": [
    "from hyperopt import hp\n",
    "import hyperopt\n",
    "search_space = {\n",
    "        'synthetic_negative_rate': hp.uniform('neg_rate', 0,1),\n",
    "        'optim_initial_lr': 10 ** -hp.quniform('lr_exp', 2, 5, 0.25),\n",
    "        'adam_beta1': 1-hp.loguniform('inv_beta1', -5, -1),\n",
    "        'adam_beta2': 1-hp.loguniform('inv_beta2', -8, -2),\n",
    "        'optim_adam_eps': hp.loguniform('eps', -15, 0),\n",
    "        'dropout_rate': hp.uniform('dropout_rate', 0.01, 0.8),\n",
    "        'chem_layers_per_message': hp.quniform('chem_layers_per_message', 1,4,1),\n",
    "        'chem_hidden_size': hp.quniform('chem_hidden_size', 64,384,64),\n",
    "        'chem_nonlinearity': hp.choice(\n",
    "            'chem_nonlinearity',\n",
    "            ['ReLU', 'LeakyReLU', 'tanh', 'ELU']),\n",
    "        'protein_base_dim': hp.quniform('protien_base_dim', 16,80,16),\n",
    "        'protein_output_dim': hp.quniform('protein_out_dim', 64, 384, 64),\n",
    "        'protein_nonlinearity': hp.choice(\n",
    "            'protein_nonlinearity', \n",
    "            ['relu', 'silu', 'tanh', 'leaky_relu', 'elu']),\n",
    "        'protein_downscale_nonlinearity': hp.choice(\n",
    "            'protein_downscale_nonlinearity', \n",
    "            ['relu', 'silu', 'tanh', 'leaky_relu', 'elu']),\n",
    "    }"
   ]
  },
  {
   "cell_type": "code",
   "execution_count": 129,
   "metadata": {
    "ExecuteTime": {
     "end_time": "2020-04-18T20:52:27.228468Z",
     "start_time": "2020-04-18T20:52:27.213467Z"
    }
   },
   "outputs": [
    {
     "data": {
      "text/plain": [
       "SON([('chem_hidden_size', [384.0]), ('chem_layers_per_message', [1.0]), ('chem_nonlinearity', [3]), ('eps', [1.973891530032813e-06]), ('inv_beta1', [0.05730964741577067]), ('inv_beta2', [0.02348907039091992]), ('lr_exp', [3.5]), ('neg_rate', [0.20401408708284396]), ('protein_downscale_nonlinearity', [4]), ('protein_nonlinearity', [0]), ('protein_out_dim', [256.0]), ('protien_base_dim', [80.0]), ('dropout_rate', [0.4])])"
      ]
     },
     "execution_count": 129,
     "metadata": {},
     "output_type": "execute_result"
    }
   ],
   "source": [
    "mtrials.best_trial['misc']['vals']"
   ]
  },
  {
   "cell_type": "code",
   "execution_count": 301,
   "metadata": {
    "ExecuteTime": {
     "end_time": "2020-04-20T15:33:04.009748Z",
     "start_time": "2020-04-20T15:33:04.000752Z"
    }
   },
   "outputs": [
    {
     "data": {
      "text/plain": [
       "{'adam_beta1': 0.9610379605240368,\n",
       " 'adam_beta2': 0.9909243250920076,\n",
       " 'chem_hidden_size': 448.0,\n",
       " 'chem_layers_per_message': 1.0,\n",
       " 'chem_nonlinearity': 'ELU',\n",
       " 'dropout_rate': 0.03688811278332571,\n",
       " 'optim_adam_eps': 4.249902669467103e-05,\n",
       " 'optim_initial_lr': 0.00031622776601683794,\n",
       " 'protein_base_dim': 32.0,\n",
       " 'protein_downscale_nonlinearity': 'tanh',\n",
       " 'protein_nonlinearity': 'relu',\n",
       " 'protein_output_dim': 64.0,\n",
       " 'synthetic_negative_rate': 0.13382273239526193}"
      ]
     },
     "execution_count": 301,
     "metadata": {},
     "output_type": "execute_result"
    }
   ],
   "source": [
    "hyperopt.space_eval(search_space, {k:v[0] for k,v in mtrials.trials[idx_list[2]]['misc']['vals'].items() if len(v) > 0})"
   ]
  },
  {
   "cell_type": "code",
   "execution_count": 105,
   "metadata": {
    "ExecuteTime": {
     "end_time": "2020-04-18T20:47:24.160089Z",
     "start_time": "2020-04-18T20:47:24.154089Z"
    }
   },
   "outputs": [
    {
     "data": {
      "text/plain": [
       "{'chem_hidden_size': [384.0],\n",
       " 'chem_layers_per_message': [1.0],\n",
       " 'chem_nonlinearity': [3],\n",
       " 'eps': [1.973891530032813e-06],\n",
       " 'inv_beta1': [0.05730964741577067],\n",
       " 'inv_beta2': [0.02348907039091992],\n",
       " 'lr_exp': [3.5],\n",
       " 'neg_rate': [0.20401408708284396],\n",
       " 'protein_downscale_nonlinearity': [4],\n",
       " 'protein_nonlinearity': [0],\n",
       " 'protein_out_dim': [256.0],\n",
       " 'protien_base_dim': [80.0]}"
      ]
     },
     "execution_count": 105,
     "metadata": {},
     "output_type": "execute_result"
    }
   ],
   "source": [
    "dict(mtrials.best_trial['misc']['vals'])"
   ]
  },
  {
   "cell_type": "code",
   "execution_count": 5,
   "metadata": {
    "ExecuteTime": {
     "end_time": "2020-04-17T01:08:47.519091Z",
     "start_time": "2020-04-17T01:08:42.735239Z"
    }
   },
   "outputs": [],
   "source": [
    "config = covid.training.CovidTrainingConfiguration()\n",
    "dl, vdl = covid.training._create_dataloaders(config)"
   ]
  },
  {
   "cell_type": "code",
   "execution_count": 6,
   "metadata": {
    "ExecuteTime": {
     "end_time": "2020-04-17T01:08:50.375889Z",
     "start_time": "2020-04-17T01:08:50.369883Z"
    }
   },
   "outputs": [
    {
     "data": {
      "text/plain": [
       "8545"
      ]
     },
     "execution_count": 6,
     "metadata": {},
     "output_type": "execute_result"
    }
   ],
   "source": [
    "len(dl)"
   ]
  },
  {
   "cell_type": "code",
   "execution_count": 7,
   "metadata": {
    "ExecuteTime": {
     "end_time": "2020-04-17T01:09:09.289953Z",
     "start_time": "2020-04-17T01:09:01.035939Z"
    }
   },
   "outputs": [],
   "source": [
    "it = iter(dl)"
   ]
  },
  {
   "cell_type": "code",
   "execution_count": 10,
   "metadata": {
    "ExecuteTime": {
     "end_time": "2020-04-17T01:13:32.903410Z",
     "start_time": "2020-04-17T01:09:47.009270Z"
    }
   },
   "outputs": [],
   "source": [
    "for _ in range (8500):\n",
    "    next(it)"
   ]
  },
  {
   "cell_type": "code",
   "execution_count": 4,
   "metadata": {
    "ExecuteTime": {
     "end_time": "2020-04-16T19:33:40.945354Z",
     "start_time": "2020-04-16T19:33:40.936344Z"
    }
   },
   "outputs": [],
   "source": [
    "np.random.seed(4);\n",
    "random.seed(4);\n",
    "T.manual_seed(4);\n",
    "\n",
    "# 4 -- chosen by fair die roll.  Guaranteed to be random.  https://xkcd.com/221/"
   ]
  },
  {
   "cell_type": "code",
   "execution_count": 5,
   "metadata": {
    "ExecuteTime": {
     "end_time": "2020-04-16T19:33:40.950320Z",
     "start_time": "2020-04-16T19:33:40.946318Z"
    }
   },
   "outputs": [],
   "source": [
    "DROPOUT_RATE = 0.4\n",
    "BATCH_SIZE = 16\n",
    "\n",
    "VALIDATION_FREQUENCY = 0.2"
   ]
  },
  {
   "cell_type": "code",
   "execution_count": 6,
   "metadata": {
    "ExecuteTime": {
     "end_time": "2020-04-16T19:33:40.956351Z",
     "start_time": "2020-04-16T19:33:40.953360Z"
    }
   },
   "outputs": [],
   "source": [
    "DEVICE = 'cuda'"
   ]
  },
  {
   "cell_type": "code",
   "execution_count": 7,
   "metadata": {
    "ExecuteTime": {
     "end_time": "2020-04-16T19:33:41.068360Z",
     "start_time": "2020-04-16T19:33:40.959326Z"
    }
   },
   "outputs": [],
   "source": [
    "chem_model = MPNEncoder(\n",
    "    layers_per_message=2, \n",
    "    hidden_size=300,\n",
    "    dropout=DROPOUT_RATE\n",
    ")\n",
    "\n",
    "protein_model = create_protein_model(dropout=DROPOUT_RATE)\n",
    "\n",
    "model = CovidModel(chem_model, protein_model, dropout=DROPOUT_RATE)"
   ]
  },
  {
   "cell_type": "code",
   "execution_count": 8,
   "metadata": {
    "ExecuteTime": {
     "end_time": "2020-04-16T19:33:53.707150Z",
     "start_time": "2020-04-16T19:33:53.704151Z"
    }
   },
   "outputs": [],
   "source": [
    "params = list(model.parameters())"
   ]
  },
  {
   "cell_type": "code",
   "execution_count": 17,
   "metadata": {
    "ExecuteTime": {
     "end_time": "2020-04-16T19:35:45.287040Z",
     "start_time": "2020-04-16T19:35:45.204020Z"
    }
   },
   "outputs": [],
   "source": [
    "for param in params:\n",
    "    if len(param.shape) >= 2:\n",
    "        T.nn.init.kaiming_normal_(param)\n",
    "    else:\n",
    "        T.nn.init.normal_(param)"
   ]
  },
  {
   "cell_type": "code",
   "execution_count": 8,
   "metadata": {
    "ExecuteTime": {
     "end_time": "2020-04-15T05:36:37.026783Z",
     "start_time": "2020-04-15T05:36:34.517062Z"
    }
   },
   "outputs": [],
   "source": [
    "model.to(DEVICE);"
   ]
  },
  {
   "cell_type": "code",
   "execution_count": 9,
   "metadata": {
    "ExecuteTime": {
     "end_time": "2020-04-15T05:36:37.032768Z",
     "start_time": "2020-04-15T05:36:37.027770Z"
    }
   },
   "outputs": [],
   "source": [
    "if not os.path.exists('./data/training'):\n",
    "    create_data_split('./data', './data/training', './data/final_holdout')\n",
    "    \n",
    "    for i in range(10):\n",
    "        create_data_split('./data/training', f'./data/train_{i:02}', f'./data/valid_{i:02}')"
   ]
  },
  {
   "cell_type": "code",
   "execution_count": 10,
   "metadata": {
    "ExecuteTime": {
     "end_time": "2020-04-15T05:36:37.046789Z",
     "start_time": "2020-04-15T05:36:37.033771Z"
    }
   },
   "outputs": [],
   "source": [
    "# Have to reset the seeds again to account for the possibility we did or didn't just create the datasets\n",
    "\n",
    "np.random.seed(4);\n",
    "random.seed(4);\n",
    "T.manual_seed(4);"
   ]
  },
  {
   "cell_type": "code",
   "execution_count": 11,
   "metadata": {
    "ExecuteTime": {
     "end_time": "2020-04-15T05:36:41.792224Z",
     "start_time": "2020-04-15T05:36:37.049768Z"
    },
    "scrolled": true
   },
   "outputs": [],
   "source": [
    "data = covid.datasets.StitchDataset('./data/train_00')\n",
    "dataloader = create_dataloader(data, BATCH_SIZE)"
   ]
  },
  {
   "cell_type": "code",
   "execution_count": 12,
   "metadata": {
    "ExecuteTime": {
     "end_time": "2020-04-15T05:36:42.385284Z",
     "start_time": "2020-04-15T05:36:41.793192Z"
    }
   },
   "outputs": [],
   "source": [
    "validation_data = covid.datasets.StitchDataset('./data/valid_00', neg_rate=0.0)\n",
    "validation_dataloader = create_dataloader(validation_data, BATCH_SIZE)"
   ]
  },
  {
   "cell_type": "code",
   "execution_count": 13,
   "metadata": {
    "ExecuteTime": {
     "end_time": "2020-04-15T05:36:42.390082Z",
     "start_time": "2020-04-15T05:36:42.387082Z"
    }
   },
   "outputs": [],
   "source": [
    "optim = T.optim.Adam(model.parameters(), lr=1e-4, betas=(0.95, 0.99))\n",
    "warmup = LinearWarmupScheduler(optim, 2000)"
   ]
  },
  {
   "cell_type": "code",
   "execution_count": 14,
   "metadata": {
    "ExecuteTime": {
     "end_time": "2020-04-15T05:36:42.406157Z",
     "start_time": "2020-04-15T05:36:42.392082Z"
    }
   },
   "outputs": [],
   "source": [
    "losses = []\n",
    "validation_stats = []"
   ]
  },
  {
   "cell_type": "code",
   "execution_count": 11,
   "metadata": {
    "ExecuteTime": {
     "end_time": "2020-04-25T17:55:21.883466Z",
     "start_time": "2020-04-25T17:55:21.880486Z"
    }
   },
   "outputs": [],
   "source": [
    "from covid.training import _create_model, CovidTrainingConfiguration, _create_dataloaders"
   ]
  },
  {
   "cell_type": "code",
   "execution_count": 17,
   "metadata": {
    "ExecuteTime": {
     "end_time": "2020-04-25T17:55:53.811888Z",
     "start_time": "2020-04-25T17:55:53.808835Z"
    }
   },
   "outputs": [],
   "source": [
    "from hyperopt import hp"
   ]
  },
  {
   "cell_type": "code",
   "execution_count": 18,
   "metadata": {
    "ExecuteTime": {
     "end_time": "2020-04-25T17:55:54.076934Z",
     "start_time": "2020-04-25T17:55:54.065929Z"
    }
   },
   "outputs": [],
   "source": [
    "SEARCH_SPACE = {\n",
    "    'synthetic_negative_rate': hp.uniform('neg_rate', 0,1),\n",
    "    'optim_initial_lr': 10 ** -hp.quniform('lr_exp', 2, 5, 0.25),\n",
    "    'adam_beta1': 1-hp.loguniform('inv_beta1', -5, -1),\n",
    "    'adam_beta2': 1-hp.loguniform('inv_beta2', -8, -2),\n",
    "    'optim_adam_eps': hp.loguniform('eps', -15, 0),\n",
    "    'dropout_rate': hp.uniform('dropout_rate', 0.01, 0.8),\n",
    "    'chem_layers_per_message': hp.quniform('chem_layers_per_message', 1,4,1),\n",
    "    'chem_hidden_size': hp.quniform('chem_hidden_size', 64,512,64),\n",
    "    'chem_nonlinearity': hp.choice(\n",
    "        'chem_nonlinearity',\n",
    "        ['ReLU', 'LeakyReLU', 'tanh', 'ELU']),\n",
    "    'protein_base_dim': hp.quniform('protien_base_dim', 16,128,16),\n",
    "    'protein_output_dim': hp.quniform('protein_out_dim', 64, 384, 64),\n",
    "    'protein_nonlinearity': hp.choice(\n",
    "        'protein_nonlinearity', \n",
    "        ['relu', 'silu', 'tanh', 'leaky_relu', 'elu']),\n",
    "    'protein_downscale_nonlinearity': hp.choice(\n",
    "        'protein_downscale_nonlinearity', \n",
    "        ['relu', 'silu', 'tanh', 'leaky_relu', 'elu']),\n",
    "}"
   ]
  },
  {
   "cell_type": "code",
   "execution_count": 64,
   "metadata": {
    "ExecuteTime": {
     "end_time": "2020-04-25T20:52:19.005989Z",
     "start_time": "2020-04-25T20:52:19.001988Z"
    }
   },
   "outputs": [],
   "source": [
    "model_key = 'hyperopt_f405f71cb2bd'\n",
    "model_tid = 10956796"
   ]
  },
  {
   "cell_type": "code",
   "execution_count": 65,
   "metadata": {
    "ExecuteTime": {
     "end_time": "2020-04-25T20:52:19.896732Z",
     "start_time": "2020-04-25T20:52:19.331956Z"
    }
   },
   "outputs": [],
   "source": [
    "run = jobs.find_one({'tid':model_tid})"
   ]
  },
  {
   "cell_type": "code",
   "execution_count": 66,
   "metadata": {
    "ExecuteTime": {
     "end_time": "2020-04-25T20:52:19.908731Z",
     "start_time": "2020-04-25T20:52:19.897730Z"
    }
   },
   "outputs": [],
   "source": [
    "params = hyperopt.space_eval(SEARCH_SPACE, {k:v[0] for k,v in run['misc'].get('vals',{}).items()})"
   ]
  },
  {
   "cell_type": "code",
   "execution_count": 67,
   "metadata": {
    "ExecuteTime": {
     "end_time": "2020-04-25T20:52:20.518641Z",
     "start_time": "2020-04-25T20:52:20.511610Z"
    }
   },
   "outputs": [
    {
     "name": "stdout",
     "output_type": "stream",
     "text": [
      "No parameter adam_beta1 -- skipping\n",
      "No parameter adam_beta2 -- skipping\n"
     ]
    }
   ],
   "source": [
    "config = CovidTrainingConfiguration()\n",
    "for key, val in params.items():\n",
    "        if not hasattr(config, key):\n",
    "            print(f\"No parameter {key} -- skipping\")\n",
    "            continue\n",
    "\n",
    "        if isinstance(getattr(config, key), int):\n",
    "            setattr(config, key, int(val))\n",
    "        else:\n",
    "            setattr(config, key, val)"
   ]
  },
  {
   "cell_type": "code",
   "execution_count": 68,
   "metadata": {
    "ExecuteTime": {
     "end_time": "2020-04-25T20:52:21.104704Z",
     "start_time": "2020-04-25T20:52:21.099707Z"
    }
   },
   "outputs": [],
   "source": [
    "import requests"
   ]
  },
  {
   "cell_type": "code",
   "execution_count": 69,
   "metadata": {
    "ExecuteTime": {
     "end_time": "2020-04-25T20:52:24.258173Z",
     "start_time": "2020-04-25T20:52:21.605424Z"
    }
   },
   "outputs": [],
   "source": [
    "r = requests.get(f'http://localhost:5535/training-state/{model_key}', stream=True)\n",
    "with gzip.open(r.raw, 'rb') as f:\n",
    "#with gzip.open(\"../../Downloads/hyperopt_0b99c3062211__state.pkl.gz\", \"rb\") as f:\n",
    "    state = T.load(f, map_location=config.device)"
   ]
  },
  {
   "cell_type": "code",
   "execution_count": 70,
   "metadata": {
    "ExecuteTime": {
     "end_time": "2020-04-25T20:52:24.268136Z",
     "start_time": "2020-04-25T20:52:24.260184Z"
    }
   },
   "outputs": [],
   "source": [
    "class AvgWrapper(nn.Module):\n",
    "    def __init__(self, module, decay = 0.95):\n",
    "        super().__init__()\n",
    "        self._avg = None\n",
    "        self._module = module\n",
    "        self._decay = decay\n",
    "        \n",
    "    def forward(self, *args, **kwargs):\n",
    "        val = self._module(*args, **kwargs)\n",
    "        \n",
    "        if self._avg is None:\n",
    "            self._avg = val.detach().mean(0, keepdim=True)\n",
    "            \n",
    "        self._avg = self._avg * self._decay + (1-self._decay) * val.detach().mean(0, keepdim=True)\n",
    "        \n",
    "        return self._avg.clone().repeat((val.shape[0],) + tuple(1 for _ in val.shape[1:]))\n",
    "    \n",
    "class ZeroWrapper(nn.Module):\n",
    "    def __init__(self, module):\n",
    "        super().__init__()\n",
    "        self._module = module\n",
    "        \n",
    "    def forward(self, *args, **kwargs):\n",
    "        val = self._module(*args, **kwargs)\n",
    "        \n",
    "        return val * 0.0"
   ]
  },
  {
   "cell_type": "code",
   "execution_count": 80,
   "metadata": {
    "ExecuteTime": {
     "end_time": "2020-04-25T21:11:00.001042Z",
     "start_time": "2020-04-25T21:10:59.994517Z"
    }
   },
   "outputs": [],
   "source": [
    "from sklearn.model_selection import train_test_split"
   ]
  },
  {
   "cell_type": "code",
   "execution_count": 71,
   "metadata": {
    "ExecuteTime": {
     "end_time": "2020-04-25T20:52:33.716893Z",
     "start_time": "2020-04-25T20:52:24.273444Z"
    }
   },
   "outputs": [],
   "source": [
    "train_dl, val_dl = _create_dataloaders(config, 1.0)"
   ]
  },
  {
   "cell_type": "code",
   "execution_count": 88,
   "metadata": {
    "ExecuteTime": {
     "end_time": "2020-04-25T21:13:36.773335Z",
     "start_time": "2020-04-25T21:13:36.757353Z"
    }
   },
   "outputs": [
    {
     "data": {
      "text/html": [
       "<div>\n",
       "<style scoped>\n",
       "    .dataframe tbody tr th:only-of-type {\n",
       "        vertical-align: middle;\n",
       "    }\n",
       "\n",
       "    .dataframe tbody tr th {\n",
       "        vertical-align: top;\n",
       "    }\n",
       "\n",
       "    .dataframe thead th {\n",
       "        text-align: right;\n",
       "    }\n",
       "</style>\n",
       "<table border=\"1\" class=\"dataframe\">\n",
       "  <thead>\n",
       "    <tr style=\"text-align: right;\">\n",
       "      <th></th>\n",
       "      <th>item_id_a</th>\n",
       "      <th>item_id_b</th>\n",
       "      <th>activation</th>\n",
       "      <th>binding</th>\n",
       "      <th>catalysis</th>\n",
       "      <th>inhibition</th>\n",
       "      <th>reaction</th>\n",
       "    </tr>\n",
       "  </thead>\n",
       "  <tbody>\n",
       "    <tr>\n",
       "      <th>0</th>\n",
       "      <td>CIDm00000015</td>\n",
       "      <td>10116.ENSRNOP00000009129</td>\n",
       "      <td>211.666667</td>\n",
       "      <td>999.0</td>\n",
       "      <td>0.0</td>\n",
       "      <td>795.000000</td>\n",
       "      <td>0.0</td>\n",
       "    </tr>\n",
       "    <tr>\n",
       "      <th>1</th>\n",
       "      <td>CIDm00000015</td>\n",
       "      <td>10141.ENSCPOP00000009446</td>\n",
       "      <td>0.000000</td>\n",
       "      <td>997.0</td>\n",
       "      <td>0.0</td>\n",
       "      <td>353.333333</td>\n",
       "      <td>0.0</td>\n",
       "    </tr>\n",
       "    <tr>\n",
       "      <th>2</th>\n",
       "      <td>CIDm00000015</td>\n",
       "      <td>13616.ENSMODP00000016441</td>\n",
       "      <td>322.000000</td>\n",
       "      <td>997.0</td>\n",
       "      <td>0.0</td>\n",
       "      <td>354.333333</td>\n",
       "      <td>0.0</td>\n",
       "    </tr>\n",
       "    <tr>\n",
       "      <th>3</th>\n",
       "      <td>CIDm00000015</td>\n",
       "      <td>28377.ENSACAP00000012374</td>\n",
       "      <td>0.000000</td>\n",
       "      <td>997.0</td>\n",
       "      <td>0.0</td>\n",
       "      <td>353.333333</td>\n",
       "      <td>0.0</td>\n",
       "    </tr>\n",
       "    <tr>\n",
       "      <th>4</th>\n",
       "      <td>CIDm00000015</td>\n",
       "      <td>51511.ENSCSAVP00000011584</td>\n",
       "      <td>292.000000</td>\n",
       "      <td>999.0</td>\n",
       "      <td>0.0</td>\n",
       "      <td>396.666667</td>\n",
       "      <td>0.0</td>\n",
       "    </tr>\n",
       "  </tbody>\n",
       "</table>\n",
       "</div>"
      ],
      "text/plain": [
       "      item_id_a                  item_id_b  activation  binding  catalysis  \\\n",
       "0  CIDm00000015   10116.ENSRNOP00000009129  211.666667    999.0        0.0   \n",
       "1  CIDm00000015   10141.ENSCPOP00000009446    0.000000    997.0        0.0   \n",
       "2  CIDm00000015   13616.ENSMODP00000016441  322.000000    997.0        0.0   \n",
       "3  CIDm00000015   28377.ENSACAP00000012374    0.000000    997.0        0.0   \n",
       "4  CIDm00000015  51511.ENSCSAVP00000011584  292.000000    999.0        0.0   \n",
       "\n",
       "   inhibition  reaction  \n",
       "0  795.000000       0.0  \n",
       "1  353.333333       0.0  \n",
       "2  354.333333       0.0  \n",
       "3  353.333333       0.0  \n",
       "4  396.666667       0.0  "
      ]
     },
     "execution_count": 88,
     "metadata": {},
     "output_type": "execute_result"
    }
   ],
   "source": [
    "train_dl.dataset.datasets[0].all_data.head()"
   ]
  },
  {
   "cell_type": "code",
   "execution_count": 94,
   "metadata": {
    "ExecuteTime": {
     "end_time": "2020-04-25T21:15:09.239012Z",
     "start_time": "2020-04-25T21:15:09.048006Z"
    }
   },
   "outputs": [
    {
     "data": {
      "text/plain": [
       "(array([3215.,  115.,  122.,  150.,  205.,  143.,  186.,  308.,  827.,\n",
       "        1055.]),\n",
       " array([  0. ,  99.9, 199.8, 299.7, 399.6, 499.5, 599.4, 699.3, 799.2,\n",
       "        899.1, 999. ]),\n",
       " <a list of 10 Patch objects>)"
      ]
     },
     "execution_count": 94,
     "metadata": {},
     "output_type": "execute_result"
    },
    {
     "data": {
      "image/png": "[encoded data removed]",
      "text/plain": [
       "<Figure size 432x288 with 1 Axes>"
      ]
     },
     "metadata": {
      "needs_background": "light"
     },
     "output_type": "display_data"
    }
   ],
   "source": [
    "plt.hist(train_dl.dataset.datasets[0].all_data.groupby('item_id_a')['inhibition'].mean().sort_values())"
   ]
  },
  {
   "cell_type": "code",
   "execution_count": 72,
   "metadata": {
    "ExecuteTime": {
     "end_time": "2020-04-25T20:52:33.868007Z",
     "start_time": "2020-04-25T20:52:33.718400Z"
    }
   },
   "outputs": [],
   "source": [
    "good_model = _create_model(config)\n",
    "no_chem_model = _create_model(config)\n",
    "no_prot_model = _create_model(config)\n",
    "\n",
    "MODELS = good_model, no_chem_model, no_prot_model"
   ]
  },
  {
   "cell_type": "code",
   "execution_count": 73,
   "metadata": {
    "ExecuteTime": {
     "end_time": "2020-04-25T20:52:33.876449Z",
     "start_time": "2020-04-25T20:52:33.872447Z"
    }
   },
   "outputs": [],
   "source": [
    "MODEL_NAMES = ['Real', 'Chem Component Averaged', 'Protein Component Averaged']"
   ]
  },
  {
   "cell_type": "code",
   "execution_count": 74,
   "metadata": {
    "ExecuteTime": {
     "end_time": "2020-04-25T20:52:34.049642Z",
     "start_time": "2020-04-25T20:52:33.879444Z"
    }
   },
   "outputs": [],
   "source": [
    "for model in MODELS:\n",
    "    model.load_state_dict(state['model'])\n",
    "    model = model.to(device=config.device)"
   ]
  },
  {
   "cell_type": "code",
   "execution_count": 75,
   "metadata": {
    "ExecuteTime": {
     "end_time": "2020-04-25T20:52:40.232296Z",
     "start_time": "2020-04-25T20:52:40.229294Z"
    }
   },
   "outputs": [],
   "source": [
    "no_chem_model.chem_model = AvgWrapper(no_chem_model.chem_model)\n",
    "no_prot_model.protein_model = AvgWrapper(no_prot_model.protein_model)"
   ]
  },
  {
   "cell_type": "code",
   "execution_count": 76,
   "metadata": {
    "ExecuteTime": {
     "end_time": "2020-04-25T20:52:40.837024Z",
     "start_time": "2020-04-25T20:52:40.831015Z"
    }
   },
   "outputs": [],
   "source": [
    "from covid.reporting import calculate_average_loss_and_accuracy, get_performance_stats"
   ]
  },
  {
   "cell_type": "code",
   "execution_count": 77,
   "metadata": {
    "ExecuteTime": {
     "end_time": "2020-04-25T20:59:30.013479Z",
     "start_time": "2020-04-25T20:52:41.061016Z"
    }
   },
   "outputs": [
    {
     "data": {
      "application/vnd.jupyter.widget-view+json": {
       "model_id": "188ee44a8bf046dd9ae30d9a252a492c",
       "version_major": 2,
       "version_minor": 0
      },
      "text/plain": [
       "HBox(children=(FloatProgress(value=0.0, max=1588.0), HTML(value='')))"
      ]
     },
     "metadata": {},
     "output_type": "display_data"
    },
    {
     "name": "stdout",
     "output_type": "stream",
     "text": [
      "\n"
     ]
    },
    {
     "data": {
      "application/vnd.jupyter.widget-view+json": {
       "model_id": "31eb77425eea4af895d7ee11ba7092e9",
       "version_major": 2,
       "version_minor": 0
      },
      "text/plain": [
       "HBox(children=(FloatProgress(value=0.0, max=1588.0), HTML(value='')))"
      ]
     },
     "metadata": {},
     "output_type": "display_data"
    },
    {
     "name": "stdout",
     "output_type": "stream",
     "text": [
      "\n"
     ]
    },
    {
     "data": {
      "application/vnd.jupyter.widget-view+json": {
       "model_id": "b69ab73ab6134f65937da1b555d244f0",
       "version_major": 2,
       "version_minor": 0
      },
      "text/plain": [
       "HBox(children=(FloatProgress(value=0.0, max=1588.0), HTML(value='')))"
      ]
     },
     "metadata": {},
     "output_type": "display_data"
    },
    {
     "name": "stdout",
     "output_type": "stream",
     "text": [
      "\n"
     ]
    }
   ],
   "source": [
    "stats = [\n",
    "    calculate_average_loss_and_accuracy(model, val_dl, config.device)\n",
    "    for model in MODELS\n",
    "]"
   ]
  },
  {
   "cell_type": "code",
   "execution_count": 78,
   "metadata": {
    "ExecuteTime": {
     "end_time": "2020-04-25T20:59:30.017481Z",
     "start_time": "2020-04-25T20:59:30.014482Z"
    }
   },
   "outputs": [],
   "source": [
    "from sklearn.metrics import roc_curve"
   ]
  },
  {
   "cell_type": "code",
   "execution_count": 79,
   "metadata": {
    "ExecuteTime": {
     "end_time": "2020-04-25T20:59:30.322708Z",
     "start_time": "2020-04-25T20:59:30.019480Z"
    }
   },
   "outputs": [
    {
     "data": {
      "text/plain": [
       "<matplotlib.legend.Legend at 0x1a2e00bd948>"
      ]
     },
     "execution_count": 79,
     "metadata": {},
     "output_type": "execute_result"
    },
    {
     "data": {
      "image/png": "[encoded data removed]",
      "text/plain": [
       "<Figure size 432x288 with 1 Axes>"
      ]
     },
     "metadata": {
      "needs_background": "light"
     },
     "output_type": "display_data"
    }
   ],
   "source": [
    "for model_stats, name in zip(stats, MODEL_NAMES):\n",
    "    fpr, tpr, thresholds = roc_curve(model_stats[-1]['Inhibition'].values.astype(int), model_stats[-1]['pred_Inhibition'].values, pos_label=1)\n",
    "    plt.plot(fpr, tpr, label=name)\n",
    "    plt.xlabel('false positive rate')\n",
    "    plt.ylabel('true positive rate')\n",
    "    \n",
    "plt.plot((0,1), (0,1), ls=':', c='k')\n",
    "plt.legend()"
   ]
  },
  {
   "cell_type": "code",
   "execution_count": 390,
   "metadata": {
    "ExecuteTime": {
     "end_time": "2020-04-25T03:09:54.494773Z",
     "start_time": "2020-04-25T03:09:54.428767Z"
    }
   },
   "outputs": [
    {
     "data": {
      "text/html": [
       "<div>\n",
       "<style scoped>\n",
       "    .dataframe tbody tr th:only-of-type {\n",
       "        vertical-align: middle;\n",
       "    }\n",
       "\n",
       "    .dataframe tbody tr th {\n",
       "        vertical-align: top;\n",
       "    }\n",
       "\n",
       "    .dataframe thead th {\n",
       "        text-align: right;\n",
       "    }\n",
       "</style>\n",
       "<table border=\"1\" class=\"dataframe\">\n",
       "  <thead>\n",
       "    <tr style=\"text-align: right;\">\n",
       "      <th></th>\n",
       "      <th>chem</th>\n",
       "      <th>protein</th>\n",
       "      <th>Activation</th>\n",
       "      <th>Binding</th>\n",
       "      <th>Catalysis</th>\n",
       "      <th>Inhibition</th>\n",
       "      <th>Reaction</th>\n",
       "      <th>pred_Activation</th>\n",
       "      <th>pred_Binding</th>\n",
       "      <th>pred_Catalysis</th>\n",
       "      <th>pred_Inhibition</th>\n",
       "      <th>pred_Reaction</th>\n",
       "    </tr>\n",
       "  </thead>\n",
       "  <tbody>\n",
       "    <tr>\n",
       "      <th>0</th>\n",
       "      <td>CIDs05480230</td>\n",
       "      <td>6239.C16D6.2</td>\n",
       "      <td>0.0</td>\n",
       "      <td>1.0</td>\n",
       "      <td>0.0</td>\n",
       "      <td>1.0</td>\n",
       "      <td>0.0</td>\n",
       "      <td>2.275075e-04</td>\n",
       "      <td>9.969389e-01</td>\n",
       "      <td>0.000060</td>\n",
       "      <td>9.924179e-01</td>\n",
       "      <td>5.988303e-08</td>\n",
       "    </tr>\n",
       "    <tr>\n",
       "      <th>1</th>\n",
       "      <td>CIDm00000985</td>\n",
       "      <td>69293.ENSGACP00000021040</td>\n",
       "      <td>1.0</td>\n",
       "      <td>0.0</td>\n",
       "      <td>0.0</td>\n",
       "      <td>0.0</td>\n",
       "      <td>0.0</td>\n",
       "      <td>9.985124e-01</td>\n",
       "      <td>2.116413e-03</td>\n",
       "      <td>0.001571</td>\n",
       "      <td>7.492861e-04</td>\n",
       "      <td>5.397182e-03</td>\n",
       "    </tr>\n",
       "    <tr>\n",
       "      <th>2</th>\n",
       "      <td>CIDs05460048</td>\n",
       "      <td>8364.ENSXETP00000008146</td>\n",
       "      <td>0.0</td>\n",
       "      <td>1.0</td>\n",
       "      <td>0.0</td>\n",
       "      <td>0.0</td>\n",
       "      <td>1.0</td>\n",
       "      <td>8.454274e-01</td>\n",
       "      <td>9.970009e-01</td>\n",
       "      <td>0.003710</td>\n",
       "      <td>3.980134e-04</td>\n",
       "      <td>9.988585e-01</td>\n",
       "    </tr>\n",
       "    <tr>\n",
       "      <th>3</th>\n",
       "      <td>CIDm00003931</td>\n",
       "      <td>9361.ENSDNOP00000007730</td>\n",
       "      <td>1.0</td>\n",
       "      <td>0.0</td>\n",
       "      <td>0.0</td>\n",
       "      <td>0.0</td>\n",
       "      <td>0.0</td>\n",
       "      <td>9.998679e-01</td>\n",
       "      <td>2.577218e-08</td>\n",
       "      <td>0.000003</td>\n",
       "      <td>1.558913e-05</td>\n",
       "      <td>1.820825e-06</td>\n",
       "    </tr>\n",
       "    <tr>\n",
       "      <th>4</th>\n",
       "      <td>CIDs06438398</td>\n",
       "      <td>10116.ENSRNOP00000018622</td>\n",
       "      <td>0.0</td>\n",
       "      <td>0.0</td>\n",
       "      <td>0.0</td>\n",
       "      <td>0.0</td>\n",
       "      <td>1.0</td>\n",
       "      <td>2.615208e-02</td>\n",
       "      <td>2.999941e-02</td>\n",
       "      <td>0.000039</td>\n",
       "      <td>3.625387e-06</td>\n",
       "      <td>9.495355e-01</td>\n",
       "    </tr>\n",
       "    <tr>\n",
       "      <th>...</th>\n",
       "      <td>...</td>\n",
       "      <td>...</td>\n",
       "      <td>...</td>\n",
       "      <td>...</td>\n",
       "      <td>...</td>\n",
       "      <td>...</td>\n",
       "      <td>...</td>\n",
       "      <td>...</td>\n",
       "      <td>...</td>\n",
       "      <td>...</td>\n",
       "      <td>...</td>\n",
       "      <td>...</td>\n",
       "    </tr>\n",
       "    <tr>\n",
       "      <th>19051</th>\n",
       "      <td>CIDs00015993</td>\n",
       "      <td>7260.FBpp0254127</td>\n",
       "      <td>0.0</td>\n",
       "      <td>0.0</td>\n",
       "      <td>0.0</td>\n",
       "      <td>1.0</td>\n",
       "      <td>0.0</td>\n",
       "      <td>5.934486e-07</td>\n",
       "      <td>8.271730e-06</td>\n",
       "      <td>0.002346</td>\n",
       "      <td>2.115073e-01</td>\n",
       "      <td>2.298784e-03</td>\n",
       "    </tr>\n",
       "    <tr>\n",
       "      <th>19052</th>\n",
       "      <td>CIDs00044259</td>\n",
       "      <td>59689.Al_scaffold_0006_1558</td>\n",
       "      <td>0.0</td>\n",
       "      <td>1.0</td>\n",
       "      <td>0.0</td>\n",
       "      <td>1.0</td>\n",
       "      <td>0.0</td>\n",
       "      <td>8.609900e-04</td>\n",
       "      <td>9.791169e-01</td>\n",
       "      <td>0.000003</td>\n",
       "      <td>8.660253e-01</td>\n",
       "      <td>1.118274e-07</td>\n",
       "    </tr>\n",
       "    <tr>\n",
       "      <th>19053</th>\n",
       "      <td>CIDm00010180</td>\n",
       "      <td>5306.JGI97404</td>\n",
       "      <td>0.0</td>\n",
       "      <td>0.0</td>\n",
       "      <td>0.0</td>\n",
       "      <td>1.0</td>\n",
       "      <td>0.0</td>\n",
       "      <td>1.139385e-04</td>\n",
       "      <td>1.728230e-03</td>\n",
       "      <td>0.000246</td>\n",
       "      <td>8.977114e-02</td>\n",
       "      <td>6.485521e-07</td>\n",
       "    </tr>\n",
       "    <tr>\n",
       "      <th>19054</th>\n",
       "      <td>CIDm00003067</td>\n",
       "      <td>7237.FBpp0284691</td>\n",
       "      <td>0.0</td>\n",
       "      <td>1.0</td>\n",
       "      <td>0.0</td>\n",
       "      <td>0.0</td>\n",
       "      <td>0.0</td>\n",
       "      <td>2.811785e-03</td>\n",
       "      <td>9.973508e-01</td>\n",
       "      <td>0.000013</td>\n",
       "      <td>1.977533e-05</td>\n",
       "      <td>1.976135e-11</td>\n",
       "    </tr>\n",
       "    <tr>\n",
       "      <th>19055</th>\n",
       "      <td>CIDm00000730</td>\n",
       "      <td>9796.ENSECAP00000021824</td>\n",
       "      <td>0.0</td>\n",
       "      <td>1.0</td>\n",
       "      <td>1.0</td>\n",
       "      <td>0.0</td>\n",
       "      <td>1.0</td>\n",
       "      <td>2.871712e-08</td>\n",
       "      <td>9.999990e-01</td>\n",
       "      <td>0.999607</td>\n",
       "      <td>9.441793e-11</td>\n",
       "      <td>9.999980e-01</td>\n",
       "    </tr>\n",
       "  </tbody>\n",
       "</table>\n",
       "<p>19056 rows × 12 columns</p>\n",
       "</div>"
      ],
      "text/plain": [
       "               chem                      protein  Activation  Binding  \\\n",
       "0      CIDs05480230                 6239.C16D6.2         0.0      1.0   \n",
       "1      CIDm00000985     69293.ENSGACP00000021040         1.0      0.0   \n",
       "2      CIDs05460048      8364.ENSXETP00000008146         0.0      1.0   \n",
       "3      CIDm00003931      9361.ENSDNOP00000007730         1.0      0.0   \n",
       "4      CIDs06438398     10116.ENSRNOP00000018622         0.0      0.0   \n",
       "...             ...                          ...         ...      ...   \n",
       "19051  CIDs00015993             7260.FBpp0254127         0.0      0.0   \n",
       "19052  CIDs00044259  59689.Al_scaffold_0006_1558         0.0      1.0   \n",
       "19053  CIDm00010180                5306.JGI97404         0.0      0.0   \n",
       "19054  CIDm00003067             7237.FBpp0284691         0.0      1.0   \n",
       "19055  CIDm00000730      9796.ENSECAP00000021824         0.0      1.0   \n",
       "\n",
       "       Catalysis  Inhibition  Reaction  pred_Activation  pred_Binding  \\\n",
       "0            0.0         1.0       0.0     2.275075e-04  9.969389e-01   \n",
       "1            0.0         0.0       0.0     9.985124e-01  2.116413e-03   \n",
       "2            0.0         0.0       1.0     8.454274e-01  9.970009e-01   \n",
       "3            0.0         0.0       0.0     9.998679e-01  2.577218e-08   \n",
       "4            0.0         0.0       1.0     2.615208e-02  2.999941e-02   \n",
       "...          ...         ...       ...              ...           ...   \n",
       "19051        0.0         1.0       0.0     5.934486e-07  8.271730e-06   \n",
       "19052        0.0         1.0       0.0     8.609900e-04  9.791169e-01   \n",
       "19053        0.0         1.0       0.0     1.139385e-04  1.728230e-03   \n",
       "19054        0.0         0.0       0.0     2.811785e-03  9.973508e-01   \n",
       "19055        1.0         0.0       1.0     2.871712e-08  9.999990e-01   \n",
       "\n",
       "       pred_Catalysis  pred_Inhibition  pred_Reaction  \n",
       "0            0.000060     9.924179e-01   5.988303e-08  \n",
       "1            0.001571     7.492861e-04   5.397182e-03  \n",
       "2            0.003710     3.980134e-04   9.988585e-01  \n",
       "3            0.000003     1.558913e-05   1.820825e-06  \n",
       "4            0.000039     3.625387e-06   9.495355e-01  \n",
       "...               ...              ...            ...  \n",
       "19051        0.002346     2.115073e-01   2.298784e-03  \n",
       "19052        0.000003     8.660253e-01   1.118274e-07  \n",
       "19053        0.000246     8.977114e-02   6.485521e-07  \n",
       "19054        0.000013     1.977533e-05   1.976135e-11  \n",
       "19055        0.999607     9.441793e-11   9.999980e-01  \n",
       "\n",
       "[19056 rows x 12 columns]"
      ]
     },
     "execution_count": 390,
     "metadata": {},
     "output_type": "execute_result"
    }
   ],
   "source": [
    "stats[-1]"
   ]
  },
  {
   "cell_type": "code",
   "execution_count": 341,
   "metadata": {
    "ExecuteTime": {
     "end_time": "2020-04-24T23:17:56.344616Z",
     "start_time": "2020-04-24T23:17:56.329615Z"
    }
   },
   "outputs": [
    {
     "ename": "ValueError",
     "evalue": "too many values to unpack (expected 4)",
     "output_type": "error",
     "traceback": [
      "\u001b[1;31m---------------------------------------------------------------------------\u001b[0m",
      "\u001b[1;31mValueError\u001b[0m                                Traceback (most recent call last)",
      "\u001b[1;32m<ipython-input-341-0a844fd0165b>\u001b[0m in \u001b[0;36m<module>\u001b[1;34m\u001b[0m\n\u001b[1;32m----> 1\u001b[1;33m \u001b[0mget_performance_stats\u001b[0m\u001b[1;33m(\u001b[0m\u001b[1;33m[\u001b[0m\u001b[0mstats\u001b[0m\u001b[1;33m]\u001b[0m\u001b[1;33m)\u001b[0m\u001b[1;33m\u001b[0m\u001b[1;33m\u001b[0m\u001b[0m\n\u001b[0m",
      "\u001b[1;32m~\\src\\COVID\\covid\\reporting.py\u001b[0m in \u001b[0;36mget_performance_stats\u001b[1;34m(validation_stats)\u001b[0m\n\u001b[0;32m     66\u001b[0m \u001b[1;32mdef\u001b[0m \u001b[0mget_performance_stats\u001b[0m\u001b[1;33m(\u001b[0m\u001b[0mvalidation_stats\u001b[0m\u001b[1;33m)\u001b[0m\u001b[1;33m:\u001b[0m\u001b[1;33m\u001b[0m\u001b[1;33m\u001b[0m\u001b[0m\n\u001b[0;32m     67\u001b[0m     \u001b[0mvalid_x\u001b[0m\u001b[1;33m,\u001b[0m \u001b[0mvalid_y\u001b[0m\u001b[1;33m,\u001b[0m \u001b[0mvalid_acc\u001b[0m\u001b[1;33m,\u001b[0m \u001b[0mvalid_conf\u001b[0m \u001b[1;33m=\u001b[0m \u001b[0mzip\u001b[0m\u001b[1;33m(\u001b[0m\u001b[1;33m*\u001b[0m\u001b[0mvalidation_stats\u001b[0m\u001b[1;33m)\u001b[0m\u001b[1;33m\u001b[0m\u001b[1;33m\u001b[0m\u001b[0m\n\u001b[1;32m---> 68\u001b[1;33m     \u001b[0mtp\u001b[0m\u001b[1;33m,\u001b[0m \u001b[0mfp\u001b[0m\u001b[1;33m,\u001b[0m \u001b[0mfn\u001b[0m\u001b[1;33m,\u001b[0m \u001b[0mtn\u001b[0m \u001b[1;33m=\u001b[0m \u001b[0mzip\u001b[0m\u001b[1;33m(\u001b[0m\u001b[1;33m*\u001b[0m\u001b[0mvalid_conf\u001b[0m\u001b[1;33m)\u001b[0m\u001b[1;33m\u001b[0m\u001b[1;33m\u001b[0m\u001b[0m\n\u001b[0m\u001b[0;32m     69\u001b[0m     \u001b[0mtp\u001b[0m\u001b[1;33m,\u001b[0m \u001b[0mfp\u001b[0m\u001b[1;33m,\u001b[0m \u001b[0mfn\u001b[0m\u001b[1;33m,\u001b[0m \u001b[0mtn\u001b[0m \u001b[1;33m=\u001b[0m \u001b[0mnp\u001b[0m\u001b[1;33m.\u001b[0m\u001b[0mstack\u001b[0m\u001b[1;33m(\u001b[0m\u001b[0mtp\u001b[0m\u001b[1;33m)\u001b[0m\u001b[1;33m,\u001b[0m \u001b[0mnp\u001b[0m\u001b[1;33m.\u001b[0m\u001b[0mstack\u001b[0m\u001b[1;33m(\u001b[0m\u001b[0mfp\u001b[0m\u001b[1;33m)\u001b[0m\u001b[1;33m,\u001b[0m \u001b[0mnp\u001b[0m\u001b[1;33m.\u001b[0m\u001b[0mstack\u001b[0m\u001b[1;33m(\u001b[0m\u001b[0mfn\u001b[0m\u001b[1;33m)\u001b[0m\u001b[1;33m,\u001b[0m \u001b[0mnp\u001b[0m\u001b[1;33m.\u001b[0m\u001b[0mstack\u001b[0m\u001b[1;33m(\u001b[0m\u001b[0mtn\u001b[0m\u001b[1;33m)\u001b[0m\u001b[1;33m\u001b[0m\u001b[1;33m\u001b[0m\u001b[0m\n\u001b[0;32m     70\u001b[0m     \u001b[0maccuracy\u001b[0m \u001b[1;33m=\u001b[0m \u001b[1;33m(\u001b[0m\u001b[0mtp\u001b[0m \u001b[1;33m+\u001b[0m \u001b[0mtn\u001b[0m\u001b[1;33m)\u001b[0m \u001b[1;33m/\u001b[0m \u001b[1;33m(\u001b[0m\u001b[0mtp\u001b[0m \u001b[1;33m+\u001b[0m \u001b[0mtn\u001b[0m \u001b[1;33m+\u001b[0m \u001b[0mfp\u001b[0m \u001b[1;33m+\u001b[0m \u001b[0mfn\u001b[0m\u001b[1;33m)\u001b[0m\u001b[1;33m\u001b[0m\u001b[1;33m\u001b[0m\u001b[0m\n",
      "\u001b[1;31mValueError\u001b[0m: too many values to unpack (expected 4)"
     ]
    }
   ],
   "source": [
    "get_performance_stats([stats])"
   ]
  },
  {
   "cell_type": "code",
   "execution_count": 240,
   "metadata": {
    "ExecuteTime": {
     "end_time": "2020-04-23T18:44:40.767418Z",
     "start_time": "2020-04-23T18:44:40.760947Z"
    },
    "scrolled": true
   },
   "outputs": [
    {
     "data": {
      "text/plain": [
       "0.000316724631701071"
      ]
     },
     "execution_count": 240,
     "metadata": {},
     "output_type": "execute_result"
    }
   ],
   "source": [
    "state['optim']['param_groups'][0]['lr']"
   ]
  },
  {
   "cell_type": "code",
   "execution_count": 22,
   "metadata": {
    "ExecuteTime": {
     "end_time": "2020-04-17T14:44:14.723531Z",
     "start_time": "2020-04-17T14:44:14.720522Z"
    }
   },
   "outputs": [],
   "source": [
    "a, b, c, d = zip(*state['validation_stats'])"
   ]
  },
  {
   "cell_type": "code",
   "execution_count": 242,
   "metadata": {
    "ExecuteTime": {
     "end_time": "2020-04-23T20:06:14.442812Z",
     "start_time": "2020-04-23T20:06:14.438811Z"
    }
   },
   "outputs": [],
   "source": [
    "from collections import defaultdict"
   ]
  },
  {
   "cell_type": "code",
   "execution_count": 245,
   "metadata": {
    "ExecuteTime": {
     "end_time": "2020-04-23T20:07:09.326862Z",
     "start_time": "2020-04-23T20:07:09.321828Z"
    }
   },
   "outputs": [
    {
     "data": {
      "text/plain": [
       "8"
      ]
     },
     "execution_count": 245,
     "metadata": {},
     "output_type": "execute_result"
    }
   ],
   "source": [
    "defaultdict(lambda: 8, {2:3, 3:5})[6]"
   ]
  },
  {
   "cell_type": "code",
   "execution_count": 24,
   "metadata": {
    "ExecuteTime": {
     "end_time": "2020-04-17T14:44:27.018340Z",
     "start_time": "2020-04-17T14:44:26.869414Z"
    }
   },
   "outputs": [
    {
     "data": {
      "text/plain": [
       "[<matplotlib.lines.Line2D at 0x1c62b027788>]"
      ]
     },
     "execution_count": 24,
     "metadata": {},
     "output_type": "execute_result"
    },
    {
     "data": {
      "image/png": "[encoded data removed]",
      "text/plain": [
       "<Figure size 432x288 with 1 Axes>"
      ]
     },
     "metadata": {
      "needs_background": "light"
     },
     "output_type": "display_data"
    }
   ],
   "source": [
    "plt.plot(a,b)"
   ]
  },
  {
   "cell_type": "code",
   "execution_count": 74,
   "metadata": {
    "ExecuteTime": {
     "end_time": "2020-04-17T04:09:25.005787Z",
     "start_time": "2020-04-17T04:09:25.001827Z"
    }
   },
   "outputs": [],
   "source": [
    "from collections import namedtuple"
   ]
  },
  {
   "cell_type": "code",
   "execution_count": 75,
   "metadata": {
    "ExecuteTime": {
     "end_time": "2020-04-17T04:09:27.670639Z",
     "start_time": "2020-04-17T04:09:27.665666Z"
    }
   },
   "outputs": [
    {
     "data": {
      "text/plain": [
       "<function collections.namedtuple(typename, field_names, *, rename=False, defaults=None, module=None)>"
      ]
     },
     "execution_count": 75,
     "metadata": {},
     "output_type": "execute_result"
    }
   ],
   "source": [
    "namedtuple('')"
   ]
  },
  {
   "cell_type": "code",
   "execution_count": 78,
   "metadata": {
    "ExecuteTime": {
     "end_time": "2020-04-17T04:12:57.795019Z",
     "start_time": "2020-04-17T04:12:57.791041Z"
    }
   },
   "outputs": [],
   "source": [
    "from collections import namedtuple\n",
    "ConfusionMatrix = namedtuple('ConfusionMatrix', ['tp', 'fp', 'fn', 'tn'])"
   ]
  },
  {
   "cell_type": "code",
   "execution_count": 292,
   "metadata": {
    "ExecuteTime": {
     "end_time": "2020-04-24T21:06:18.727719Z",
     "start_time": "2020-04-24T21:06:17.044689Z"
    }
   },
   "outputs": [],
   "source": []
  },
  {
   "cell_type": "code",
   "execution_count": 293,
   "metadata": {
    "ExecuteTime": {
     "end_time": "2020-04-24T21:06:26.242691Z",
     "start_time": "2020-04-24T21:06:26.203309Z"
    }
   },
   "outputs": [
    {
     "data": {
      "text/plain": [
       "dict_keys(['epoch', 'losses', 'validation_stats', 'last_validation', 'model', 'optim', 'warmup', 'scheduler'])"
      ]
     },
     "execution_count": 293,
     "metadata": {},
     "output_type": "execute_result"
    }
   ],
   "source": [
    "state.keys()"
   ]
  },
  {
   "cell_type": "code",
   "execution_count": null,
   "metadata": {},
   "outputs": [],
   "source": [
    "model = "
   ]
  },
  {
   "cell_type": "code",
   "execution_count": 17,
   "metadata": {
    "ExecuteTime": {
     "end_time": "2020-04-15T05:36:42.441116Z",
     "start_time": "2020-04-15T05:36:42.435101Z"
    }
   },
   "outputs": [],
   "source": [
    "from functools import partial\n",
    "\n",
    "get_validation_loss = partial(\n",
    "    calculate_average_loss_and_accuracy, \n",
    "    model, \n",
    "    validation_dataloader,\n",
    "    DEVICE\n",
    ")"
   ]
  },
  {
   "cell_type": "code",
   "execution_count": 18,
   "metadata": {
    "ExecuteTime": {
     "end_time": "2020-04-15T05:37:12.025197Z",
     "start_time": "2020-04-15T05:36:42.444090Z"
    }
   },
   "outputs": [],
   "source": [
    "epoch = 0\n",
    "last_validation = epoch\n",
    "\n",
    "if os.path.exists(\"training_state_00.pkl\"):\n",
    "    state = T.load(\"./training_state_00.pkl\", map_location=DEVICE)\n",
    "        \n",
    "    epoch = state.get('epoch', epoch)\n",
    "    losses = state.get('losses', losses)\n",
    "    validation_stats = state.get('validation_stats', validation_stats)\n",
    "    last_validation = state.get('last_validation', last_validation)\n",
    "    model.load_state_dict(state['model'])\n",
    "    optim.load_state_dict(state['optim'])\n",
    "    warmup.load_state_dict(state['warmup'])\n",
    "    \n",
    "    \n",
    "if epoch == 0:\n",
    "    vloss, vacc, v_conf = get_validation_loss()\n",
    "    validation_stats.append([0, vloss, vacc, v_conf])"
   ]
  },
  {
   "cell_type": "code",
   "execution_count": 19,
   "metadata": {
    "ExecuteTime": {
     "end_time": "2020-04-15T05:37:12.030197Z",
     "start_time": "2020-04-15T05:37:12.026196Z"
    }
   },
   "outputs": [],
   "source": [
    "if not os.path.exists(\"./checkpoints/\"):\n",
    "    os.mkdir(\"./checkpoints\")"
   ]
  },
  {
   "cell_type": "code",
   "execution_count": 20,
   "metadata": {
    "ExecuteTime": {
     "end_time": "2020-04-15T15:35:19.357764Z",
     "start_time": "2020-04-15T05:37:12.031197Z"
    },
    "scrolled": false
   },
   "outputs": [
    {
     "data": {
      "application/vnd.jupyter.widget-view+json": {
       "model_id": "b19ddddf9ba54cb0ad279435f0dabfc0",
       "version_major": 2,
       "version_minor": 0
      },
      "text/plain": [
       "Output()"
      ]
     },
     "metadata": {},
     "output_type": "display_data"
    },
    {
     "data": {
      "application/vnd.jupyter.widget-view+json": {
       "model_id": "44bd461d62b24401a7c272a5adbc9d40",
       "version_major": 2,
       "version_minor": 0
      },
      "text/plain": [
       "HBox(children=(FloatProgress(value=0.0), HTML(value='')))"
      ]
     },
     "metadata": {},
     "output_type": "display_data"
    },
    {
     "data": {
      "application/vnd.jupyter.widget-view+json": {
       "model_id": "",
       "version_major": 2,
       "version_minor": 0
      },
      "text/plain": [
       "HBox(children=(FloatProgress(value=0.0, max=21362.0), HTML(value='')))"
      ]
     },
     "metadata": {},
     "output_type": "display_data"
    },
    {
     "data": {
      "application/vnd.jupyter.widget-view+json": {
       "model_id": "",
       "version_major": 2,
       "version_minor": 0
      },
      "text/plain": [
       "HBox(children=(FloatProgress(value=0.0, max=21362.0), HTML(value='')))"
      ]
     },
     "metadata": {},
     "output_type": "display_data"
    },
    {
     "data": {
      "application/vnd.jupyter.widget-view+json": {
       "model_id": "",
       "version_major": 2,
       "version_minor": 0
      },
      "text/plain": [
       "HBox(children=(FloatProgress(value=0.0, max=21362.0), HTML(value='')))"
      ]
     },
     "metadata": {},
     "output_type": "display_data"
    },
    {
     "data": {
      "application/vnd.jupyter.widget-view+json": {
       "model_id": "",
       "version_major": 2,
       "version_minor": 0
      },
      "text/plain": [
       "HBox(children=(FloatProgress(value=0.0, max=21362.0), HTML(value='')))"
      ]
     },
     "metadata": {},
     "output_type": "display_data"
    },
    {
     "data": {
      "application/vnd.jupyter.widget-view+json": {
       "model_id": "",
       "version_major": 2,
       "version_minor": 0
      },
      "text/plain": [
       "HBox(children=(FloatProgress(value=0.0, max=21362.0), HTML(value='')))"
      ]
     },
     "metadata": {},
     "output_type": "display_data"
    },
    {
     "data": {
      "application/vnd.jupyter.widget-view+json": {
       "model_id": "",
       "version_major": 2,
       "version_minor": 0
      },
      "text/plain": [
       "HBox(children=(FloatProgress(value=0.0, max=21362.0), HTML(value='')))"
      ]
     },
     "metadata": {},
     "output_type": "display_data"
    },
    {
     "data": {
      "application/vnd.jupyter.widget-view+json": {
       "model_id": "",
       "version_major": 2,
       "version_minor": 0
      },
      "text/plain": [
       "HBox(children=(FloatProgress(value=0.0, max=21362.0), HTML(value='')))"
      ]
     },
     "metadata": {},
     "output_type": "display_data"
    },
    {
     "data": {
      "application/vnd.jupyter.widget-view+json": {
       "model_id": "",
       "version_major": 2,
       "version_minor": 0
      },
      "text/plain": [
       "HBox(children=(FloatProgress(value=0.0, max=21362.0), HTML(value='')))"
      ]
     },
     "metadata": {},
     "output_type": "display_data"
    },
    {
     "data": {
      "application/vnd.jupyter.widget-view+json": {
       "model_id": "",
       "version_major": 2,
       "version_minor": 0
      },
      "text/plain": [
       "HBox(children=(FloatProgress(value=0.0, max=21362.0), HTML(value='')))"
      ]
     },
     "metadata": {},
     "output_type": "display_data"
    },
    {
     "data": {
      "application/vnd.jupyter.widget-view+json": {
       "model_id": "e86ecf4a0dcb42358ef9af0a603f87ba",
       "version_major": 2,
       "version_minor": 0
      },
      "text/plain": [
       "HBox(children=(FloatProgress(value=0.0, max=21362.0), HTML(value='')))"
      ]
     },
     "metadata": {},
     "output_type": "display_data"
    },
    {
     "ename": "KeyboardInterrupt",
     "evalue": "",
     "output_type": "error",
     "traceback": [
      "\u001b[1;31m---------------------------------------------------------------------------\u001b[0m",
      "\u001b[1;31mKeyboardInterrupt\u001b[0m                         Traceback (most recent call last)",
      "\u001b[1;32m<ipython-input-20-31b3f5a36a52>\u001b[0m in \u001b[0;36m<module>\u001b[1;34m\u001b[0m\n\u001b[0;32m     13\u001b[0m         \u001b[0m_\u001b[0m\u001b[1;33m,\u001b[0m \u001b[0m_\u001b[0m\u001b[1;33m,\u001b[0m \u001b[0mloss\u001b[0m\u001b[1;33m,\u001b[0m \u001b[0m_\u001b[0m \u001b[1;33m=\u001b[0m \u001b[0mrun_model\u001b[0m\u001b[1;33m(\u001b[0m\u001b[0mmodel\u001b[0m\u001b[1;33m,\u001b[0m \u001b[0mbatch\u001b[0m\u001b[1;33m,\u001b[0m \u001b[0mDEVICE\u001b[0m\u001b[1;33m)\u001b[0m\u001b[1;33m\u001b[0m\u001b[1;33m\u001b[0m\u001b[0m\n\u001b[0;32m     14\u001b[0m \u001b[1;33m\u001b[0m\u001b[0m\n\u001b[1;32m---> 15\u001b[1;33m         \u001b[0mloss\u001b[0m\u001b[1;33m.\u001b[0m\u001b[0mbackward\u001b[0m\u001b[1;33m(\u001b[0m\u001b[1;33m)\u001b[0m\u001b[1;33m\u001b[0m\u001b[1;33m\u001b[0m\u001b[0m\n\u001b[0m\u001b[0;32m     16\u001b[0m \u001b[1;33m\u001b[0m\u001b[0m\n\u001b[0;32m     17\u001b[0m         \u001b[0moptim\u001b[0m\u001b[1;33m.\u001b[0m\u001b[0mstep\u001b[0m\u001b[1;33m(\u001b[0m\u001b[1;33m)\u001b[0m\u001b[1;33m\u001b[0m\u001b[1;33m\u001b[0m\u001b[0m\n",
      "\u001b[1;32m~\\Anaconda3\\lib\\site-packages\\torch\\tensor.py\u001b[0m in \u001b[0;36mbackward\u001b[1;34m(self, gradient, retain_graph, create_graph)\u001b[0m\n\u001b[0;32m    193\u001b[0m                 \u001b[0mproducts\u001b[0m\u001b[1;33m.\u001b[0m \u001b[0mDefaults\u001b[0m \u001b[0mto\u001b[0m\u001b[0;31m \u001b[0m\u001b[0;31m`\u001b[0m\u001b[0;31m`\u001b[0m\u001b[1;32mFalse\u001b[0m\u001b[0;31m`\u001b[0m\u001b[0;31m`\u001b[0m\u001b[1;33m.\u001b[0m\u001b[1;33m\u001b[0m\u001b[1;33m\u001b[0m\u001b[0m\n\u001b[0;32m    194\u001b[0m         \"\"\"\n\u001b[1;32m--> 195\u001b[1;33m         \u001b[0mtorch\u001b[0m\u001b[1;33m.\u001b[0m\u001b[0mautograd\u001b[0m\u001b[1;33m.\u001b[0m\u001b[0mbackward\u001b[0m\u001b[1;33m(\u001b[0m\u001b[0mself\u001b[0m\u001b[1;33m,\u001b[0m \u001b[0mgradient\u001b[0m\u001b[1;33m,\u001b[0m \u001b[0mretain_graph\u001b[0m\u001b[1;33m,\u001b[0m \u001b[0mcreate_graph\u001b[0m\u001b[1;33m)\u001b[0m\u001b[1;33m\u001b[0m\u001b[1;33m\u001b[0m\u001b[0m\n\u001b[0m\u001b[0;32m    196\u001b[0m \u001b[1;33m\u001b[0m\u001b[0m\n\u001b[0;32m    197\u001b[0m     \u001b[1;32mdef\u001b[0m \u001b[0mregister_hook\u001b[0m\u001b[1;33m(\u001b[0m\u001b[0mself\u001b[0m\u001b[1;33m,\u001b[0m \u001b[0mhook\u001b[0m\u001b[1;33m)\u001b[0m\u001b[1;33m:\u001b[0m\u001b[1;33m\u001b[0m\u001b[1;33m\u001b[0m\u001b[0m\n",
      "\u001b[1;32m~\\Anaconda3\\lib\\site-packages\\torch\\autograd\\__init__.py\u001b[0m in \u001b[0;36mbackward\u001b[1;34m(tensors, grad_tensors, retain_graph, create_graph, grad_variables)\u001b[0m\n\u001b[0;32m     97\u001b[0m     Variable._execution_engine.run_backward(\n\u001b[0;32m     98\u001b[0m         \u001b[0mtensors\u001b[0m\u001b[1;33m,\u001b[0m \u001b[0mgrad_tensors\u001b[0m\u001b[1;33m,\u001b[0m \u001b[0mretain_graph\u001b[0m\u001b[1;33m,\u001b[0m \u001b[0mcreate_graph\u001b[0m\u001b[1;33m,\u001b[0m\u001b[1;33m\u001b[0m\u001b[1;33m\u001b[0m\u001b[0m\n\u001b[1;32m---> 99\u001b[1;33m         allow_unreachable=True)  # allow_unreachable flag\n\u001b[0m\u001b[0;32m    100\u001b[0m \u001b[1;33m\u001b[0m\u001b[0m\n\u001b[0;32m    101\u001b[0m \u001b[1;33m\u001b[0m\u001b[0m\n",
      "\u001b[1;31mKeyboardInterrupt\u001b[0m: "
     ]
    }
   ],
   "source": [
    "chart_area = widgets.Output()\n",
    "display(chart_area)\n",
    "\n",
    "for epoch in tqdm(range(epoch, 100)):\n",
    "    idx = 0\n",
    "    \n",
    "    model.train()\n",
    "    pct_epoch = 0\n",
    "    \n",
    "    for batch in tqdm(dataloader, leave=False):\n",
    "\n",
    "        model.zero_grad()\n",
    "        _, _, loss, _ = run_model(model, batch, DEVICE)\n",
    "\n",
    "        loss.backward()\n",
    "\n",
    "        optim.step()\n",
    "        warmup.step()\n",
    "            \n",
    "        idx += BATCH_SIZE\n",
    "        pct_epoch = min(1.0, idx/len(data))\n",
    "        \n",
    "        losses.append((epoch + pct_epoch, loss.item()))\n",
    "        \n",
    "        if pct_epoch == 1.0 or epoch + pct_epoch - last_validation > VALIDATION_FREQUENCY:\n",
    "            vloss, vacc, v_conf = get_validation_loss()\n",
    "            validation_stats.append([epoch+pct_epoch, vloss, vacc, v_conf])\n",
    "            \n",
    "            chart_area.clear_output()\n",
    "            fig = get_performance_plots(losses, validation_stats)\n",
    "            with chart_area:\n",
    "                display(fig)\n",
    "            plt.close(fig)\n",
    "            \n",
    "            last_validation = epoch + pct_epoch\n",
    "            \n",
    "    state = {\n",
    "        'epoch': epoch,\n",
    "        'losses': losses,\n",
    "        'validation_stats': validation_stats,\n",
    "        'last_validation': last_validation,\n",
    "        'model': model.state_dict(),\n",
    "        'optim': optim.state_dict(),\n",
    "        'warmup': warmup.state_dict(),\n",
    "    }\n",
    "    T.save(state, f'./checkpoints/model_00_{epoch:03}.pkl')\n",
    "    T.save(state, \"./training_state_00.pkl\")"
   ]
  },
  {
   "cell_type": "code",
   "execution_count": null,
   "metadata": {},
   "outputs": [],
   "source": []
  },
  {
   "cell_type": "code",
   "execution_count": null,
   "metadata": {
    "ExecuteTime": {
     "end_time": "2020-04-15T15:35:19.362728Z",
     "start_time": "2020-04-15T05:36:32.152Z"
    }
   },
   "outputs": [],
   "source": [
    "plot_losses(losses, validation_stats, max(10, len(losses)//2000))"
   ]
  }
 ],
 "metadata": {
  "kernelspec": {
   "display_name": "Python 3",
   "language": "python",
   "name": "python3"
  },
  "language_info": {
   "codemirror_mode": {
    "name": "ipython",
    "version": 3
   },
   "file_extension": ".py",
   "mimetype": "text/x-python",
   "name": "python",
   "nbconvert_exporter": "python",
   "pygments_lexer": "ipython3",
   "version": "3.7.6"
  },
  "toc": {
   "base_numbering": 1,
   "nav_menu": {},
   "number_sections": true,
   "sideBar": true,
   "skip_h1_title": false,
   "title_cell": "Table of Contents",
   "title_sidebar": "Contents",
   "toc_cell": false,
   "toc_position": {},
   "toc_section_display": true,
   "toc_window_display": false
  }
 },
 "nbformat": 4,
 "nbformat_minor": 4
}
